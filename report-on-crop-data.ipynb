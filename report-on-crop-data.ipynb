{
 "cells": [
  {
   "cell_type": "code",
   "execution_count": 1,
   "id": "5f62d730",
   "metadata": {
    "_cell_guid": "b1076dfc-b9ad-4769-8c92-a6c4dae69d19",
    "_uuid": "8f2839f25d086af736a60e9eeb907d3b93b6e0e5",
    "execution": {
     "iopub.execute_input": "2024-10-14T15:07:48.609731Z",
     "iopub.status.busy": "2024-10-14T15:07:48.609254Z",
     "iopub.status.idle": "2024-10-14T15:07:49.622369Z",
     "shell.execute_reply": "2024-10-14T15:07:49.620859Z"
    },
    "papermill": {
     "duration": 1.027634,
     "end_time": "2024-10-14T15:07:49.625180",
     "exception": false,
     "start_time": "2024-10-14T15:07:48.597546",
     "status": "completed"
    },
    "tags": []
   },
   "outputs": [
    {
     "name": "stdout",
     "output_type": "stream",
     "text": [
      "/kaggle/input/crop-recommendation-dataset/Crop_Recommendation.csv\n"
     ]
    }
   ],
   "source": [
    "# This Python 3 environment comes with many helpful analytics libraries installed\n",
    "# It is defined by the kaggle/python Docker image: https://github.com/kaggle/docker-python\n",
    "# For example, here's several helpful packages to load\n",
    "\n",
    "import numpy as np # linear algebra\n",
    "import pandas as pd # data processing, CSV file I/O (e.g. pd.read_csv)\n",
    "\n",
    "# Input data files are available in the read-only \"../input/\" directory\n",
    "# For example, running this (by clicking run or pressing Shift+Enter) will list all files under the input directory\n",
    "\n",
    "import os\n",
    "for dirname, _, filenames in os.walk('/kaggle/input'):\n",
    "    for filename in filenames:\n",
    "        print(os.path.join(dirname, filename))\n",
    "\n",
    "# You can write up to 20GB to the current directory (/kaggle/working/) that gets preserved as output when you create a version using \"Save & Run All\" \n",
    "# You can also write temporary files to /kaggle/temp/, but they won't be saved outside of the current session"
   ]
  },
  {
   "cell_type": "code",
   "execution_count": 2,
   "id": "1eebf873",
   "metadata": {
    "execution": {
     "iopub.execute_input": "2024-10-14T15:07:49.646239Z",
     "iopub.status.busy": "2024-10-14T15:07:49.645672Z",
     "iopub.status.idle": "2024-10-14T15:08:06.939445Z",
     "shell.execute_reply": "2024-10-14T15:08:06.937983Z"
    },
    "papermill": {
     "duration": 17.310248,
     "end_time": "2024-10-14T15:08:06.944993",
     "exception": false,
     "start_time": "2024-10-14T15:07:49.634745",
     "status": "completed"
    },
    "tags": []
   },
   "outputs": [
    {
     "name": "stdout",
     "output_type": "stream",
     "text": [
      "Collecting pyngrok\r\n",
      "  Downloading pyngrok-7.2.0-py3-none-any.whl.metadata (7.4 kB)\r\n",
      "Requirement already satisfied: PyYAML>=5.1 in /opt/conda/lib/python3.10/site-packages (from pyngrok) (6.0.1)\r\n",
      "Downloading pyngrok-7.2.0-py3-none-any.whl (22 kB)\r\n",
      "Installing collected packages: pyngrok\r\n",
      "Successfully installed pyngrok-7.2.0\r\n"
     ]
    }
   ],
   "source": [
    "!pip install pyngrok"
   ]
  },
  {
   "cell_type": "code",
   "execution_count": 3,
   "id": "4eee8a67",
   "metadata": {
    "execution": {
     "iopub.execute_input": "2024-10-14T15:08:06.967233Z",
     "iopub.status.busy": "2024-10-14T15:08:06.966799Z",
     "iopub.status.idle": "2024-10-14T15:08:09.436145Z",
     "shell.execute_reply": "2024-10-14T15:08:09.434673Z"
    },
    "papermill": {
     "duration": 2.484274,
     "end_time": "2024-10-14T15:08:09.439094",
     "exception": false,
     "start_time": "2024-10-14T15:08:06.954820",
     "status": "completed"
    },
    "tags": []
   },
   "outputs": [
    {
     "name": "stdout",
     "output_type": "stream",
     "text": [
      "Authtoken saved to configuration file: /root/.config/ngrok/ngrok.yml\r\n"
     ]
    }
   ],
   "source": [
    "!ngrok config add-authtoken 2nOq5nNfLJKSRL7qzKSJ2D9ku5G_3U3didaK5HuAQvuK4akTt"
   ]
  },
  {
   "cell_type": "code",
   "execution_count": 4,
   "id": "4a2b3a00",
   "metadata": {
    "execution": {
     "iopub.execute_input": "2024-10-14T15:08:09.463381Z",
     "iopub.status.busy": "2024-10-14T15:08:09.462922Z",
     "iopub.status.idle": "2024-10-14T15:08:26.350770Z",
     "shell.execute_reply": "2024-10-14T15:08:26.349384Z"
    },
    "papermill": {
     "duration": 16.90362,
     "end_time": "2024-10-14T15:08:26.353774",
     "exception": false,
     "start_time": "2024-10-14T15:08:09.450154",
     "status": "completed"
    },
    "tags": []
   },
   "outputs": [
    {
     "name": "stdout",
     "output_type": "stream",
     "text": [
      "Collecting dash\r\n",
      "  Downloading dash-2.18.1-py3-none-any.whl.metadata (10 kB)\r\n",
      "Requirement already satisfied: Flask<3.1,>=1.0.4 in /opt/conda/lib/python3.10/site-packages (from dash) (3.0.3)\r\n",
      "Requirement already satisfied: Werkzeug<3.1 in /opt/conda/lib/python3.10/site-packages (from dash) (3.0.3)\r\n",
      "Requirement already satisfied: plotly>=5.0.0 in /opt/conda/lib/python3.10/site-packages (from dash) (5.18.0)\r\n",
      "Collecting dash-html-components==2.0.0 (from dash)\r\n",
      "  Downloading dash_html_components-2.0.0-py3-none-any.whl.metadata (3.8 kB)\r\n",
      "Collecting dash-core-components==2.0.0 (from dash)\r\n",
      "  Downloading dash_core_components-2.0.0-py3-none-any.whl.metadata (2.9 kB)\r\n",
      "Collecting dash-table==5.0.0 (from dash)\r\n",
      "  Downloading dash_table-5.0.0-py3-none-any.whl.metadata (2.4 kB)\r\n",
      "Requirement already satisfied: importlib-metadata in /opt/conda/lib/python3.10/site-packages (from dash) (6.11.0)\r\n",
      "Requirement already satisfied: typing-extensions>=4.1.1 in /opt/conda/lib/python3.10/site-packages (from dash) (4.9.0)\r\n",
      "Requirement already satisfied: requests in /opt/conda/lib/python3.10/site-packages (from dash) (2.32.3)\r\n",
      "Requirement already satisfied: retrying in /opt/conda/lib/python3.10/site-packages (from dash) (1.3.3)\r\n",
      "Requirement already satisfied: nest-asyncio in /opt/conda/lib/python3.10/site-packages (from dash) (1.5.8)\r\n",
      "Requirement already satisfied: setuptools in /opt/conda/lib/python3.10/site-packages (from dash) (69.0.3)\r\n",
      "Requirement already satisfied: Jinja2>=3.1.2 in /opt/conda/lib/python3.10/site-packages (from Flask<3.1,>=1.0.4->dash) (3.1.2)\r\n",
      "Requirement already satisfied: itsdangerous>=2.1.2 in /opt/conda/lib/python3.10/site-packages (from Flask<3.1,>=1.0.4->dash) (2.2.0)\r\n",
      "Requirement already satisfied: click>=8.1.3 in /opt/conda/lib/python3.10/site-packages (from Flask<3.1,>=1.0.4->dash) (8.1.7)\r\n",
      "Requirement already satisfied: blinker>=1.6.2 in /opt/conda/lib/python3.10/site-packages (from Flask<3.1,>=1.0.4->dash) (1.8.2)\r\n",
      "Requirement already satisfied: tenacity>=6.2.0 in /opt/conda/lib/python3.10/site-packages (from plotly>=5.0.0->dash) (8.2.3)\r\n",
      "Requirement already satisfied: packaging in /opt/conda/lib/python3.10/site-packages (from plotly>=5.0.0->dash) (21.3)\r\n",
      "Requirement already satisfied: MarkupSafe>=2.1.1 in /opt/conda/lib/python3.10/site-packages (from Werkzeug<3.1->dash) (2.1.3)\r\n",
      "Requirement already satisfied: zipp>=0.5 in /opt/conda/lib/python3.10/site-packages (from importlib-metadata->dash) (3.17.0)\r\n",
      "Requirement already satisfied: charset-normalizer<4,>=2 in /opt/conda/lib/python3.10/site-packages (from requests->dash) (3.3.2)\r\n",
      "Requirement already satisfied: idna<4,>=2.5 in /opt/conda/lib/python3.10/site-packages (from requests->dash) (3.6)\r\n",
      "Requirement already satisfied: urllib3<3,>=1.21.1 in /opt/conda/lib/python3.10/site-packages (from requests->dash) (1.26.18)\r\n",
      "Requirement already satisfied: certifi>=2017.4.17 in /opt/conda/lib/python3.10/site-packages (from requests->dash) (2024.7.4)\r\n",
      "Requirement already satisfied: six>=1.7.0 in /opt/conda/lib/python3.10/site-packages (from retrying->dash) (1.16.0)\r\n",
      "Requirement already satisfied: pyparsing!=3.0.5,>=2.0.2 in /opt/conda/lib/python3.10/site-packages (from packaging->plotly>=5.0.0->dash) (3.1.1)\r\n",
      "Downloading dash-2.18.1-py3-none-any.whl (7.5 MB)\r\n",
      "\u001b[2K   \u001b[90m━━━━━━━━━━━━━━━━━━━━━━━━━━━━━━━━━━━━━━━━\u001b[0m \u001b[32m7.5/7.5 MB\u001b[0m \u001b[31m49.8 MB/s\u001b[0m eta \u001b[36m0:00:00\u001b[0m\r\n",
      "\u001b[?25hDownloading dash_core_components-2.0.0-py3-none-any.whl (3.8 kB)\r\n",
      "Downloading dash_html_components-2.0.0-py3-none-any.whl (4.1 kB)\r\n",
      "Downloading dash_table-5.0.0-py3-none-any.whl (3.9 kB)\r\n",
      "Installing collected packages: dash-table, dash-html-components, dash-core-components, dash\r\n",
      "Successfully installed dash-2.18.1 dash-core-components-2.0.0 dash-html-components-2.0.0 dash-table-5.0.0\r\n"
     ]
    }
   ],
   "source": [
    "!pip install dash"
   ]
  },
  {
   "cell_type": "markdown",
   "id": "3f05fb60",
   "metadata": {
    "papermill": {
     "duration": 0.012681,
     "end_time": "2024-10-14T15:08:26.379872",
     "exception": false,
     "start_time": "2024-10-14T15:08:26.367191",
     "status": "completed"
    },
    "tags": []
   },
   "source": [
    "## **Data Reading**"
   ]
  },
  {
   "cell_type": "code",
   "execution_count": 5,
   "id": "57ddb07f",
   "metadata": {
    "execution": {
     "iopub.execute_input": "2024-10-14T15:08:26.408054Z",
     "iopub.status.busy": "2024-10-14T15:08:26.407582Z",
     "iopub.status.idle": "2024-10-14T15:08:26.446309Z",
     "shell.execute_reply": "2024-10-14T15:08:26.445156Z"
    },
    "papermill": {
     "duration": 0.056531,
     "end_time": "2024-10-14T15:08:26.449186",
     "exception": false,
     "start_time": "2024-10-14T15:08:26.392655",
     "status": "completed"
    },
    "tags": []
   },
   "outputs": [],
   "source": [
    "df = pd.read_csv('/kaggle/input/crop-recommendation-dataset/Crop_Recommendation.csv')"
   ]
  },
  {
   "cell_type": "code",
   "execution_count": 6,
   "id": "d55670c3",
   "metadata": {
    "execution": {
     "iopub.execute_input": "2024-10-14T15:08:26.477570Z",
     "iopub.status.busy": "2024-10-14T15:08:26.477163Z",
     "iopub.status.idle": "2024-10-14T15:08:26.508837Z",
     "shell.execute_reply": "2024-10-14T15:08:26.507641Z"
    },
    "papermill": {
     "duration": 0.048398,
     "end_time": "2024-10-14T15:08:26.511355",
     "exception": false,
     "start_time": "2024-10-14T15:08:26.462957",
     "status": "completed"
    },
    "tags": []
   },
   "outputs": [
    {
     "data": {
      "text/html": [
       "<div>\n",
       "<style scoped>\n",
       "    .dataframe tbody tr th:only-of-type {\n",
       "        vertical-align: middle;\n",
       "    }\n",
       "\n",
       "    .dataframe tbody tr th {\n",
       "        vertical-align: top;\n",
       "    }\n",
       "\n",
       "    .dataframe thead th {\n",
       "        text-align: right;\n",
       "    }\n",
       "</style>\n",
       "<table border=\"1\" class=\"dataframe\">\n",
       "  <thead>\n",
       "    <tr style=\"text-align: right;\">\n",
       "      <th></th>\n",
       "      <th>Nitrogen</th>\n",
       "      <th>Phosphorus</th>\n",
       "      <th>Potassium</th>\n",
       "      <th>Temperature</th>\n",
       "      <th>Humidity</th>\n",
       "      <th>pH_Value</th>\n",
       "      <th>Rainfall</th>\n",
       "      <th>Crop</th>\n",
       "    </tr>\n",
       "  </thead>\n",
       "  <tbody>\n",
       "    <tr>\n",
       "      <th>0</th>\n",
       "      <td>90</td>\n",
       "      <td>42</td>\n",
       "      <td>43</td>\n",
       "      <td>20.879744</td>\n",
       "      <td>82.002744</td>\n",
       "      <td>6.502985</td>\n",
       "      <td>202.935536</td>\n",
       "      <td>Rice</td>\n",
       "    </tr>\n",
       "    <tr>\n",
       "      <th>1</th>\n",
       "      <td>85</td>\n",
       "      <td>58</td>\n",
       "      <td>41</td>\n",
       "      <td>21.770462</td>\n",
       "      <td>80.319644</td>\n",
       "      <td>7.038096</td>\n",
       "      <td>226.655537</td>\n",
       "      <td>Rice</td>\n",
       "    </tr>\n",
       "    <tr>\n",
       "      <th>2</th>\n",
       "      <td>60</td>\n",
       "      <td>55</td>\n",
       "      <td>44</td>\n",
       "      <td>23.004459</td>\n",
       "      <td>82.320763</td>\n",
       "      <td>7.840207</td>\n",
       "      <td>263.964248</td>\n",
       "      <td>Rice</td>\n",
       "    </tr>\n",
       "    <tr>\n",
       "      <th>3</th>\n",
       "      <td>74</td>\n",
       "      <td>35</td>\n",
       "      <td>40</td>\n",
       "      <td>26.491096</td>\n",
       "      <td>80.158363</td>\n",
       "      <td>6.980401</td>\n",
       "      <td>242.864034</td>\n",
       "      <td>Rice</td>\n",
       "    </tr>\n",
       "    <tr>\n",
       "      <th>4</th>\n",
       "      <td>78</td>\n",
       "      <td>42</td>\n",
       "      <td>42</td>\n",
       "      <td>20.130175</td>\n",
       "      <td>81.604873</td>\n",
       "      <td>7.628473</td>\n",
       "      <td>262.717340</td>\n",
       "      <td>Rice</td>\n",
       "    </tr>\n",
       "    <tr>\n",
       "      <th>5</th>\n",
       "      <td>69</td>\n",
       "      <td>37</td>\n",
       "      <td>42</td>\n",
       "      <td>23.058049</td>\n",
       "      <td>83.370118</td>\n",
       "      <td>7.073454</td>\n",
       "      <td>251.055000</td>\n",
       "      <td>Rice</td>\n",
       "    </tr>\n",
       "    <tr>\n",
       "      <th>6</th>\n",
       "      <td>69</td>\n",
       "      <td>55</td>\n",
       "      <td>38</td>\n",
       "      <td>22.708838</td>\n",
       "      <td>82.639414</td>\n",
       "      <td>5.700806</td>\n",
       "      <td>271.324860</td>\n",
       "      <td>Rice</td>\n",
       "    </tr>\n",
       "    <tr>\n",
       "      <th>7</th>\n",
       "      <td>94</td>\n",
       "      <td>53</td>\n",
       "      <td>40</td>\n",
       "      <td>20.277744</td>\n",
       "      <td>82.894086</td>\n",
       "      <td>5.718627</td>\n",
       "      <td>241.974195</td>\n",
       "      <td>Rice</td>\n",
       "    </tr>\n",
       "    <tr>\n",
       "      <th>8</th>\n",
       "      <td>89</td>\n",
       "      <td>54</td>\n",
       "      <td>38</td>\n",
       "      <td>24.515881</td>\n",
       "      <td>83.535216</td>\n",
       "      <td>6.685346</td>\n",
       "      <td>230.446236</td>\n",
       "      <td>Rice</td>\n",
       "    </tr>\n",
       "    <tr>\n",
       "      <th>9</th>\n",
       "      <td>68</td>\n",
       "      <td>58</td>\n",
       "      <td>38</td>\n",
       "      <td>23.223974</td>\n",
       "      <td>83.033227</td>\n",
       "      <td>6.336254</td>\n",
       "      <td>221.209196</td>\n",
       "      <td>Rice</td>\n",
       "    </tr>\n",
       "  </tbody>\n",
       "</table>\n",
       "</div>"
      ],
      "text/plain": [
       "   Nitrogen  Phosphorus  Potassium  Temperature   Humidity  pH_Value  \\\n",
       "0        90          42         43    20.879744  82.002744  6.502985   \n",
       "1        85          58         41    21.770462  80.319644  7.038096   \n",
       "2        60          55         44    23.004459  82.320763  7.840207   \n",
       "3        74          35         40    26.491096  80.158363  6.980401   \n",
       "4        78          42         42    20.130175  81.604873  7.628473   \n",
       "5        69          37         42    23.058049  83.370118  7.073454   \n",
       "6        69          55         38    22.708838  82.639414  5.700806   \n",
       "7        94          53         40    20.277744  82.894086  5.718627   \n",
       "8        89          54         38    24.515881  83.535216  6.685346   \n",
       "9        68          58         38    23.223974  83.033227  6.336254   \n",
       "\n",
       "     Rainfall  Crop  \n",
       "0  202.935536  Rice  \n",
       "1  226.655537  Rice  \n",
       "2  263.964248  Rice  \n",
       "3  242.864034  Rice  \n",
       "4  262.717340  Rice  \n",
       "5  251.055000  Rice  \n",
       "6  271.324860  Rice  \n",
       "7  241.974195  Rice  \n",
       "8  230.446236  Rice  \n",
       "9  221.209196  Rice  "
      ]
     },
     "execution_count": 6,
     "metadata": {},
     "output_type": "execute_result"
    }
   ],
   "source": [
    "# Sort Preview of data\n",
    "df.head(10)"
   ]
  },
  {
   "cell_type": "code",
   "execution_count": 7,
   "id": "3a574d82",
   "metadata": {
    "execution": {
     "iopub.execute_input": "2024-10-14T15:08:26.541691Z",
     "iopub.status.busy": "2024-10-14T15:08:26.540733Z",
     "iopub.status.idle": "2024-10-14T15:08:26.567774Z",
     "shell.execute_reply": "2024-10-14T15:08:26.566591Z"
    },
    "papermill": {
     "duration": 0.044204,
     "end_time": "2024-10-14T15:08:26.570568",
     "exception": false,
     "start_time": "2024-10-14T15:08:26.526364",
     "status": "completed"
    },
    "tags": []
   },
   "outputs": [
    {
     "name": "stdout",
     "output_type": "stream",
     "text": [
      "<class 'pandas.core.frame.DataFrame'>\n",
      "RangeIndex: 2200 entries, 0 to 2199\n",
      "Data columns (total 8 columns):\n",
      " #   Column       Non-Null Count  Dtype  \n",
      "---  ------       --------------  -----  \n",
      " 0   Nitrogen     2200 non-null   int64  \n",
      " 1   Phosphorus   2200 non-null   int64  \n",
      " 2   Potassium    2200 non-null   int64  \n",
      " 3   Temperature  2200 non-null   float64\n",
      " 4   Humidity     2200 non-null   float64\n",
      " 5   pH_Value     2200 non-null   float64\n",
      " 6   Rainfall     2200 non-null   float64\n",
      " 7   Crop         2200 non-null   object \n",
      "dtypes: float64(4), int64(3), object(1)\n",
      "memory usage: 137.6+ KB\n"
     ]
    }
   ],
   "source": [
    "# info about dataset\n",
    "df.info()"
   ]
  },
  {
   "cell_type": "code",
   "execution_count": 8,
   "id": "e9d7c1bf",
   "metadata": {
    "execution": {
     "iopub.execute_input": "2024-10-14T15:08:26.600071Z",
     "iopub.status.busy": "2024-10-14T15:08:26.599509Z",
     "iopub.status.idle": "2024-10-14T15:08:26.606973Z",
     "shell.execute_reply": "2024-10-14T15:08:26.605818Z"
    },
    "papermill": {
     "duration": 0.024919,
     "end_time": "2024-10-14T15:08:26.609721",
     "exception": false,
     "start_time": "2024-10-14T15:08:26.584802",
     "status": "completed"
    },
    "tags": []
   },
   "outputs": [
    {
     "data": {
      "text/plain": [
       "(17600, (2200, 8))"
      ]
     },
     "execution_count": 8,
     "metadata": {},
     "output_type": "execute_result"
    }
   ],
   "source": [
    "df.size , df.shape"
   ]
  },
  {
   "cell_type": "code",
   "execution_count": 9,
   "id": "ff556a69",
   "metadata": {
    "execution": {
     "iopub.execute_input": "2024-10-14T15:08:26.638804Z",
     "iopub.status.busy": "2024-10-14T15:08:26.638310Z",
     "iopub.status.idle": "2024-10-14T15:08:26.646121Z",
     "shell.execute_reply": "2024-10-14T15:08:26.644952Z"
    },
    "papermill": {
     "duration": 0.025828,
     "end_time": "2024-10-14T15:08:26.649082",
     "exception": false,
     "start_time": "2024-10-14T15:08:26.623254",
     "status": "completed"
    },
    "tags": []
   },
   "outputs": [
    {
     "data": {
      "text/plain": [
       "Index(['Nitrogen', 'Phosphorus', 'Potassium', 'Temperature', 'Humidity',\n",
       "       'pH_Value', 'Rainfall', 'Crop'],\n",
       "      dtype='object')"
      ]
     },
     "execution_count": 9,
     "metadata": {},
     "output_type": "execute_result"
    }
   ],
   "source": [
    "# columns name \n",
    "df.columns"
   ]
  },
  {
   "cell_type": "markdown",
   "id": "9ffe87ab",
   "metadata": {
    "papermill": {
     "duration": 0.013449,
     "end_time": "2024-10-14T15:08:26.676410",
     "exception": false,
     "start_time": "2024-10-14T15:08:26.662961",
     "status": "completed"
    },
    "tags": []
   },
   "source": [
    "## Data Cleaning"
   ]
  },
  {
   "cell_type": "code",
   "execution_count": 10,
   "id": "4b572444",
   "metadata": {
    "execution": {
     "iopub.execute_input": "2024-10-14T15:08:26.706038Z",
     "iopub.status.busy": "2024-10-14T15:08:26.705580Z",
     "iopub.status.idle": "2024-10-14T15:08:26.715461Z",
     "shell.execute_reply": "2024-10-14T15:08:26.714276Z"
    },
    "papermill": {
     "duration": 0.028165,
     "end_time": "2024-10-14T15:08:26.718295",
     "exception": false,
     "start_time": "2024-10-14T15:08:26.690130",
     "status": "completed"
    },
    "tags": []
   },
   "outputs": [
    {
     "data": {
      "text/plain": [
       "Nitrogen       0\n",
       "Phosphorus     0\n",
       "Potassium      0\n",
       "Temperature    0\n",
       "Humidity       0\n",
       "pH_Value       0\n",
       "Rainfall       0\n",
       "Crop           0\n",
       "dtype: int64"
      ]
     },
     "execution_count": 10,
     "metadata": {},
     "output_type": "execute_result"
    }
   ],
   "source": [
    "# Checking null values\n",
    "df.isnull().sum()"
   ]
  },
  {
   "cell_type": "code",
   "execution_count": 11,
   "id": "330809a7",
   "metadata": {
    "execution": {
     "iopub.execute_input": "2024-10-14T15:08:26.747534Z",
     "iopub.status.busy": "2024-10-14T15:08:26.747120Z",
     "iopub.status.idle": "2024-10-14T15:08:26.757087Z",
     "shell.execute_reply": "2024-10-14T15:08:26.755912Z"
    },
    "papermill": {
     "duration": 0.028731,
     "end_time": "2024-10-14T15:08:26.760798",
     "exception": false,
     "start_time": "2024-10-14T15:08:26.732067",
     "status": "completed"
    },
    "tags": []
   },
   "outputs": [
    {
     "data": {
      "text/plain": [
       "Nitrogen       0\n",
       "Phosphorus     0\n",
       "Potassium      0\n",
       "Temperature    0\n",
       "Humidity       0\n",
       "pH_Value       0\n",
       "Rainfall       0\n",
       "Crop           0\n",
       "dtype: int64"
      ]
     },
     "execution_count": 11,
     "metadata": {},
     "output_type": "execute_result"
    }
   ],
   "source": [
    "# Checking Nan Values\n",
    "df.isna().sum()"
   ]
  },
  {
   "cell_type": "code",
   "execution_count": 12,
   "id": "991647bc",
   "metadata": {
    "execution": {
     "iopub.execute_input": "2024-10-14T15:08:26.790812Z",
     "iopub.status.busy": "2024-10-14T15:08:26.790376Z",
     "iopub.status.idle": "2024-10-14T15:08:26.799309Z",
     "shell.execute_reply": "2024-10-14T15:08:26.798088Z"
    },
    "papermill": {
     "duration": 0.027007,
     "end_time": "2024-10-14T15:08:26.802107",
     "exception": false,
     "start_time": "2024-10-14T15:08:26.775100",
     "status": "completed"
    },
    "tags": []
   },
   "outputs": [
    {
     "data": {
      "text/plain": [
       "Nitrogen         int64\n",
       "Phosphorus       int64\n",
       "Potassium        int64\n",
       "Temperature    float64\n",
       "Humidity       float64\n",
       "pH_Value       float64\n",
       "Rainfall       float64\n",
       "Crop            object\n",
       "dtype: object"
      ]
     },
     "execution_count": 12,
     "metadata": {},
     "output_type": "execute_result"
    }
   ],
   "source": [
    "# Columns Data Type\n",
    "df.dtypes"
   ]
  },
  {
   "cell_type": "markdown",
   "id": "d6001ab4",
   "metadata": {
    "papermill": {
     "duration": 0.013628,
     "end_time": "2024-10-14T15:08:26.829911",
     "exception": false,
     "start_time": "2024-10-14T15:08:26.816283",
     "status": "completed"
    },
    "tags": []
   },
   "source": [
    "## Basic Analysis"
   ]
  },
  {
   "cell_type": "code",
   "execution_count": 13,
   "id": "ed07f2f1",
   "metadata": {
    "execution": {
     "iopub.execute_input": "2024-10-14T15:08:26.860163Z",
     "iopub.status.busy": "2024-10-14T15:08:26.859736Z",
     "iopub.status.idle": "2024-10-14T15:08:26.894602Z",
     "shell.execute_reply": "2024-10-14T15:08:26.893482Z"
    },
    "papermill": {
     "duration": 0.05322,
     "end_time": "2024-10-14T15:08:26.897331",
     "exception": false,
     "start_time": "2024-10-14T15:08:26.844111",
     "status": "completed"
    },
    "tags": []
   },
   "outputs": [
    {
     "data": {
      "text/html": [
       "<div>\n",
       "<style scoped>\n",
       "    .dataframe tbody tr th:only-of-type {\n",
       "        vertical-align: middle;\n",
       "    }\n",
       "\n",
       "    .dataframe tbody tr th {\n",
       "        vertical-align: top;\n",
       "    }\n",
       "\n",
       "    .dataframe thead th {\n",
       "        text-align: right;\n",
       "    }\n",
       "</style>\n",
       "<table border=\"1\" class=\"dataframe\">\n",
       "  <thead>\n",
       "    <tr style=\"text-align: right;\">\n",
       "      <th></th>\n",
       "      <th>Nitrogen</th>\n",
       "      <th>Phosphorus</th>\n",
       "      <th>Potassium</th>\n",
       "      <th>Temperature</th>\n",
       "      <th>Humidity</th>\n",
       "      <th>pH_Value</th>\n",
       "      <th>Rainfall</th>\n",
       "    </tr>\n",
       "  </thead>\n",
       "  <tbody>\n",
       "    <tr>\n",
       "      <th>count</th>\n",
       "      <td>2200.000000</td>\n",
       "      <td>2200.000000</td>\n",
       "      <td>2200.000000</td>\n",
       "      <td>2200.000000</td>\n",
       "      <td>2200.000000</td>\n",
       "      <td>2200.000000</td>\n",
       "      <td>2200.000000</td>\n",
       "    </tr>\n",
       "    <tr>\n",
       "      <th>mean</th>\n",
       "      <td>50.551818</td>\n",
       "      <td>53.362727</td>\n",
       "      <td>48.149091</td>\n",
       "      <td>25.616244</td>\n",
       "      <td>71.481779</td>\n",
       "      <td>6.469480</td>\n",
       "      <td>103.463655</td>\n",
       "    </tr>\n",
       "    <tr>\n",
       "      <th>std</th>\n",
       "      <td>36.917334</td>\n",
       "      <td>32.985883</td>\n",
       "      <td>50.647931</td>\n",
       "      <td>5.063749</td>\n",
       "      <td>22.263812</td>\n",
       "      <td>0.773938</td>\n",
       "      <td>54.958389</td>\n",
       "    </tr>\n",
       "    <tr>\n",
       "      <th>min</th>\n",
       "      <td>0.000000</td>\n",
       "      <td>5.000000</td>\n",
       "      <td>5.000000</td>\n",
       "      <td>8.825675</td>\n",
       "      <td>14.258040</td>\n",
       "      <td>3.504752</td>\n",
       "      <td>20.211267</td>\n",
       "    </tr>\n",
       "    <tr>\n",
       "      <th>25%</th>\n",
       "      <td>21.000000</td>\n",
       "      <td>28.000000</td>\n",
       "      <td>20.000000</td>\n",
       "      <td>22.769375</td>\n",
       "      <td>60.261953</td>\n",
       "      <td>5.971693</td>\n",
       "      <td>64.551686</td>\n",
       "    </tr>\n",
       "    <tr>\n",
       "      <th>50%</th>\n",
       "      <td>37.000000</td>\n",
       "      <td>51.000000</td>\n",
       "      <td>32.000000</td>\n",
       "      <td>25.598693</td>\n",
       "      <td>80.473146</td>\n",
       "      <td>6.425045</td>\n",
       "      <td>94.867624</td>\n",
       "    </tr>\n",
       "    <tr>\n",
       "      <th>75%</th>\n",
       "      <td>84.250000</td>\n",
       "      <td>68.000000</td>\n",
       "      <td>49.000000</td>\n",
       "      <td>28.561654</td>\n",
       "      <td>89.948771</td>\n",
       "      <td>6.923643</td>\n",
       "      <td>124.267508</td>\n",
       "    </tr>\n",
       "    <tr>\n",
       "      <th>max</th>\n",
       "      <td>140.000000</td>\n",
       "      <td>145.000000</td>\n",
       "      <td>205.000000</td>\n",
       "      <td>43.675493</td>\n",
       "      <td>99.981876</td>\n",
       "      <td>9.935091</td>\n",
       "      <td>298.560117</td>\n",
       "    </tr>\n",
       "  </tbody>\n",
       "</table>\n",
       "</div>"
      ],
      "text/plain": [
       "          Nitrogen   Phosphorus    Potassium  Temperature     Humidity  \\\n",
       "count  2200.000000  2200.000000  2200.000000  2200.000000  2200.000000   \n",
       "mean     50.551818    53.362727    48.149091    25.616244    71.481779   \n",
       "std      36.917334    32.985883    50.647931     5.063749    22.263812   \n",
       "min       0.000000     5.000000     5.000000     8.825675    14.258040   \n",
       "25%      21.000000    28.000000    20.000000    22.769375    60.261953   \n",
       "50%      37.000000    51.000000    32.000000    25.598693    80.473146   \n",
       "75%      84.250000    68.000000    49.000000    28.561654    89.948771   \n",
       "max     140.000000   145.000000   205.000000    43.675493    99.981876   \n",
       "\n",
       "          pH_Value     Rainfall  \n",
       "count  2200.000000  2200.000000  \n",
       "mean      6.469480   103.463655  \n",
       "std       0.773938    54.958389  \n",
       "min       3.504752    20.211267  \n",
       "25%       5.971693    64.551686  \n",
       "50%       6.425045    94.867624  \n",
       "75%       6.923643   124.267508  \n",
       "max       9.935091   298.560117  "
      ]
     },
     "execution_count": 13,
     "metadata": {},
     "output_type": "execute_result"
    }
   ],
   "source": [
    "df.describe()"
   ]
  },
  {
   "cell_type": "markdown",
   "id": "ac703dd3",
   "metadata": {
    "papermill": {
     "duration": 0.014155,
     "end_time": "2024-10-14T15:08:26.925938",
     "exception": false,
     "start_time": "2024-10-14T15:08:26.911783",
     "status": "completed"
    },
    "tags": []
   },
   "source": [
    "## Data Vizualization"
   ]
  },
  {
   "cell_type": "code",
   "execution_count": 14,
   "id": "13b78562",
   "metadata": {
    "execution": {
     "iopub.execute_input": "2024-10-14T15:08:26.956396Z",
     "iopub.status.busy": "2024-10-14T15:08:26.956005Z",
     "iopub.status.idle": "2024-10-14T15:08:27.740239Z",
     "shell.execute_reply": "2024-10-14T15:08:27.739015Z"
    },
    "papermill": {
     "duration": 0.802896,
     "end_time": "2024-10-14T15:08:27.743331",
     "exception": false,
     "start_time": "2024-10-14T15:08:26.940435",
     "status": "completed"
    },
    "tags": []
   },
   "outputs": [],
   "source": [
    "# importing libraries for visualization\n",
    "import plotly.express as px\n",
    "import matplotlib.pyplot as plt"
   ]
  },
  {
   "cell_type": "code",
   "execution_count": 15,
   "id": "08790ef2",
   "metadata": {
    "execution": {
     "iopub.execute_input": "2024-10-14T15:08:27.775647Z",
     "iopub.status.busy": "2024-10-14T15:08:27.775272Z",
     "iopub.status.idle": "2024-10-14T15:08:29.931141Z",
     "shell.execute_reply": "2024-10-14T15:08:29.929924Z"
    },
    "papermill": {
     "duration": 2.175808,
     "end_time": "2024-10-14T15:08:29.933904",
     "exception": false,
     "start_time": "2024-10-14T15:08:27.758096",
     "status": "completed"
    },
    "tags": []
   },
   "outputs": [
    {
     "data": {
      "text/html": [
       "        <script type=\"text/javascript\">\n",
       "        window.PlotlyConfig = {MathJaxConfig: 'local'};\n",
       "        if (window.MathJax && window.MathJax.Hub && window.MathJax.Hub.Config) {window.MathJax.Hub.Config({SVG: {font: \"STIX-Web\"}});}\n",
       "        if (typeof require !== 'undefined') {\n",
       "        require.undef(\"plotly\");\n",
       "        requirejs.config({\n",
       "            paths: {\n",
       "                'plotly': ['https://cdn.plot.ly/plotly-2.27.0.min']\n",
       "            }\n",
       "        });\n",
       "        require(['plotly'], function(Plotly) {\n",
       "            window._Plotly = Plotly;\n",
       "        });\n",
       "        }\n",
       "        </script>\n",
       "        "
      ]
     },
     "metadata": {},
     "output_type": "display_data"
    },
    {
     "data": {
      "text/html": [
       "<div>                            <div id=\"81be4912-1a9b-428a-a3cd-d844be131587\" class=\"plotly-graph-div\" style=\"height:525px; width:100%;\"></div>            <script type=\"text/javascript\">                require([\"plotly\"], function(Plotly) {                    window.PLOTLYENV=window.PLOTLYENV || {};                                    if (document.getElementById(\"81be4912-1a9b-428a-a3cd-d844be131587\")) {                    Plotly.newPlot(                        \"81be4912-1a9b-428a-a3cd-d844be131587\",                        [{\"domain\":{\"x\":[0.0,1.0],\"y\":[0.0,1.0]},\"hovertemplate\":\"Crop=%{label}\\u003cextra\\u003e\\u003c\\u002fextra\\u003e\",\"labels\":[\"Rice\",\"Rice\",\"Rice\",\"Rice\",\"Rice\",\"Rice\",\"Rice\",\"Rice\",\"Rice\",\"Rice\",\"Rice\",\"Rice\",\"Rice\",\"Rice\",\"Rice\",\"Rice\",\"Rice\",\"Rice\",\"Rice\",\"Rice\",\"Rice\",\"Rice\",\"Rice\",\"Rice\",\"Rice\",\"Rice\",\"Rice\",\"Rice\",\"Rice\",\"Rice\",\"Rice\",\"Rice\",\"Rice\",\"Rice\",\"Rice\",\"Rice\",\"Rice\",\"Rice\",\"Rice\",\"Rice\",\"Rice\",\"Rice\",\"Rice\",\"Rice\",\"Rice\",\"Rice\",\"Rice\",\"Rice\",\"Rice\",\"Rice\",\"Rice\",\"Rice\",\"Rice\",\"Rice\",\"Rice\",\"Rice\",\"Rice\",\"Rice\",\"Rice\",\"Rice\",\"Rice\",\"Rice\",\"Rice\",\"Rice\",\"Rice\",\"Rice\",\"Rice\",\"Rice\",\"Rice\",\"Rice\",\"Rice\",\"Rice\",\"Rice\",\"Rice\",\"Rice\",\"Rice\",\"Rice\",\"Rice\",\"Rice\",\"Rice\",\"Rice\",\"Rice\",\"Rice\",\"Rice\",\"Rice\",\"Rice\",\"Rice\",\"Rice\",\"Rice\",\"Rice\",\"Rice\",\"Rice\",\"Rice\",\"Rice\",\"Rice\",\"Rice\",\"Rice\",\"Rice\",\"Rice\",\"Rice\",\"Maize\",\"Maize\",\"Maize\",\"Maize\",\"Maize\",\"Maize\",\"Maize\",\"Maize\",\"Maize\",\"Maize\",\"Maize\",\"Maize\",\"Maize\",\"Maize\",\"Maize\",\"Maize\",\"Maize\",\"Maize\",\"Maize\",\"Maize\",\"Maize\",\"Maize\",\"Maize\",\"Maize\",\"Maize\",\"Maize\",\"Maize\",\"Maize\",\"Maize\",\"Maize\",\"Maize\",\"Maize\",\"Maize\",\"Maize\",\"Maize\",\"Maize\",\"Maize\",\"Maize\",\"Maize\",\"Maize\",\"Maize\",\"Maize\",\"Maize\",\"Maize\",\"Maize\",\"Maize\",\"Maize\",\"Maize\",\"Maize\",\"Maize\",\"Maize\",\"Maize\",\"Maize\",\"Maize\",\"Maize\",\"Maize\",\"Maize\",\"Maize\",\"Maize\",\"Maize\",\"Maize\",\"Maize\",\"Maize\",\"Maize\",\"Maize\",\"Maize\",\"Maize\",\"Maize\",\"Maize\",\"Maize\",\"Maize\",\"Maize\",\"Maize\",\"Maize\",\"Maize\",\"Maize\",\"Maize\",\"Maize\",\"Maize\",\"Maize\",\"Maize\",\"Maize\",\"Maize\",\"Maize\",\"Maize\",\"Maize\",\"Maize\",\"Maize\",\"Maize\",\"Maize\",\"Maize\",\"Maize\",\"Maize\",\"Maize\",\"Maize\",\"Maize\",\"Maize\",\"Maize\",\"Maize\",\"Maize\",\"ChickPea\",\"ChickPea\",\"ChickPea\",\"ChickPea\",\"ChickPea\",\"ChickPea\",\"ChickPea\",\"ChickPea\",\"ChickPea\",\"ChickPea\",\"ChickPea\",\"ChickPea\",\"ChickPea\",\"ChickPea\",\"ChickPea\",\"ChickPea\",\"ChickPea\",\"ChickPea\",\"ChickPea\",\"ChickPea\",\"ChickPea\",\"ChickPea\",\"ChickPea\",\"ChickPea\",\"ChickPea\",\"ChickPea\",\"ChickPea\",\"ChickPea\",\"ChickPea\",\"ChickPea\",\"ChickPea\",\"ChickPea\",\"ChickPea\",\"ChickPea\",\"ChickPea\",\"ChickPea\",\"ChickPea\",\"ChickPea\",\"ChickPea\",\"ChickPea\",\"ChickPea\",\"ChickPea\",\"ChickPea\",\"ChickPea\",\"ChickPea\",\"ChickPea\",\"ChickPea\",\"ChickPea\",\"ChickPea\",\"ChickPea\",\"ChickPea\",\"ChickPea\",\"ChickPea\",\"ChickPea\",\"ChickPea\",\"ChickPea\",\"ChickPea\",\"ChickPea\",\"ChickPea\",\"ChickPea\",\"ChickPea\",\"ChickPea\",\"ChickPea\",\"ChickPea\",\"ChickPea\",\"ChickPea\",\"ChickPea\",\"ChickPea\",\"ChickPea\",\"ChickPea\",\"ChickPea\",\"ChickPea\",\"ChickPea\",\"ChickPea\",\"ChickPea\",\"ChickPea\",\"ChickPea\",\"ChickPea\",\"ChickPea\",\"ChickPea\",\"ChickPea\",\"ChickPea\",\"ChickPea\",\"ChickPea\",\"ChickPea\",\"ChickPea\",\"ChickPea\",\"ChickPea\",\"ChickPea\",\"ChickPea\",\"ChickPea\",\"ChickPea\",\"ChickPea\",\"ChickPea\",\"ChickPea\",\"ChickPea\",\"ChickPea\",\"ChickPea\",\"ChickPea\",\"ChickPea\",\"KidneyBeans\",\"KidneyBeans\",\"KidneyBeans\",\"KidneyBeans\",\"KidneyBeans\",\"KidneyBeans\",\"KidneyBeans\",\"KidneyBeans\",\"KidneyBeans\",\"KidneyBeans\",\"KidneyBeans\",\"KidneyBeans\",\"KidneyBeans\",\"KidneyBeans\",\"KidneyBeans\",\"KidneyBeans\",\"KidneyBeans\",\"KidneyBeans\",\"KidneyBeans\",\"KidneyBeans\",\"KidneyBeans\",\"KidneyBeans\",\"KidneyBeans\",\"KidneyBeans\",\"KidneyBeans\",\"KidneyBeans\",\"KidneyBeans\",\"KidneyBeans\",\"KidneyBeans\",\"KidneyBeans\",\"KidneyBeans\",\"KidneyBeans\",\"KidneyBeans\",\"KidneyBeans\",\"KidneyBeans\",\"KidneyBeans\",\"KidneyBeans\",\"KidneyBeans\",\"KidneyBeans\",\"KidneyBeans\",\"KidneyBeans\",\"KidneyBeans\",\"KidneyBeans\",\"KidneyBeans\",\"KidneyBeans\",\"KidneyBeans\",\"KidneyBeans\",\"KidneyBeans\",\"KidneyBeans\",\"KidneyBeans\",\"KidneyBeans\",\"KidneyBeans\",\"KidneyBeans\",\"KidneyBeans\",\"KidneyBeans\",\"KidneyBeans\",\"KidneyBeans\",\"KidneyBeans\",\"KidneyBeans\",\"KidneyBeans\",\"KidneyBeans\",\"KidneyBeans\",\"KidneyBeans\",\"KidneyBeans\",\"KidneyBeans\",\"KidneyBeans\",\"KidneyBeans\",\"KidneyBeans\",\"KidneyBeans\",\"KidneyBeans\",\"KidneyBeans\",\"KidneyBeans\",\"KidneyBeans\",\"KidneyBeans\",\"KidneyBeans\",\"KidneyBeans\",\"KidneyBeans\",\"KidneyBeans\",\"KidneyBeans\",\"KidneyBeans\",\"KidneyBeans\",\"KidneyBeans\",\"KidneyBeans\",\"KidneyBeans\",\"KidneyBeans\",\"KidneyBeans\",\"KidneyBeans\",\"KidneyBeans\",\"KidneyBeans\",\"KidneyBeans\",\"KidneyBeans\",\"KidneyBeans\",\"KidneyBeans\",\"KidneyBeans\",\"KidneyBeans\",\"KidneyBeans\",\"KidneyBeans\",\"KidneyBeans\",\"KidneyBeans\",\"KidneyBeans\",\"PigeonPeas\",\"PigeonPeas\",\"PigeonPeas\",\"PigeonPeas\",\"PigeonPeas\",\"PigeonPeas\",\"PigeonPeas\",\"PigeonPeas\",\"PigeonPeas\",\"PigeonPeas\",\"PigeonPeas\",\"PigeonPeas\",\"PigeonPeas\",\"PigeonPeas\",\"PigeonPeas\",\"PigeonPeas\",\"PigeonPeas\",\"PigeonPeas\",\"PigeonPeas\",\"PigeonPeas\",\"PigeonPeas\",\"PigeonPeas\",\"PigeonPeas\",\"PigeonPeas\",\"PigeonPeas\",\"PigeonPeas\",\"PigeonPeas\",\"PigeonPeas\",\"PigeonPeas\",\"PigeonPeas\",\"PigeonPeas\",\"PigeonPeas\",\"PigeonPeas\",\"PigeonPeas\",\"PigeonPeas\",\"PigeonPeas\",\"PigeonPeas\",\"PigeonPeas\",\"PigeonPeas\",\"PigeonPeas\",\"PigeonPeas\",\"PigeonPeas\",\"PigeonPeas\",\"PigeonPeas\",\"PigeonPeas\",\"PigeonPeas\",\"PigeonPeas\",\"PigeonPeas\",\"PigeonPeas\",\"PigeonPeas\",\"PigeonPeas\",\"PigeonPeas\",\"PigeonPeas\",\"PigeonPeas\",\"PigeonPeas\",\"PigeonPeas\",\"PigeonPeas\",\"PigeonPeas\",\"PigeonPeas\",\"PigeonPeas\",\"PigeonPeas\",\"PigeonPeas\",\"PigeonPeas\",\"PigeonPeas\",\"PigeonPeas\",\"PigeonPeas\",\"PigeonPeas\",\"PigeonPeas\",\"PigeonPeas\",\"PigeonPeas\",\"PigeonPeas\",\"PigeonPeas\",\"PigeonPeas\",\"PigeonPeas\",\"PigeonPeas\",\"PigeonPeas\",\"PigeonPeas\",\"PigeonPeas\",\"PigeonPeas\",\"PigeonPeas\",\"PigeonPeas\",\"PigeonPeas\",\"PigeonPeas\",\"PigeonPeas\",\"PigeonPeas\",\"PigeonPeas\",\"PigeonPeas\",\"PigeonPeas\",\"PigeonPeas\",\"PigeonPeas\",\"PigeonPeas\",\"PigeonPeas\",\"PigeonPeas\",\"PigeonPeas\",\"PigeonPeas\",\"PigeonPeas\",\"PigeonPeas\",\"PigeonPeas\",\"PigeonPeas\",\"PigeonPeas\",\"MothBeans\",\"MothBeans\",\"MothBeans\",\"MothBeans\",\"MothBeans\",\"MothBeans\",\"MothBeans\",\"MothBeans\",\"MothBeans\",\"MothBeans\",\"MothBeans\",\"MothBeans\",\"MothBeans\",\"MothBeans\",\"MothBeans\",\"MothBeans\",\"MothBeans\",\"MothBeans\",\"MothBeans\",\"MothBeans\",\"MothBeans\",\"MothBeans\",\"MothBeans\",\"MothBeans\",\"MothBeans\",\"MothBeans\",\"MothBeans\",\"MothBeans\",\"MothBeans\",\"MothBeans\",\"MothBeans\",\"MothBeans\",\"MothBeans\",\"MothBeans\",\"MothBeans\",\"MothBeans\",\"MothBeans\",\"MothBeans\",\"MothBeans\",\"MothBeans\",\"MothBeans\",\"MothBeans\",\"MothBeans\",\"MothBeans\",\"MothBeans\",\"MothBeans\",\"MothBeans\",\"MothBeans\",\"MothBeans\",\"MothBeans\",\"MothBeans\",\"MothBeans\",\"MothBeans\",\"MothBeans\",\"MothBeans\",\"MothBeans\",\"MothBeans\",\"MothBeans\",\"MothBeans\",\"MothBeans\",\"MothBeans\",\"MothBeans\",\"MothBeans\",\"MothBeans\",\"MothBeans\",\"MothBeans\",\"MothBeans\",\"MothBeans\",\"MothBeans\",\"MothBeans\",\"MothBeans\",\"MothBeans\",\"MothBeans\",\"MothBeans\",\"MothBeans\",\"MothBeans\",\"MothBeans\",\"MothBeans\",\"MothBeans\",\"MothBeans\",\"MothBeans\",\"MothBeans\",\"MothBeans\",\"MothBeans\",\"MothBeans\",\"MothBeans\",\"MothBeans\",\"MothBeans\",\"MothBeans\",\"MothBeans\",\"MothBeans\",\"MothBeans\",\"MothBeans\",\"MothBeans\",\"MothBeans\",\"MothBeans\",\"MothBeans\",\"MothBeans\",\"MothBeans\",\"MothBeans\",\"MungBean\",\"MungBean\",\"MungBean\",\"MungBean\",\"MungBean\",\"MungBean\",\"MungBean\",\"MungBean\",\"MungBean\",\"MungBean\",\"MungBean\",\"MungBean\",\"MungBean\",\"MungBean\",\"MungBean\",\"MungBean\",\"MungBean\",\"MungBean\",\"MungBean\",\"MungBean\",\"MungBean\",\"MungBean\",\"MungBean\",\"MungBean\",\"MungBean\",\"MungBean\",\"MungBean\",\"MungBean\",\"MungBean\",\"MungBean\",\"MungBean\",\"MungBean\",\"MungBean\",\"MungBean\",\"MungBean\",\"MungBean\",\"MungBean\",\"MungBean\",\"MungBean\",\"MungBean\",\"MungBean\",\"MungBean\",\"MungBean\",\"MungBean\",\"MungBean\",\"MungBean\",\"MungBean\",\"MungBean\",\"MungBean\",\"MungBean\",\"MungBean\",\"MungBean\",\"MungBean\",\"MungBean\",\"MungBean\",\"MungBean\",\"MungBean\",\"MungBean\",\"MungBean\",\"MungBean\",\"MungBean\",\"MungBean\",\"MungBean\",\"MungBean\",\"MungBean\",\"MungBean\",\"MungBean\",\"MungBean\",\"MungBean\",\"MungBean\",\"MungBean\",\"MungBean\",\"MungBean\",\"MungBean\",\"MungBean\",\"MungBean\",\"MungBean\",\"MungBean\",\"MungBean\",\"MungBean\",\"MungBean\",\"MungBean\",\"MungBean\",\"MungBean\",\"MungBean\",\"MungBean\",\"MungBean\",\"MungBean\",\"MungBean\",\"MungBean\",\"MungBean\",\"MungBean\",\"MungBean\",\"MungBean\",\"MungBean\",\"MungBean\",\"MungBean\",\"MungBean\",\"MungBean\",\"MungBean\",\"Blackgram\",\"Blackgram\",\"Blackgram\",\"Blackgram\",\"Blackgram\",\"Blackgram\",\"Blackgram\",\"Blackgram\",\"Blackgram\",\"Blackgram\",\"Blackgram\",\"Blackgram\",\"Blackgram\",\"Blackgram\",\"Blackgram\",\"Blackgram\",\"Blackgram\",\"Blackgram\",\"Blackgram\",\"Blackgram\",\"Blackgram\",\"Blackgram\",\"Blackgram\",\"Blackgram\",\"Blackgram\",\"Blackgram\",\"Blackgram\",\"Blackgram\",\"Blackgram\",\"Blackgram\",\"Blackgram\",\"Blackgram\",\"Blackgram\",\"Blackgram\",\"Blackgram\",\"Blackgram\",\"Blackgram\",\"Blackgram\",\"Blackgram\",\"Blackgram\",\"Blackgram\",\"Blackgram\",\"Blackgram\",\"Blackgram\",\"Blackgram\",\"Blackgram\",\"Blackgram\",\"Blackgram\",\"Blackgram\",\"Blackgram\",\"Blackgram\",\"Blackgram\",\"Blackgram\",\"Blackgram\",\"Blackgram\",\"Blackgram\",\"Blackgram\",\"Blackgram\",\"Blackgram\",\"Blackgram\",\"Blackgram\",\"Blackgram\",\"Blackgram\",\"Blackgram\",\"Blackgram\",\"Blackgram\",\"Blackgram\",\"Blackgram\",\"Blackgram\",\"Blackgram\",\"Blackgram\",\"Blackgram\",\"Blackgram\",\"Blackgram\",\"Blackgram\",\"Blackgram\",\"Blackgram\",\"Blackgram\",\"Blackgram\",\"Blackgram\",\"Blackgram\",\"Blackgram\",\"Blackgram\",\"Blackgram\",\"Blackgram\",\"Blackgram\",\"Blackgram\",\"Blackgram\",\"Blackgram\",\"Blackgram\",\"Blackgram\",\"Blackgram\",\"Blackgram\",\"Blackgram\",\"Blackgram\",\"Blackgram\",\"Blackgram\",\"Blackgram\",\"Blackgram\",\"Blackgram\",\"Lentil\",\"Lentil\",\"Lentil\",\"Lentil\",\"Lentil\",\"Lentil\",\"Lentil\",\"Lentil\",\"Lentil\",\"Lentil\",\"Lentil\",\"Lentil\",\"Lentil\",\"Lentil\",\"Lentil\",\"Lentil\",\"Lentil\",\"Lentil\",\"Lentil\",\"Lentil\",\"Lentil\",\"Lentil\",\"Lentil\",\"Lentil\",\"Lentil\",\"Lentil\",\"Lentil\",\"Lentil\",\"Lentil\",\"Lentil\",\"Lentil\",\"Lentil\",\"Lentil\",\"Lentil\",\"Lentil\",\"Lentil\",\"Lentil\",\"Lentil\",\"Lentil\",\"Lentil\",\"Lentil\",\"Lentil\",\"Lentil\",\"Lentil\",\"Lentil\",\"Lentil\",\"Lentil\",\"Lentil\",\"Lentil\",\"Lentil\",\"Lentil\",\"Lentil\",\"Lentil\",\"Lentil\",\"Lentil\",\"Lentil\",\"Lentil\",\"Lentil\",\"Lentil\",\"Lentil\",\"Lentil\",\"Lentil\",\"Lentil\",\"Lentil\",\"Lentil\",\"Lentil\",\"Lentil\",\"Lentil\",\"Lentil\",\"Lentil\",\"Lentil\",\"Lentil\",\"Lentil\",\"Lentil\",\"Lentil\",\"Lentil\",\"Lentil\",\"Lentil\",\"Lentil\",\"Lentil\",\"Lentil\",\"Lentil\",\"Lentil\",\"Lentil\",\"Lentil\",\"Lentil\",\"Lentil\",\"Lentil\",\"Lentil\",\"Lentil\",\"Lentil\",\"Lentil\",\"Lentil\",\"Lentil\",\"Lentil\",\"Lentil\",\"Lentil\",\"Lentil\",\"Lentil\",\"Lentil\",\"Pomegranate\",\"Pomegranate\",\"Pomegranate\",\"Pomegranate\",\"Pomegranate\",\"Pomegranate\",\"Pomegranate\",\"Pomegranate\",\"Pomegranate\",\"Pomegranate\",\"Pomegranate\",\"Pomegranate\",\"Pomegranate\",\"Pomegranate\",\"Pomegranate\",\"Pomegranate\",\"Pomegranate\",\"Pomegranate\",\"Pomegranate\",\"Pomegranate\",\"Pomegranate\",\"Pomegranate\",\"Pomegranate\",\"Pomegranate\",\"Pomegranate\",\"Pomegranate\",\"Pomegranate\",\"Pomegranate\",\"Pomegranate\",\"Pomegranate\",\"Pomegranate\",\"Pomegranate\",\"Pomegranate\",\"Pomegranate\",\"Pomegranate\",\"Pomegranate\",\"Pomegranate\",\"Pomegranate\",\"Pomegranate\",\"Pomegranate\",\"Pomegranate\",\"Pomegranate\",\"Pomegranate\",\"Pomegranate\",\"Pomegranate\",\"Pomegranate\",\"Pomegranate\",\"Pomegranate\",\"Pomegranate\",\"Pomegranate\",\"Pomegranate\",\"Pomegranate\",\"Pomegranate\",\"Pomegranate\",\"Pomegranate\",\"Pomegranate\",\"Pomegranate\",\"Pomegranate\",\"Pomegranate\",\"Pomegranate\",\"Pomegranate\",\"Pomegranate\",\"Pomegranate\",\"Pomegranate\",\"Pomegranate\",\"Pomegranate\",\"Pomegranate\",\"Pomegranate\",\"Pomegranate\",\"Pomegranate\",\"Pomegranate\",\"Pomegranate\",\"Pomegranate\",\"Pomegranate\",\"Pomegranate\",\"Pomegranate\",\"Pomegranate\",\"Pomegranate\",\"Pomegranate\",\"Pomegranate\",\"Pomegranate\",\"Pomegranate\",\"Pomegranate\",\"Pomegranate\",\"Pomegranate\",\"Pomegranate\",\"Pomegranate\",\"Pomegranate\",\"Pomegranate\",\"Pomegranate\",\"Pomegranate\",\"Pomegranate\",\"Pomegranate\",\"Pomegranate\",\"Pomegranate\",\"Pomegranate\",\"Pomegranate\",\"Pomegranate\",\"Pomegranate\",\"Pomegranate\",\"Banana\",\"Banana\",\"Banana\",\"Banana\",\"Banana\",\"Banana\",\"Banana\",\"Banana\",\"Banana\",\"Banana\",\"Banana\",\"Banana\",\"Banana\",\"Banana\",\"Banana\",\"Banana\",\"Banana\",\"Banana\",\"Banana\",\"Banana\",\"Banana\",\"Banana\",\"Banana\",\"Banana\",\"Banana\",\"Banana\",\"Banana\",\"Banana\",\"Banana\",\"Banana\",\"Banana\",\"Banana\",\"Banana\",\"Banana\",\"Banana\",\"Banana\",\"Banana\",\"Banana\",\"Banana\",\"Banana\",\"Banana\",\"Banana\",\"Banana\",\"Banana\",\"Banana\",\"Banana\",\"Banana\",\"Banana\",\"Banana\",\"Banana\",\"Banana\",\"Banana\",\"Banana\",\"Banana\",\"Banana\",\"Banana\",\"Banana\",\"Banana\",\"Banana\",\"Banana\",\"Banana\",\"Banana\",\"Banana\",\"Banana\",\"Banana\",\"Banana\",\"Banana\",\"Banana\",\"Banana\",\"Banana\",\"Banana\",\"Banana\",\"Banana\",\"Banana\",\"Banana\",\"Banana\",\"Banana\",\"Banana\",\"Banana\",\"Banana\",\"Banana\",\"Banana\",\"Banana\",\"Banana\",\"Banana\",\"Banana\",\"Banana\",\"Banana\",\"Banana\",\"Banana\",\"Banana\",\"Banana\",\"Banana\",\"Banana\",\"Banana\",\"Banana\",\"Banana\",\"Banana\",\"Banana\",\"Banana\",\"Mango\",\"Mango\",\"Mango\",\"Mango\",\"Mango\",\"Mango\",\"Mango\",\"Mango\",\"Mango\",\"Mango\",\"Mango\",\"Mango\",\"Mango\",\"Mango\",\"Mango\",\"Mango\",\"Mango\",\"Mango\",\"Mango\",\"Mango\",\"Mango\",\"Mango\",\"Mango\",\"Mango\",\"Mango\",\"Mango\",\"Mango\",\"Mango\",\"Mango\",\"Mango\",\"Mango\",\"Mango\",\"Mango\",\"Mango\",\"Mango\",\"Mango\",\"Mango\",\"Mango\",\"Mango\",\"Mango\",\"Mango\",\"Mango\",\"Mango\",\"Mango\",\"Mango\",\"Mango\",\"Mango\",\"Mango\",\"Mango\",\"Mango\",\"Mango\",\"Mango\",\"Mango\",\"Mango\",\"Mango\",\"Mango\",\"Mango\",\"Mango\",\"Mango\",\"Mango\",\"Mango\",\"Mango\",\"Mango\",\"Mango\",\"Mango\",\"Mango\",\"Mango\",\"Mango\",\"Mango\",\"Mango\",\"Mango\",\"Mango\",\"Mango\",\"Mango\",\"Mango\",\"Mango\",\"Mango\",\"Mango\",\"Mango\",\"Mango\",\"Mango\",\"Mango\",\"Mango\",\"Mango\",\"Mango\",\"Mango\",\"Mango\",\"Mango\",\"Mango\",\"Mango\",\"Mango\",\"Mango\",\"Mango\",\"Mango\",\"Mango\",\"Mango\",\"Mango\",\"Mango\",\"Mango\",\"Mango\",\"Grapes\",\"Grapes\",\"Grapes\",\"Grapes\",\"Grapes\",\"Grapes\",\"Grapes\",\"Grapes\",\"Grapes\",\"Grapes\",\"Grapes\",\"Grapes\",\"Grapes\",\"Grapes\",\"Grapes\",\"Grapes\",\"Grapes\",\"Grapes\",\"Grapes\",\"Grapes\",\"Grapes\",\"Grapes\",\"Grapes\",\"Grapes\",\"Grapes\",\"Grapes\",\"Grapes\",\"Grapes\",\"Grapes\",\"Grapes\",\"Grapes\",\"Grapes\",\"Grapes\",\"Grapes\",\"Grapes\",\"Grapes\",\"Grapes\",\"Grapes\",\"Grapes\",\"Grapes\",\"Grapes\",\"Grapes\",\"Grapes\",\"Grapes\",\"Grapes\",\"Grapes\",\"Grapes\",\"Grapes\",\"Grapes\",\"Grapes\",\"Grapes\",\"Grapes\",\"Grapes\",\"Grapes\",\"Grapes\",\"Grapes\",\"Grapes\",\"Grapes\",\"Grapes\",\"Grapes\",\"Grapes\",\"Grapes\",\"Grapes\",\"Grapes\",\"Grapes\",\"Grapes\",\"Grapes\",\"Grapes\",\"Grapes\",\"Grapes\",\"Grapes\",\"Grapes\",\"Grapes\",\"Grapes\",\"Grapes\",\"Grapes\",\"Grapes\",\"Grapes\",\"Grapes\",\"Grapes\",\"Grapes\",\"Grapes\",\"Grapes\",\"Grapes\",\"Grapes\",\"Grapes\",\"Grapes\",\"Grapes\",\"Grapes\",\"Grapes\",\"Grapes\",\"Grapes\",\"Grapes\",\"Grapes\",\"Grapes\",\"Grapes\",\"Grapes\",\"Grapes\",\"Grapes\",\"Grapes\",\"Watermelon\",\"Watermelon\",\"Watermelon\",\"Watermelon\",\"Watermelon\",\"Watermelon\",\"Watermelon\",\"Watermelon\",\"Watermelon\",\"Watermelon\",\"Watermelon\",\"Watermelon\",\"Watermelon\",\"Watermelon\",\"Watermelon\",\"Watermelon\",\"Watermelon\",\"Watermelon\",\"Watermelon\",\"Watermelon\",\"Watermelon\",\"Watermelon\",\"Watermelon\",\"Watermelon\",\"Watermelon\",\"Watermelon\",\"Watermelon\",\"Watermelon\",\"Watermelon\",\"Watermelon\",\"Watermelon\",\"Watermelon\",\"Watermelon\",\"Watermelon\",\"Watermelon\",\"Watermelon\",\"Watermelon\",\"Watermelon\",\"Watermelon\",\"Watermelon\",\"Watermelon\",\"Watermelon\",\"Watermelon\",\"Watermelon\",\"Watermelon\",\"Watermelon\",\"Watermelon\",\"Watermelon\",\"Watermelon\",\"Watermelon\",\"Watermelon\",\"Watermelon\",\"Watermelon\",\"Watermelon\",\"Watermelon\",\"Watermelon\",\"Watermelon\",\"Watermelon\",\"Watermelon\",\"Watermelon\",\"Watermelon\",\"Watermelon\",\"Watermelon\",\"Watermelon\",\"Watermelon\",\"Watermelon\",\"Watermelon\",\"Watermelon\",\"Watermelon\",\"Watermelon\",\"Watermelon\",\"Watermelon\",\"Watermelon\",\"Watermelon\",\"Watermelon\",\"Watermelon\",\"Watermelon\",\"Watermelon\",\"Watermelon\",\"Watermelon\",\"Watermelon\",\"Watermelon\",\"Watermelon\",\"Watermelon\",\"Watermelon\",\"Watermelon\",\"Watermelon\",\"Watermelon\",\"Watermelon\",\"Watermelon\",\"Watermelon\",\"Watermelon\",\"Watermelon\",\"Watermelon\",\"Watermelon\",\"Watermelon\",\"Watermelon\",\"Watermelon\",\"Watermelon\",\"Watermelon\",\"Muskmelon\",\"Muskmelon\",\"Muskmelon\",\"Muskmelon\",\"Muskmelon\",\"Muskmelon\",\"Muskmelon\",\"Muskmelon\",\"Muskmelon\",\"Muskmelon\",\"Muskmelon\",\"Muskmelon\",\"Muskmelon\",\"Muskmelon\",\"Muskmelon\",\"Muskmelon\",\"Muskmelon\",\"Muskmelon\",\"Muskmelon\",\"Muskmelon\",\"Muskmelon\",\"Muskmelon\",\"Muskmelon\",\"Muskmelon\",\"Muskmelon\",\"Muskmelon\",\"Muskmelon\",\"Muskmelon\",\"Muskmelon\",\"Muskmelon\",\"Muskmelon\",\"Muskmelon\",\"Muskmelon\",\"Muskmelon\",\"Muskmelon\",\"Muskmelon\",\"Muskmelon\",\"Muskmelon\",\"Muskmelon\",\"Muskmelon\",\"Muskmelon\",\"Muskmelon\",\"Muskmelon\",\"Muskmelon\",\"Muskmelon\",\"Muskmelon\",\"Muskmelon\",\"Muskmelon\",\"Muskmelon\",\"Muskmelon\",\"Muskmelon\",\"Muskmelon\",\"Muskmelon\",\"Muskmelon\",\"Muskmelon\",\"Muskmelon\",\"Muskmelon\",\"Muskmelon\",\"Muskmelon\",\"Muskmelon\",\"Muskmelon\",\"Muskmelon\",\"Muskmelon\",\"Muskmelon\",\"Muskmelon\",\"Muskmelon\",\"Muskmelon\",\"Muskmelon\",\"Muskmelon\",\"Muskmelon\",\"Muskmelon\",\"Muskmelon\",\"Muskmelon\",\"Muskmelon\",\"Muskmelon\",\"Muskmelon\",\"Muskmelon\",\"Muskmelon\",\"Muskmelon\",\"Muskmelon\",\"Muskmelon\",\"Muskmelon\",\"Muskmelon\",\"Muskmelon\",\"Muskmelon\",\"Muskmelon\",\"Muskmelon\",\"Muskmelon\",\"Muskmelon\",\"Muskmelon\",\"Muskmelon\",\"Muskmelon\",\"Muskmelon\",\"Muskmelon\",\"Muskmelon\",\"Muskmelon\",\"Muskmelon\",\"Muskmelon\",\"Muskmelon\",\"Muskmelon\",\"Apple\",\"Apple\",\"Apple\",\"Apple\",\"Apple\",\"Apple\",\"Apple\",\"Apple\",\"Apple\",\"Apple\",\"Apple\",\"Apple\",\"Apple\",\"Apple\",\"Apple\",\"Apple\",\"Apple\",\"Apple\",\"Apple\",\"Apple\",\"Apple\",\"Apple\",\"Apple\",\"Apple\",\"Apple\",\"Apple\",\"Apple\",\"Apple\",\"Apple\",\"Apple\",\"Apple\",\"Apple\",\"Apple\",\"Apple\",\"Apple\",\"Apple\",\"Apple\",\"Apple\",\"Apple\",\"Apple\",\"Apple\",\"Apple\",\"Apple\",\"Apple\",\"Apple\",\"Apple\",\"Apple\",\"Apple\",\"Apple\",\"Apple\",\"Apple\",\"Apple\",\"Apple\",\"Apple\",\"Apple\",\"Apple\",\"Apple\",\"Apple\",\"Apple\",\"Apple\",\"Apple\",\"Apple\",\"Apple\",\"Apple\",\"Apple\",\"Apple\",\"Apple\",\"Apple\",\"Apple\",\"Apple\",\"Apple\",\"Apple\",\"Apple\",\"Apple\",\"Apple\",\"Apple\",\"Apple\",\"Apple\",\"Apple\",\"Apple\",\"Apple\",\"Apple\",\"Apple\",\"Apple\",\"Apple\",\"Apple\",\"Apple\",\"Apple\",\"Apple\",\"Apple\",\"Apple\",\"Apple\",\"Apple\",\"Apple\",\"Apple\",\"Apple\",\"Apple\",\"Apple\",\"Apple\",\"Apple\",\"Orange\",\"Orange\",\"Orange\",\"Orange\",\"Orange\",\"Orange\",\"Orange\",\"Orange\",\"Orange\",\"Orange\",\"Orange\",\"Orange\",\"Orange\",\"Orange\",\"Orange\",\"Orange\",\"Orange\",\"Orange\",\"Orange\",\"Orange\",\"Orange\",\"Orange\",\"Orange\",\"Orange\",\"Orange\",\"Orange\",\"Orange\",\"Orange\",\"Orange\",\"Orange\",\"Orange\",\"Orange\",\"Orange\",\"Orange\",\"Orange\",\"Orange\",\"Orange\",\"Orange\",\"Orange\",\"Orange\",\"Orange\",\"Orange\",\"Orange\",\"Orange\",\"Orange\",\"Orange\",\"Orange\",\"Orange\",\"Orange\",\"Orange\",\"Orange\",\"Orange\",\"Orange\",\"Orange\",\"Orange\",\"Orange\",\"Orange\",\"Orange\",\"Orange\",\"Orange\",\"Orange\",\"Orange\",\"Orange\",\"Orange\",\"Orange\",\"Orange\",\"Orange\",\"Orange\",\"Orange\",\"Orange\",\"Orange\",\"Orange\",\"Orange\",\"Orange\",\"Orange\",\"Orange\",\"Orange\",\"Orange\",\"Orange\",\"Orange\",\"Orange\",\"Orange\",\"Orange\",\"Orange\",\"Orange\",\"Orange\",\"Orange\",\"Orange\",\"Orange\",\"Orange\",\"Orange\",\"Orange\",\"Orange\",\"Orange\",\"Orange\",\"Orange\",\"Orange\",\"Orange\",\"Orange\",\"Orange\",\"Papaya\",\"Papaya\",\"Papaya\",\"Papaya\",\"Papaya\",\"Papaya\",\"Papaya\",\"Papaya\",\"Papaya\",\"Papaya\",\"Papaya\",\"Papaya\",\"Papaya\",\"Papaya\",\"Papaya\",\"Papaya\",\"Papaya\",\"Papaya\",\"Papaya\",\"Papaya\",\"Papaya\",\"Papaya\",\"Papaya\",\"Papaya\",\"Papaya\",\"Papaya\",\"Papaya\",\"Papaya\",\"Papaya\",\"Papaya\",\"Papaya\",\"Papaya\",\"Papaya\",\"Papaya\",\"Papaya\",\"Papaya\",\"Papaya\",\"Papaya\",\"Papaya\",\"Papaya\",\"Papaya\",\"Papaya\",\"Papaya\",\"Papaya\",\"Papaya\",\"Papaya\",\"Papaya\",\"Papaya\",\"Papaya\",\"Papaya\",\"Papaya\",\"Papaya\",\"Papaya\",\"Papaya\",\"Papaya\",\"Papaya\",\"Papaya\",\"Papaya\",\"Papaya\",\"Papaya\",\"Papaya\",\"Papaya\",\"Papaya\",\"Papaya\",\"Papaya\",\"Papaya\",\"Papaya\",\"Papaya\",\"Papaya\",\"Papaya\",\"Papaya\",\"Papaya\",\"Papaya\",\"Papaya\",\"Papaya\",\"Papaya\",\"Papaya\",\"Papaya\",\"Papaya\",\"Papaya\",\"Papaya\",\"Papaya\",\"Papaya\",\"Papaya\",\"Papaya\",\"Papaya\",\"Papaya\",\"Papaya\",\"Papaya\",\"Papaya\",\"Papaya\",\"Papaya\",\"Papaya\",\"Papaya\",\"Papaya\",\"Papaya\",\"Papaya\",\"Papaya\",\"Papaya\",\"Papaya\",\"Coconut\",\"Coconut\",\"Coconut\",\"Coconut\",\"Coconut\",\"Coconut\",\"Coconut\",\"Coconut\",\"Coconut\",\"Coconut\",\"Coconut\",\"Coconut\",\"Coconut\",\"Coconut\",\"Coconut\",\"Coconut\",\"Coconut\",\"Coconut\",\"Coconut\",\"Coconut\",\"Coconut\",\"Coconut\",\"Coconut\",\"Coconut\",\"Coconut\",\"Coconut\",\"Coconut\",\"Coconut\",\"Coconut\",\"Coconut\",\"Coconut\",\"Coconut\",\"Coconut\",\"Coconut\",\"Coconut\",\"Coconut\",\"Coconut\",\"Coconut\",\"Coconut\",\"Coconut\",\"Coconut\",\"Coconut\",\"Coconut\",\"Coconut\",\"Coconut\",\"Coconut\",\"Coconut\",\"Coconut\",\"Coconut\",\"Coconut\",\"Coconut\",\"Coconut\",\"Coconut\",\"Coconut\",\"Coconut\",\"Coconut\",\"Coconut\",\"Coconut\",\"Coconut\",\"Coconut\",\"Coconut\",\"Coconut\",\"Coconut\",\"Coconut\",\"Coconut\",\"Coconut\",\"Coconut\",\"Coconut\",\"Coconut\",\"Coconut\",\"Coconut\",\"Coconut\",\"Coconut\",\"Coconut\",\"Coconut\",\"Coconut\",\"Coconut\",\"Coconut\",\"Coconut\",\"Coconut\",\"Coconut\",\"Coconut\",\"Coconut\",\"Coconut\",\"Coconut\",\"Coconut\",\"Coconut\",\"Coconut\",\"Coconut\",\"Coconut\",\"Coconut\",\"Coconut\",\"Coconut\",\"Coconut\",\"Coconut\",\"Coconut\",\"Coconut\",\"Coconut\",\"Coconut\",\"Coconut\",\"Cotton\",\"Cotton\",\"Cotton\",\"Cotton\",\"Cotton\",\"Cotton\",\"Cotton\",\"Cotton\",\"Cotton\",\"Cotton\",\"Cotton\",\"Cotton\",\"Cotton\",\"Cotton\",\"Cotton\",\"Cotton\",\"Cotton\",\"Cotton\",\"Cotton\",\"Cotton\",\"Cotton\",\"Cotton\",\"Cotton\",\"Cotton\",\"Cotton\",\"Cotton\",\"Cotton\",\"Cotton\",\"Cotton\",\"Cotton\",\"Cotton\",\"Cotton\",\"Cotton\",\"Cotton\",\"Cotton\",\"Cotton\",\"Cotton\",\"Cotton\",\"Cotton\",\"Cotton\",\"Cotton\",\"Cotton\",\"Cotton\",\"Cotton\",\"Cotton\",\"Cotton\",\"Cotton\",\"Cotton\",\"Cotton\",\"Cotton\",\"Cotton\",\"Cotton\",\"Cotton\",\"Cotton\",\"Cotton\",\"Cotton\",\"Cotton\",\"Cotton\",\"Cotton\",\"Cotton\",\"Cotton\",\"Cotton\",\"Cotton\",\"Cotton\",\"Cotton\",\"Cotton\",\"Cotton\",\"Cotton\",\"Cotton\",\"Cotton\",\"Cotton\",\"Cotton\",\"Cotton\",\"Cotton\",\"Cotton\",\"Cotton\",\"Cotton\",\"Cotton\",\"Cotton\",\"Cotton\",\"Cotton\",\"Cotton\",\"Cotton\",\"Cotton\",\"Cotton\",\"Cotton\",\"Cotton\",\"Cotton\",\"Cotton\",\"Cotton\",\"Cotton\",\"Cotton\",\"Cotton\",\"Cotton\",\"Cotton\",\"Cotton\",\"Cotton\",\"Cotton\",\"Cotton\",\"Cotton\",\"Jute\",\"Jute\",\"Jute\",\"Jute\",\"Jute\",\"Jute\",\"Jute\",\"Jute\",\"Jute\",\"Jute\",\"Jute\",\"Jute\",\"Jute\",\"Jute\",\"Jute\",\"Jute\",\"Jute\",\"Jute\",\"Jute\",\"Jute\",\"Jute\",\"Jute\",\"Jute\",\"Jute\",\"Jute\",\"Jute\",\"Jute\",\"Jute\",\"Jute\",\"Jute\",\"Jute\",\"Jute\",\"Jute\",\"Jute\",\"Jute\",\"Jute\",\"Jute\",\"Jute\",\"Jute\",\"Jute\",\"Jute\",\"Jute\",\"Jute\",\"Jute\",\"Jute\",\"Jute\",\"Jute\",\"Jute\",\"Jute\",\"Jute\",\"Jute\",\"Jute\",\"Jute\",\"Jute\",\"Jute\",\"Jute\",\"Jute\",\"Jute\",\"Jute\",\"Jute\",\"Jute\",\"Jute\",\"Jute\",\"Jute\",\"Jute\",\"Jute\",\"Jute\",\"Jute\",\"Jute\",\"Jute\",\"Jute\",\"Jute\",\"Jute\",\"Jute\",\"Jute\",\"Jute\",\"Jute\",\"Jute\",\"Jute\",\"Jute\",\"Jute\",\"Jute\",\"Jute\",\"Jute\",\"Jute\",\"Jute\",\"Jute\",\"Jute\",\"Jute\",\"Jute\",\"Jute\",\"Jute\",\"Jute\",\"Jute\",\"Jute\",\"Jute\",\"Jute\",\"Jute\",\"Jute\",\"Jute\",\"Coffee\",\"Coffee\",\"Coffee\",\"Coffee\",\"Coffee\",\"Coffee\",\"Coffee\",\"Coffee\",\"Coffee\",\"Coffee\",\"Coffee\",\"Coffee\",\"Coffee\",\"Coffee\",\"Coffee\",\"Coffee\",\"Coffee\",\"Coffee\",\"Coffee\",\"Coffee\",\"Coffee\",\"Coffee\",\"Coffee\",\"Coffee\",\"Coffee\",\"Coffee\",\"Coffee\",\"Coffee\",\"Coffee\",\"Coffee\",\"Coffee\",\"Coffee\",\"Coffee\",\"Coffee\",\"Coffee\",\"Coffee\",\"Coffee\",\"Coffee\",\"Coffee\",\"Coffee\",\"Coffee\",\"Coffee\",\"Coffee\",\"Coffee\",\"Coffee\",\"Coffee\",\"Coffee\",\"Coffee\",\"Coffee\",\"Coffee\",\"Coffee\",\"Coffee\",\"Coffee\",\"Coffee\",\"Coffee\",\"Coffee\",\"Coffee\",\"Coffee\",\"Coffee\",\"Coffee\",\"Coffee\",\"Coffee\",\"Coffee\",\"Coffee\",\"Coffee\",\"Coffee\",\"Coffee\",\"Coffee\",\"Coffee\",\"Coffee\",\"Coffee\",\"Coffee\",\"Coffee\",\"Coffee\",\"Coffee\",\"Coffee\",\"Coffee\",\"Coffee\",\"Coffee\",\"Coffee\",\"Coffee\",\"Coffee\",\"Coffee\",\"Coffee\",\"Coffee\",\"Coffee\",\"Coffee\",\"Coffee\",\"Coffee\",\"Coffee\",\"Coffee\",\"Coffee\",\"Coffee\",\"Coffee\",\"Coffee\",\"Coffee\",\"Coffee\",\"Coffee\",\"Coffee\",\"Coffee\"],\"legendgroup\":\"\",\"name\":\"\",\"showlegend\":true,\"type\":\"pie\"}],                        {\"template\":{\"data\":{\"histogram2dcontour\":[{\"type\":\"histogram2dcontour\",\"colorbar\":{\"outlinewidth\":0,\"ticks\":\"\"},\"colorscale\":[[0.0,\"#0d0887\"],[0.1111111111111111,\"#46039f\"],[0.2222222222222222,\"#7201a8\"],[0.3333333333333333,\"#9c179e\"],[0.4444444444444444,\"#bd3786\"],[0.5555555555555556,\"#d8576b\"],[0.6666666666666666,\"#ed7953\"],[0.7777777777777778,\"#fb9f3a\"],[0.8888888888888888,\"#fdca26\"],[1.0,\"#f0f921\"]]}],\"choropleth\":[{\"type\":\"choropleth\",\"colorbar\":{\"outlinewidth\":0,\"ticks\":\"\"}}],\"histogram2d\":[{\"type\":\"histogram2d\",\"colorbar\":{\"outlinewidth\":0,\"ticks\":\"\"},\"colorscale\":[[0.0,\"#0d0887\"],[0.1111111111111111,\"#46039f\"],[0.2222222222222222,\"#7201a8\"],[0.3333333333333333,\"#9c179e\"],[0.4444444444444444,\"#bd3786\"],[0.5555555555555556,\"#d8576b\"],[0.6666666666666666,\"#ed7953\"],[0.7777777777777778,\"#fb9f3a\"],[0.8888888888888888,\"#fdca26\"],[1.0,\"#f0f921\"]]}],\"heatmap\":[{\"type\":\"heatmap\",\"colorbar\":{\"outlinewidth\":0,\"ticks\":\"\"},\"colorscale\":[[0.0,\"#0d0887\"],[0.1111111111111111,\"#46039f\"],[0.2222222222222222,\"#7201a8\"],[0.3333333333333333,\"#9c179e\"],[0.4444444444444444,\"#bd3786\"],[0.5555555555555556,\"#d8576b\"],[0.6666666666666666,\"#ed7953\"],[0.7777777777777778,\"#fb9f3a\"],[0.8888888888888888,\"#fdca26\"],[1.0,\"#f0f921\"]]}],\"heatmapgl\":[{\"type\":\"heatmapgl\",\"colorbar\":{\"outlinewidth\":0,\"ticks\":\"\"},\"colorscale\":[[0.0,\"#0d0887\"],[0.1111111111111111,\"#46039f\"],[0.2222222222222222,\"#7201a8\"],[0.3333333333333333,\"#9c179e\"],[0.4444444444444444,\"#bd3786\"],[0.5555555555555556,\"#d8576b\"],[0.6666666666666666,\"#ed7953\"],[0.7777777777777778,\"#fb9f3a\"],[0.8888888888888888,\"#fdca26\"],[1.0,\"#f0f921\"]]}],\"contourcarpet\":[{\"type\":\"contourcarpet\",\"colorbar\":{\"outlinewidth\":0,\"ticks\":\"\"}}],\"contour\":[{\"type\":\"contour\",\"colorbar\":{\"outlinewidth\":0,\"ticks\":\"\"},\"colorscale\":[[0.0,\"#0d0887\"],[0.1111111111111111,\"#46039f\"],[0.2222222222222222,\"#7201a8\"],[0.3333333333333333,\"#9c179e\"],[0.4444444444444444,\"#bd3786\"],[0.5555555555555556,\"#d8576b\"],[0.6666666666666666,\"#ed7953\"],[0.7777777777777778,\"#fb9f3a\"],[0.8888888888888888,\"#fdca26\"],[1.0,\"#f0f921\"]]}],\"surface\":[{\"type\":\"surface\",\"colorbar\":{\"outlinewidth\":0,\"ticks\":\"\"},\"colorscale\":[[0.0,\"#0d0887\"],[0.1111111111111111,\"#46039f\"],[0.2222222222222222,\"#7201a8\"],[0.3333333333333333,\"#9c179e\"],[0.4444444444444444,\"#bd3786\"],[0.5555555555555556,\"#d8576b\"],[0.6666666666666666,\"#ed7953\"],[0.7777777777777778,\"#fb9f3a\"],[0.8888888888888888,\"#fdca26\"],[1.0,\"#f0f921\"]]}],\"mesh3d\":[{\"type\":\"mesh3d\",\"colorbar\":{\"outlinewidth\":0,\"ticks\":\"\"}}],\"scatter\":[{\"fillpattern\":{\"fillmode\":\"overlay\",\"size\":10,\"solidity\":0.2},\"type\":\"scatter\"}],\"parcoords\":[{\"type\":\"parcoords\",\"line\":{\"colorbar\":{\"outlinewidth\":0,\"ticks\":\"\"}}}],\"scatterpolargl\":[{\"type\":\"scatterpolargl\",\"marker\":{\"colorbar\":{\"outlinewidth\":0,\"ticks\":\"\"}}}],\"bar\":[{\"error_x\":{\"color\":\"#2a3f5f\"},\"error_y\":{\"color\":\"#2a3f5f\"},\"marker\":{\"line\":{\"color\":\"#E5ECF6\",\"width\":0.5},\"pattern\":{\"fillmode\":\"overlay\",\"size\":10,\"solidity\":0.2}},\"type\":\"bar\"}],\"scattergeo\":[{\"type\":\"scattergeo\",\"marker\":{\"colorbar\":{\"outlinewidth\":0,\"ticks\":\"\"}}}],\"scatterpolar\":[{\"type\":\"scatterpolar\",\"marker\":{\"colorbar\":{\"outlinewidth\":0,\"ticks\":\"\"}}}],\"histogram\":[{\"marker\":{\"pattern\":{\"fillmode\":\"overlay\",\"size\":10,\"solidity\":0.2}},\"type\":\"histogram\"}],\"scattergl\":[{\"type\":\"scattergl\",\"marker\":{\"colorbar\":{\"outlinewidth\":0,\"ticks\":\"\"}}}],\"scatter3d\":[{\"type\":\"scatter3d\",\"line\":{\"colorbar\":{\"outlinewidth\":0,\"ticks\":\"\"}},\"marker\":{\"colorbar\":{\"outlinewidth\":0,\"ticks\":\"\"}}}],\"scattermapbox\":[{\"type\":\"scattermapbox\",\"marker\":{\"colorbar\":{\"outlinewidth\":0,\"ticks\":\"\"}}}],\"scatterternary\":[{\"type\":\"scatterternary\",\"marker\":{\"colorbar\":{\"outlinewidth\":0,\"ticks\":\"\"}}}],\"scattercarpet\":[{\"type\":\"scattercarpet\",\"marker\":{\"colorbar\":{\"outlinewidth\":0,\"ticks\":\"\"}}}],\"carpet\":[{\"aaxis\":{\"endlinecolor\":\"#2a3f5f\",\"gridcolor\":\"white\",\"linecolor\":\"white\",\"minorgridcolor\":\"white\",\"startlinecolor\":\"#2a3f5f\"},\"baxis\":{\"endlinecolor\":\"#2a3f5f\",\"gridcolor\":\"white\",\"linecolor\":\"white\",\"minorgridcolor\":\"white\",\"startlinecolor\":\"#2a3f5f\"},\"type\":\"carpet\"}],\"table\":[{\"cells\":{\"fill\":{\"color\":\"#EBF0F8\"},\"line\":{\"color\":\"white\"}},\"header\":{\"fill\":{\"color\":\"#C8D4E3\"},\"line\":{\"color\":\"white\"}},\"type\":\"table\"}],\"barpolar\":[{\"marker\":{\"line\":{\"color\":\"#E5ECF6\",\"width\":0.5},\"pattern\":{\"fillmode\":\"overlay\",\"size\":10,\"solidity\":0.2}},\"type\":\"barpolar\"}],\"pie\":[{\"automargin\":true,\"type\":\"pie\"}]},\"layout\":{\"autotypenumbers\":\"strict\",\"colorway\":[\"#636efa\",\"#EF553B\",\"#00cc96\",\"#ab63fa\",\"#FFA15A\",\"#19d3f3\",\"#FF6692\",\"#B6E880\",\"#FF97FF\",\"#FECB52\"],\"font\":{\"color\":\"#2a3f5f\"},\"hovermode\":\"closest\",\"hoverlabel\":{\"align\":\"left\"},\"paper_bgcolor\":\"white\",\"plot_bgcolor\":\"#E5ECF6\",\"polar\":{\"bgcolor\":\"#E5ECF6\",\"angularaxis\":{\"gridcolor\":\"white\",\"linecolor\":\"white\",\"ticks\":\"\"},\"radialaxis\":{\"gridcolor\":\"white\",\"linecolor\":\"white\",\"ticks\":\"\"}},\"ternary\":{\"bgcolor\":\"#E5ECF6\",\"aaxis\":{\"gridcolor\":\"white\",\"linecolor\":\"white\",\"ticks\":\"\"},\"baxis\":{\"gridcolor\":\"white\",\"linecolor\":\"white\",\"ticks\":\"\"},\"caxis\":{\"gridcolor\":\"white\",\"linecolor\":\"white\",\"ticks\":\"\"}},\"coloraxis\":{\"colorbar\":{\"outlinewidth\":0,\"ticks\":\"\"}},\"colorscale\":{\"sequential\":[[0.0,\"#0d0887\"],[0.1111111111111111,\"#46039f\"],[0.2222222222222222,\"#7201a8\"],[0.3333333333333333,\"#9c179e\"],[0.4444444444444444,\"#bd3786\"],[0.5555555555555556,\"#d8576b\"],[0.6666666666666666,\"#ed7953\"],[0.7777777777777778,\"#fb9f3a\"],[0.8888888888888888,\"#fdca26\"],[1.0,\"#f0f921\"]],\"sequentialminus\":[[0.0,\"#0d0887\"],[0.1111111111111111,\"#46039f\"],[0.2222222222222222,\"#7201a8\"],[0.3333333333333333,\"#9c179e\"],[0.4444444444444444,\"#bd3786\"],[0.5555555555555556,\"#d8576b\"],[0.6666666666666666,\"#ed7953\"],[0.7777777777777778,\"#fb9f3a\"],[0.8888888888888888,\"#fdca26\"],[1.0,\"#f0f921\"]],\"diverging\":[[0,\"#8e0152\"],[0.1,\"#c51b7d\"],[0.2,\"#de77ae\"],[0.3,\"#f1b6da\"],[0.4,\"#fde0ef\"],[0.5,\"#f7f7f7\"],[0.6,\"#e6f5d0\"],[0.7,\"#b8e186\"],[0.8,\"#7fbc41\"],[0.9,\"#4d9221\"],[1,\"#276419\"]]},\"xaxis\":{\"gridcolor\":\"white\",\"linecolor\":\"white\",\"ticks\":\"\",\"title\":{\"standoff\":15},\"zerolinecolor\":\"white\",\"automargin\":true,\"zerolinewidth\":2},\"yaxis\":{\"gridcolor\":\"white\",\"linecolor\":\"white\",\"ticks\":\"\",\"title\":{\"standoff\":15},\"zerolinecolor\":\"white\",\"automargin\":true,\"zerolinewidth\":2},\"scene\":{\"xaxis\":{\"backgroundcolor\":\"#E5ECF6\",\"gridcolor\":\"white\",\"linecolor\":\"white\",\"showbackground\":true,\"ticks\":\"\",\"zerolinecolor\":\"white\",\"gridwidth\":2},\"yaxis\":{\"backgroundcolor\":\"#E5ECF6\",\"gridcolor\":\"white\",\"linecolor\":\"white\",\"showbackground\":true,\"ticks\":\"\",\"zerolinecolor\":\"white\",\"gridwidth\":2},\"zaxis\":{\"backgroundcolor\":\"#E5ECF6\",\"gridcolor\":\"white\",\"linecolor\":\"white\",\"showbackground\":true,\"ticks\":\"\",\"zerolinecolor\":\"white\",\"gridwidth\":2}},\"shapedefaults\":{\"line\":{\"color\":\"#2a3f5f\"}},\"annotationdefaults\":{\"arrowcolor\":\"#2a3f5f\",\"arrowhead\":0,\"arrowwidth\":1},\"geo\":{\"bgcolor\":\"white\",\"landcolor\":\"#E5ECF6\",\"subunitcolor\":\"white\",\"showland\":true,\"showlakes\":true,\"lakecolor\":\"white\"},\"title\":{\"x\":0.05},\"mapbox\":{\"style\":\"light\"}}},\"legend\":{\"tracegroupgap\":0},\"title\":{\"text\":\"Crop Distribution\"}},                        {\"responsive\": true}                    ).then(function(){\n",
       "                            \n",
       "var gd = document.getElementById('81be4912-1a9b-428a-a3cd-d844be131587');\n",
       "var x = new MutationObserver(function (mutations, observer) {{\n",
       "        var display = window.getComputedStyle(gd).display;\n",
       "        if (!display || display === 'none') {{\n",
       "            console.log([gd, 'removed!']);\n",
       "            Plotly.purge(gd);\n",
       "            observer.disconnect();\n",
       "        }}\n",
       "}});\n",
       "\n",
       "// Listen for the removal of the full notebook cells\n",
       "var notebookContainer = gd.closest('#notebook-container');\n",
       "if (notebookContainer) {{\n",
       "    x.observe(notebookContainer, {childList: true});\n",
       "}}\n",
       "\n",
       "// Listen for the clearing of the current output cell\n",
       "var outputEl = gd.closest('.output');\n",
       "if (outputEl) {{\n",
       "    x.observe(outputEl, {childList: true});\n",
       "}}\n",
       "\n",
       "                        })                };                });            </script>        </div>"
      ]
     },
     "metadata": {},
     "output_type": "display_data"
    }
   ],
   "source": [
    "pie_fig = px.pie(df, names='Crop', title='Crop Distribution')\n",
    "pie_fig.show()"
   ]
  },
  {
   "cell_type": "code",
   "execution_count": 16,
   "id": "db2bffec",
   "metadata": {
    "execution": {
     "iopub.execute_input": "2024-10-14T15:08:29.977214Z",
     "iopub.status.busy": "2024-10-14T15:08:29.976755Z",
     "iopub.status.idle": "2024-10-14T15:08:30.223439Z",
     "shell.execute_reply": "2024-10-14T15:08:30.222117Z"
    },
    "papermill": {
     "duration": 0.273137,
     "end_time": "2024-10-14T15:08:30.227297",
     "exception": false,
     "start_time": "2024-10-14T15:08:29.954160",
     "status": "completed"
    },
    "tags": []
   },
   "outputs": [
    {
     "name": "stderr",
     "output_type": "stream",
     "text": [
      "/opt/conda/lib/python3.10/site-packages/plotly/express/_core.py:2065: FutureWarning:\n",
      "\n",
      "When grouping with a length-1 list-like, you will need to pass a length-1 tuple to get_group in a future version of pandas. Pass `(name,)` instead of `name` to silence this warning.\n",
      "\n"
     ]
    },
    {
     "data": {
      "text/html": [
       "<div>                            <div id=\"d1d1e706-0bb7-4310-8432-19c5f38ec7da\" class=\"plotly-graph-div\" style=\"height:525px; width:100%;\"></div>            <script type=\"text/javascript\">                require([\"plotly\"], function(Plotly) {                    window.PLOTLYENV=window.PLOTLYENV || {};                                    if (document.getElementById(\"d1d1e706-0bb7-4310-8432-19c5f38ec7da\")) {                    Plotly.newPlot(                        \"d1d1e706-0bb7-4310-8432-19c5f38ec7da\",                        [{\"hovertemplate\":\"Crop=Rice\\u003cbr\\u003eRainfall=%{x}\\u003cbr\\u003eTemperature=%{y}\\u003cextra\\u003e\\u003c\\u002fextra\\u003e\",\"legendgroup\":\"Rice\",\"marker\":{\"color\":\"#636efa\",\"symbol\":\"circle\"},\"mode\":\"markers\",\"name\":\"Rice\",\"showlegend\":true,\"x\":[202.9355362,226.6555374,263.9642476,242.8640342,262.7173405,251.0549998,271.3248604,241.9741949,230.4462359,221.2091958,264.6148697,250.0832336,284.4364567,185.2773389,209.5869708,231.0863347,276.6552459,206.2611855,224.5550169,291.2986618,185.4974732,231.3843163,213.3560921,233.1075816,224.0581164,257.0038865,271.3586137,260.2634026,240.0810647,197.9791215,272.2017204,200.0882787,224.6757231,270.4417274,233.1321372,193.3473987,272.2999056,285.2493645,298.4018471,257.0343554,248.7183228,209.9001977,200.834898,298.5601175,265.5355937,183.6793207,196.9560008,233.0453455,210.8142087,253.7202781,219.9048349,208.5810155,195.0948311,227.3637009,286.5083725,283.9338466,217.3788583,267.9761948,191.9535738,277.9626192,245.1511304,245.6626799,279.5451717,202.3838319,263.6372176,182.5616319,198.6730942,243.5120414,263.1103304,269.5039162,204.8001847,260.8875056,295.6094492,192.3197536,257.4914906,278.0791793,280.4044392,185.9461429,194.5766559,200.9133156,182.9043504,195.3574542,223.3671883,186.7536773,220.1156708,231.7364957,242.3170629,182.6549356,233.7034975,230.2242223,290.6793783,241.2013513,218.9163567,248.2256491,256.9964761,194.2651719,295.9248796,287.5766935,183.6222657,188.413665],\"xaxis\":\"x\",\"y\":[20.87974371,21.77046169,23.00445915,26.49109635,20.13017482,23.05804872,22.70883798,20.27774362,24.51588066,23.22397386,26.52723513,23.97898217,26.80079604,24.01497622,25.66585205,24.28209415,21.58711777,23.79391957,21.8652524,23.57943626,21.32504158,25.15745531,21.94766735,21.0525355,23.48381344,25.0756354,26.35927159,24.52922681,20.77576147,22.30157427,21.44653958,22.17931888,24.52783742,20.26707606,25.7354293,26.79533926,26.75754171,23.86330467,21.01944696,24.17298839,22.78133816,25.62980105,25.59704938,23.83067496,26.31355498,24.8972823,24.958779,23.24113501,21.66628296,24.63544858,23.43121862,20.0454142,23.85724032,21.97199397,26.22916897,23.44676801,25.65553461,24.44345477,20.2801937,21.7238313,20.41447029,25.75528612,20.61521424,21.84106875,20.08369642,24.45802087,21.14347496,25.78720567,23.64124821,23.43191632,24.97669518,22.72791041,24.87300744,21.32376327,26.29465461,22.2286982,26.73072391,24.88921174,26.88444878,22.67846116,26.08867875,25.42977518,26.40323239,26.04371967,25.2827223,22.08576562,23.28617173,25.48591986,23.67575393,20.82477109,26.92995077,23.83509503,26.52872817,26.46428311,22.69657794,22.68319059,21.53346343,21.40865769,26.54348085,23.35905428],\"yaxis\":\"y\",\"type\":\"scattergl\"},{\"hovertemplate\":\"Crop=Maize\\u003cbr\\u003eRainfall=%{x}\\u003cbr\\u003eTemperature=%{y}\\u003cextra\\u003e\\u003c\\u002fextra\\u003e\",\"legendgroup\":\"Maize\",\"marker\":{\"color\":\"#EF553B\",\"symbol\":\"circle\"},\"mode\":\"markers\",\"name\":\"Maize\",\"showlegend\":true,\"x\":[87.75953857,102.2662445,66.71995467,60.65171481,65.43835393,102.0861694,105.4654703,78.06639649,65.27798457,109.2162279,94.29712821,74.05474936,63.87020584,94.76189431,72.12375573,63.72358154,104.1626147,76.68456006,65.49730729,84.23613484,79.74078719,88.07753741,80.97573281,79.7532896,74.51490791,96.46380213,102.8301942,102.4852929,70.43473609,108.8303762,65.88951188,90.988051,64.40866039,63.03843397,87.9298085,107.4931917,60.95197486,109.7515385,91.76337172,94.26249353,71.07562236,76.72860067,69.21803098,101.7004306,106.6213157,66.29390357,91.26056654,109.024141,99.57981207,71.3195307,78.34604471,88.45361858,62.50351892,76.41312437,107.3198135,100.7689246,107.2681929,101.5952794,80.72515943,83.73280082,89.9622014,88.10234397,64.77791424,73.33636055,83.21030571,103.651438,84.22969177,96.59195302,67.96704792,83.20711308,87.85092352,95.71388473,67.61013737,97.59081274,64.23845455,75.82270467,88.17251033,104.2321615,67.10225139,67.72777298,103.2234212,107.2361366,75.03247667,78.16077693,105.0083144,62.49190812,107.9124111,74.52082026,62.91359494,69.93293255,108.5054416,78.96159541,79.84925393,93.62039175,85.75692395,82.34162918,108.7603001,70.23401597,65.50861389,98.73771338],\"xaxis\":\"x\",\"y\":[22.61359953,26.10018422,23.55882094,19.97215954,18.47891261,21.77689322,25.6217169,25.19192419,20.41683147,24.92162194,23.31689124,24.84016732,22.27526694,18.87751445,25.19008683,18.25405352,24.6129118,25.1420613,23.09348056,18.05033737,24.9321581,18.14710054,18.28362235,18.83344471,25.71895816,25.33797709,23.89114571,21.53574127,23.08974909,25.61707368,21.44526922,18.51816776,22.53510514,23.02038334,24.89364635,25.77175115,19.39851734,21.54156232,23.79746068,18.9802729,24.10859207,24.7947077,21.63162756,25.37548751,22.21738222,20.58314011,24.87502824,20.03728219,25.95263264,19.28889933,20.57981887,24.71417533,20.27317074,18.41932981,23.39128187,19.84939404,21.869274,22.8056033,19.0781471,22.02720976,23.80546189,18.52510753,23.50297882,26.54986394,19.29563411,20.68899915,19.32666088,24.60532218,22.27373646,25.70196694,19.20129357,21.70181447,20.51716779,23.30355338,24.2547451,24.86374934,22.6265115,18.04185513,23.26237612,22.88330922,25.97482359,26.14384005,18.66116213,25.10787449,23.33844615,25.08239719,25.36768364,25.34217103,25.00933355,18.66746724,20.37999665,18.09300227,26.16985907,18.65396672,26.07470121,18.92851916,23.30546753,18.74826712,19.74213321,25.73044432],\"yaxis\":\"y\",\"type\":\"scattergl\"},{\"hovertemplate\":\"Crop=ChickPea\\u003cbr\\u003eRainfall=%{x}\\u003cbr\\u003eTemperature=%{y}\\u003cextra\\u003e\\u003c\\u002fextra\\u003e\",\"legendgroup\":\"ChickPea\",\"marker\":{\"color\":\"#00cc96\",\"symbol\":\"circle\"},\"mode\":\"markers\",\"name\":\"ChickPea\",\"showlegend\":true,\"x\":[88.55123143,79.92698081,68.54932919,88.51048983,79.26357665,92.68373702,74.6631118,82.61734721,81.84997529,81.98568791,93.55280105,74.58565097,78.96514709,80.7108745,70.18185181,71.58010169,73.50734019,82.52339655,66.96980581,90.46228334,71.31007253,85.74904898,89.31050665,85.52950164,72.94940441,72.32667516,74.87445574,94.70992037,83.74606679,78.92060234,83.75937135,76.57580954,91.76071648,76.32470713,89.73119396,93.35034262,81.20176515,81.70769297,83.74879344,77.5429424,77.92798682,82.2545577,70.52056697,72.78624223,85.24819851,85.37378769,75.6317566,89.61857826,75.49101167,86.05078037,80.25064637,78.26039559,75.57790384,72.9446671,90.7760707,77.81891424,78.06910795,85.57925437,69.40619137,76.32565249,80.6405403,80.1113384,91.94595352,87.51312796,94.00287214,88.4585692,84.78344008,68.97806542,88.68168643,65.23811143,65.78042032,74.63872762,82.69766829,69.64449182,87.27444866,70.87150577,92.06630306,79.20509212,68.81405149,72.85017344,79.45758333,65.11365631,80.4986291,73.64476535,81.5284269,88.6810311,68.4951189,78.44910564,77.33795356,94.78189594,94.03659867,78.69707199,69.15759062,90.82097601,76.77888672,67.9545435,73.0926704,69.09512477,89.60982451,81.78710463],\"xaxis\":\"x\",\"y\":[17.02498456,19.02061277,17.88776475,18.86805647,18.36952567,20.45078582,20.6543203,17.3348681,18.17912258,18.01272266,20.99373558,19.46233971,19.81344531,18.97424756,18.19737048,18.72963144,20.99502153,20.28155898,17.48042641,20.88818675,17.08498521,20.09340593,17.57212145,19.12065218,18.57665902,17.16606398,18.2872007,19.03025305,17.1418614,17.47809436,20.56601874,17.22385224,19.69141713,17.84851658,18.8202251,17.47500984,18.72649425,18.65580107,18.2356751,18.81198127,18.65054116,20.36720401,18.38120357,17.17012591,19.37101121,17.92845928,19.45339934,19.12829388,19.1034283,17.48504075,19.40751744,20.18649426,17.30287885,17.50361137,18.17234999,17.57445618,20.93175255,19.71098332,19.07937684,18.54988627,18.19903647,18.88852533,18.49311205,19.48974337,17.25769499,19.62416326,20.67526473,20.02381489,20.1187446,20.65691793,19.2582557,17.927806,19.16288268,20.26942271,17.09104223,17.06579293,20.62767492,20.8248451,19.46210401,17.18248372,17.48911699,17.48395377,19.48316794,19.71359733,19.48649305,19.95264829,19.41789736,19.45591848,20.19137759,18.8392908,20.71219282,18.99424448,19.96837462,17.81564548,20.71424384,17.34150229,17.43732714,18.89780215,18.59190771,18.31561493],\"yaxis\":\"y\",\"type\":\"scattergl\"},{\"hovertemplate\":\"Crop=KidneyBeans\\u003cbr\\u003eRainfall=%{x}\\u003cbr\\u003eTemperature=%{y}\\u003cextra\\u003e\\u003c\\u002fextra\\u003e\",\"legendgroup\":\"KidneyBeans\",\"marker\":{\"color\":\"#ab63fa\",\"symbol\":\"circle\"},\"mode\":\"markers\",\"name\":\"KidneyBeans\",\"showlegend\":true,\"x\":[128.256862,106.3598183,109.225556,140.3717815,76.64128258,143.0984171,60.91974792,104.7783947,132.9801054,130.0608093,143.7630894,87.99669731,144.1567454,134.3649948,88.06638775,69.63833855,116.5206923,86.21917578,137.1948633,108.3684316,67.71768947,144.7902323,69.44951585,121.9401369,82.68554379,139.7521543,108.3441414,96.77285817,100.6711761,87.0513289,64.19497947,105.4120514,61.13872036,106.158201,139.0302034,122.3886015,129.5650601,120.4509288,95.17028129,96.65888933,87.87869161,138.2362122,120.6913038,107.3850593,108.6434544,109.0193712,95.84253438,60.27552528,100.0497183,125.0972687,113.334026,103.2926407,75.45328039,62.21292186,98.77794225,107.6907964,63.38208822,87.66898664,138.414764,94.9533526,107.7315386,104.6252153,141.6056722,62.7089169,135.3315583,125.084915,107.4137246,63.59276673,146.4727237,119.6404412,126.7265372,134.1811718,135.3378033,100.118612,68.51253427,66.97053257,69.14681022,88.88796102,81.83420522,109.1013261,81.60211243,112.6616435,143.8584938,146.4548645,116.7324324,149.7441028,124.6118471,115.199245,84.64143632,129.3449326,130.3900798,80.15293435,64.02640797,139.2921004,76.14153904,73.36386477,100.5978728,84.06354115,133.1914419,104.2570723],\"xaxis\":\"x\",\"y\":[17.13692774,19.63474332,22.91350245,16.43340342,22.13974653,17.84806561,19.88394011,19.32509638,18.4167001,21.81167649,19.72702528,17.15432954,19.62207826,21.63149148,16.06522754,20.61162204,21.42451099,19.07096165,21.18853178,23.0429097,20.65375833,18.09551014,18.23775702,17.48189735,19.9191786,20.27514686,15.77370214,16.71170642,17.66148158,18.50692825,24.51324787,18.87614998,21.59343016,20.12373284,15.43546065,22.64236876,21.98560799,20.53052663,15.78601387,19.6365349,20.57341244,20.16080524,21.53989176,15.53834801,19.91853092,20.76952209,23.46168338,24.32116642,20.12574053,21.80619564,19.52226241,17.00067625,16.78791503,24.84906168,16.51783455,18.15300153,23.18864385,23.38002569,18.358923,19.25975367,22.95458237,20.120043,21.14011423,24.92360104,15.33042636,18.81097271,23.44260668,22.8352024,24.9035819,23.78709569,22.05592283,18.87492997,18.62328774,23.00884744,19.33162606,16.24469193,17.91652287,15.46789263,17.06104474,21.32776028,23.90910104,23.89756791,22.98666928,21.35135729,24.1638445,24.62835037,21.02213209,17.30844532,23.82576704,19.30607278,16.03768615,19.18572809,19.92889503,19.56376468,18.31357543,20.10993761,23.60506572,19.73136909,20.93409877,18.78226261],\"yaxis\":\"y\",\"type\":\"scattergl\"},{\"hovertemplate\":\"Crop=PigeonPeas\\u003cbr\\u003eRainfall=%{x}\\u003cbr\\u003eTemperature=%{y}\\u003cextra\\u003e\\u003c\\u002fextra\\u003e\",\"legendgroup\":\"PigeonPeas\",\"marker\":{\"color\":\"#FFA15A\",\"symbol\":\"circle\"},\"mode\":\"markers\",\"name\":\"PigeonPeas\",\"showlegend\":true,\"x\":[122.6539694,163.7266551,103.3301803,142.3303677,184.6226709,149.299952,147.0361442,198.8298806,90.05422663,127.7767134,108.6333046,176.6165894,96.36222901,122.0146733,120.7435664,96.51524028,180.382234,107.4721605,161.4812963,121.5639121,194.5921148,179.2155874,192.4372194,114.2821387,139.6483317,132.7748215,186.5008581,157.0858232,139.6702541,177.3377996,94.46748008,161.7820226,108.5090168,150.8712202,168.5948318,197.3752649,91.72084869,180.716828,93.12330644,116.9106908,159.2649827,187.8961851,129.0064612,147.0414824,163.2747473,91.31256412,195.5697875,170.9919828,145.3728801,136.0456753,173.1686574,176.4134092,129.2028653,126.6738117,188.4928637,191.0658531,162.5927723,160.3337447,100.546816,105.0380275,192.3023991,148.2502786,197.1144011,118.3606557,100.4673278,191.0895109,195.787103,182.2688175,159.8938645,141.1250722,100.7791633,175.9303271,139.8710041,189.5208915,137.2279662,134.8596466,174.5723999,101.6073988,153.2504506,177.5764304,91.95792434,162.5931264,155.3705624,165.4113371,180.9009998,136.8274312,159.689339,178.8998611,165.405354,109.1821183,185.2039114,149.063196,180.6465282,96.74706956,124.6028153,198.1403003,172.40168,186.9226052,173.1106982,122.4564203],\"xaxis\":\"x\",\"y\":[36.51268371,36.89163721,29.23540524,27.33534897,21.0643684,30.33276599,31.80130272,33.18184225,29.38538562,30.27374995,35.45790488,33.80020039,28.69180475,31.24021696,28.98039357,27.32198928,21.47607807,18.31910448,36.97794384,24.80467592,19.3479443,28.88302142,19.54314136,24.7741949,18.33124824,19.14729038,28.23416057,30.11812084,33.4126864,24.18553163,26.88630675,31.33170829,33.30711818,23.45379018,34.53823889,19.50112224,28.76794904,30.97758716,18.39759147,35.09357419,34.93174223,29.50523036,34.51934775,28.43430726,18.41645629,31.07508973,20.89342749,30.90607799,27.9348279,35.95176642,19.54317155,19.63736208,31.2192752,33.50876355,24.80710166,36.20970524,30.50420876,26.01630259,31.48469278,33.15122581,23.50222822,34.87248659,28.09269012,24.54757829,33.64769646,20.5591255,19.95991719,28.87667593,36.04353699,23.6734328,25.74679443,31.08564994,18.72987676,29.50304807,20.43517772,36.00415838,31.46846241,36.30049702,29.49096726,30.5753044,24.69487673,23.17409556,19.04380471,29.32379604,34.6455408,21.9989826,22.99774444,30.55992394,31.46417866,25.95058595,21.01142393,19.25100056,19.24462755,22.47253208,36.75087487,29.89286629,29.37735586,29.65052947,19.54284889,20.04611791],\"yaxis\":\"y\",\"type\":\"scattergl\"},{\"hovertemplate\":\"Crop=MothBeans\\u003cbr\\u003eRainfall=%{x}\\u003cbr\\u003eTemperature=%{y}\\u003cextra\\u003e\\u003c\\u002fextra\\u003e\",\"legendgroup\":\"MothBeans\",\"marker\":{\"color\":\"#19d3f3\",\"symbol\":\"circle\"},\"mode\":\"markers\",\"name\":\"MothBeans\",\"showlegend\":true,\"x\":[32.67891866,36.5037914,36.92629678,72.98016599,32.05025323,71.6266696,73.44775287,66.35634104,36.94255012,61.32935611,53.56783314,67.43488235,44.94317432,34.96933295,74.44330654,53.39249517,68.04039813,45.78172762,74.32635105,32.76742894,35.1051197,72.66666443,48.25207759,40.89732789,32.55919573,31.87416982,53.1205277,62.74803826,46.19374559,41.53749535,58.99536268,41.0550915,33.84110759,55.50429227,57.02891698,44.11622138,42.24783476,66.1761456,72.19245835,55.053805,65.07981523,38.48678973,62.20279647,70.79934452,64.16167699,31.83192392,50.28438729,58.27600682,36.99362831,64.25520357,55.60523179,48.46797044,70.4713043,34.03335472,68.54877876,52.0810886,57.04826619,63.77192383,60.74583498,71.1271039,64.53027638,40.85534718,69.66289997,61.86633917,64.58559639,44.13827124,35.73403813,33.95825723,71.90018566,38.34303462,59.18953429,36.91852635,52.13580529,55.21606732,40.82840673,36.01203025,34.7426459,53.78769958,46.0203959,52.92929636,45.43669946,68.80141783,43.87801983,64.56807592,38.31597852,50.1978269,44.86052932,55.51932414,35.37493212,30.92014047,32.71129281,33.48919022,47.95406479,35.03404425,65.67591794,42.44054315,70.10472076,63.9187654,38.53254678,32.81296548],\"xaxis\":\"x\",\"y\":[27.91095209,27.32220619,28.66024187,29.02955344,27.78031515,31.99928579,27.33580911,28.92952635,27.65472156,28.52396666,31.02215872,25.74095321,31.70447482,24.47876451,31.46511256,25.60973447,30.30260453,28.17489437,25.50634557,31.12896766,26.34043268,28.23494706,27.04453473,25.16125354,27.3179125,25.4123765,31.21629982,30.573999,25.42517036,27.09400578,24.30935081,30.06142622,28.09568993,26.33908791,28.61409059,28.70012137,24.21610338,28.50677929,25.97948991,30.88482722,25.5042419,25.12528913,27.10508014,31.1006247,26.45707778,30.04132304,27.77799528,30.99256944,26.4908332,31.96987867,25.36140526,25.54249137,28.99319096,29.34317422,28.63618921,24.83206631,25.44689075,31.01274943,27.06179658,27.0956288,28.56800579,28.79929247,27.94293692,30.47757686,30.58139475,26.85911286,26.31051759,28.77833449,28.90245417,29.37687468,24.17093241,26.65333029,28.19912143,28.76488954,29.3499706,28.00937423,26.85851927,31.2123945,24.20422636,29.98835437,29.93964907,31.2119298,26.80474415,31.49398069,30.99694676,29.61253065,29.97604322,30.88883074,30.39321309,30.43683729,25.32688786,30.53684308,30.38257873,24.01825377,28.69841277,29.33743412,27.96583691,24.86803974,25.87682261,31.01963639],\"yaxis\":\"y\",\"type\":\"scattergl\"},{\"hovertemplate\":\"Crop=MungBean\\u003cbr\\u003eRainfall=%{x}\\u003cbr\\u003eTemperature=%{y}\\u003cextra\\u003e\\u003c\\u002fextra\\u003e\",\"legendgroup\":\"MungBean\",\"marker\":{\"color\":\"#FF6692\",\"symbol\":\"circle\"},\"mode\":\"markers\",\"name\":\"MungBean\",\"showlegend\":true,\"x\":[54.73367631,38.7976407,55.296354,36.35720652,44.75215854,42.99498978,56.48265193,53.01899249,41.82490236,46.75690086,59.87232071,44.64407105,44.01206619,45.91011391,37.54602719,40.77872823,42.83053902,51.52617423,49.11964582,57.65901369,43.1386631,48.54598575,56.76278363,37.31236904,56.51103293,37.01110438,50.47333854,57.79863368,44.56598352,56.68833819,59.87065439,48.48319335,48.56690235,43.80041104,36.94616965,53.43228915,50.49913241,45.04467075,58.37249772,40.12044158,51.09802625,58.86687093,56.04995423,58.41394143,54.96121262,49.61865305,52.84626009,55.03723979,54.62243308,59.03629954,52.93031105,56.52558045,53.15223123,50.46746116,39.23831035,44.17580911,45.48591922,56.09542002,41.39081525,57.99524359,43.15411472,50.91511275,43.78420984,49.50812624,36.45012824,37.45680611,53.79732545,37.44800463,54.7960127,40.53173216,50.9246554,56.01913159,58.18713162,48.9366954,42.02483277,43.05130077,39.26137642,50.01534317,51.53848218,53.35486977,36.12042927,38.14476781,40.16545979,50.66487502,43.95183726,58.29933073,43.25095608,44.47427436,59.84499208,43.4826194,49.4897245,48.30159325,41.013132,43.12063289,44.30070517,58.52974279,43.25726752,37.2464655,56.12443206,52.55469976],\"xaxis\":\"x\",\"y\":[27.43329405,28.3340432,27.01470397,28.17432665,29.87888063,29.89232778,28.56212158,27.53592929,29.68361658,28.14448546,29.53037621,27.88352946,28.22471276,29.008124,29.75538903,29.78416743,27.8640132,27.11026483,27.11030369,28.95451232,29.21780035,28.7420098,29.65021184,27.23924995,28.95172351,28.18837136,28.30041493,27.89636126,28.6899851,27.8262623,28.70562673,28.6362812,28.28511547,27.60887393,28.60901145,29.24598976,28.62911222,29.57329479,27.82684262,29.8757015,27.33684386,29.83040388,28.2753171,29.86860065,29.5888162,28.07219563,27.84026517,27.10818093,27.68515114,29.34594634,28.36319404,27.65280218,27.31372793,27.06909959,28.06642822,27.73329078,27.53632932,29.66461594,29.9145443,28.36363858,29.46416042,29.73013036,27.46852989,27.77076285,29.12939524,27.10606808,28.88078945,28.14720892,29.89129144,27.41503453,29.27308605,29.65296893,28.44524991,27.96235681,29.25649321,28.36291385,27.62749466,28.66086349,29.2114218,29.40889385,28.02952623,28.08657178,29.16174608,29.8596912,29.06631494,27.38538997,27.93034941,29.2808618,28.9973145,27.92678579,28.5474135,29.36488409,28.56149805,28.43683487,28.79728147,28.7275267,27.95639663,28.17458662,28.77653519,28.438097],\"yaxis\":\"y\",\"type\":\"scattergl\"},{\"hovertemplate\":\"Crop=Blackgram\\u003cbr\\u003eRainfall=%{x}\\u003cbr\\u003eTemperature=%{y}\\u003cextra\\u003e\\u003c\\u002fextra\\u003e\",\"legendgroup\":\"Blackgram\",\"marker\":{\"color\":\"#B6E880\",\"symbol\":\"circle\"},\"mode\":\"markers\",\"name\":\"Blackgram\",\"showlegend\":true,\"x\":[71.89090748,67.15096376,70.23207557,73.23573601,72.49507741,62.26242533,66.85510868,68.02199825,73.67166182,73.84949872,69.28607828,64.55882254,67.53021213,66.63830637,70.86340755,67.1367443,68.97097538,69.75555541,71.50569456,61.91208707,74.01229707,74.91559514,71.78615328,63.02473185,61.19250859,65.62859526,63.49726331,65.81655892,70.1415139,74.61649888,65.820457,69.24464096,70.88787207,61.46892873,64.72797143,62.3061735,69.85112265,73.58663968,66.37171179,74.86960831,65.66436565,60.4693835,72.43169115,63.57445989,70.25496749,71.48327008,63.1830529,70.27184748,60.41790253,72.17818157,67.83345933,70.0866434,69.40878198,62.30278274,61.16350463,71.72980375,69.43895491,68.91754359,63.85668948,61.71111448,67.47677295,65.24194361,74.24459122,69.5274407,71.36947525,68.64685069,73.44678678,67.32520551,73.40452716,69.46020927,74.62068748,71.21006868,64.32887142,63.29900785,69.68862306,63.51822045,64.11411069,63.46546487,63.02169909,72.50669768,70.40795007,62.78730907,73.37686831,62.31842057,62.2737345,64.42177127,68.83924882,71.16331975,65.45328463,74.22238583,71.64631281,62.83469851,66.47264636,66.69096751,74.16699119,64.89517488,64.77651469,68.56507978,61.83876146,63.37784443],\"xaxis\":\"x\",\"y\":[29.48439992,26.73433965,26.27274407,34.03679184,28.03644051,28.81460716,34.03619494,33.8642935,32.84213012,27.10053268,25.65842532,32.34744009,29.58949031,30.91219459,28.12787838,30.08545364,31.74379487,27.81326852,32.88733849,29.36358721,27.82592799,28.49538735,27.74274761,30.41588462,27.3254209,30.28496619,28.56840626,25.36586097,34.9466155,25.09737391,32.47648301,33.86351172,25.19857725,31.77681682,34.89814946,31.74105409,27.16159076,26.23773129,30.20157245,31.55846339,29.67892453,27.05365239,34.63880966,33.39438752,28.84079155,31.49338309,25.54960633,34.37329112,34.6008247,29.43463808,29.10713092,28.57006111,27.54384835,33.04687968,33.95309131,30.11873003,29.57812712,27.26458947,31.35730791,31.52104732,29.39982732,29.38400259,28.38686534,28.47442276,30.64095781,25.25596239,32.97030511,33.66855394,32.83963757,27.45853567,25.68576704,30.0328403,28.20667264,28.27265858,28.5417236,26.87187036,32.79766751,26.42333018,29.79181107,27.44003279,34.1262979,30.94908189,28.75751783,27.24766491,28.63005477,26.41768321,32.81705216,29.6321052,33.49077065,31.86847286,30.32992227,28.546224,30.02629908,31.65531175,30.33499674,33.36984395,31.4345059,27.71678273,32.63918668,32.7477393],\"yaxis\":\"y\",\"type\":\"scattergl\"},{\"hovertemplate\":\"Crop=Lentil\\u003cbr\\u003eRainfall=%{x}\\u003cbr\\u003eTemperature=%{y}\\u003cextra\\u003e\\u003c\\u002fextra\\u003e\",\"legendgroup\":\"Lentil\",\"marker\":{\"color\":\"#FF97FF\",\"symbol\":\"circle\"},\"mode\":\"markers\",\"name\":\"Lentil\",\"showlegend\":true,\"x\":[43.35795377,46.83130119,46.80452595,46.6352865,46.13833007,53.46622584,50.89110726,50.90994463,36.46946971,35.15426171,49.14337177,52.55730112,42.96018627,49.02366803,41.78219834,38.71834464,49.78102578,51.92057267,54.9393771,50.89732989,44.93261911,49.39111479,44.43177543,48.77790371,40.37113729,47.89645224,46.05333124,54.49044154,49.04015558,53.14531023,48.60449438,53.13946695,45.42616802,44.07819743,49.37369982,41.02682925,44.08562546,49.47371773,45.36521251,37.81123974,48.80253285,42.72374404,45.40277297,52.39881209,49.73922097,38.30411077,35.75107592,44.95654782,48.33941188,35.03484812,44.23629285,36.18678721,50.43306085,54.37814199,47.26052494,38.21370568,35.36831423,37.11395801,37.15824966,48.28137482,53.40906048,42.89509057,41.7704893,35.69674138,48.06491307,45.49683991,53.31508572,39.18374505,42.19740397,37.46160727,51.54922825,50.6128521,46.90725077,49.55213308,41.45486619,36.68284038,39.00992137,52.50812701,47.01510708,42.87274897,53.04669416,46.48280681,49.94043064,36.5011366,50.17067771,46.62370222,53.12442925,44.23913012,41.61080544,36.10211371,51.02372773,51.56461082,45.20841071,46.10585191,47.9271552,52.60285259,38.07659414,40.8106299,53.10207889,40.74536757],\"xaxis\":\"x\",\"y\":[28.05153602,19.44084326,29.84823072,21.36383757,26.28663931,22.17499963,26.57597546,26.58972517,19.1345771,28.75273118,25.78746268,23.89271875,28.67408774,28.42062847,21.35499456,21.12695586,24.02037872,25.40474421,29.03017561,20.21368219,29.19585548,18.29783597,27.41434987,24.84063998,29.94413861,25.87990287,20.0467711,22.99451999,25.13163619,28.49584395,18.28766124,24.38041875,21.31852148,18.54141834,25.28710601,25.43459777,28.83600962,27.37659643,28.31886863,27.4818649,18.28072173,27.61204997,23.43974653,20.95628486,23.7937153,22.6371424,21.53577883,29.87854588,25.2653291,25.17885316,24.12192608,23.33565221,21.74600081,27.60195453,24.388717,24.98287462,28.234829,26.03026959,28.04849594,24.87425505,23.97081395,20.06003985,19.59221047,29.77013109,27.52135365,25.62896213,20.39078312,25.39038396,24.91079638,27.70496805,18.06486101,18.13027797,23.82723528,23.19305333,25.08966129,25.86928193,18.43966037,27.14911056,23.33375853,26.7230014,19.55750776,26.13708256,27.99990346,29.05941162,25.71269843,21.79792649,24.70626432,20.94981756,24.84918386,21.91041045,25.93381964,29.82112112,27.52185591,27.99627907,20.76774783,23.05276444,21.65845777,26.25070298,20.97195263,23.89736406],\"yaxis\":\"y\",\"type\":\"scattergl\"},{\"hovertemplate\":\"Crop=Pomegranate\\u003cbr\\u003eRainfall=%{x}\\u003cbr\\u003eTemperature=%{y}\\u003cextra\\u003e\\u003c\\u002fextra\\u003e\",\"legendgroup\":\"Pomegranate\",\"marker\":{\"color\":\"#FECB52\",\"symbol\":\"circle\"},\"mode\":\"markers\",\"name\":\"Pomegranate\",\"showlegend\":true,\"x\":[111.9684622,108.0458926,102.5184759,110.2316633,109.3905998,109.4169192,104.8955643,106.9659201,108.0423555,109.3930157,104.7693804,105.7595811,108.3168858,104.5375109,107.6836871,108.5468633,104.8216333,102.8593382,108.0756727,105.6499907,111.6631582,112.4349689,107.3416913,105.1834976,111.2818551,109.0946323,102.8013275,106.8704803,108.4758509,102.860084,103.1969341,111.0196744,104.3739878,111.2800516,104.0277061,108.2287276,111.2232716,103.8799347,104.6735454,111.2787584,108.065579,104.7847006,109.8695196,110.9653137,106.9216033,109.2853418,106.0380805,112.459697,110.2437841,106.2817706,107.1951707,105.2240743,107.5660804,109.6623974,103.3183074,110.4606459,102.5538035,111.0217929,106.3602023,104.617522,104.991282,103.0295938,109.4429934,106.8685636,111.3779693,105.6209954,110.9633894,110.6956184,103.7084055,102.6488846,110.4432293,104.6843243,111.1382096,105.4766591,108.6793978,105.529185,112.1926517,111.7162016,107.6435771,104.88189,109.2537734,105.6917856,106.61905,106.1606833,110.5764023,107.6103211,112.4750941,109.0357597,109.9130984,103.6012114,106.977723,110.0932899,106.128338,104.4407083,107.0050976,112.337046,102.8186358,106.2784673,109.8076178,108.3121789],\"xaxis\":\"x\",\"y\":[24.55981624,19.65690085,18.78359608,24.1469628,22.44581266,24.96273236,22.5526059,22.77035608,19.20090378,23.12808226,24.92639065,24.77464458,19.8671184,24.26601316,23.62600218,19.67832052,22.36509395,21.57936934,18.26233221,23.71028128,22.48720144,21.6602498,20.13037175,18.41164435,19.68291173,23.20242586,18.92157197,22.10621387,18.47412402,19.81069447,24.4880844,18.75927679,19.54128063,18.91251245,19.91330523,19.72620525,23.83185873,24.94467632,24.692258,24.72485577,20.12644921,21.02432943,22.40423537,20.33691147,24.24779615,24.81530144,19.66329768,22.43377991,22.92052307,22.91843172,24.88244467,23.40981539,21.20725375,18.20230419,22.34375696,24.32770134,19.75088482,19.86173586,18.07132963,23.89162561,23.98598756,20.93892916,20.82210727,20.86474944,24.45840036,24.51147697,24.56811204,24.63228709,20.07386547,21.80523051,22.8122645,22.73031253,23.2801227,19.30106297,19.0087067,24.35193812,24.72235539,21.92513945,24.83954414,18.09691127,20.24104904,23.22594,23.50128217,19.44623085,20.51343484,18.90223032,18.90592319,22.63045168,19.38603815,24.38318965,23.77989026,22.59890174,24.37766782,20.89273273,18.09903225,20.00218987,19.85139326,21.25433607,23.65374106,23.88404783],\"yaxis\":\"y\",\"type\":\"scattergl\"},{\"hovertemplate\":\"Crop=Banana\\u003cbr\\u003eRainfall=%{x}\\u003cbr\\u003eTemperature=%{y}\\u003cextra\\u003e\\u003c\\u002fextra\\u003e\",\"legendgroup\":\"Banana\",\"marker\":{\"color\":\"#636efa\",\"symbol\":\"circle\"},\"mode\":\"markers\",\"name\":\"Banana\",\"showlegend\":true,\"x\":[92.82840911,101.0494791,104.9378,90.10978128,113.2297373,114.5357503,97.32531705,99.34482238,113.8729798,100.0075679,98.75084366,100.1692639,118.2761894,99.72430835,108.3957179,98.66679427,119.84797,108.66464,102.7867717,116.1616839,118.6858263,98.21747528,91.46442491,105.0776992,112.0700033,92.07835761,90.66727868,93.10247183,98.16752001,109.5408614,117.2878912,94.31102057,119.218154,102.4633775,109.575944,91.34276507,112.9794804,112.0777152,118.6730366,117.536781,107.3944717,116.5531455,112.3982055,110.3262123,110.2511102,110.4408803,116.3019555,119.0856171,108.8547508,118.2583441,91.40508414,95.12322062,109.9825551,102.2099836,109.022564,117.229079,112.1355384,111.0162259,99.20961514,115.8586081,119.695765,110.10323,109.2768851,109.2486647,108.8616474,110.1331182,104.4812858,90.43495443,119.4765557,118.9923573,90.94554618,114.2005455,91.06493353,96.45042585,113.1161095,92.78133617,94.32961456,91.73358569,100.6619171,98.00403016,103.5045395,95.83016448,97.55986676,94.68180316,90.45142867,90.24211529,96.47800391,111.0843029,100.5123341,99.46950465,105.4220251,91.99964712,109.0921631,108.3690513,108.5501443,90.81250457,103.7040783,94.37987496,92.15524332,98.12565829],\"xaxis\":\"x\",\"y\":[29.36792366,27.33368994,27.40053601,29.3159075,26.05433004,25.86632408,27.00932084,29.55054817,26.28845991,29.16226551,28.65003945,29.07311132,28.08166093,27.1994597,28.05484146,25.14748006,25.94019018,27.66752761,25.56703012,28.6956201,26.33544853,25.93730186,25.13686519,27.50527651,26.21009246,29.10403455,29.2440638,25.56202173,26.3985515,28.09577643,27.84767901,27.39341554,25.14517635,28.65456263,29.16093424,27.57278064,25.40909896,25.99069521,26.29039046,29.14827211,26.59743595,25.36059237,29.12036889,27.53911354,29.66727337,25.05802193,25.86824781,25.85036988,26.51682337,28.66725136,28.14938935,26.42313317,26.59386409,27.71822477,28.98333432,29.42017919,27.39872329,26.4020227,27.81251452,25.19640218,28.31193338,25.90113128,27.48612983,29.38254012,29.22118628,27.09062164,26.12643374,29.01207743,27.96799119,28.0764455,25.16278237,25.78749808,25.34119774,29.44795403,26.47522633,27.39489579,25.08347445,26.6719835,25.44926208,28.22776705,28.1279509,28.9470467,27.96236771,28.00316034,29.1400919,27.9122104,25.43480512,28.55980972,26.59580783,27.19711623,25.29391516,29.90888522,27.94972463,25.01018457,29.21144871,27.35911627,28.0106804,28.67208915,27.34585147,29.50704598],\"yaxis\":\"y\",\"type\":\"scattergl\"},{\"hovertemplate\":\"Crop=Mango\\u003cbr\\u003eRainfall=%{x}\\u003cbr\\u003eTemperature=%{y}\\u003cextra\\u003e\\u003c\\u002fextra\\u003e\",\"legendgroup\":\"Mango\",\"marker\":{\"color\":\"#EF553B\",\"symbol\":\"circle\"},\"mode\":\"markers\",\"name\":\"Mango\",\"showlegend\":true,\"x\":[90.09586854,98.67527561,95.85118326,95.70525913,92.19721736,98.00687989,97.72843182,93.75441586,95.3713484,98.46768642,94.11213345,97.31258083,99.35408185,89.85646496,91.87312479,94.42850522,91.55845821,97.41054011,95.74606104,98.33351125,99.9834242,99.61465679,94.62954663,98.63333684,97.01331604,90.28624348,90.65022183,91.82271568,90.82549241,92.09609766,100.2585673,92.99739415,100.2160615,98.81596545,98.00644238,91.67241761,95.99487068,97.38741498,95.8445641,100.8124659,90.21633216,90.14047759,97.41586402,93.36718816,97.76832322,95.257992,92.37238878,91.63074547,92.26439205,96.27792547,94.49161372,90.29643888,90.40332704,90.89173106,95.23444287,100.7586226,96.59816497,99.642454,97.55155537,90.40260445,92.84991507,93.30247448,92.21318555,94.76322976,98.28583013,91.01152997,91.09745581,91.405983,89.78216168,97.51952041,89.98024312,95.94035356,95.89898581,100.3060719,89.74409017,97.4611918,91.46664318,89.59371481,95.04871605,97.79072474,93.53197359,91.77522598,96.23520043,96.63721027,96.38808001,98.05089394,91.22881052,98.57025046,90.38503469,96.08745082,94.67344737,89.29147581,97.45373619,91.54560427,95.8946444,93.17221967,100.7720705,93.92375879,91.88766069,91.10190759],\"xaxis\":\"x\",\"y\":[29.73770045,33.55695561,27.00315545,33.56150184,35.89855625,34.17719782,30.01592643,31.74592134,35.99009679,31.86641378,27.75518664,34.72413192,27.53907547,27.69637763,27.25373364,30.33723921,31.85744939,35.39986338,29.80747243,34.16438906,28.93270187,27.98392787,31.20478173,32.13409675,28.91862016,31.09779147,34.73823882,29.98080499,33.80398664,30.07202564,27.92063282,31.40948821,35.7877738,33.36140093,35.96054636,28.33333307,32.27652024,31.99490489,27.58258929,29.38471637,32.38697531,30.91471455,35.37775595,32.32362177,28.22373428,27.27433181,27.10710832,34.89226666,33.7462686,27.3511056,32.89300162,35.38598705,27.5529736,32.82141065,30.17294105,29.26382931,32.06097197,28.69818144,29.14305008,28.3471611,27.67256197,28.1218093,30.79375683,28.89409382,33.33024826,27.78912455,31.65333432,29.75150773,31.32995611,35.63627319,31.66524687,32.26935342,27.81005614,34.58561471,31.27180992,33.93679864,31.09154239,31.89356292,32.45465292,35.47478322,27.32961444,30.90225239,29.09382275,30.02086169,34.13072188,33.44619894,35.3915464,31.53356352,30.7645515,30.01821337,31.32863689,33.88004781,28.07802689,35.53845018,28.70595247,31.48451729,27.69819273,30.41235793,32.17752026,32.6112614],\"yaxis\":\"y\",\"type\":\"scattergl\"},{\"hovertemplate\":\"Crop=Grapes\\u003cbr\\u003eRainfall=%{x}\\u003cbr\\u003eTemperature=%{y}\\u003cextra\\u003e\\u003c\\u002fextra\\u003e\",\"legendgroup\":\"Grapes\",\"marker\":{\"color\":\"#00cc96\",\"symbol\":\"circle\"},\"mode\":\"markers\",\"name\":\"Grapes\",\"showlegend\":true,\"x\":[67.12534492,68.38135469,68.73932528,66.83872293,65.34440794,70.39906054,66.76285469,69.63122027,66.77844567,73.88467027,74.91506217,66.02765219,68.06417307,65.84748763,67.235765,73.02882766,68.23963161,71.4065452,69.66256816,65.52279323,72.24230804,66.93065667,69.17281221,70.08200379,69.75734306,68.66813363,73.23901752,67.10439401,65.70148216,69.30772897,74.53557341,73.28712806,66.53946559,66.38448261,68.69420397,71.55665483,71.06611222,73.01026829,67.92204319,65.06962486,71.18289431,67.03840888,74.40198861,65.3973168,65.70430027,71.43001582,73.34232097,68.68895899,70.95666003,74.62834921,67.3917379,65.01095312,71.29813872,66.13442813,65.2982112,71.63437433,71.60102999,73.55807954,67.15094741,65.90227462,70.68098614,67.2739864,74.03030056,74.10225057,65.80006004,73.67984885,66.05911698,69.706113,66.48490371,74.08101744,69.8671263,69.81855775,74.82144653,69.39630398,69.30927185,74.19664838,72.37127689,68.8503047,71.03001556,69.92107482,69.71518491,73.69529586,66.57462809,69.27779761,66.83113717,70.31782647,74.10919422,73.06862952,66.34234944,73.77063744,70.75633584,74.46411148,69.92092839,69.44115171,71.40043037,68.42802444,66.70016285,70.42508897,66.5964488,66.00817551],\"xaxis\":\"x\",\"y\":[29.99677232,30.7280404,32.44577836,37.46566825,22.03296178,39.64851881,16.77557314,12.14190714,12.7567962,39.04071989,39.70772192,9.467960445,29.58748357,17.82803682,8.825674745,27.83487131,11.02105378,17.5862944,19.89363946,29.93707596,36.73126647,20.42094753,25.51939719,30.50734778,18.4269936,12.087022,23.60115364,12.80000387,38.06099482,39.06555518,33.78372897,16.76201707,35.89307536,21.01245395,10.89875873,16.36251869,20.28370163,25.11108456,33.4641162,11.7976469,11.36300891,25.23542319,15.99050693,22.4359017,34.76086052,31.11047251,28.57828803,41.18664903,27.02766138,21.19339319,10.38004759,31.3115978,20.46657776,29.36947679,10.72302459,14.97846952,15.3246651,18.73932187,19.3642553,41.20733624,33.34214482,23.81995682,40.66012294,11.82768186,13.28504331,35.83089092,26.18159716,24.57558351,29.67229086,39.37102553,17.66558428,24.06679352,15.31413469,21.77466746,26.91624843,41.65602996,17.98667801,29.12033769,34.38922481,41.36106301,35.12158265,19.6491772,16.27852801,21.11903604,19.2077707,25.96308415,25.67385024,41.94865736,11.18994268,17.5438296,13.05809741,9.724457611,27.92004934,9.535585543,13.42988625,9.851242629,24.97256132,27.23708304,18.70679077,9.949929082],\"yaxis\":\"y\",\"type\":\"scattergl\"},{\"hovertemplate\":\"Crop=Watermelon\\u003cbr\\u003eRainfall=%{x}\\u003cbr\\u003eTemperature=%{y}\\u003cextra\\u003e\\u003c\\u002fextra\\u003e\",\"legendgroup\":\"Watermelon\",\"marker\":{\"color\":\"#ab63fa\",\"symbol\":\"circle\"},\"mode\":\"markers\",\"name\":\"Watermelon\",\"showlegend\":true,\"x\":[53.65742581,46.87420883,57.04147057,57.95826144,41.87540028,49.11618732,57.79652846,59.46338556,54.60159289,44.07843475,57.72799157,53.78929956,57.57343233,40.794305,43.08961827,44.22066914,57.74091817,57.44942094,58.79889057,44.20656987,59.65590798,49.48575692,56.45229202,40.12650421,46.05122728,46.85176955,48.32113628,57.23028471,55.29563514,48.45978627,48.01138482,54.82963379,57.26773002,51.19470197,49.43050977,53.33484977,44.3993381,54.30660782,46.06193778,48.47833278,56.47941847,43.52897517,42.10681516,57.40847165,51.75212401,57.05709413,58.48160844,55.74073582,55.49541453,49.29456609,49.08553937,50.55710813,54.65423596,51.70497792,48.11248366,51.26046418,48.58241822,54.22722466,56.39962921,51.70699144,56.34144589,44.63907691,46.06382209,45.24690619,40.32161859,44.20899581,54.7657624,48.31219031,53.14626213,49.52320689,58.97878791,46.59207341,59.67927244,42.91292205,59.75980023,41.16554802,51.51033554,47.81847573,50.78669728,40.228644,43.87712348,48.75859458,44.2068997,57.51549686,40.71210074,59.26519444,54.38748495,46.76837499,47.46447019,56.72496677,48.99390828,42.00660251,54.49960057,56.31866159,47.72078245,58.28697664,48.32428609,41.53218699,43.97193745,58.54876687],\"xaxis\":\"x\",\"y\":[26.47330219,25.18780042,25.29954705,24.74631269,26.58740671,24.53442564,26.0713757,25.96534238,26.22338015,24.41311871,26.49195283,24.04355803,25.5421695,26.74550678,25.7131428,25.76484262,26.79489868,24.9004602,26.80750629,25.11189154,26.2148837,24.9103226,25.79448878,25.26931156,25.76402693,25.85483596,24.33528185,25.37601283,24.86094646,24.71885473,24.21495706,25.81692236,24.47018505,24.13078816,26.1793464,26.17668721,26.03867719,26.53259325,26.81938687,25.50405534,26.20234499,25.13735887,25.92030221,26.6634609,24.06731461,24.6774157,26.11440416,26.81530456,25.15623099,25.2801372,26.22005978,24.92093261,26.21667586,26.81383586,24.31334971,24.29105004,24.42998931,25.66576039,25.07803672,24.88910524,25.42900869,24.37118217,26.4930645,25.83202912,24.41592661,24.37190239,24.24782473,24.64458469,24.89681131,25.41864024,26.26028739,24.90123934,24.84740848,26.98212846,26.90435747,25.86475496,26.70607759,26.44019475,26.283443,26.84366082,26.03967219,24.92994759,25.50736962,25.4438391,26.12588914,25.10474753,26.27520631,26.27061608,26.73690828,25.04746944,24.69368934,24.54356968,25.89762315,26.6333118,25.35794749,25.28784623,26.63838589,25.3310446,26.89750174,26.98603693],\"yaxis\":\"y\",\"type\":\"scattergl\"},{\"hovertemplate\":\"Crop=Muskmelon\\u003cbr\\u003eRainfall=%{x}\\u003cbr\\u003eTemperature=%{y}\\u003cextra\\u003e\\u003c\\u002fextra\\u003e\",\"legendgroup\":\"Muskmelon\",\"marker\":{\"color\":\"#FFA15A\",\"symbol\":\"circle\"},\"mode\":\"markers\",\"name\":\"Muskmelon\",\"showlegend\":true,\"x\":[28.08253201,26.32405487,22.52497327,20.76223014,28.16057247,26.26243014,21.30290472,25.93496537,25.21609113,26.23838511,29.86681385,29.1194739,25.33014238,21.08484101,21.58992507,20.88620369,26.83924845,21.26034986,26.70581328,29.1102594,28.78654515,23.66620626,27.56918621,27.95602304,20.36001144,24.52020164,23.69586761,22.68766503,22.81863447,28.70627683,26.52364146,23.44398467,23.56130173,29.44008034,28.69113835,25.37828397,21.7508774,28.36535596,23.28207838,25.1290048,26.51924782,26.47844429,24.93861254,21.19014526,20.21126747,22.21807088,20.49035619,21.9653077,25.16359891,23.49535234,27.27899847,26.30820876,26.85422624,21.90440445,20.66127836,20.76212031,28.94766949,26.01909355,28.75226067,24.4514648,25.09484511,22.84203589,24.34814338,20.39020503,21.17924769,21.0000988,22.06207161,27.8659442,27.5987178,26.0365768,21.01796432,21.84869328,24.15591199,26.88372572,25.32159689,21.61893763,24.05207925,22.25838137,24.44267592,22.06994464,21.44532907,28.83568362,29.11187663,23.20076686,23.28618248,24.84266123,24.69720481,27.26588346,26.48240255,27.14509034,20.76582087,27.21244021,28.22908103,28.98574189,25.08146686,21.13545688,24.20007242,23.0362503,23.65747461,24.7458198],\"xaxis\":\"x\",\"y\":[27.57826922,27.82054812,29.09910406,28.04943594,29.91690582,29.86895762,29.17220859,29.24908541,27.76317235,28.82629037,28.52379742,29.06785065,29.08417927,28.47090661,28.27973674,28.47212559,29.68846716,27.02415146,29.09588297,29.69238699,28.20619412,29.05248036,29.57240298,29.10968327,28.20480805,29.11858526,29.62800691,29.81196601,27.72338349,29.26092798,29.72791119,28.91105641,28.96361426,28.59052369,27.33897716,29.90415889,27.42711692,29.55657523,29.84070774,28.53545677,27.11535046,27.84492803,29.03157242,27.82424457,27.72653142,28.69708334,29.73019662,29.54097171,28.80311922,27.29035669,27.46583649,29.49401389,27.79161808,29.12533739,27.93114233,29.45771748,27.96872279,29.48882958,29.47156259,27.0767265,27.30008597,29.82729394,29.93061247,29.94349168,28.03306461,29.8843055,27.7058373,29.78714005,28.57819995,29.48069921,27.51492243,28.05457761,29.03167341,28.5854649,27.08808014,27.99611732,27.87317436,28.96586565,28.87726019,29.17052093,29.34033587,29.07265321,28.68275966,28.92705913,27.99901833,27.59350075,29.87331077,28.55852465,29.19378695,27.98780984,28.05380704,27.3506296,29.34081108,28.61475136,27.04863538,29.5275305,28.50416396,28.89578588,27.04927452,28.96017885],\"yaxis\":\"y\",\"type\":\"scattergl\"},{\"hovertemplate\":\"Crop=Apple\\u003cbr\\u003eRainfall=%{x}\\u003cbr\\u003eTemperature=%{y}\\u003cextra\\u003e\\u003c\\u002fextra\\u003e\",\"legendgroup\":\"Apple\",\"marker\":{\"color\":\"#19d3f3\",\"symbol\":\"circle\"},\"mode\":\"markers\",\"name\":\"Apple\",\"showlegend\":true,\"x\":[110.4317855,114.0512495,116.0396587,122.233323,116.0777931,117.7296726,105.5473627,121.1349176,117.0761277,112.6676589,106.1417017,123.5977843,108.183792,105.3558408,104.2298028,102.2648546,104.4267991,108.3405879,114.8407725,104.6472986,107.8737015,121.4977331,109.8852597,115.1781396,119.1025189,109.0658471,105.6941544,107.855225,102.8017203,104.5086618,107.1728191,108.6211833,122.1952483,104.5412275,101.8474768,124.3915101,116.7366261,120.1593771,107.1843273,120.4359949,112.3126628,123.5900822,105.0241329,102.8045658,124.9831618,117.6102915,120.0586671,100.6192543,121.8961665,112.8954016,113.0688155,107.9868949,111.7763395,114.7399101,124.2179699,105.0508234,105.4004751,100.9343903,109.5966791,116.6912176,118.3979065,117.5314026,109.5852253,103.6838922,103.0548094,114.7412734,116.9256766,116.7036582,109.3383552,115.4789148,115.3830068,107.7697413,105.8554351,104.9116663,122.1449949,121.6622761,118.6044645,108.2166601,121.6961761,102.5565807,122.5391946,107.0289866,117.6602827,100.825956,112.9203223,123.6495149,118.6832725,113.7759219,113.9760462,110.712841,102.7230739,116.7431319,122.7418744,113.0381382,110.9804014,119.6335548,100.1173443,120.6310784,115.3611268,124.4683112],\"xaxis\":\"x\",\"y\":[22.75088787,23.8494014,22.60800988,21.18667419,23.41044706,22.86006627,22.48403042,22.02775403,21.91191314,23.71059131,21.37784654,22.84852833,23.1094265,23.25230817,23.67287749,23.76881552,23.34386401,22.63946441,22.45696744,22.96388477,21.07273439,22.44075021,22.71271308,21.70416965,22.43324518,21.25941052,22.9215706,22.81212536,21.12152071,21.11478672,23.59997268,23.12652652,22.98458907,22.12659387,22.53779727,22.49095104,22.35548159,22.20700989,22.44516988,22.76643029,22.19109412,23.6119202,23.86087054,21.42177231,22.36629253,23.99686172,21.80129837,23.80436344,23.71475278,23.34467359,22.31253665,23.50201428,23.46260321,23.06204373,22.47420512,22.69780133,23.66682067,22.50050273,23.83053666,23.64142354,21.41363812,22.85267372,22.98208095,21.19909519,23.87192332,21.0365275,22.61711614,21.45278675,22.81227579,21.98141856,22.52709326,22.35628673,21.19852186,23.8812458,22.78234161,22.19055385,22.91430043,23.08950736,21.72484506,22.44307715,21.1316077,22.71750705,23.75033085,23.76121837,22.13450646,21.17089176,22.36238282,22.77856513,21.22503442,23.15791104,22.42776057,23.64082979,22.29423493,23.35225078,22.03911546,23.80593812,22.31944084,22.14464104,23.65167552,22.16939473],\"yaxis\":\"y\",\"type\":\"scattergl\"},{\"hovertemplate\":\"Crop=Orange\\u003cbr\\u003eRainfall=%{x}\\u003cbr\\u003eTemperature=%{y}\\u003cextra\\u003e\\u003c\\u002fextra\\u003e\",\"legendgroup\":\"Orange\",\"marker\":{\"color\":\"#FF6692\",\"symbol\":\"circle\"},\"mode\":\"markers\",\"name\":\"Orange\",\"showlegend\":true,\"x\":[119.035002,101.2847738,111.2266885,114.6659511,111.1727497,114.1339416,112.5424199,114.4161786,106.0711985,102.6958703,118.4901697,117.3695296,109.6894658,100.1961762,116.3796525,111.7803734,103.5684926,102.835632,103.923226,111.2948115,101.4705704,116.450422,105.2132259,110.3332655,110.6823944,115.7659902,117.3688104,115.5683776,110.2223123,119.1709113,113.3302105,116.7173125,108.4161706,119.3941064,116.5084074,116.8130969,106.8118019,119.6946577,112.9834361,117.5293447,103.5771468,109.8585753,119.3936976,112.7194284,102.1906333,115.9787989,107.9873218,101.5164589,100.1967854,108.8289171,104.4224145,115.3560318,102.4550786,112.5090516,109.7571416,112.6738296,102.944161,109.4711098,105.3437825,109.1549823,111.7793889,107.4142681,118.0069295,106.2944879,111.8391951,106.2696156,117.6236473,109.7513927,113.1169398,116.7555937,110.6857506,119.3916718,106.060149,112.7715925,117.9733424,104.7052254,108.0638166,106.6955204,108.0054343,100.1737964,101.1456947,101.139435,115.5650287,113.25373,106.362551,101.4819888,110.0447896,109.9455062,117.1311498,115.1989301,100.7896871,108.0230792,107.4287664,116.8020848,118.3271968,113.328978,114.3117197,113.9995146,107.0862095,103.2005992],\"xaxis\":\"x\",\"y\":[15.78144173,26.03097313,13.36050601,18.87957654,29.47741671,28.06903173,25.66901098,29.77149434,30.55472573,23.96147583,23.98289638,25.26052689,31.08368929,14.78003032,26.56608303,24.85903405,34.51465139,24.12188673,23.85340379,24.60297538,15.63211033,19.33516809,28.2620488,22.67594476,21.03200078,33.23453301,22.30318989,11.50322938,14.34320488,33.1056981,30.49183837,30.25578031,12.22816189,10.01081312,22.79196751,20.18432263,30.72119881,24.35590861,21.21306973,10.78689755,11.89925671,22.56664172,18.86883219,17.34083741,34.90665289,24.53610067,13.8377282,22.3551049,34.74004942,11.54785707,23.13338811,29.98364695,20.87947369,17.24944623,15.83388699,23.01014302,16.39624284,24.45132792,31.87859192,31.34920143,18.05142392,30.84835031,22.45616931,13.70319166,20.48954522,13.20844373,32.31944397,20.68185224,31.52675982,25.35467646,17.66545409,12.59093977,11.86631922,11.03367937,25.2990432,32.23797837,17.68408797,10.2708877,17.22034507,19.667056,10.35609594,27.255435,34.5917846,32.39523995,10.16431299,21.49118657,16.53460397,31.8520694,28.04799508,31.75048899,29.07412717,19.14381903,16.14820285,34.05296914,34.51423957,32.71748548,25.16296632,27.68167318,21.35093384,11.69894639],\"yaxis\":\"y\",\"type\":\"scattergl\"},{\"hovertemplate\":\"Crop=Papaya\\u003cbr\\u003eRainfall=%{x}\\u003cbr\\u003eTemperature=%{y}\\u003cextra\\u003e\\u003c\\u002fextra\\u003e\",\"legendgroup\":\"Papaya\",\"marker\":{\"color\":\"#B6E880\",\"symbol\":\"circle\"},\"mode\":\"markers\",\"name\":\"Papaya\",\"showlegend\":true,\"x\":[243.0745066,88.46607497,119.2653877,235.6133585,196.2408242,203.4044028,197.5282582,191.7760562,202.0572747,186.6762324,197.402901,47.271547,232.7046126,63.62250788,141.1736926,172.4788062,77.71566883,78.85085502,149.9107557,105.8841531,51.07048113,62.62377075,110.562229,238.5008779,132.7923586,206.3999208,248.8592986,127.2509777,120.9512466,122.7628653,64.4478499,40.35153141,209.8678411,59.49373381,117.8201907,98.54047745,182.026807,207.0735119,74.876786,218.2299187,179.2720807,183.49095,78.8099639,103.8235658,165.7412972,136.8277041,48.83810592,199.3096432,214.4103848,63.68794608,211.8529059,209.4083305,181.527598,97.26336657,163.9069365,63.35298768,54.01872359,79.27201575,246.3613268,231.5153161,135.1694525,114.778071,144.6656444,75.95295,115.8163936,71.73759526,41.5856585,75.24521981,87.53393983,141.3381168,82.83061083,149.8488208,161.6892093,88.1300769,172.3458448,218.142147,93.7942847,210.2735346,234.8466111,52.95477913,159.6577388,62.68710535,174.4012337,241.8202079,240.4795923,126.8069869,92.11877372,234.496633,46.44279118,62.50689682,108.4103158,218.0908814,104.4218596,240.6863901,54.77830202,149.1199989,102.2708231,239.7427554,188.5181422,208.3357976],\"xaxis\":\"x\",\"y\":[35.21462816,42.39413392,38.4191628,35.33294932,42.92325255,33.83508569,33.20258348,23.48546973,29.33710543,40.21199348,42.13473976,32.86316618,29.80744318,31.56213762,36.32268069,37.13165026,38.4418717,32.66160599,27.92765919,39.01793345,32.51247398,38.72382798,43.30204933,27.58548913,40.78881819,23.19451074,32.68067385,34.28879307,39.30050027,39.73149053,39.23342464,27.34734861,40.76998685,26.26559543,28.12971499,34.2804607,33.7960155,31.53243779,42.30495821,24.63676897,28.28222883,24.48620746,42.84609252,43.67549305,42.07213781,33.46873719,31.7018373,41.41968393,42.54744013,28.91842453,43.08022702,29.20300896,41.04224355,25.62446619,35.32876402,24.42561272,31.18298415,31.88342554,42.93368602,23.11407669,24.87212063,43.36051537,26.83054058,30.42012134,28.64555584,32.50037548,43.03714283,30.10773379,23.69212243,35.67667332,27.71948962,35.26824831,23.16855863,33.08706051,37.4620912,38.73218907,32.57720726,38.38231475,42.93605359,25.65492304,37.58899717,29.60718808,25.34756111,25.9300384,32.76795887,29.02328049,40.00439101,33.32315744,31.22790131,26.68386496,24.70528368,38.2016825,36.56769731,26.05375792,31.29986342,40.10207731,38.58954491,41.31330062,37.03551903,23.0124018],\"yaxis\":\"y\",\"type\":\"scattergl\"},{\"hovertemplate\":\"Crop=Coconut\\u003cbr\\u003eRainfall=%{x}\\u003cbr\\u003eTemperature=%{y}\\u003cextra\\u003e\\u003c\\u002fextra\\u003e\",\"legendgroup\":\"Coconut\",\"marker\":{\"color\":\"#FF97FF\",\"symbol\":\"circle\"},\"mode\":\"markers\",\"name\":\"Coconut\",\"showlegend\":true,\"x\":[224.5903664,224.3206759,151.0761899,179.8248944,181.6942283,184.7624496,150.9502632,147.8888994,178.8116076,189.6711349,145.5414413,198.8234862,144.3331315,157.9171537,215.9195049,204.7206567,199.7936345,172.0540491,218.0055713,157.2388553,171.7575545,172.4813641,156.6732553,205.5463111,150.0500312,171.6262299,142.9403233,178.9635457,209.8453993,149.2433497,132.1491176,134.8419069,194.9022136,171.9457959,204.9603677,160.7306991,218.5241851,218.080385,208.1181381,194.3100272,145.4172387,160.389421,156.7650823,165.8092179,192.7678575,150.2012138,144.6261698,174.796583,211.2506267,224.7006953,135.4186222,162.8432736,131.2451414,145.0583117,199.8778403,214.4128874,145.9298935,171.6516396,131.2116167,222.803013,157.7592626,141.3220576,205.5720367,131.0900076,201.8258633,224.4016682,191.006688,215.1968037,212.867626,167.0470997,142.1430003,147.1682459,148.8398374,134.1279669,192.9036306,191.2996157,134.8370348,143.533473,178.7297725,144.1571109,182.4482352,224.8315729,148.3003692,195.4115025,209.540094,164.9182225,213.9011021,131.3387935,135.1272491,174.6256481,154.0621221,165.8248732,225.6323656,188.9252083,221.2258168,203.9283708,191.7723087,149.2220255,152.4238712,166.5712879],\"xaxis\":\"x\",\"y\":[26.7627493,25.61294367,28.130115,25.02887163,27.79797651,29.25902906,27.10134661,25.84726298,26.58580443,28.38503882,28.43647052,28.27298134,27.00648436,27.63551259,26.29644905,27.1326009,25.56567803,25.94951662,28.03380598,29.12859129,27.0828252,28.11321494,27.5136304,27.63834933,29.01256899,26.58413917,28.28905147,28.69164799,29.70931288,27.14865285,29.28725038,25.06871967,26.92449525,28.27804288,29.18032562,28.3575072,29.38072512,25.39241091,26.31270635,29.52501367,28.83214859,28.48444906,28.74013335,25.00872392,29.8690834,27.54273211,26.52166434,25.03512351,29.20394909,27.05826457,26.18552389,27.59376845,25.76011662,28.87862994,26.50908611,26.87037587,27.57283516,28.05912437,29.51611558,28.96318258,25.09897688,27.1872282,29.03065024,27.754298,27.31155708,28.84270971,26.61423461,29.70143197,25.54759871,26.37978453,27.45907759,27.02269204,28.98545306,26.1055118,25.0707247,25.54963273,28.56973521,26.07010807,25.51791333,25.9490364,28.2974764,29.56549169,29.69952329,26.14162144,26.00175125,27.15116142,28.97318719,26.13958446,25.51618488,27.55821802,27.81132822,25.60033702,26.91641934,29.1797902,26.44600063,28.43572863,28.94099669,26.45488737,25.79490531,26.93141945],\"yaxis\":\"y\",\"type\":\"scattergl\"},{\"hovertemplate\":\"Crop=Cotton\\u003cbr\\u003eRainfall=%{x}\\u003cbr\\u003eTemperature=%{y}\\u003cextra\\u003e\\u003c\\u002fextra\\u003e\",\"legendgroup\":\"Cotton\",\"marker\":{\"color\":\"#FECB52\",\"symbol\":\"circle\"},\"mode\":\"markers\",\"name\":\"Cotton\",\"showlegend\":true,\"x\":[90.8022356,71.29581071,90.75616738,89.76050416,88.43618918,78.58494391,96.32600992,64.23026638,72.49800885,71.94608134,71.84080724,79.81328183,69.91563467,89.799462,90.94342484,64.02949379,86.76287924,69.08056728,86.06411872,89.1188212,99.36898373,78.59595817,86.00758678,93.46595573,95.0191318,87.54004943,81.49543437,67.05961949,86.55517751,64.61444234,71.67870701,79.56866268,80.36146974,97.10087029,88.54479121,88.94245493,90.42224164,80.96157332,84.63148859,61.82980133,65.0247867,90.41694635,81.05902285,99.93100821,91.9223468,75.13617229,90.4547185,78.82199603,80.03995829,84.62419032,77.55176318,86.84998693,70.65644296,62.64174227,66.48339303,91.6389565,84.12536744,98.60457373,67.08022574,95.4262599,83.46532547,65.54475812,91.39578861,66.19426787,60.65381719,93.51042684,70.40557612,76.13090645,62.5138867,66.26555904,61.94626051,72.82902109,88.57395505,99.75336197,90.07326633,70.97358303,76.88582484,74.14169043,99.39557151,60.79645852,90.64770699,80.11272117,97.76600619,85.24963302,93.50153555,78.58488484,67.06459777,69.31153566,77.03421249,71.85436078,74.8984994,92.23645249,69.45072055,92.91915074,81.15072105,74.94136567,91.49697481,63.88079866,76.63669195,65.35747011],\"xaxis\":\"x\",\"y\":[24.40228894,23.09595631,23.9656349,24.88738107,25.36243778,24.69457084,25.0017188,22.45942937,23.60564038,24.58453146,23.0865933,23.5000992,24.1472953,24.69315538,24.484692,24.49112609,23.47986888,24.18586246,25.00755095,25.99237426,23.66457347,25.66891439,22.04612876,22.4204752,25.03149561,23.53371386,22.77076388,25.49848236,25.248679,22.78249615,23.37044424,24.86560781,24.14386157,25.03300222,23.65724079,25.54359718,22.00085141,23.64328417,23.96436009,24.65425757,24.3017998,24.29144926,24.29470232,25.72180042,24.87663664,22.60612115,23.86814008,23.41022496,24.96440768,25.16820129,22.72767171,22.45145981,23.04920461,25.29250148,22.95604064,22.80213132,23.54234715,24.41212325,22.94276687,25.53676123,25.32023717,22.426733,25.78544484,25.68959532,22.14593688,25.07278712,22.21506982,23.9643129,25.40059227,23.7805123,24.16402322,25.31468463,22.60361557,22.9535715,22.74446976,23.80834611,25.46228792,25.96779712,25.5308271,24.43847399,23.03887865,23.51308653,22.75805656,24.71252544,23.45969093,25.5503704,22.08458267,24.68854799,25.84997269,22.46054478,23.65629976,22.00817088,24.32630461,22.92360984,23.43821725,22.10718988,23.03814028,24.54795322,23.73868041,22.31871914],\"yaxis\":\"y\",\"type\":\"scattergl\"},{\"hovertemplate\":\"Crop=Jute\\u003cbr\\u003eRainfall=%{x}\\u003cbr\\u003eTemperature=%{y}\\u003cextra\\u003e\\u003c\\u002fextra\\u003e\",\"legendgroup\":\"Jute\",\"marker\":{\"color\":\"#636efa\",\"symbol\":\"circle\"},\"mode\":\"markers\",\"name\":\"Jute\",\"showlegend\":true,\"x\":[151.8869972,161.2469997,196.6249511,175.6086697,190.4242157,190.5577618,185.7446728,169.1168028,182.2685447,169.3388465,150.2498675,189.4263485,199.8362913,151.4935635,195.8645552,164.2697011,164.4970373,191.9649389,169.8391177,181.2783964,153.8990984,174.7876411,173.1017097,151.9035477,184.9800516,197.1220049,174.5071843,168.7848886,183.8270791,180.1237765,186.2337571,150.3166152,162.2847429,199.4766779,184.4633281,159.5718087,167.7230632,196.6587013,166.1365886,153.6390212,175.572958,197.2101782,196.469984,166.2160846,179.1630865,166.6415254,150.6326874,163.3488091,186.6898282,176.1516409,168.0432282,155.3851533,193.2418382,160.6217342,182.2582277,152.6194403,181.2915605,189.9711184,177.2233048,159.9210934,187.1735424,169.4168014,188.6372826,153.7447398,167.0576456,192.2316221,154.8390847,185.25947,192.4931257,176.5268267,195.7571622,156.3616174,157.1215052,175.1742112,154.8238864,153.9199807,169.9288234,176.8604109,176.103677,183.4065252,160.0889553,171.4892533,193.1007598,171.4716375,157.8548562,190.312216,152.9801697,199.3355744,187.3096148,180.2513601,172.6442654,193.7141828,184.7674863,193.8778713,150.2355238,177.5147313,154.6608736,190.7886386,190.9684885,159.3223075],\"xaxis\":\"x\",\"y\":[25.52468965,26.59104992,25.29781791,25.72100868,23.58419277,25.31042337,23.41798979,24.35564134,26.284017,25.13842773,24.88692811,25.75734909,23.12844351,24.9949957,25.21622704,24.39736241,23.31410442,25.72668885,26.96656378,23.70467146,24.90075709,23.39605743,26.8748389,23.1426498,24.29496635,24.39459498,25.7629429,25.4879684,25.37122686,26.21312799,24.30748599,23.76554749,24.79853023,23.20683504,23.66805429,25.12417673,23.89069041,23.09433785,24.21744605,24.06475727,24.85441411,26.41915161,24.89326318,23.25583402,24.7634518,24.97042599,26.12797248,25.97825807,26.2830571,26.38905406,25.2746335,23.09499564,25.79351957,23.17403323,25.63215038,25.848795,26.56767277,26.24532085,26.91515043,24.36972377,25.71901283,25.01157559,25.40785911,23.28081,23.98651719,24.48556447,25.86705009,23.5643831,24.2248758,25.49386782,24.97178693,24.80624984,23.16814977,24.25133493,26.58361011,26.82489244,25.49674786,24.09874353,23.18866654,26.24347471,23.75091572,26.13871511,26.14576648,26.91643698,26.5232969,23.81579631,26.50838667,26.63952463,23.3250131,26.47549543,23.78756036,25.49941707,23.24925555,26.98582182,23.61475336,23.87484465,23.92887902,24.81441246,24.44743944,26.57421679],\"yaxis\":\"y\",\"type\":\"scattergl\"},{\"hovertemplate\":\"Crop=Coffee\\u003cbr\\u003eRainfall=%{x}\\u003cbr\\u003eTemperature=%{y}\\u003cextra\\u003e\\u003c\\u002fextra\\u003e\",\"legendgroup\":\"Coffee\",\"marker\":{\"color\":\"#EF553B\",\"symbol\":\"circle\"},\"mode\":\"markers\",\"name\":\"Coffee\",\"showlegend\":true,\"x\":[191.6549412,144.6861336,136.7325092,147.2757818,122.2103248,139.3670753,164.4971875,129.8765443,122.8392822,171.3764462,140.6305213,189.0944824,165.6872119,135.1386537,148.9812525,135.0119649,161.8944624,175.7260273,194.1755471,124.2261737,195.7733251,190.2257843,196.2736367,148.6977358,144.6576424,180.5059257,192.4280381,167.4358075,191.3980675,117.3113562,197.6439711,119.6324109,126.1752206,120.6494434,191.4508931,117.9389993,168.2644287,115.1564012,122.6847408,176.9020924,124.4135035,148.3771202,181.6368274,153.477776,193.7461968,190.2440566,199.4735636,139.8619431,133.1120232,156.1543898,139.5013171,196.6492664,130.6377143,130.3797119,192.8736822,177.816092,161.5279095,122.4073418,168.8383605,184.4103931,177.3176161,152.0616227,121.5586297,156.1457255,171.6976946,185.1568059,163.2708732,175.3723314,147.8035305,192.7121236,193.5866233,115.2325531,161.3432535,163.6269496,129.5481144,192.4288139,136.3027766,162.5769606,171.8839938,194.8773479,134.6803969,158.8608887,126.8073984,137.7044047,143.9955548,156.6810374,145.105065,142.8610793,153.1201644,186.1728203,141.4831644,181.4170812,188.5506536,183.468585,166.2549307,177.7745075,127.92461,173.3228386,127.1752928,140.9370415],\"xaxis\":\"x\",\"y\":[26.33377983,26.45288458,25.70822684,24.12832546,23.44372334,23.4123707,23.05951896,23.07895447,27.6496114,25.46743689,26.7350622,26.20811417,27.0424167,24.65090184,27.35152643,25.17787724,23.11438731,27.22783677,23.26316991,25.234661,25.59535262,25.5674832,25.67324193,24.40726724,23.69287069,24.53460016,27.13140403,27.56088634,23.59302313,23.17714381,24.71384065,24.38534644,27.15998538,26.53543168,27.01207284,27.55906475,23.32293161,24.23850608,23.42611644,26.02241444,24.83846178,26.24092174,24.43011925,26.00373964,26.22367404,27.09617155,25.64004392,27.74576987,26.24928198,26.67377159,27.10210397,27.62975458,27.5364547,23.56960509,24.99451759,27.56441788,23.98143338,24.22984659,25.60153969,24.31274458,26.36629861,26.5602777,26.35034208,25.20406808,23.35723208,23.60567546,24.18471151,26.44414097,26.12492233,27.77363343,25.55656667,27.92374437,26.05968403,26.35770906,24.91370487,27.31317116,26.1387869,23.1069385,23.52648086,25.11711046,24.02952505,26.70897548,26.71717393,24.59245684,27.51006055,27.57847581,26.65069302,26.97251562,23.17124551,23.52652084,27.30901814,27.54823036,25.627355,23.29250318,24.91461008,26.77463708,27.41711238,24.13179691,26.2724184,23.60301571],\"yaxis\":\"y\",\"type\":\"scattergl\"}],                        {\"template\":{\"data\":{\"histogram2dcontour\":[{\"type\":\"histogram2dcontour\",\"colorbar\":{\"outlinewidth\":0,\"ticks\":\"\"},\"colorscale\":[[0.0,\"#0d0887\"],[0.1111111111111111,\"#46039f\"],[0.2222222222222222,\"#7201a8\"],[0.3333333333333333,\"#9c179e\"],[0.4444444444444444,\"#bd3786\"],[0.5555555555555556,\"#d8576b\"],[0.6666666666666666,\"#ed7953\"],[0.7777777777777778,\"#fb9f3a\"],[0.8888888888888888,\"#fdca26\"],[1.0,\"#f0f921\"]]}],\"choropleth\":[{\"type\":\"choropleth\",\"colorbar\":{\"outlinewidth\":0,\"ticks\":\"\"}}],\"histogram2d\":[{\"type\":\"histogram2d\",\"colorbar\":{\"outlinewidth\":0,\"ticks\":\"\"},\"colorscale\":[[0.0,\"#0d0887\"],[0.1111111111111111,\"#46039f\"],[0.2222222222222222,\"#7201a8\"],[0.3333333333333333,\"#9c179e\"],[0.4444444444444444,\"#bd3786\"],[0.5555555555555556,\"#d8576b\"],[0.6666666666666666,\"#ed7953\"],[0.7777777777777778,\"#fb9f3a\"],[0.8888888888888888,\"#fdca26\"],[1.0,\"#f0f921\"]]}],\"heatmap\":[{\"type\":\"heatmap\",\"colorbar\":{\"outlinewidth\":0,\"ticks\":\"\"},\"colorscale\":[[0.0,\"#0d0887\"],[0.1111111111111111,\"#46039f\"],[0.2222222222222222,\"#7201a8\"],[0.3333333333333333,\"#9c179e\"],[0.4444444444444444,\"#bd3786\"],[0.5555555555555556,\"#d8576b\"],[0.6666666666666666,\"#ed7953\"],[0.7777777777777778,\"#fb9f3a\"],[0.8888888888888888,\"#fdca26\"],[1.0,\"#f0f921\"]]}],\"heatmapgl\":[{\"type\":\"heatmapgl\",\"colorbar\":{\"outlinewidth\":0,\"ticks\":\"\"},\"colorscale\":[[0.0,\"#0d0887\"],[0.1111111111111111,\"#46039f\"],[0.2222222222222222,\"#7201a8\"],[0.3333333333333333,\"#9c179e\"],[0.4444444444444444,\"#bd3786\"],[0.5555555555555556,\"#d8576b\"],[0.6666666666666666,\"#ed7953\"],[0.7777777777777778,\"#fb9f3a\"],[0.8888888888888888,\"#fdca26\"],[1.0,\"#f0f921\"]]}],\"contourcarpet\":[{\"type\":\"contourcarpet\",\"colorbar\":{\"outlinewidth\":0,\"ticks\":\"\"}}],\"contour\":[{\"type\":\"contour\",\"colorbar\":{\"outlinewidth\":0,\"ticks\":\"\"},\"colorscale\":[[0.0,\"#0d0887\"],[0.1111111111111111,\"#46039f\"],[0.2222222222222222,\"#7201a8\"],[0.3333333333333333,\"#9c179e\"],[0.4444444444444444,\"#bd3786\"],[0.5555555555555556,\"#d8576b\"],[0.6666666666666666,\"#ed7953\"],[0.7777777777777778,\"#fb9f3a\"],[0.8888888888888888,\"#fdca26\"],[1.0,\"#f0f921\"]]}],\"surface\":[{\"type\":\"surface\",\"colorbar\":{\"outlinewidth\":0,\"ticks\":\"\"},\"colorscale\":[[0.0,\"#0d0887\"],[0.1111111111111111,\"#46039f\"],[0.2222222222222222,\"#7201a8\"],[0.3333333333333333,\"#9c179e\"],[0.4444444444444444,\"#bd3786\"],[0.5555555555555556,\"#d8576b\"],[0.6666666666666666,\"#ed7953\"],[0.7777777777777778,\"#fb9f3a\"],[0.8888888888888888,\"#fdca26\"],[1.0,\"#f0f921\"]]}],\"mesh3d\":[{\"type\":\"mesh3d\",\"colorbar\":{\"outlinewidth\":0,\"ticks\":\"\"}}],\"scatter\":[{\"fillpattern\":{\"fillmode\":\"overlay\",\"size\":10,\"solidity\":0.2},\"type\":\"scatter\"}],\"parcoords\":[{\"type\":\"parcoords\",\"line\":{\"colorbar\":{\"outlinewidth\":0,\"ticks\":\"\"}}}],\"scatterpolargl\":[{\"type\":\"scatterpolargl\",\"marker\":{\"colorbar\":{\"outlinewidth\":0,\"ticks\":\"\"}}}],\"bar\":[{\"error_x\":{\"color\":\"#2a3f5f\"},\"error_y\":{\"color\":\"#2a3f5f\"},\"marker\":{\"line\":{\"color\":\"#E5ECF6\",\"width\":0.5},\"pattern\":{\"fillmode\":\"overlay\",\"size\":10,\"solidity\":0.2}},\"type\":\"bar\"}],\"scattergeo\":[{\"type\":\"scattergeo\",\"marker\":{\"colorbar\":{\"outlinewidth\":0,\"ticks\":\"\"}}}],\"scatterpolar\":[{\"type\":\"scatterpolar\",\"marker\":{\"colorbar\":{\"outlinewidth\":0,\"ticks\":\"\"}}}],\"histogram\":[{\"marker\":{\"pattern\":{\"fillmode\":\"overlay\",\"size\":10,\"solidity\":0.2}},\"type\":\"histogram\"}],\"scattergl\":[{\"type\":\"scattergl\",\"marker\":{\"colorbar\":{\"outlinewidth\":0,\"ticks\":\"\"}}}],\"scatter3d\":[{\"type\":\"scatter3d\",\"line\":{\"colorbar\":{\"outlinewidth\":0,\"ticks\":\"\"}},\"marker\":{\"colorbar\":{\"outlinewidth\":0,\"ticks\":\"\"}}}],\"scattermapbox\":[{\"type\":\"scattermapbox\",\"marker\":{\"colorbar\":{\"outlinewidth\":0,\"ticks\":\"\"}}}],\"scatterternary\":[{\"type\":\"scatterternary\",\"marker\":{\"colorbar\":{\"outlinewidth\":0,\"ticks\":\"\"}}}],\"scattercarpet\":[{\"type\":\"scattercarpet\",\"marker\":{\"colorbar\":{\"outlinewidth\":0,\"ticks\":\"\"}}}],\"carpet\":[{\"aaxis\":{\"endlinecolor\":\"#2a3f5f\",\"gridcolor\":\"white\",\"linecolor\":\"white\",\"minorgridcolor\":\"white\",\"startlinecolor\":\"#2a3f5f\"},\"baxis\":{\"endlinecolor\":\"#2a3f5f\",\"gridcolor\":\"white\",\"linecolor\":\"white\",\"minorgridcolor\":\"white\",\"startlinecolor\":\"#2a3f5f\"},\"type\":\"carpet\"}],\"table\":[{\"cells\":{\"fill\":{\"color\":\"#EBF0F8\"},\"line\":{\"color\":\"white\"}},\"header\":{\"fill\":{\"color\":\"#C8D4E3\"},\"line\":{\"color\":\"white\"}},\"type\":\"table\"}],\"barpolar\":[{\"marker\":{\"line\":{\"color\":\"#E5ECF6\",\"width\":0.5},\"pattern\":{\"fillmode\":\"overlay\",\"size\":10,\"solidity\":0.2}},\"type\":\"barpolar\"}],\"pie\":[{\"automargin\":true,\"type\":\"pie\"}]},\"layout\":{\"autotypenumbers\":\"strict\",\"colorway\":[\"#636efa\",\"#EF553B\",\"#00cc96\",\"#ab63fa\",\"#FFA15A\",\"#19d3f3\",\"#FF6692\",\"#B6E880\",\"#FF97FF\",\"#FECB52\"],\"font\":{\"color\":\"#2a3f5f\"},\"hovermode\":\"closest\",\"hoverlabel\":{\"align\":\"left\"},\"paper_bgcolor\":\"white\",\"plot_bgcolor\":\"#E5ECF6\",\"polar\":{\"bgcolor\":\"#E5ECF6\",\"angularaxis\":{\"gridcolor\":\"white\",\"linecolor\":\"white\",\"ticks\":\"\"},\"radialaxis\":{\"gridcolor\":\"white\",\"linecolor\":\"white\",\"ticks\":\"\"}},\"ternary\":{\"bgcolor\":\"#E5ECF6\",\"aaxis\":{\"gridcolor\":\"white\",\"linecolor\":\"white\",\"ticks\":\"\"},\"baxis\":{\"gridcolor\":\"white\",\"linecolor\":\"white\",\"ticks\":\"\"},\"caxis\":{\"gridcolor\":\"white\",\"linecolor\":\"white\",\"ticks\":\"\"}},\"coloraxis\":{\"colorbar\":{\"outlinewidth\":0,\"ticks\":\"\"}},\"colorscale\":{\"sequential\":[[0.0,\"#0d0887\"],[0.1111111111111111,\"#46039f\"],[0.2222222222222222,\"#7201a8\"],[0.3333333333333333,\"#9c179e\"],[0.4444444444444444,\"#bd3786\"],[0.5555555555555556,\"#d8576b\"],[0.6666666666666666,\"#ed7953\"],[0.7777777777777778,\"#fb9f3a\"],[0.8888888888888888,\"#fdca26\"],[1.0,\"#f0f921\"]],\"sequentialminus\":[[0.0,\"#0d0887\"],[0.1111111111111111,\"#46039f\"],[0.2222222222222222,\"#7201a8\"],[0.3333333333333333,\"#9c179e\"],[0.4444444444444444,\"#bd3786\"],[0.5555555555555556,\"#d8576b\"],[0.6666666666666666,\"#ed7953\"],[0.7777777777777778,\"#fb9f3a\"],[0.8888888888888888,\"#fdca26\"],[1.0,\"#f0f921\"]],\"diverging\":[[0,\"#8e0152\"],[0.1,\"#c51b7d\"],[0.2,\"#de77ae\"],[0.3,\"#f1b6da\"],[0.4,\"#fde0ef\"],[0.5,\"#f7f7f7\"],[0.6,\"#e6f5d0\"],[0.7,\"#b8e186\"],[0.8,\"#7fbc41\"],[0.9,\"#4d9221\"],[1,\"#276419\"]]},\"xaxis\":{\"gridcolor\":\"white\",\"linecolor\":\"white\",\"ticks\":\"\",\"title\":{\"standoff\":15},\"zerolinecolor\":\"white\",\"automargin\":true,\"zerolinewidth\":2},\"yaxis\":{\"gridcolor\":\"white\",\"linecolor\":\"white\",\"ticks\":\"\",\"title\":{\"standoff\":15},\"zerolinecolor\":\"white\",\"automargin\":true,\"zerolinewidth\":2},\"scene\":{\"xaxis\":{\"backgroundcolor\":\"#E5ECF6\",\"gridcolor\":\"white\",\"linecolor\":\"white\",\"showbackground\":true,\"ticks\":\"\",\"zerolinecolor\":\"white\",\"gridwidth\":2},\"yaxis\":{\"backgroundcolor\":\"#E5ECF6\",\"gridcolor\":\"white\",\"linecolor\":\"white\",\"showbackground\":true,\"ticks\":\"\",\"zerolinecolor\":\"white\",\"gridwidth\":2},\"zaxis\":{\"backgroundcolor\":\"#E5ECF6\",\"gridcolor\":\"white\",\"linecolor\":\"white\",\"showbackground\":true,\"ticks\":\"\",\"zerolinecolor\":\"white\",\"gridwidth\":2}},\"shapedefaults\":{\"line\":{\"color\":\"#2a3f5f\"}},\"annotationdefaults\":{\"arrowcolor\":\"#2a3f5f\",\"arrowhead\":0,\"arrowwidth\":1},\"geo\":{\"bgcolor\":\"white\",\"landcolor\":\"#E5ECF6\",\"subunitcolor\":\"white\",\"showland\":true,\"showlakes\":true,\"lakecolor\":\"white\"},\"title\":{\"x\":0.05},\"mapbox\":{\"style\":\"light\"}}},\"xaxis\":{\"anchor\":\"y\",\"domain\":[0.0,1.0],\"title\":{\"text\":\"Rainfall\"}},\"yaxis\":{\"anchor\":\"x\",\"domain\":[0.0,1.0],\"title\":{\"text\":\"Temperature\"}},\"legend\":{\"title\":{\"text\":\"Crop\"},\"tracegroupgap\":0},\"title\":{\"text\":\"Rainfall vs. Temperature\"}},                        {\"responsive\": true}                    ).then(function(){\n",
       "                            \n",
       "var gd = document.getElementById('d1d1e706-0bb7-4310-8432-19c5f38ec7da');\n",
       "var x = new MutationObserver(function (mutations, observer) {{\n",
       "        var display = window.getComputedStyle(gd).display;\n",
       "        if (!display || display === 'none') {{\n",
       "            console.log([gd, 'removed!']);\n",
       "            Plotly.purge(gd);\n",
       "            observer.disconnect();\n",
       "        }}\n",
       "}});\n",
       "\n",
       "// Listen for the removal of the full notebook cells\n",
       "var notebookContainer = gd.closest('#notebook-container');\n",
       "if (notebookContainer) {{\n",
       "    x.observe(notebookContainer, {childList: true});\n",
       "}}\n",
       "\n",
       "// Listen for the clearing of the current output cell\n",
       "var outputEl = gd.closest('.output');\n",
       "if (outputEl) {{\n",
       "    x.observe(outputEl, {childList: true});\n",
       "}}\n",
       "\n",
       "                        })                };                });            </script>        </div>"
      ]
     },
     "metadata": {},
     "output_type": "display_data"
    }
   ],
   "source": [
    "# Scatter plot example (replace with appropriate visualization)\n",
    "scatter_fig = px.scatter(df, x='Rainfall', y='Temperature', color='Crop', title='Rainfall vs. Temperature')\n",
    "scatter_fig.show()"
   ]
  },
  {
   "cell_type": "code",
   "execution_count": 17,
   "id": "8386474e",
   "metadata": {
    "execution": {
     "iopub.execute_input": "2024-10-14T15:08:30.262212Z",
     "iopub.status.busy": "2024-10-14T15:08:30.261767Z",
     "iopub.status.idle": "2024-10-14T15:08:30.525586Z",
     "shell.execute_reply": "2024-10-14T15:08:30.524404Z"
    },
    "papermill": {
     "duration": 0.284827,
     "end_time": "2024-10-14T15:08:30.528576",
     "exception": false,
     "start_time": "2024-10-14T15:08:30.243749",
     "status": "completed"
    },
    "tags": []
   },
   "outputs": [
    {
     "data": {
      "text/html": [
       "<div>                            <div id=\"de2f0ca8-3086-4f0a-96ab-0e065069871c\" class=\"plotly-graph-div\" style=\"height:525px; width:100%;\"></div>            <script type=\"text/javascript\">                require([\"plotly\"], function(Plotly) {                    window.PLOTLYENV=window.PLOTLYENV || {};                                    if (document.getElementById(\"de2f0ca8-3086-4f0a-96ab-0e065069871c\")) {                    Plotly.newPlot(                        \"de2f0ca8-3086-4f0a-96ab-0e065069871c\",                        [{\"alignmentgroup\":\"True\",\"hovertemplate\":\"Crop=%{x}\\u003cbr\\u003eNitrogen=%{y}\\u003cextra\\u003e\\u003c\\u002fextra\\u003e\",\"legendgroup\":\"\",\"marker\":{\"color\":\"#636efa\"},\"name\":\"\",\"notched\":false,\"offsetgroup\":\"\",\"orientation\":\"v\",\"showlegend\":false,\"x\":[\"Rice\",\"Rice\",\"Rice\",\"Rice\",\"Rice\",\"Rice\",\"Rice\",\"Rice\",\"Rice\",\"Rice\",\"Rice\",\"Rice\",\"Rice\",\"Rice\",\"Rice\",\"Rice\",\"Rice\",\"Rice\",\"Rice\",\"Rice\",\"Rice\",\"Rice\",\"Rice\",\"Rice\",\"Rice\",\"Rice\",\"Rice\",\"Rice\",\"Rice\",\"Rice\",\"Rice\",\"Rice\",\"Rice\",\"Rice\",\"Rice\",\"Rice\",\"Rice\",\"Rice\",\"Rice\",\"Rice\",\"Rice\",\"Rice\",\"Rice\",\"Rice\",\"Rice\",\"Rice\",\"Rice\",\"Rice\",\"Rice\",\"Rice\",\"Rice\",\"Rice\",\"Rice\",\"Rice\",\"Rice\",\"Rice\",\"Rice\",\"Rice\",\"Rice\",\"Rice\",\"Rice\",\"Rice\",\"Rice\",\"Rice\",\"Rice\",\"Rice\",\"Rice\",\"Rice\",\"Rice\",\"Rice\",\"Rice\",\"Rice\",\"Rice\",\"Rice\",\"Rice\",\"Rice\",\"Rice\",\"Rice\",\"Rice\",\"Rice\",\"Rice\",\"Rice\",\"Rice\",\"Rice\",\"Rice\",\"Rice\",\"Rice\",\"Rice\",\"Rice\",\"Rice\",\"Rice\",\"Rice\",\"Rice\",\"Rice\",\"Rice\",\"Rice\",\"Rice\",\"Rice\",\"Rice\",\"Rice\",\"Maize\",\"Maize\",\"Maize\",\"Maize\",\"Maize\",\"Maize\",\"Maize\",\"Maize\",\"Maize\",\"Maize\",\"Maize\",\"Maize\",\"Maize\",\"Maize\",\"Maize\",\"Maize\",\"Maize\",\"Maize\",\"Maize\",\"Maize\",\"Maize\",\"Maize\",\"Maize\",\"Maize\",\"Maize\",\"Maize\",\"Maize\",\"Maize\",\"Maize\",\"Maize\",\"Maize\",\"Maize\",\"Maize\",\"Maize\",\"Maize\",\"Maize\",\"Maize\",\"Maize\",\"Maize\",\"Maize\",\"Maize\",\"Maize\",\"Maize\",\"Maize\",\"Maize\",\"Maize\",\"Maize\",\"Maize\",\"Maize\",\"Maize\",\"Maize\",\"Maize\",\"Maize\",\"Maize\",\"Maize\",\"Maize\",\"Maize\",\"Maize\",\"Maize\",\"Maize\",\"Maize\",\"Maize\",\"Maize\",\"Maize\",\"Maize\",\"Maize\",\"Maize\",\"Maize\",\"Maize\",\"Maize\",\"Maize\",\"Maize\",\"Maize\",\"Maize\",\"Maize\",\"Maize\",\"Maize\",\"Maize\",\"Maize\",\"Maize\",\"Maize\",\"Maize\",\"Maize\",\"Maize\",\"Maize\",\"Maize\",\"Maize\",\"Maize\",\"Maize\",\"Maize\",\"Maize\",\"Maize\",\"Maize\",\"Maize\",\"Maize\",\"Maize\",\"Maize\",\"Maize\",\"Maize\",\"Maize\",\"ChickPea\",\"ChickPea\",\"ChickPea\",\"ChickPea\",\"ChickPea\",\"ChickPea\",\"ChickPea\",\"ChickPea\",\"ChickPea\",\"ChickPea\",\"ChickPea\",\"ChickPea\",\"ChickPea\",\"ChickPea\",\"ChickPea\",\"ChickPea\",\"ChickPea\",\"ChickPea\",\"ChickPea\",\"ChickPea\",\"ChickPea\",\"ChickPea\",\"ChickPea\",\"ChickPea\",\"ChickPea\",\"ChickPea\",\"ChickPea\",\"ChickPea\",\"ChickPea\",\"ChickPea\",\"ChickPea\",\"ChickPea\",\"ChickPea\",\"ChickPea\",\"ChickPea\",\"ChickPea\",\"ChickPea\",\"ChickPea\",\"ChickPea\",\"ChickPea\",\"ChickPea\",\"ChickPea\",\"ChickPea\",\"ChickPea\",\"ChickPea\",\"ChickPea\",\"ChickPea\",\"ChickPea\",\"ChickPea\",\"ChickPea\",\"ChickPea\",\"ChickPea\",\"ChickPea\",\"ChickPea\",\"ChickPea\",\"ChickPea\",\"ChickPea\",\"ChickPea\",\"ChickPea\",\"ChickPea\",\"ChickPea\",\"ChickPea\",\"ChickPea\",\"ChickPea\",\"ChickPea\",\"ChickPea\",\"ChickPea\",\"ChickPea\",\"ChickPea\",\"ChickPea\",\"ChickPea\",\"ChickPea\",\"ChickPea\",\"ChickPea\",\"ChickPea\",\"ChickPea\",\"ChickPea\",\"ChickPea\",\"ChickPea\",\"ChickPea\",\"ChickPea\",\"ChickPea\",\"ChickPea\",\"ChickPea\",\"ChickPea\",\"ChickPea\",\"ChickPea\",\"ChickPea\",\"ChickPea\",\"ChickPea\",\"ChickPea\",\"ChickPea\",\"ChickPea\",\"ChickPea\",\"ChickPea\",\"ChickPea\",\"ChickPea\",\"ChickPea\",\"ChickPea\",\"ChickPea\",\"KidneyBeans\",\"KidneyBeans\",\"KidneyBeans\",\"KidneyBeans\",\"KidneyBeans\",\"KidneyBeans\",\"KidneyBeans\",\"KidneyBeans\",\"KidneyBeans\",\"KidneyBeans\",\"KidneyBeans\",\"KidneyBeans\",\"KidneyBeans\",\"KidneyBeans\",\"KidneyBeans\",\"KidneyBeans\",\"KidneyBeans\",\"KidneyBeans\",\"KidneyBeans\",\"KidneyBeans\",\"KidneyBeans\",\"KidneyBeans\",\"KidneyBeans\",\"KidneyBeans\",\"KidneyBeans\",\"KidneyBeans\",\"KidneyBeans\",\"KidneyBeans\",\"KidneyBeans\",\"KidneyBeans\",\"KidneyBeans\",\"KidneyBeans\",\"KidneyBeans\",\"KidneyBeans\",\"KidneyBeans\",\"KidneyBeans\",\"KidneyBeans\",\"KidneyBeans\",\"KidneyBeans\",\"KidneyBeans\",\"KidneyBeans\",\"KidneyBeans\",\"KidneyBeans\",\"KidneyBeans\",\"KidneyBeans\",\"KidneyBeans\",\"KidneyBeans\",\"KidneyBeans\",\"KidneyBeans\",\"KidneyBeans\",\"KidneyBeans\",\"KidneyBeans\",\"KidneyBeans\",\"KidneyBeans\",\"KidneyBeans\",\"KidneyBeans\",\"KidneyBeans\",\"KidneyBeans\",\"KidneyBeans\",\"KidneyBeans\",\"KidneyBeans\",\"KidneyBeans\",\"KidneyBeans\",\"KidneyBeans\",\"KidneyBeans\",\"KidneyBeans\",\"KidneyBeans\",\"KidneyBeans\",\"KidneyBeans\",\"KidneyBeans\",\"KidneyBeans\",\"KidneyBeans\",\"KidneyBeans\",\"KidneyBeans\",\"KidneyBeans\",\"KidneyBeans\",\"KidneyBeans\",\"KidneyBeans\",\"KidneyBeans\",\"KidneyBeans\",\"KidneyBeans\",\"KidneyBeans\",\"KidneyBeans\",\"KidneyBeans\",\"KidneyBeans\",\"KidneyBeans\",\"KidneyBeans\",\"KidneyBeans\",\"KidneyBeans\",\"KidneyBeans\",\"KidneyBeans\",\"KidneyBeans\",\"KidneyBeans\",\"KidneyBeans\",\"KidneyBeans\",\"KidneyBeans\",\"KidneyBeans\",\"KidneyBeans\",\"KidneyBeans\",\"KidneyBeans\",\"PigeonPeas\",\"PigeonPeas\",\"PigeonPeas\",\"PigeonPeas\",\"PigeonPeas\",\"PigeonPeas\",\"PigeonPeas\",\"PigeonPeas\",\"PigeonPeas\",\"PigeonPeas\",\"PigeonPeas\",\"PigeonPeas\",\"PigeonPeas\",\"PigeonPeas\",\"PigeonPeas\",\"PigeonPeas\",\"PigeonPeas\",\"PigeonPeas\",\"PigeonPeas\",\"PigeonPeas\",\"PigeonPeas\",\"PigeonPeas\",\"PigeonPeas\",\"PigeonPeas\",\"PigeonPeas\",\"PigeonPeas\",\"PigeonPeas\",\"PigeonPeas\",\"PigeonPeas\",\"PigeonPeas\",\"PigeonPeas\",\"PigeonPeas\",\"PigeonPeas\",\"PigeonPeas\",\"PigeonPeas\",\"PigeonPeas\",\"PigeonPeas\",\"PigeonPeas\",\"PigeonPeas\",\"PigeonPeas\",\"PigeonPeas\",\"PigeonPeas\",\"PigeonPeas\",\"PigeonPeas\",\"PigeonPeas\",\"PigeonPeas\",\"PigeonPeas\",\"PigeonPeas\",\"PigeonPeas\",\"PigeonPeas\",\"PigeonPeas\",\"PigeonPeas\",\"PigeonPeas\",\"PigeonPeas\",\"PigeonPeas\",\"PigeonPeas\",\"PigeonPeas\",\"PigeonPeas\",\"PigeonPeas\",\"PigeonPeas\",\"PigeonPeas\",\"PigeonPeas\",\"PigeonPeas\",\"PigeonPeas\",\"PigeonPeas\",\"PigeonPeas\",\"PigeonPeas\",\"PigeonPeas\",\"PigeonPeas\",\"PigeonPeas\",\"PigeonPeas\",\"PigeonPeas\",\"PigeonPeas\",\"PigeonPeas\",\"PigeonPeas\",\"PigeonPeas\",\"PigeonPeas\",\"PigeonPeas\",\"PigeonPeas\",\"PigeonPeas\",\"PigeonPeas\",\"PigeonPeas\",\"PigeonPeas\",\"PigeonPeas\",\"PigeonPeas\",\"PigeonPeas\",\"PigeonPeas\",\"PigeonPeas\",\"PigeonPeas\",\"PigeonPeas\",\"PigeonPeas\",\"PigeonPeas\",\"PigeonPeas\",\"PigeonPeas\",\"PigeonPeas\",\"PigeonPeas\",\"PigeonPeas\",\"PigeonPeas\",\"PigeonPeas\",\"PigeonPeas\",\"MothBeans\",\"MothBeans\",\"MothBeans\",\"MothBeans\",\"MothBeans\",\"MothBeans\",\"MothBeans\",\"MothBeans\",\"MothBeans\",\"MothBeans\",\"MothBeans\",\"MothBeans\",\"MothBeans\",\"MothBeans\",\"MothBeans\",\"MothBeans\",\"MothBeans\",\"MothBeans\",\"MothBeans\",\"MothBeans\",\"MothBeans\",\"MothBeans\",\"MothBeans\",\"MothBeans\",\"MothBeans\",\"MothBeans\",\"MothBeans\",\"MothBeans\",\"MothBeans\",\"MothBeans\",\"MothBeans\",\"MothBeans\",\"MothBeans\",\"MothBeans\",\"MothBeans\",\"MothBeans\",\"MothBeans\",\"MothBeans\",\"MothBeans\",\"MothBeans\",\"MothBeans\",\"MothBeans\",\"MothBeans\",\"MothBeans\",\"MothBeans\",\"MothBeans\",\"MothBeans\",\"MothBeans\",\"MothBeans\",\"MothBeans\",\"MothBeans\",\"MothBeans\",\"MothBeans\",\"MothBeans\",\"MothBeans\",\"MothBeans\",\"MothBeans\",\"MothBeans\",\"MothBeans\",\"MothBeans\",\"MothBeans\",\"MothBeans\",\"MothBeans\",\"MothBeans\",\"MothBeans\",\"MothBeans\",\"MothBeans\",\"MothBeans\",\"MothBeans\",\"MothBeans\",\"MothBeans\",\"MothBeans\",\"MothBeans\",\"MothBeans\",\"MothBeans\",\"MothBeans\",\"MothBeans\",\"MothBeans\",\"MothBeans\",\"MothBeans\",\"MothBeans\",\"MothBeans\",\"MothBeans\",\"MothBeans\",\"MothBeans\",\"MothBeans\",\"MothBeans\",\"MothBeans\",\"MothBeans\",\"MothBeans\",\"MothBeans\",\"MothBeans\",\"MothBeans\",\"MothBeans\",\"MothBeans\",\"MothBeans\",\"MothBeans\",\"MothBeans\",\"MothBeans\",\"MothBeans\",\"MungBean\",\"MungBean\",\"MungBean\",\"MungBean\",\"MungBean\",\"MungBean\",\"MungBean\",\"MungBean\",\"MungBean\",\"MungBean\",\"MungBean\",\"MungBean\",\"MungBean\",\"MungBean\",\"MungBean\",\"MungBean\",\"MungBean\",\"MungBean\",\"MungBean\",\"MungBean\",\"MungBean\",\"MungBean\",\"MungBean\",\"MungBean\",\"MungBean\",\"MungBean\",\"MungBean\",\"MungBean\",\"MungBean\",\"MungBean\",\"MungBean\",\"MungBean\",\"MungBean\",\"MungBean\",\"MungBean\",\"MungBean\",\"MungBean\",\"MungBean\",\"MungBean\",\"MungBean\",\"MungBean\",\"MungBean\",\"MungBean\",\"MungBean\",\"MungBean\",\"MungBean\",\"MungBean\",\"MungBean\",\"MungBean\",\"MungBean\",\"MungBean\",\"MungBean\",\"MungBean\",\"MungBean\",\"MungBean\",\"MungBean\",\"MungBean\",\"MungBean\",\"MungBean\",\"MungBean\",\"MungBean\",\"MungBean\",\"MungBean\",\"MungBean\",\"MungBean\",\"MungBean\",\"MungBean\",\"MungBean\",\"MungBean\",\"MungBean\",\"MungBean\",\"MungBean\",\"MungBean\",\"MungBean\",\"MungBean\",\"MungBean\",\"MungBean\",\"MungBean\",\"MungBean\",\"MungBean\",\"MungBean\",\"MungBean\",\"MungBean\",\"MungBean\",\"MungBean\",\"MungBean\",\"MungBean\",\"MungBean\",\"MungBean\",\"MungBean\",\"MungBean\",\"MungBean\",\"MungBean\",\"MungBean\",\"MungBean\",\"MungBean\",\"MungBean\",\"MungBean\",\"MungBean\",\"MungBean\",\"Blackgram\",\"Blackgram\",\"Blackgram\",\"Blackgram\",\"Blackgram\",\"Blackgram\",\"Blackgram\",\"Blackgram\",\"Blackgram\",\"Blackgram\",\"Blackgram\",\"Blackgram\",\"Blackgram\",\"Blackgram\",\"Blackgram\",\"Blackgram\",\"Blackgram\",\"Blackgram\",\"Blackgram\",\"Blackgram\",\"Blackgram\",\"Blackgram\",\"Blackgram\",\"Blackgram\",\"Blackgram\",\"Blackgram\",\"Blackgram\",\"Blackgram\",\"Blackgram\",\"Blackgram\",\"Blackgram\",\"Blackgram\",\"Blackgram\",\"Blackgram\",\"Blackgram\",\"Blackgram\",\"Blackgram\",\"Blackgram\",\"Blackgram\",\"Blackgram\",\"Blackgram\",\"Blackgram\",\"Blackgram\",\"Blackgram\",\"Blackgram\",\"Blackgram\",\"Blackgram\",\"Blackgram\",\"Blackgram\",\"Blackgram\",\"Blackgram\",\"Blackgram\",\"Blackgram\",\"Blackgram\",\"Blackgram\",\"Blackgram\",\"Blackgram\",\"Blackgram\",\"Blackgram\",\"Blackgram\",\"Blackgram\",\"Blackgram\",\"Blackgram\",\"Blackgram\",\"Blackgram\",\"Blackgram\",\"Blackgram\",\"Blackgram\",\"Blackgram\",\"Blackgram\",\"Blackgram\",\"Blackgram\",\"Blackgram\",\"Blackgram\",\"Blackgram\",\"Blackgram\",\"Blackgram\",\"Blackgram\",\"Blackgram\",\"Blackgram\",\"Blackgram\",\"Blackgram\",\"Blackgram\",\"Blackgram\",\"Blackgram\",\"Blackgram\",\"Blackgram\",\"Blackgram\",\"Blackgram\",\"Blackgram\",\"Blackgram\",\"Blackgram\",\"Blackgram\",\"Blackgram\",\"Blackgram\",\"Blackgram\",\"Blackgram\",\"Blackgram\",\"Blackgram\",\"Blackgram\",\"Lentil\",\"Lentil\",\"Lentil\",\"Lentil\",\"Lentil\",\"Lentil\",\"Lentil\",\"Lentil\",\"Lentil\",\"Lentil\",\"Lentil\",\"Lentil\",\"Lentil\",\"Lentil\",\"Lentil\",\"Lentil\",\"Lentil\",\"Lentil\",\"Lentil\",\"Lentil\",\"Lentil\",\"Lentil\",\"Lentil\",\"Lentil\",\"Lentil\",\"Lentil\",\"Lentil\",\"Lentil\",\"Lentil\",\"Lentil\",\"Lentil\",\"Lentil\",\"Lentil\",\"Lentil\",\"Lentil\",\"Lentil\",\"Lentil\",\"Lentil\",\"Lentil\",\"Lentil\",\"Lentil\",\"Lentil\",\"Lentil\",\"Lentil\",\"Lentil\",\"Lentil\",\"Lentil\",\"Lentil\",\"Lentil\",\"Lentil\",\"Lentil\",\"Lentil\",\"Lentil\",\"Lentil\",\"Lentil\",\"Lentil\",\"Lentil\",\"Lentil\",\"Lentil\",\"Lentil\",\"Lentil\",\"Lentil\",\"Lentil\",\"Lentil\",\"Lentil\",\"Lentil\",\"Lentil\",\"Lentil\",\"Lentil\",\"Lentil\",\"Lentil\",\"Lentil\",\"Lentil\",\"Lentil\",\"Lentil\",\"Lentil\",\"Lentil\",\"Lentil\",\"Lentil\",\"Lentil\",\"Lentil\",\"Lentil\",\"Lentil\",\"Lentil\",\"Lentil\",\"Lentil\",\"Lentil\",\"Lentil\",\"Lentil\",\"Lentil\",\"Lentil\",\"Lentil\",\"Lentil\",\"Lentil\",\"Lentil\",\"Lentil\",\"Lentil\",\"Lentil\",\"Lentil\",\"Lentil\",\"Pomegranate\",\"Pomegranate\",\"Pomegranate\",\"Pomegranate\",\"Pomegranate\",\"Pomegranate\",\"Pomegranate\",\"Pomegranate\",\"Pomegranate\",\"Pomegranate\",\"Pomegranate\",\"Pomegranate\",\"Pomegranate\",\"Pomegranate\",\"Pomegranate\",\"Pomegranate\",\"Pomegranate\",\"Pomegranate\",\"Pomegranate\",\"Pomegranate\",\"Pomegranate\",\"Pomegranate\",\"Pomegranate\",\"Pomegranate\",\"Pomegranate\",\"Pomegranate\",\"Pomegranate\",\"Pomegranate\",\"Pomegranate\",\"Pomegranate\",\"Pomegranate\",\"Pomegranate\",\"Pomegranate\",\"Pomegranate\",\"Pomegranate\",\"Pomegranate\",\"Pomegranate\",\"Pomegranate\",\"Pomegranate\",\"Pomegranate\",\"Pomegranate\",\"Pomegranate\",\"Pomegranate\",\"Pomegranate\",\"Pomegranate\",\"Pomegranate\",\"Pomegranate\",\"Pomegranate\",\"Pomegranate\",\"Pomegranate\",\"Pomegranate\",\"Pomegranate\",\"Pomegranate\",\"Pomegranate\",\"Pomegranate\",\"Pomegranate\",\"Pomegranate\",\"Pomegranate\",\"Pomegranate\",\"Pomegranate\",\"Pomegranate\",\"Pomegranate\",\"Pomegranate\",\"Pomegranate\",\"Pomegranate\",\"Pomegranate\",\"Pomegranate\",\"Pomegranate\",\"Pomegranate\",\"Pomegranate\",\"Pomegranate\",\"Pomegranate\",\"Pomegranate\",\"Pomegranate\",\"Pomegranate\",\"Pomegranate\",\"Pomegranate\",\"Pomegranate\",\"Pomegranate\",\"Pomegranate\",\"Pomegranate\",\"Pomegranate\",\"Pomegranate\",\"Pomegranate\",\"Pomegranate\",\"Pomegranate\",\"Pomegranate\",\"Pomegranate\",\"Pomegranate\",\"Pomegranate\",\"Pomegranate\",\"Pomegranate\",\"Pomegranate\",\"Pomegranate\",\"Pomegranate\",\"Pomegranate\",\"Pomegranate\",\"Pomegranate\",\"Pomegranate\",\"Pomegranate\",\"Banana\",\"Banana\",\"Banana\",\"Banana\",\"Banana\",\"Banana\",\"Banana\",\"Banana\",\"Banana\",\"Banana\",\"Banana\",\"Banana\",\"Banana\",\"Banana\",\"Banana\",\"Banana\",\"Banana\",\"Banana\",\"Banana\",\"Banana\",\"Banana\",\"Banana\",\"Banana\",\"Banana\",\"Banana\",\"Banana\",\"Banana\",\"Banana\",\"Banana\",\"Banana\",\"Banana\",\"Banana\",\"Banana\",\"Banana\",\"Banana\",\"Banana\",\"Banana\",\"Banana\",\"Banana\",\"Banana\",\"Banana\",\"Banana\",\"Banana\",\"Banana\",\"Banana\",\"Banana\",\"Banana\",\"Banana\",\"Banana\",\"Banana\",\"Banana\",\"Banana\",\"Banana\",\"Banana\",\"Banana\",\"Banana\",\"Banana\",\"Banana\",\"Banana\",\"Banana\",\"Banana\",\"Banana\",\"Banana\",\"Banana\",\"Banana\",\"Banana\",\"Banana\",\"Banana\",\"Banana\",\"Banana\",\"Banana\",\"Banana\",\"Banana\",\"Banana\",\"Banana\",\"Banana\",\"Banana\",\"Banana\",\"Banana\",\"Banana\",\"Banana\",\"Banana\",\"Banana\",\"Banana\",\"Banana\",\"Banana\",\"Banana\",\"Banana\",\"Banana\",\"Banana\",\"Banana\",\"Banana\",\"Banana\",\"Banana\",\"Banana\",\"Banana\",\"Banana\",\"Banana\",\"Banana\",\"Banana\",\"Mango\",\"Mango\",\"Mango\",\"Mango\",\"Mango\",\"Mango\",\"Mango\",\"Mango\",\"Mango\",\"Mango\",\"Mango\",\"Mango\",\"Mango\",\"Mango\",\"Mango\",\"Mango\",\"Mango\",\"Mango\",\"Mango\",\"Mango\",\"Mango\",\"Mango\",\"Mango\",\"Mango\",\"Mango\",\"Mango\",\"Mango\",\"Mango\",\"Mango\",\"Mango\",\"Mango\",\"Mango\",\"Mango\",\"Mango\",\"Mango\",\"Mango\",\"Mango\",\"Mango\",\"Mango\",\"Mango\",\"Mango\",\"Mango\",\"Mango\",\"Mango\",\"Mango\",\"Mango\",\"Mango\",\"Mango\",\"Mango\",\"Mango\",\"Mango\",\"Mango\",\"Mango\",\"Mango\",\"Mango\",\"Mango\",\"Mango\",\"Mango\",\"Mango\",\"Mango\",\"Mango\",\"Mango\",\"Mango\",\"Mango\",\"Mango\",\"Mango\",\"Mango\",\"Mango\",\"Mango\",\"Mango\",\"Mango\",\"Mango\",\"Mango\",\"Mango\",\"Mango\",\"Mango\",\"Mango\",\"Mango\",\"Mango\",\"Mango\",\"Mango\",\"Mango\",\"Mango\",\"Mango\",\"Mango\",\"Mango\",\"Mango\",\"Mango\",\"Mango\",\"Mango\",\"Mango\",\"Mango\",\"Mango\",\"Mango\",\"Mango\",\"Mango\",\"Mango\",\"Mango\",\"Mango\",\"Mango\",\"Grapes\",\"Grapes\",\"Grapes\",\"Grapes\",\"Grapes\",\"Grapes\",\"Grapes\",\"Grapes\",\"Grapes\",\"Grapes\",\"Grapes\",\"Grapes\",\"Grapes\",\"Grapes\",\"Grapes\",\"Grapes\",\"Grapes\",\"Grapes\",\"Grapes\",\"Grapes\",\"Grapes\",\"Grapes\",\"Grapes\",\"Grapes\",\"Grapes\",\"Grapes\",\"Grapes\",\"Grapes\",\"Grapes\",\"Grapes\",\"Grapes\",\"Grapes\",\"Grapes\",\"Grapes\",\"Grapes\",\"Grapes\",\"Grapes\",\"Grapes\",\"Grapes\",\"Grapes\",\"Grapes\",\"Grapes\",\"Grapes\",\"Grapes\",\"Grapes\",\"Grapes\",\"Grapes\",\"Grapes\",\"Grapes\",\"Grapes\",\"Grapes\",\"Grapes\",\"Grapes\",\"Grapes\",\"Grapes\",\"Grapes\",\"Grapes\",\"Grapes\",\"Grapes\",\"Grapes\",\"Grapes\",\"Grapes\",\"Grapes\",\"Grapes\",\"Grapes\",\"Grapes\",\"Grapes\",\"Grapes\",\"Grapes\",\"Grapes\",\"Grapes\",\"Grapes\",\"Grapes\",\"Grapes\",\"Grapes\",\"Grapes\",\"Grapes\",\"Grapes\",\"Grapes\",\"Grapes\",\"Grapes\",\"Grapes\",\"Grapes\",\"Grapes\",\"Grapes\",\"Grapes\",\"Grapes\",\"Grapes\",\"Grapes\",\"Grapes\",\"Grapes\",\"Grapes\",\"Grapes\",\"Grapes\",\"Grapes\",\"Grapes\",\"Grapes\",\"Grapes\",\"Grapes\",\"Grapes\",\"Watermelon\",\"Watermelon\",\"Watermelon\",\"Watermelon\",\"Watermelon\",\"Watermelon\",\"Watermelon\",\"Watermelon\",\"Watermelon\",\"Watermelon\",\"Watermelon\",\"Watermelon\",\"Watermelon\",\"Watermelon\",\"Watermelon\",\"Watermelon\",\"Watermelon\",\"Watermelon\",\"Watermelon\",\"Watermelon\",\"Watermelon\",\"Watermelon\",\"Watermelon\",\"Watermelon\",\"Watermelon\",\"Watermelon\",\"Watermelon\",\"Watermelon\",\"Watermelon\",\"Watermelon\",\"Watermelon\",\"Watermelon\",\"Watermelon\",\"Watermelon\",\"Watermelon\",\"Watermelon\",\"Watermelon\",\"Watermelon\",\"Watermelon\",\"Watermelon\",\"Watermelon\",\"Watermelon\",\"Watermelon\",\"Watermelon\",\"Watermelon\",\"Watermelon\",\"Watermelon\",\"Watermelon\",\"Watermelon\",\"Watermelon\",\"Watermelon\",\"Watermelon\",\"Watermelon\",\"Watermelon\",\"Watermelon\",\"Watermelon\",\"Watermelon\",\"Watermelon\",\"Watermelon\",\"Watermelon\",\"Watermelon\",\"Watermelon\",\"Watermelon\",\"Watermelon\",\"Watermelon\",\"Watermelon\",\"Watermelon\",\"Watermelon\",\"Watermelon\",\"Watermelon\",\"Watermelon\",\"Watermelon\",\"Watermelon\",\"Watermelon\",\"Watermelon\",\"Watermelon\",\"Watermelon\",\"Watermelon\",\"Watermelon\",\"Watermelon\",\"Watermelon\",\"Watermelon\",\"Watermelon\",\"Watermelon\",\"Watermelon\",\"Watermelon\",\"Watermelon\",\"Watermelon\",\"Watermelon\",\"Watermelon\",\"Watermelon\",\"Watermelon\",\"Watermelon\",\"Watermelon\",\"Watermelon\",\"Watermelon\",\"Watermelon\",\"Watermelon\",\"Watermelon\",\"Watermelon\",\"Muskmelon\",\"Muskmelon\",\"Muskmelon\",\"Muskmelon\",\"Muskmelon\",\"Muskmelon\",\"Muskmelon\",\"Muskmelon\",\"Muskmelon\",\"Muskmelon\",\"Muskmelon\",\"Muskmelon\",\"Muskmelon\",\"Muskmelon\",\"Muskmelon\",\"Muskmelon\",\"Muskmelon\",\"Muskmelon\",\"Muskmelon\",\"Muskmelon\",\"Muskmelon\",\"Muskmelon\",\"Muskmelon\",\"Muskmelon\",\"Muskmelon\",\"Muskmelon\",\"Muskmelon\",\"Muskmelon\",\"Muskmelon\",\"Muskmelon\",\"Muskmelon\",\"Muskmelon\",\"Muskmelon\",\"Muskmelon\",\"Muskmelon\",\"Muskmelon\",\"Muskmelon\",\"Muskmelon\",\"Muskmelon\",\"Muskmelon\",\"Muskmelon\",\"Muskmelon\",\"Muskmelon\",\"Muskmelon\",\"Muskmelon\",\"Muskmelon\",\"Muskmelon\",\"Muskmelon\",\"Muskmelon\",\"Muskmelon\",\"Muskmelon\",\"Muskmelon\",\"Muskmelon\",\"Muskmelon\",\"Muskmelon\",\"Muskmelon\",\"Muskmelon\",\"Muskmelon\",\"Muskmelon\",\"Muskmelon\",\"Muskmelon\",\"Muskmelon\",\"Muskmelon\",\"Muskmelon\",\"Muskmelon\",\"Muskmelon\",\"Muskmelon\",\"Muskmelon\",\"Muskmelon\",\"Muskmelon\",\"Muskmelon\",\"Muskmelon\",\"Muskmelon\",\"Muskmelon\",\"Muskmelon\",\"Muskmelon\",\"Muskmelon\",\"Muskmelon\",\"Muskmelon\",\"Muskmelon\",\"Muskmelon\",\"Muskmelon\",\"Muskmelon\",\"Muskmelon\",\"Muskmelon\",\"Muskmelon\",\"Muskmelon\",\"Muskmelon\",\"Muskmelon\",\"Muskmelon\",\"Muskmelon\",\"Muskmelon\",\"Muskmelon\",\"Muskmelon\",\"Muskmelon\",\"Muskmelon\",\"Muskmelon\",\"Muskmelon\",\"Muskmelon\",\"Muskmelon\",\"Apple\",\"Apple\",\"Apple\",\"Apple\",\"Apple\",\"Apple\",\"Apple\",\"Apple\",\"Apple\",\"Apple\",\"Apple\",\"Apple\",\"Apple\",\"Apple\",\"Apple\",\"Apple\",\"Apple\",\"Apple\",\"Apple\",\"Apple\",\"Apple\",\"Apple\",\"Apple\",\"Apple\",\"Apple\",\"Apple\",\"Apple\",\"Apple\",\"Apple\",\"Apple\",\"Apple\",\"Apple\",\"Apple\",\"Apple\",\"Apple\",\"Apple\",\"Apple\",\"Apple\",\"Apple\",\"Apple\",\"Apple\",\"Apple\",\"Apple\",\"Apple\",\"Apple\",\"Apple\",\"Apple\",\"Apple\",\"Apple\",\"Apple\",\"Apple\",\"Apple\",\"Apple\",\"Apple\",\"Apple\",\"Apple\",\"Apple\",\"Apple\",\"Apple\",\"Apple\",\"Apple\",\"Apple\",\"Apple\",\"Apple\",\"Apple\",\"Apple\",\"Apple\",\"Apple\",\"Apple\",\"Apple\",\"Apple\",\"Apple\",\"Apple\",\"Apple\",\"Apple\",\"Apple\",\"Apple\",\"Apple\",\"Apple\",\"Apple\",\"Apple\",\"Apple\",\"Apple\",\"Apple\",\"Apple\",\"Apple\",\"Apple\",\"Apple\",\"Apple\",\"Apple\",\"Apple\",\"Apple\",\"Apple\",\"Apple\",\"Apple\",\"Apple\",\"Apple\",\"Apple\",\"Apple\",\"Apple\",\"Orange\",\"Orange\",\"Orange\",\"Orange\",\"Orange\",\"Orange\",\"Orange\",\"Orange\",\"Orange\",\"Orange\",\"Orange\",\"Orange\",\"Orange\",\"Orange\",\"Orange\",\"Orange\",\"Orange\",\"Orange\",\"Orange\",\"Orange\",\"Orange\",\"Orange\",\"Orange\",\"Orange\",\"Orange\",\"Orange\",\"Orange\",\"Orange\",\"Orange\",\"Orange\",\"Orange\",\"Orange\",\"Orange\",\"Orange\",\"Orange\",\"Orange\",\"Orange\",\"Orange\",\"Orange\",\"Orange\",\"Orange\",\"Orange\",\"Orange\",\"Orange\",\"Orange\",\"Orange\",\"Orange\",\"Orange\",\"Orange\",\"Orange\",\"Orange\",\"Orange\",\"Orange\",\"Orange\",\"Orange\",\"Orange\",\"Orange\",\"Orange\",\"Orange\",\"Orange\",\"Orange\",\"Orange\",\"Orange\",\"Orange\",\"Orange\",\"Orange\",\"Orange\",\"Orange\",\"Orange\",\"Orange\",\"Orange\",\"Orange\",\"Orange\",\"Orange\",\"Orange\",\"Orange\",\"Orange\",\"Orange\",\"Orange\",\"Orange\",\"Orange\",\"Orange\",\"Orange\",\"Orange\",\"Orange\",\"Orange\",\"Orange\",\"Orange\",\"Orange\",\"Orange\",\"Orange\",\"Orange\",\"Orange\",\"Orange\",\"Orange\",\"Orange\",\"Orange\",\"Orange\",\"Orange\",\"Orange\",\"Papaya\",\"Papaya\",\"Papaya\",\"Papaya\",\"Papaya\",\"Papaya\",\"Papaya\",\"Papaya\",\"Papaya\",\"Papaya\",\"Papaya\",\"Papaya\",\"Papaya\",\"Papaya\",\"Papaya\",\"Papaya\",\"Papaya\",\"Papaya\",\"Papaya\",\"Papaya\",\"Papaya\",\"Papaya\",\"Papaya\",\"Papaya\",\"Papaya\",\"Papaya\",\"Papaya\",\"Papaya\",\"Papaya\",\"Papaya\",\"Papaya\",\"Papaya\",\"Papaya\",\"Papaya\",\"Papaya\",\"Papaya\",\"Papaya\",\"Papaya\",\"Papaya\",\"Papaya\",\"Papaya\",\"Papaya\",\"Papaya\",\"Papaya\",\"Papaya\",\"Papaya\",\"Papaya\",\"Papaya\",\"Papaya\",\"Papaya\",\"Papaya\",\"Papaya\",\"Papaya\",\"Papaya\",\"Papaya\",\"Papaya\",\"Papaya\",\"Papaya\",\"Papaya\",\"Papaya\",\"Papaya\",\"Papaya\",\"Papaya\",\"Papaya\",\"Papaya\",\"Papaya\",\"Papaya\",\"Papaya\",\"Papaya\",\"Papaya\",\"Papaya\",\"Papaya\",\"Papaya\",\"Papaya\",\"Papaya\",\"Papaya\",\"Papaya\",\"Papaya\",\"Papaya\",\"Papaya\",\"Papaya\",\"Papaya\",\"Papaya\",\"Papaya\",\"Papaya\",\"Papaya\",\"Papaya\",\"Papaya\",\"Papaya\",\"Papaya\",\"Papaya\",\"Papaya\",\"Papaya\",\"Papaya\",\"Papaya\",\"Papaya\",\"Papaya\",\"Papaya\",\"Papaya\",\"Papaya\",\"Coconut\",\"Coconut\",\"Coconut\",\"Coconut\",\"Coconut\",\"Coconut\",\"Coconut\",\"Coconut\",\"Coconut\",\"Coconut\",\"Coconut\",\"Coconut\",\"Coconut\",\"Coconut\",\"Coconut\",\"Coconut\",\"Coconut\",\"Coconut\",\"Coconut\",\"Coconut\",\"Coconut\",\"Coconut\",\"Coconut\",\"Coconut\",\"Coconut\",\"Coconut\",\"Coconut\",\"Coconut\",\"Coconut\",\"Coconut\",\"Coconut\",\"Coconut\",\"Coconut\",\"Coconut\",\"Coconut\",\"Coconut\",\"Coconut\",\"Coconut\",\"Coconut\",\"Coconut\",\"Coconut\",\"Coconut\",\"Coconut\",\"Coconut\",\"Coconut\",\"Coconut\",\"Coconut\",\"Coconut\",\"Coconut\",\"Coconut\",\"Coconut\",\"Coconut\",\"Coconut\",\"Coconut\",\"Coconut\",\"Coconut\",\"Coconut\",\"Coconut\",\"Coconut\",\"Coconut\",\"Coconut\",\"Coconut\",\"Coconut\",\"Coconut\",\"Coconut\",\"Coconut\",\"Coconut\",\"Coconut\",\"Coconut\",\"Coconut\",\"Coconut\",\"Coconut\",\"Coconut\",\"Coconut\",\"Coconut\",\"Coconut\",\"Coconut\",\"Coconut\",\"Coconut\",\"Coconut\",\"Coconut\",\"Coconut\",\"Coconut\",\"Coconut\",\"Coconut\",\"Coconut\",\"Coconut\",\"Coconut\",\"Coconut\",\"Coconut\",\"Coconut\",\"Coconut\",\"Coconut\",\"Coconut\",\"Coconut\",\"Coconut\",\"Coconut\",\"Coconut\",\"Coconut\",\"Coconut\",\"Cotton\",\"Cotton\",\"Cotton\",\"Cotton\",\"Cotton\",\"Cotton\",\"Cotton\",\"Cotton\",\"Cotton\",\"Cotton\",\"Cotton\",\"Cotton\",\"Cotton\",\"Cotton\",\"Cotton\",\"Cotton\",\"Cotton\",\"Cotton\",\"Cotton\",\"Cotton\",\"Cotton\",\"Cotton\",\"Cotton\",\"Cotton\",\"Cotton\",\"Cotton\",\"Cotton\",\"Cotton\",\"Cotton\",\"Cotton\",\"Cotton\",\"Cotton\",\"Cotton\",\"Cotton\",\"Cotton\",\"Cotton\",\"Cotton\",\"Cotton\",\"Cotton\",\"Cotton\",\"Cotton\",\"Cotton\",\"Cotton\",\"Cotton\",\"Cotton\",\"Cotton\",\"Cotton\",\"Cotton\",\"Cotton\",\"Cotton\",\"Cotton\",\"Cotton\",\"Cotton\",\"Cotton\",\"Cotton\",\"Cotton\",\"Cotton\",\"Cotton\",\"Cotton\",\"Cotton\",\"Cotton\",\"Cotton\",\"Cotton\",\"Cotton\",\"Cotton\",\"Cotton\",\"Cotton\",\"Cotton\",\"Cotton\",\"Cotton\",\"Cotton\",\"Cotton\",\"Cotton\",\"Cotton\",\"Cotton\",\"Cotton\",\"Cotton\",\"Cotton\",\"Cotton\",\"Cotton\",\"Cotton\",\"Cotton\",\"Cotton\",\"Cotton\",\"Cotton\",\"Cotton\",\"Cotton\",\"Cotton\",\"Cotton\",\"Cotton\",\"Cotton\",\"Cotton\",\"Cotton\",\"Cotton\",\"Cotton\",\"Cotton\",\"Cotton\",\"Cotton\",\"Cotton\",\"Cotton\",\"Jute\",\"Jute\",\"Jute\",\"Jute\",\"Jute\",\"Jute\",\"Jute\",\"Jute\",\"Jute\",\"Jute\",\"Jute\",\"Jute\",\"Jute\",\"Jute\",\"Jute\",\"Jute\",\"Jute\",\"Jute\",\"Jute\",\"Jute\",\"Jute\",\"Jute\",\"Jute\",\"Jute\",\"Jute\",\"Jute\",\"Jute\",\"Jute\",\"Jute\",\"Jute\",\"Jute\",\"Jute\",\"Jute\",\"Jute\",\"Jute\",\"Jute\",\"Jute\",\"Jute\",\"Jute\",\"Jute\",\"Jute\",\"Jute\",\"Jute\",\"Jute\",\"Jute\",\"Jute\",\"Jute\",\"Jute\",\"Jute\",\"Jute\",\"Jute\",\"Jute\",\"Jute\",\"Jute\",\"Jute\",\"Jute\",\"Jute\",\"Jute\",\"Jute\",\"Jute\",\"Jute\",\"Jute\",\"Jute\",\"Jute\",\"Jute\",\"Jute\",\"Jute\",\"Jute\",\"Jute\",\"Jute\",\"Jute\",\"Jute\",\"Jute\",\"Jute\",\"Jute\",\"Jute\",\"Jute\",\"Jute\",\"Jute\",\"Jute\",\"Jute\",\"Jute\",\"Jute\",\"Jute\",\"Jute\",\"Jute\",\"Jute\",\"Jute\",\"Jute\",\"Jute\",\"Jute\",\"Jute\",\"Jute\",\"Jute\",\"Jute\",\"Jute\",\"Jute\",\"Jute\",\"Jute\",\"Jute\",\"Coffee\",\"Coffee\",\"Coffee\",\"Coffee\",\"Coffee\",\"Coffee\",\"Coffee\",\"Coffee\",\"Coffee\",\"Coffee\",\"Coffee\",\"Coffee\",\"Coffee\",\"Coffee\",\"Coffee\",\"Coffee\",\"Coffee\",\"Coffee\",\"Coffee\",\"Coffee\",\"Coffee\",\"Coffee\",\"Coffee\",\"Coffee\",\"Coffee\",\"Coffee\",\"Coffee\",\"Coffee\",\"Coffee\",\"Coffee\",\"Coffee\",\"Coffee\",\"Coffee\",\"Coffee\",\"Coffee\",\"Coffee\",\"Coffee\",\"Coffee\",\"Coffee\",\"Coffee\",\"Coffee\",\"Coffee\",\"Coffee\",\"Coffee\",\"Coffee\",\"Coffee\",\"Coffee\",\"Coffee\",\"Coffee\",\"Coffee\",\"Coffee\",\"Coffee\",\"Coffee\",\"Coffee\",\"Coffee\",\"Coffee\",\"Coffee\",\"Coffee\",\"Coffee\",\"Coffee\",\"Coffee\",\"Coffee\",\"Coffee\",\"Coffee\",\"Coffee\",\"Coffee\",\"Coffee\",\"Coffee\",\"Coffee\",\"Coffee\",\"Coffee\",\"Coffee\",\"Coffee\",\"Coffee\",\"Coffee\",\"Coffee\",\"Coffee\",\"Coffee\",\"Coffee\",\"Coffee\",\"Coffee\",\"Coffee\",\"Coffee\",\"Coffee\",\"Coffee\",\"Coffee\",\"Coffee\",\"Coffee\",\"Coffee\",\"Coffee\",\"Coffee\",\"Coffee\",\"Coffee\",\"Coffee\",\"Coffee\",\"Coffee\",\"Coffee\",\"Coffee\",\"Coffee\",\"Coffee\"],\"x0\":\" \",\"xaxis\":\"x\",\"y\":[90,85,60,74,78,69,69,94,89,68,91,90,78,93,94,60,85,91,77,88,89,76,67,83,98,66,97,97,60,84,73,92,85,98,88,95,99,95,60,63,62,64,83,82,85,91,76,74,79,88,60,76,93,65,95,75,74,91,71,99,72,83,93,70,76,99,99,86,69,91,61,67,79,78,75,97,67,73,77,81,68,72,61,67,67,66,82,84,81,91,93,90,81,78,60,88,93,60,78,65,71,61,80,73,61,68,93,89,76,67,70,90,62,92,66,63,70,61,66,74,77,99,74,83,100,79,94,75,78,87,87,63,84,64,60,98,75,86,98,76,99,60,74,89,69,96,61,74,74,63,99,77,87,60,94,95,84,77,66,63,79,72,67,86,76,75,81,73,71,96,99,62,86,94,76,77,74,81,63,99,90,68,60,71,61,88,65,78,78,92,79,91,76,87,71,90,67,60,83,83,40,23,39,22,36,32,58,59,42,28,58,43,58,23,27,28,50,39,25,31,26,25,31,60,59,22,36,59,54,43,28,42,32,22,31,28,57,49,46,54,38,59,36,57,35,35,52,27,57,52,43,44,24,29,20,56,37,49,59,20,24,51,57,22,52,29,44,41,52,34,42,34,27,30,57,27,32,31,33,47,54,47,35,53,45,37,30,37,53,22,60,42,39,35,30,57,48,36,40,49,13,25,31,40,2,26,17,26,17,27,28,25,28,25,12,6,22,27,10,23,19,19,22,37,11,18,21,24,34,16,17,37,40,9,1,33,23,6,25,7,8,27,28,32,27,17,0,13,34,9,11,3,35,3,23,22,31,34,12,27,7,24,11,37,25,34,20,37,18,4,37,5,11,22,12,5,27,31,36,5,32,11,0,14,29,32,17,13,14,9,20,40,27,14,7,27,30,37,27,22,3,40,33,27,10,30,40,38,35,38,33,16,31,16,27,40,18,3,26,16,24,9,16,28,16,24,38,9,34,1,6,26,27,27,36,17,26,17,14,39,6,8,2,1,16,23,32,28,5,36,1,24,17,5,5,37,13,6,16,25,34,20,35,14,36,7,29,30,20,19,3,5,5,37,9,20,31,0,21,13,27,29,5,39,22,18,39,13,27,26,23,4,20,7,17,35,11,20,10,33,3,22,36,4,29,32,14,5,25,11,40,38,27,24,23,29,31,0,7,17,11,22,9,28,26,36,8,24,22,36,22,17,8,7,36,11,6,17,4,9,25,36,21,37,32,29,25,10,23,9,3,22,12,39,32,30,19,4,21,35,22,35,17,28,22,11,38,23,25,40,23,2,3,26,39,27,24,7,15,26,20,34,19,29,20,11,15,35,9,40,35,14,40,18,35,4,22,33,2,16,19,8,36,10,22,9,34,31,0,21,28,17,24,28,21,34,19,31,19,24,13,31,28,31,33,34,13,33,32,23,35,6,29,4,10,14,8,20,36,14,11,10,7,2,20,2,27,35,4,1,36,11,34,21,17,25,2,9,37,36,40,30,1,9,14,35,31,4,30,9,20,37,34,14,23,5,22,40,27,31,38,6,6,24,25,32,8,19,39,33,26,21,22,29,4,10,4,20,23,25,56,25,42,42,44,50,35,30,27,50,39,57,52,55,51,36,59,50,30,20,58,25,52,40,20,48,49,48,32,21,20,25,41,53,39,25,21,57,56,49,24,49,28,55,50,34,20,55,23,53,26,33,37,33,22,20,43,44,34,21,25,41,28,35,52,58,34,52,23,42,37,44,21,56,29,43,55,44,29,47,40,58,41,58,27,27,52,44,21,60,33,59,29,59,29,58,55,42,44,38,32,13,38,11,37,29,2,6,13,8,6,2,3,27,39,40,37,31,22,3,4,13,12,4,9,18,32,6,15,0,30,3,2,10,14,39,19,18,31,28,5,16,34,14,22,24,2,26,27,24,13,6,12,32,6,10,38,17,26,23,32,19,22,28,1,12,36,28,12,22,26,16,14,33,21,0,10,30,0,35,7,9,14,14,36,28,28,40,10,12,37,0,7,10,39,26,9,4,34,33,2,6,8,37,0,31,21,6,25,15,14,16,36,4,29,16,18,11,5,18,9,40,22,9,12,0,2,28,8,29,17,34,21,25,8,26,4,36,5,19,39,5,4,38,37,9,29,5,22,4,21,29,23,13,5,27,7,12,4,3,1,23,24,13,40,21,3,40,14,38,34,32,18,8,15,0,22,14,31,39,10,8,32,18,20,39,20,11,40,3,9,30,40,40,32,33,4,13,39,8,91,105,108,86,80,93,90,108,108,105,118,101,95,106,86,83,85,109,100,117,114,110,94,80,114,88,112,117,111,89,93,92,105,102,94,116,117,119,99,91,80,101,108,100,109,82,106,90,83,119,107,116,101,93,95,107,83,102,86,117,111,95,91,93,92,104,103,92,93,120,108,105,98,111,97,95,89,89,118,101,99,82,90,95,104,102,100,94,99,112,117,96,113,105,85,108,92,110,82,117,2,39,21,25,0,20,19,18,11,30,18,23,37,11,12,3,37,26,14,40,4,36,30,28,38,12,38,8,15,34,11,33,12,12,5,1,16,35,4,9,2,26,34,5,31,34,36,7,38,5,37,21,37,23,36,24,26,22,11,29,22,23,1,2,39,15,3,8,33,14,18,9,20,9,26,31,14,40,28,0,1,2,12,7,0,26,27,22,22,28,7,29,8,39,40,19,21,22,31,18,24,13,22,36,24,2,35,11,6,17,25,27,9,16,32,22,31,3,28,4,39,38,36,25,15,24,13,5,30,23,26,7,32,9,20,32,3,38,14,20,40,36,11,0,19,31,4,39,8,39,32,12,8,8,21,40,39,19,21,17,33,22,32,37,15,39,40,40,29,32,6,8,34,35,16,8,25,16,39,38,33,35,1,39,28,6,6,29,37,38,38,14,6,32,11,23,40,6,37,35,119,119,105,114,93,80,85,85,82,118,83,86,101,119,104,95,102,109,81,103,105,97,120,95,83,83,91,116,112,88,118,92,106,99,98,108,119,117,109,80,100,91,86,107,103,101,85,84,102,98,97,90,95,82,82,110,118,120,91,81,101,101,111,107,115,84,120,91,89,113,97,117,90,104,81,88,92,81,111,108,113,83,101,114,99,92,92,91,110,112,89,100,83,95,119,97,110,96,83,120,115,114,101,118,95,81,117,114,113,108,81,115,83,84,109,95,119,110,82,87,85,100,107,91,102,117,85,104,102,116,100,110,104,107,98,88,87,120,95,108,82,120,110,95,106,99,106,83,117,98,113,101,98,93,95,109,118,100,89,95,95,87,93,84,111,111,111,89,110,95,115,120,102,94,84,107,80,86,113,115,82,98,117,83,120,111,85,90,99,102,80,87,114,99,89,96,82,106,90,106,24,7,14,8,20,32,27,0,22,1,30,29,13,9,0,30,36,37,33,7,35,29,2,34,29,32,13,25,9,6,37,2,11,10,24,23,18,13,26,28,26,21,21,5,2,15,31,25,16,19,10,20,28,28,2,2,27,30,32,29,26,40,6,35,17,33,16,27,29,3,15,5,10,7,2,29,30,29,14,18,33,40,9,38,28,35,12,1,0,31,35,29,33,14,35,40,25,31,36,10,22,37,27,7,20,26,5,0,39,13,21,33,6,19,24,9,31,22,13,16,4,0,8,4,33,30,21,11,9,5,29,33,8,15,16,0,5,6,10,1,1,0,24,36,40,40,32,9,13,15,29,1,18,14,33,4,17,12,34,39,31,12,12,26,19,39,16,36,37,39,31,18,20,5,20,25,14,37,26,13,32,19,28,24,7,18,7,20,18,34,20,37,12,34,6,27,13,6,40,31,61,58,45,39,31,70,68,34,38,69,58,59,44,56,69,56,49,38,54,57,39,58,61,34,31,47,32,36,61,70,44,34,50,39,34,44,31,65,44,50,43,60,70,59,60,42,35,34,36,39,37,33,34,49,40,68,50,65,40,42,49,59,63,70,63,40,63,45,66,54,69,67,45,56,70,44,50,52,35,68,32,32,48,39,49,48,69,53,38,57,51,56,54,58,68,42,43,35,56,39,18,37,13,2,10,7,39,34,31,25,16,26,27,37,19,0,31,9,22,31,34,24,1,31,10,36,38,11,16,33,16,32,38,8,23,29,24,32,30,14,27,40,17,30,28,39,32,7,29,34,14,18,7,24,39,29,10,0,32,37,20,31,17,1,6,15,27,3,8,20,26,1,27,23,0,38,25,40,0,26,35,19,31,17,2,30,8,18,8,40,27,21,3,22,27,22,28,23,37,19,133,136,104,133,126,126,113,121,121,129,107,122,140,102,111,131,135,100,123,117,121,101,107,100,125,105,102,131,139,108,118,107,125,113,131,115,113,111,111,122,108,132,103,133,127,110,131,108,122,111,140,100,123,107,118,103,133,129,116,114,131,107,123,112,119,130,127,134,109,100,132,102,111,117,136,134,112,105,140,126,106,121,108,116,100,129,118,117,126,120,102,131,114,101,106,113,102,110,107,120,89,60,63,86,96,100,63,70,67,74,89,74,89,60,67,70,74,90,82,73,85,81,84,80,76,76,81,76,69,82,69,81,67,72,65,78,77,89,62,90,66,80,89,77,94,75,60,62,84,100,75,78,82,100,88,67,72,89,89,61,79,84,98,75,89,91,77,66,62,82,61,99,70,90,73,67,84,72,71,64,65,60,86,90,91,87,72,71,82,71,80,77,95,63,93,87,88,90,90,84,91,107,83,108,116,116,109,89,118,111,84,85,99,81,95,81,80,104,109,100,100,83,120,104,108,91,86,98,111,84,98,118,103,82,86,88,84,120,106,113,117,80,88,113,87,113,98,97,85,82,103,112,99,120,114,100,108,115,87,82,94,87,118,87,92,97,99,89,112,111,114,117,111,119,116,95,86,117,105,109,80,101,103,93,104,116,107,101,107,99,103,118,106,116,97,107,99,118,117,104],\"y0\":\" \",\"yaxis\":\"y\",\"type\":\"box\"}],                        {\"template\":{\"data\":{\"histogram2dcontour\":[{\"type\":\"histogram2dcontour\",\"colorbar\":{\"outlinewidth\":0,\"ticks\":\"\"},\"colorscale\":[[0.0,\"#0d0887\"],[0.1111111111111111,\"#46039f\"],[0.2222222222222222,\"#7201a8\"],[0.3333333333333333,\"#9c179e\"],[0.4444444444444444,\"#bd3786\"],[0.5555555555555556,\"#d8576b\"],[0.6666666666666666,\"#ed7953\"],[0.7777777777777778,\"#fb9f3a\"],[0.8888888888888888,\"#fdca26\"],[1.0,\"#f0f921\"]]}],\"choropleth\":[{\"type\":\"choropleth\",\"colorbar\":{\"outlinewidth\":0,\"ticks\":\"\"}}],\"histogram2d\":[{\"type\":\"histogram2d\",\"colorbar\":{\"outlinewidth\":0,\"ticks\":\"\"},\"colorscale\":[[0.0,\"#0d0887\"],[0.1111111111111111,\"#46039f\"],[0.2222222222222222,\"#7201a8\"],[0.3333333333333333,\"#9c179e\"],[0.4444444444444444,\"#bd3786\"],[0.5555555555555556,\"#d8576b\"],[0.6666666666666666,\"#ed7953\"],[0.7777777777777778,\"#fb9f3a\"],[0.8888888888888888,\"#fdca26\"],[1.0,\"#f0f921\"]]}],\"heatmap\":[{\"type\":\"heatmap\",\"colorbar\":{\"outlinewidth\":0,\"ticks\":\"\"},\"colorscale\":[[0.0,\"#0d0887\"],[0.1111111111111111,\"#46039f\"],[0.2222222222222222,\"#7201a8\"],[0.3333333333333333,\"#9c179e\"],[0.4444444444444444,\"#bd3786\"],[0.5555555555555556,\"#d8576b\"],[0.6666666666666666,\"#ed7953\"],[0.7777777777777778,\"#fb9f3a\"],[0.8888888888888888,\"#fdca26\"],[1.0,\"#f0f921\"]]}],\"heatmapgl\":[{\"type\":\"heatmapgl\",\"colorbar\":{\"outlinewidth\":0,\"ticks\":\"\"},\"colorscale\":[[0.0,\"#0d0887\"],[0.1111111111111111,\"#46039f\"],[0.2222222222222222,\"#7201a8\"],[0.3333333333333333,\"#9c179e\"],[0.4444444444444444,\"#bd3786\"],[0.5555555555555556,\"#d8576b\"],[0.6666666666666666,\"#ed7953\"],[0.7777777777777778,\"#fb9f3a\"],[0.8888888888888888,\"#fdca26\"],[1.0,\"#f0f921\"]]}],\"contourcarpet\":[{\"type\":\"contourcarpet\",\"colorbar\":{\"outlinewidth\":0,\"ticks\":\"\"}}],\"contour\":[{\"type\":\"contour\",\"colorbar\":{\"outlinewidth\":0,\"ticks\":\"\"},\"colorscale\":[[0.0,\"#0d0887\"],[0.1111111111111111,\"#46039f\"],[0.2222222222222222,\"#7201a8\"],[0.3333333333333333,\"#9c179e\"],[0.4444444444444444,\"#bd3786\"],[0.5555555555555556,\"#d8576b\"],[0.6666666666666666,\"#ed7953\"],[0.7777777777777778,\"#fb9f3a\"],[0.8888888888888888,\"#fdca26\"],[1.0,\"#f0f921\"]]}],\"surface\":[{\"type\":\"surface\",\"colorbar\":{\"outlinewidth\":0,\"ticks\":\"\"},\"colorscale\":[[0.0,\"#0d0887\"],[0.1111111111111111,\"#46039f\"],[0.2222222222222222,\"#7201a8\"],[0.3333333333333333,\"#9c179e\"],[0.4444444444444444,\"#bd3786\"],[0.5555555555555556,\"#d8576b\"],[0.6666666666666666,\"#ed7953\"],[0.7777777777777778,\"#fb9f3a\"],[0.8888888888888888,\"#fdca26\"],[1.0,\"#f0f921\"]]}],\"mesh3d\":[{\"type\":\"mesh3d\",\"colorbar\":{\"outlinewidth\":0,\"ticks\":\"\"}}],\"scatter\":[{\"fillpattern\":{\"fillmode\":\"overlay\",\"size\":10,\"solidity\":0.2},\"type\":\"scatter\"}],\"parcoords\":[{\"type\":\"parcoords\",\"line\":{\"colorbar\":{\"outlinewidth\":0,\"ticks\":\"\"}}}],\"scatterpolargl\":[{\"type\":\"scatterpolargl\",\"marker\":{\"colorbar\":{\"outlinewidth\":0,\"ticks\":\"\"}}}],\"bar\":[{\"error_x\":{\"color\":\"#2a3f5f\"},\"error_y\":{\"color\":\"#2a3f5f\"},\"marker\":{\"line\":{\"color\":\"#E5ECF6\",\"width\":0.5},\"pattern\":{\"fillmode\":\"overlay\",\"size\":10,\"solidity\":0.2}},\"type\":\"bar\"}],\"scattergeo\":[{\"type\":\"scattergeo\",\"marker\":{\"colorbar\":{\"outlinewidth\":0,\"ticks\":\"\"}}}],\"scatterpolar\":[{\"type\":\"scatterpolar\",\"marker\":{\"colorbar\":{\"outlinewidth\":0,\"ticks\":\"\"}}}],\"histogram\":[{\"marker\":{\"pattern\":{\"fillmode\":\"overlay\",\"size\":10,\"solidity\":0.2}},\"type\":\"histogram\"}],\"scattergl\":[{\"type\":\"scattergl\",\"marker\":{\"colorbar\":{\"outlinewidth\":0,\"ticks\":\"\"}}}],\"scatter3d\":[{\"type\":\"scatter3d\",\"line\":{\"colorbar\":{\"outlinewidth\":0,\"ticks\":\"\"}},\"marker\":{\"colorbar\":{\"outlinewidth\":0,\"ticks\":\"\"}}}],\"scattermapbox\":[{\"type\":\"scattermapbox\",\"marker\":{\"colorbar\":{\"outlinewidth\":0,\"ticks\":\"\"}}}],\"scatterternary\":[{\"type\":\"scatterternary\",\"marker\":{\"colorbar\":{\"outlinewidth\":0,\"ticks\":\"\"}}}],\"scattercarpet\":[{\"type\":\"scattercarpet\",\"marker\":{\"colorbar\":{\"outlinewidth\":0,\"ticks\":\"\"}}}],\"carpet\":[{\"aaxis\":{\"endlinecolor\":\"#2a3f5f\",\"gridcolor\":\"white\",\"linecolor\":\"white\",\"minorgridcolor\":\"white\",\"startlinecolor\":\"#2a3f5f\"},\"baxis\":{\"endlinecolor\":\"#2a3f5f\",\"gridcolor\":\"white\",\"linecolor\":\"white\",\"minorgridcolor\":\"white\",\"startlinecolor\":\"#2a3f5f\"},\"type\":\"carpet\"}],\"table\":[{\"cells\":{\"fill\":{\"color\":\"#EBF0F8\"},\"line\":{\"color\":\"white\"}},\"header\":{\"fill\":{\"color\":\"#C8D4E3\"},\"line\":{\"color\":\"white\"}},\"type\":\"table\"}],\"barpolar\":[{\"marker\":{\"line\":{\"color\":\"#E5ECF6\",\"width\":0.5},\"pattern\":{\"fillmode\":\"overlay\",\"size\":10,\"solidity\":0.2}},\"type\":\"barpolar\"}],\"pie\":[{\"automargin\":true,\"type\":\"pie\"}]},\"layout\":{\"autotypenumbers\":\"strict\",\"colorway\":[\"#636efa\",\"#EF553B\",\"#00cc96\",\"#ab63fa\",\"#FFA15A\",\"#19d3f3\",\"#FF6692\",\"#B6E880\",\"#FF97FF\",\"#FECB52\"],\"font\":{\"color\":\"#2a3f5f\"},\"hovermode\":\"closest\",\"hoverlabel\":{\"align\":\"left\"},\"paper_bgcolor\":\"white\",\"plot_bgcolor\":\"#E5ECF6\",\"polar\":{\"bgcolor\":\"#E5ECF6\",\"angularaxis\":{\"gridcolor\":\"white\",\"linecolor\":\"white\",\"ticks\":\"\"},\"radialaxis\":{\"gridcolor\":\"white\",\"linecolor\":\"white\",\"ticks\":\"\"}},\"ternary\":{\"bgcolor\":\"#E5ECF6\",\"aaxis\":{\"gridcolor\":\"white\",\"linecolor\":\"white\",\"ticks\":\"\"},\"baxis\":{\"gridcolor\":\"white\",\"linecolor\":\"white\",\"ticks\":\"\"},\"caxis\":{\"gridcolor\":\"white\",\"linecolor\":\"white\",\"ticks\":\"\"}},\"coloraxis\":{\"colorbar\":{\"outlinewidth\":0,\"ticks\":\"\"}},\"colorscale\":{\"sequential\":[[0.0,\"#0d0887\"],[0.1111111111111111,\"#46039f\"],[0.2222222222222222,\"#7201a8\"],[0.3333333333333333,\"#9c179e\"],[0.4444444444444444,\"#bd3786\"],[0.5555555555555556,\"#d8576b\"],[0.6666666666666666,\"#ed7953\"],[0.7777777777777778,\"#fb9f3a\"],[0.8888888888888888,\"#fdca26\"],[1.0,\"#f0f921\"]],\"sequentialminus\":[[0.0,\"#0d0887\"],[0.1111111111111111,\"#46039f\"],[0.2222222222222222,\"#7201a8\"],[0.3333333333333333,\"#9c179e\"],[0.4444444444444444,\"#bd3786\"],[0.5555555555555556,\"#d8576b\"],[0.6666666666666666,\"#ed7953\"],[0.7777777777777778,\"#fb9f3a\"],[0.8888888888888888,\"#fdca26\"],[1.0,\"#f0f921\"]],\"diverging\":[[0,\"#8e0152\"],[0.1,\"#c51b7d\"],[0.2,\"#de77ae\"],[0.3,\"#f1b6da\"],[0.4,\"#fde0ef\"],[0.5,\"#f7f7f7\"],[0.6,\"#e6f5d0\"],[0.7,\"#b8e186\"],[0.8,\"#7fbc41\"],[0.9,\"#4d9221\"],[1,\"#276419\"]]},\"xaxis\":{\"gridcolor\":\"white\",\"linecolor\":\"white\",\"ticks\":\"\",\"title\":{\"standoff\":15},\"zerolinecolor\":\"white\",\"automargin\":true,\"zerolinewidth\":2},\"yaxis\":{\"gridcolor\":\"white\",\"linecolor\":\"white\",\"ticks\":\"\",\"title\":{\"standoff\":15},\"zerolinecolor\":\"white\",\"automargin\":true,\"zerolinewidth\":2},\"scene\":{\"xaxis\":{\"backgroundcolor\":\"#E5ECF6\",\"gridcolor\":\"white\",\"linecolor\":\"white\",\"showbackground\":true,\"ticks\":\"\",\"zerolinecolor\":\"white\",\"gridwidth\":2},\"yaxis\":{\"backgroundcolor\":\"#E5ECF6\",\"gridcolor\":\"white\",\"linecolor\":\"white\",\"showbackground\":true,\"ticks\":\"\",\"zerolinecolor\":\"white\",\"gridwidth\":2},\"zaxis\":{\"backgroundcolor\":\"#E5ECF6\",\"gridcolor\":\"white\",\"linecolor\":\"white\",\"showbackground\":true,\"ticks\":\"\",\"zerolinecolor\":\"white\",\"gridwidth\":2}},\"shapedefaults\":{\"line\":{\"color\":\"#2a3f5f\"}},\"annotationdefaults\":{\"arrowcolor\":\"#2a3f5f\",\"arrowhead\":0,\"arrowwidth\":1},\"geo\":{\"bgcolor\":\"white\",\"landcolor\":\"#E5ECF6\",\"subunitcolor\":\"white\",\"showland\":true,\"showlakes\":true,\"lakecolor\":\"white\"},\"title\":{\"x\":0.05},\"mapbox\":{\"style\":\"light\"}}},\"xaxis\":{\"anchor\":\"y\",\"domain\":[0.0,1.0],\"title\":{\"text\":\"Crop\"}},\"yaxis\":{\"anchor\":\"x\",\"domain\":[0.0,1.0],\"title\":{\"text\":\"Nitrogen\"}},\"legend\":{\"tracegroupgap\":0},\"title\":{\"text\":\"Nitrogen Levels by Crop\"},\"boxmode\":\"group\"},                        {\"responsive\": true}                    ).then(function(){\n",
       "                            \n",
       "var gd = document.getElementById('de2f0ca8-3086-4f0a-96ab-0e065069871c');\n",
       "var x = new MutationObserver(function (mutations, observer) {{\n",
       "        var display = window.getComputedStyle(gd).display;\n",
       "        if (!display || display === 'none') {{\n",
       "            console.log([gd, 'removed!']);\n",
       "            Plotly.purge(gd);\n",
       "            observer.disconnect();\n",
       "        }}\n",
       "}});\n",
       "\n",
       "// Listen for the removal of the full notebook cells\n",
       "var notebookContainer = gd.closest('#notebook-container');\n",
       "if (notebookContainer) {{\n",
       "    x.observe(notebookContainer, {childList: true});\n",
       "}}\n",
       "\n",
       "// Listen for the clearing of the current output cell\n",
       "var outputEl = gd.closest('.output');\n",
       "if (outputEl) {{\n",
       "    x.observe(outputEl, {childList: true});\n",
       "}}\n",
       "\n",
       "                        })                };                });            </script>        </div>"
      ]
     },
     "metadata": {},
     "output_type": "display_data"
    },
    {
     "data": {
      "text/html": [
       "<div>                            <div id=\"007aa931-ac83-4789-9bea-d009f2eee43d\" class=\"plotly-graph-div\" style=\"height:525px; width:100%;\"></div>            <script type=\"text/javascript\">                require([\"plotly\"], function(Plotly) {                    window.PLOTLYENV=window.PLOTLYENV || {};                                    if (document.getElementById(\"007aa931-ac83-4789-9bea-d009f2eee43d\")) {                    Plotly.newPlot(                        \"007aa931-ac83-4789-9bea-d009f2eee43d\",                        [{\"alignmentgroup\":\"True\",\"hovertemplate\":\"Crop=%{x}\\u003cbr\\u003ePhosphorus=%{y}\\u003cextra\\u003e\\u003c\\u002fextra\\u003e\",\"legendgroup\":\"\",\"marker\":{\"color\":\"#636efa\"},\"name\":\"\",\"notched\":false,\"offsetgroup\":\"\",\"orientation\":\"v\",\"showlegend\":false,\"x\":[\"Rice\",\"Rice\",\"Rice\",\"Rice\",\"Rice\",\"Rice\",\"Rice\",\"Rice\",\"Rice\",\"Rice\",\"Rice\",\"Rice\",\"Rice\",\"Rice\",\"Rice\",\"Rice\",\"Rice\",\"Rice\",\"Rice\",\"Rice\",\"Rice\",\"Rice\",\"Rice\",\"Rice\",\"Rice\",\"Rice\",\"Rice\",\"Rice\",\"Rice\",\"Rice\",\"Rice\",\"Rice\",\"Rice\",\"Rice\",\"Rice\",\"Rice\",\"Rice\",\"Rice\",\"Rice\",\"Rice\",\"Rice\",\"Rice\",\"Rice\",\"Rice\",\"Rice\",\"Rice\",\"Rice\",\"Rice\",\"Rice\",\"Rice\",\"Rice\",\"Rice\",\"Rice\",\"Rice\",\"Rice\",\"Rice\",\"Rice\",\"Rice\",\"Rice\",\"Rice\",\"Rice\",\"Rice\",\"Rice\",\"Rice\",\"Rice\",\"Rice\",\"Rice\",\"Rice\",\"Rice\",\"Rice\",\"Rice\",\"Rice\",\"Rice\",\"Rice\",\"Rice\",\"Rice\",\"Rice\",\"Rice\",\"Rice\",\"Rice\",\"Rice\",\"Rice\",\"Rice\",\"Rice\",\"Rice\",\"Rice\",\"Rice\",\"Rice\",\"Rice\",\"Rice\",\"Rice\",\"Rice\",\"Rice\",\"Rice\",\"Rice\",\"Rice\",\"Rice\",\"Rice\",\"Rice\",\"Rice\",\"Maize\",\"Maize\",\"Maize\",\"Maize\",\"Maize\",\"Maize\",\"Maize\",\"Maize\",\"Maize\",\"Maize\",\"Maize\",\"Maize\",\"Maize\",\"Maize\",\"Maize\",\"Maize\",\"Maize\",\"Maize\",\"Maize\",\"Maize\",\"Maize\",\"Maize\",\"Maize\",\"Maize\",\"Maize\",\"Maize\",\"Maize\",\"Maize\",\"Maize\",\"Maize\",\"Maize\",\"Maize\",\"Maize\",\"Maize\",\"Maize\",\"Maize\",\"Maize\",\"Maize\",\"Maize\",\"Maize\",\"Maize\",\"Maize\",\"Maize\",\"Maize\",\"Maize\",\"Maize\",\"Maize\",\"Maize\",\"Maize\",\"Maize\",\"Maize\",\"Maize\",\"Maize\",\"Maize\",\"Maize\",\"Maize\",\"Maize\",\"Maize\",\"Maize\",\"Maize\",\"Maize\",\"Maize\",\"Maize\",\"Maize\",\"Maize\",\"Maize\",\"Maize\",\"Maize\",\"Maize\",\"Maize\",\"Maize\",\"Maize\",\"Maize\",\"Maize\",\"Maize\",\"Maize\",\"Maize\",\"Maize\",\"Maize\",\"Maize\",\"Maize\",\"Maize\",\"Maize\",\"Maize\",\"Maize\",\"Maize\",\"Maize\",\"Maize\",\"Maize\",\"Maize\",\"Maize\",\"Maize\",\"Maize\",\"Maize\",\"Maize\",\"Maize\",\"Maize\",\"Maize\",\"Maize\",\"Maize\",\"ChickPea\",\"ChickPea\",\"ChickPea\",\"ChickPea\",\"ChickPea\",\"ChickPea\",\"ChickPea\",\"ChickPea\",\"ChickPea\",\"ChickPea\",\"ChickPea\",\"ChickPea\",\"ChickPea\",\"ChickPea\",\"ChickPea\",\"ChickPea\",\"ChickPea\",\"ChickPea\",\"ChickPea\",\"ChickPea\",\"ChickPea\",\"ChickPea\",\"ChickPea\",\"ChickPea\",\"ChickPea\",\"ChickPea\",\"ChickPea\",\"ChickPea\",\"ChickPea\",\"ChickPea\",\"ChickPea\",\"ChickPea\",\"ChickPea\",\"ChickPea\",\"ChickPea\",\"ChickPea\",\"ChickPea\",\"ChickPea\",\"ChickPea\",\"ChickPea\",\"ChickPea\",\"ChickPea\",\"ChickPea\",\"ChickPea\",\"ChickPea\",\"ChickPea\",\"ChickPea\",\"ChickPea\",\"ChickPea\",\"ChickPea\",\"ChickPea\",\"ChickPea\",\"ChickPea\",\"ChickPea\",\"ChickPea\",\"ChickPea\",\"ChickPea\",\"ChickPea\",\"ChickPea\",\"ChickPea\",\"ChickPea\",\"ChickPea\",\"ChickPea\",\"ChickPea\",\"ChickPea\",\"ChickPea\",\"ChickPea\",\"ChickPea\",\"ChickPea\",\"ChickPea\",\"ChickPea\",\"ChickPea\",\"ChickPea\",\"ChickPea\",\"ChickPea\",\"ChickPea\",\"ChickPea\",\"ChickPea\",\"ChickPea\",\"ChickPea\",\"ChickPea\",\"ChickPea\",\"ChickPea\",\"ChickPea\",\"ChickPea\",\"ChickPea\",\"ChickPea\",\"ChickPea\",\"ChickPea\",\"ChickPea\",\"ChickPea\",\"ChickPea\",\"ChickPea\",\"ChickPea\",\"ChickPea\",\"ChickPea\",\"ChickPea\",\"ChickPea\",\"ChickPea\",\"ChickPea\",\"KidneyBeans\",\"KidneyBeans\",\"KidneyBeans\",\"KidneyBeans\",\"KidneyBeans\",\"KidneyBeans\",\"KidneyBeans\",\"KidneyBeans\",\"KidneyBeans\",\"KidneyBeans\",\"KidneyBeans\",\"KidneyBeans\",\"KidneyBeans\",\"KidneyBeans\",\"KidneyBeans\",\"KidneyBeans\",\"KidneyBeans\",\"KidneyBeans\",\"KidneyBeans\",\"KidneyBeans\",\"KidneyBeans\",\"KidneyBeans\",\"KidneyBeans\",\"KidneyBeans\",\"KidneyBeans\",\"KidneyBeans\",\"KidneyBeans\",\"KidneyBeans\",\"KidneyBeans\",\"KidneyBeans\",\"KidneyBeans\",\"KidneyBeans\",\"KidneyBeans\",\"KidneyBeans\",\"KidneyBeans\",\"KidneyBeans\",\"KidneyBeans\",\"KidneyBeans\",\"KidneyBeans\",\"KidneyBeans\",\"KidneyBeans\",\"KidneyBeans\",\"KidneyBeans\",\"KidneyBeans\",\"KidneyBeans\",\"KidneyBeans\",\"KidneyBeans\",\"KidneyBeans\",\"KidneyBeans\",\"KidneyBeans\",\"KidneyBeans\",\"KidneyBeans\",\"KidneyBeans\",\"KidneyBeans\",\"KidneyBeans\",\"KidneyBeans\",\"KidneyBeans\",\"KidneyBeans\",\"KidneyBeans\",\"KidneyBeans\",\"KidneyBeans\",\"KidneyBeans\",\"KidneyBeans\",\"KidneyBeans\",\"KidneyBeans\",\"KidneyBeans\",\"KidneyBeans\",\"KidneyBeans\",\"KidneyBeans\",\"KidneyBeans\",\"KidneyBeans\",\"KidneyBeans\",\"KidneyBeans\",\"KidneyBeans\",\"KidneyBeans\",\"KidneyBeans\",\"KidneyBeans\",\"KidneyBeans\",\"KidneyBeans\",\"KidneyBeans\",\"KidneyBeans\",\"KidneyBeans\",\"KidneyBeans\",\"KidneyBeans\",\"KidneyBeans\",\"KidneyBeans\",\"KidneyBeans\",\"KidneyBeans\",\"KidneyBeans\",\"KidneyBeans\",\"KidneyBeans\",\"KidneyBeans\",\"KidneyBeans\",\"KidneyBeans\",\"KidneyBeans\",\"KidneyBeans\",\"KidneyBeans\",\"KidneyBeans\",\"KidneyBeans\",\"KidneyBeans\",\"PigeonPeas\",\"PigeonPeas\",\"PigeonPeas\",\"PigeonPeas\",\"PigeonPeas\",\"PigeonPeas\",\"PigeonPeas\",\"PigeonPeas\",\"PigeonPeas\",\"PigeonPeas\",\"PigeonPeas\",\"PigeonPeas\",\"PigeonPeas\",\"PigeonPeas\",\"PigeonPeas\",\"PigeonPeas\",\"PigeonPeas\",\"PigeonPeas\",\"PigeonPeas\",\"PigeonPeas\",\"PigeonPeas\",\"PigeonPeas\",\"PigeonPeas\",\"PigeonPeas\",\"PigeonPeas\",\"PigeonPeas\",\"PigeonPeas\",\"PigeonPeas\",\"PigeonPeas\",\"PigeonPeas\",\"PigeonPeas\",\"PigeonPeas\",\"PigeonPeas\",\"PigeonPeas\",\"PigeonPeas\",\"PigeonPeas\",\"PigeonPeas\",\"PigeonPeas\",\"PigeonPeas\",\"PigeonPeas\",\"PigeonPeas\",\"PigeonPeas\",\"PigeonPeas\",\"PigeonPeas\",\"PigeonPeas\",\"PigeonPeas\",\"PigeonPeas\",\"PigeonPeas\",\"PigeonPeas\",\"PigeonPeas\",\"PigeonPeas\",\"PigeonPeas\",\"PigeonPeas\",\"PigeonPeas\",\"PigeonPeas\",\"PigeonPeas\",\"PigeonPeas\",\"PigeonPeas\",\"PigeonPeas\",\"PigeonPeas\",\"PigeonPeas\",\"PigeonPeas\",\"PigeonPeas\",\"PigeonPeas\",\"PigeonPeas\",\"PigeonPeas\",\"PigeonPeas\",\"PigeonPeas\",\"PigeonPeas\",\"PigeonPeas\",\"PigeonPeas\",\"PigeonPeas\",\"PigeonPeas\",\"PigeonPeas\",\"PigeonPeas\",\"PigeonPeas\",\"PigeonPeas\",\"PigeonPeas\",\"PigeonPeas\",\"PigeonPeas\",\"PigeonPeas\",\"PigeonPeas\",\"PigeonPeas\",\"PigeonPeas\",\"PigeonPeas\",\"PigeonPeas\",\"PigeonPeas\",\"PigeonPeas\",\"PigeonPeas\",\"PigeonPeas\",\"PigeonPeas\",\"PigeonPeas\",\"PigeonPeas\",\"PigeonPeas\",\"PigeonPeas\",\"PigeonPeas\",\"PigeonPeas\",\"PigeonPeas\",\"PigeonPeas\",\"PigeonPeas\",\"MothBeans\",\"MothBeans\",\"MothBeans\",\"MothBeans\",\"MothBeans\",\"MothBeans\",\"MothBeans\",\"MothBeans\",\"MothBeans\",\"MothBeans\",\"MothBeans\",\"MothBeans\",\"MothBeans\",\"MothBeans\",\"MothBeans\",\"MothBeans\",\"MothBeans\",\"MothBeans\",\"MothBeans\",\"MothBeans\",\"MothBeans\",\"MothBeans\",\"MothBeans\",\"MothBeans\",\"MothBeans\",\"MothBeans\",\"MothBeans\",\"MothBeans\",\"MothBeans\",\"MothBeans\",\"MothBeans\",\"MothBeans\",\"MothBeans\",\"MothBeans\",\"MothBeans\",\"MothBeans\",\"MothBeans\",\"MothBeans\",\"MothBeans\",\"MothBeans\",\"MothBeans\",\"MothBeans\",\"MothBeans\",\"MothBeans\",\"MothBeans\",\"MothBeans\",\"MothBeans\",\"MothBeans\",\"MothBeans\",\"MothBeans\",\"MothBeans\",\"MothBeans\",\"MothBeans\",\"MothBeans\",\"MothBeans\",\"MothBeans\",\"MothBeans\",\"MothBeans\",\"MothBeans\",\"MothBeans\",\"MothBeans\",\"MothBeans\",\"MothBeans\",\"MothBeans\",\"MothBeans\",\"MothBeans\",\"MothBeans\",\"MothBeans\",\"MothBeans\",\"MothBeans\",\"MothBeans\",\"MothBeans\",\"MothBeans\",\"MothBeans\",\"MothBeans\",\"MothBeans\",\"MothBeans\",\"MothBeans\",\"MothBeans\",\"MothBeans\",\"MothBeans\",\"MothBeans\",\"MothBeans\",\"MothBeans\",\"MothBeans\",\"MothBeans\",\"MothBeans\",\"MothBeans\",\"MothBeans\",\"MothBeans\",\"MothBeans\",\"MothBeans\",\"MothBeans\",\"MothBeans\",\"MothBeans\",\"MothBeans\",\"MothBeans\",\"MothBeans\",\"MothBeans\",\"MothBeans\",\"MungBean\",\"MungBean\",\"MungBean\",\"MungBean\",\"MungBean\",\"MungBean\",\"MungBean\",\"MungBean\",\"MungBean\",\"MungBean\",\"MungBean\",\"MungBean\",\"MungBean\",\"MungBean\",\"MungBean\",\"MungBean\",\"MungBean\",\"MungBean\",\"MungBean\",\"MungBean\",\"MungBean\",\"MungBean\",\"MungBean\",\"MungBean\",\"MungBean\",\"MungBean\",\"MungBean\",\"MungBean\",\"MungBean\",\"MungBean\",\"MungBean\",\"MungBean\",\"MungBean\",\"MungBean\",\"MungBean\",\"MungBean\",\"MungBean\",\"MungBean\",\"MungBean\",\"MungBean\",\"MungBean\",\"MungBean\",\"MungBean\",\"MungBean\",\"MungBean\",\"MungBean\",\"MungBean\",\"MungBean\",\"MungBean\",\"MungBean\",\"MungBean\",\"MungBean\",\"MungBean\",\"MungBean\",\"MungBean\",\"MungBean\",\"MungBean\",\"MungBean\",\"MungBean\",\"MungBean\",\"MungBean\",\"MungBean\",\"MungBean\",\"MungBean\",\"MungBean\",\"MungBean\",\"MungBean\",\"MungBean\",\"MungBean\",\"MungBean\",\"MungBean\",\"MungBean\",\"MungBean\",\"MungBean\",\"MungBean\",\"MungBean\",\"MungBean\",\"MungBean\",\"MungBean\",\"MungBean\",\"MungBean\",\"MungBean\",\"MungBean\",\"MungBean\",\"MungBean\",\"MungBean\",\"MungBean\",\"MungBean\",\"MungBean\",\"MungBean\",\"MungBean\",\"MungBean\",\"MungBean\",\"MungBean\",\"MungBean\",\"MungBean\",\"MungBean\",\"MungBean\",\"MungBean\",\"MungBean\",\"Blackgram\",\"Blackgram\",\"Blackgram\",\"Blackgram\",\"Blackgram\",\"Blackgram\",\"Blackgram\",\"Blackgram\",\"Blackgram\",\"Blackgram\",\"Blackgram\",\"Blackgram\",\"Blackgram\",\"Blackgram\",\"Blackgram\",\"Blackgram\",\"Blackgram\",\"Blackgram\",\"Blackgram\",\"Blackgram\",\"Blackgram\",\"Blackgram\",\"Blackgram\",\"Blackgram\",\"Blackgram\",\"Blackgram\",\"Blackgram\",\"Blackgram\",\"Blackgram\",\"Blackgram\",\"Blackgram\",\"Blackgram\",\"Blackgram\",\"Blackgram\",\"Blackgram\",\"Blackgram\",\"Blackgram\",\"Blackgram\",\"Blackgram\",\"Blackgram\",\"Blackgram\",\"Blackgram\",\"Blackgram\",\"Blackgram\",\"Blackgram\",\"Blackgram\",\"Blackgram\",\"Blackgram\",\"Blackgram\",\"Blackgram\",\"Blackgram\",\"Blackgram\",\"Blackgram\",\"Blackgram\",\"Blackgram\",\"Blackgram\",\"Blackgram\",\"Blackgram\",\"Blackgram\",\"Blackgram\",\"Blackgram\",\"Blackgram\",\"Blackgram\",\"Blackgram\",\"Blackgram\",\"Blackgram\",\"Blackgram\",\"Blackgram\",\"Blackgram\",\"Blackgram\",\"Blackgram\",\"Blackgram\",\"Blackgram\",\"Blackgram\",\"Blackgram\",\"Blackgram\",\"Blackgram\",\"Blackgram\",\"Blackgram\",\"Blackgram\",\"Blackgram\",\"Blackgram\",\"Blackgram\",\"Blackgram\",\"Blackgram\",\"Blackgram\",\"Blackgram\",\"Blackgram\",\"Blackgram\",\"Blackgram\",\"Blackgram\",\"Blackgram\",\"Blackgram\",\"Blackgram\",\"Blackgram\",\"Blackgram\",\"Blackgram\",\"Blackgram\",\"Blackgram\",\"Blackgram\",\"Lentil\",\"Lentil\",\"Lentil\",\"Lentil\",\"Lentil\",\"Lentil\",\"Lentil\",\"Lentil\",\"Lentil\",\"Lentil\",\"Lentil\",\"Lentil\",\"Lentil\",\"Lentil\",\"Lentil\",\"Lentil\",\"Lentil\",\"Lentil\",\"Lentil\",\"Lentil\",\"Lentil\",\"Lentil\",\"Lentil\",\"Lentil\",\"Lentil\",\"Lentil\",\"Lentil\",\"Lentil\",\"Lentil\",\"Lentil\",\"Lentil\",\"Lentil\",\"Lentil\",\"Lentil\",\"Lentil\",\"Lentil\",\"Lentil\",\"Lentil\",\"Lentil\",\"Lentil\",\"Lentil\",\"Lentil\",\"Lentil\",\"Lentil\",\"Lentil\",\"Lentil\",\"Lentil\",\"Lentil\",\"Lentil\",\"Lentil\",\"Lentil\",\"Lentil\",\"Lentil\",\"Lentil\",\"Lentil\",\"Lentil\",\"Lentil\",\"Lentil\",\"Lentil\",\"Lentil\",\"Lentil\",\"Lentil\",\"Lentil\",\"Lentil\",\"Lentil\",\"Lentil\",\"Lentil\",\"Lentil\",\"Lentil\",\"Lentil\",\"Lentil\",\"Lentil\",\"Lentil\",\"Lentil\",\"Lentil\",\"Lentil\",\"Lentil\",\"Lentil\",\"Lentil\",\"Lentil\",\"Lentil\",\"Lentil\",\"Lentil\",\"Lentil\",\"Lentil\",\"Lentil\",\"Lentil\",\"Lentil\",\"Lentil\",\"Lentil\",\"Lentil\",\"Lentil\",\"Lentil\",\"Lentil\",\"Lentil\",\"Lentil\",\"Lentil\",\"Lentil\",\"Lentil\",\"Lentil\",\"Pomegranate\",\"Pomegranate\",\"Pomegranate\",\"Pomegranate\",\"Pomegranate\",\"Pomegranate\",\"Pomegranate\",\"Pomegranate\",\"Pomegranate\",\"Pomegranate\",\"Pomegranate\",\"Pomegranate\",\"Pomegranate\",\"Pomegranate\",\"Pomegranate\",\"Pomegranate\",\"Pomegranate\",\"Pomegranate\",\"Pomegranate\",\"Pomegranate\",\"Pomegranate\",\"Pomegranate\",\"Pomegranate\",\"Pomegranate\",\"Pomegranate\",\"Pomegranate\",\"Pomegranate\",\"Pomegranate\",\"Pomegranate\",\"Pomegranate\",\"Pomegranate\",\"Pomegranate\",\"Pomegranate\",\"Pomegranate\",\"Pomegranate\",\"Pomegranate\",\"Pomegranate\",\"Pomegranate\",\"Pomegranate\",\"Pomegranate\",\"Pomegranate\",\"Pomegranate\",\"Pomegranate\",\"Pomegranate\",\"Pomegranate\",\"Pomegranate\",\"Pomegranate\",\"Pomegranate\",\"Pomegranate\",\"Pomegranate\",\"Pomegranate\",\"Pomegranate\",\"Pomegranate\",\"Pomegranate\",\"Pomegranate\",\"Pomegranate\",\"Pomegranate\",\"Pomegranate\",\"Pomegranate\",\"Pomegranate\",\"Pomegranate\",\"Pomegranate\",\"Pomegranate\",\"Pomegranate\",\"Pomegranate\",\"Pomegranate\",\"Pomegranate\",\"Pomegranate\",\"Pomegranate\",\"Pomegranate\",\"Pomegranate\",\"Pomegranate\",\"Pomegranate\",\"Pomegranate\",\"Pomegranate\",\"Pomegranate\",\"Pomegranate\",\"Pomegranate\",\"Pomegranate\",\"Pomegranate\",\"Pomegranate\",\"Pomegranate\",\"Pomegranate\",\"Pomegranate\",\"Pomegranate\",\"Pomegranate\",\"Pomegranate\",\"Pomegranate\",\"Pomegranate\",\"Pomegranate\",\"Pomegranate\",\"Pomegranate\",\"Pomegranate\",\"Pomegranate\",\"Pomegranate\",\"Pomegranate\",\"Pomegranate\",\"Pomegranate\",\"Pomegranate\",\"Pomegranate\",\"Banana\",\"Banana\",\"Banana\",\"Banana\",\"Banana\",\"Banana\",\"Banana\",\"Banana\",\"Banana\",\"Banana\",\"Banana\",\"Banana\",\"Banana\",\"Banana\",\"Banana\",\"Banana\",\"Banana\",\"Banana\",\"Banana\",\"Banana\",\"Banana\",\"Banana\",\"Banana\",\"Banana\",\"Banana\",\"Banana\",\"Banana\",\"Banana\",\"Banana\",\"Banana\",\"Banana\",\"Banana\",\"Banana\",\"Banana\",\"Banana\",\"Banana\",\"Banana\",\"Banana\",\"Banana\",\"Banana\",\"Banana\",\"Banana\",\"Banana\",\"Banana\",\"Banana\",\"Banana\",\"Banana\",\"Banana\",\"Banana\",\"Banana\",\"Banana\",\"Banana\",\"Banana\",\"Banana\",\"Banana\",\"Banana\",\"Banana\",\"Banana\",\"Banana\",\"Banana\",\"Banana\",\"Banana\",\"Banana\",\"Banana\",\"Banana\",\"Banana\",\"Banana\",\"Banana\",\"Banana\",\"Banana\",\"Banana\",\"Banana\",\"Banana\",\"Banana\",\"Banana\",\"Banana\",\"Banana\",\"Banana\",\"Banana\",\"Banana\",\"Banana\",\"Banana\",\"Banana\",\"Banana\",\"Banana\",\"Banana\",\"Banana\",\"Banana\",\"Banana\",\"Banana\",\"Banana\",\"Banana\",\"Banana\",\"Banana\",\"Banana\",\"Banana\",\"Banana\",\"Banana\",\"Banana\",\"Banana\",\"Mango\",\"Mango\",\"Mango\",\"Mango\",\"Mango\",\"Mango\",\"Mango\",\"Mango\",\"Mango\",\"Mango\",\"Mango\",\"Mango\",\"Mango\",\"Mango\",\"Mango\",\"Mango\",\"Mango\",\"Mango\",\"Mango\",\"Mango\",\"Mango\",\"Mango\",\"Mango\",\"Mango\",\"Mango\",\"Mango\",\"Mango\",\"Mango\",\"Mango\",\"Mango\",\"Mango\",\"Mango\",\"Mango\",\"Mango\",\"Mango\",\"Mango\",\"Mango\",\"Mango\",\"Mango\",\"Mango\",\"Mango\",\"Mango\",\"Mango\",\"Mango\",\"Mango\",\"Mango\",\"Mango\",\"Mango\",\"Mango\",\"Mango\",\"Mango\",\"Mango\",\"Mango\",\"Mango\",\"Mango\",\"Mango\",\"Mango\",\"Mango\",\"Mango\",\"Mango\",\"Mango\",\"Mango\",\"Mango\",\"Mango\",\"Mango\",\"Mango\",\"Mango\",\"Mango\",\"Mango\",\"Mango\",\"Mango\",\"Mango\",\"Mango\",\"Mango\",\"Mango\",\"Mango\",\"Mango\",\"Mango\",\"Mango\",\"Mango\",\"Mango\",\"Mango\",\"Mango\",\"Mango\",\"Mango\",\"Mango\",\"Mango\",\"Mango\",\"Mango\",\"Mango\",\"Mango\",\"Mango\",\"Mango\",\"Mango\",\"Mango\",\"Mango\",\"Mango\",\"Mango\",\"Mango\",\"Mango\",\"Grapes\",\"Grapes\",\"Grapes\",\"Grapes\",\"Grapes\",\"Grapes\",\"Grapes\",\"Grapes\",\"Grapes\",\"Grapes\",\"Grapes\",\"Grapes\",\"Grapes\",\"Grapes\",\"Grapes\",\"Grapes\",\"Grapes\",\"Grapes\",\"Grapes\",\"Grapes\",\"Grapes\",\"Grapes\",\"Grapes\",\"Grapes\",\"Grapes\",\"Grapes\",\"Grapes\",\"Grapes\",\"Grapes\",\"Grapes\",\"Grapes\",\"Grapes\",\"Grapes\",\"Grapes\",\"Grapes\",\"Grapes\",\"Grapes\",\"Grapes\",\"Grapes\",\"Grapes\",\"Grapes\",\"Grapes\",\"Grapes\",\"Grapes\",\"Grapes\",\"Grapes\",\"Grapes\",\"Grapes\",\"Grapes\",\"Grapes\",\"Grapes\",\"Grapes\",\"Grapes\",\"Grapes\",\"Grapes\",\"Grapes\",\"Grapes\",\"Grapes\",\"Grapes\",\"Grapes\",\"Grapes\",\"Grapes\",\"Grapes\",\"Grapes\",\"Grapes\",\"Grapes\",\"Grapes\",\"Grapes\",\"Grapes\",\"Grapes\",\"Grapes\",\"Grapes\",\"Grapes\",\"Grapes\",\"Grapes\",\"Grapes\",\"Grapes\",\"Grapes\",\"Grapes\",\"Grapes\",\"Grapes\",\"Grapes\",\"Grapes\",\"Grapes\",\"Grapes\",\"Grapes\",\"Grapes\",\"Grapes\",\"Grapes\",\"Grapes\",\"Grapes\",\"Grapes\",\"Grapes\",\"Grapes\",\"Grapes\",\"Grapes\",\"Grapes\",\"Grapes\",\"Grapes\",\"Grapes\",\"Watermelon\",\"Watermelon\",\"Watermelon\",\"Watermelon\",\"Watermelon\",\"Watermelon\",\"Watermelon\",\"Watermelon\",\"Watermelon\",\"Watermelon\",\"Watermelon\",\"Watermelon\",\"Watermelon\",\"Watermelon\",\"Watermelon\",\"Watermelon\",\"Watermelon\",\"Watermelon\",\"Watermelon\",\"Watermelon\",\"Watermelon\",\"Watermelon\",\"Watermelon\",\"Watermelon\",\"Watermelon\",\"Watermelon\",\"Watermelon\",\"Watermelon\",\"Watermelon\",\"Watermelon\",\"Watermelon\",\"Watermelon\",\"Watermelon\",\"Watermelon\",\"Watermelon\",\"Watermelon\",\"Watermelon\",\"Watermelon\",\"Watermelon\",\"Watermelon\",\"Watermelon\",\"Watermelon\",\"Watermelon\",\"Watermelon\",\"Watermelon\",\"Watermelon\",\"Watermelon\",\"Watermelon\",\"Watermelon\",\"Watermelon\",\"Watermelon\",\"Watermelon\",\"Watermelon\",\"Watermelon\",\"Watermelon\",\"Watermelon\",\"Watermelon\",\"Watermelon\",\"Watermelon\",\"Watermelon\",\"Watermelon\",\"Watermelon\",\"Watermelon\",\"Watermelon\",\"Watermelon\",\"Watermelon\",\"Watermelon\",\"Watermelon\",\"Watermelon\",\"Watermelon\",\"Watermelon\",\"Watermelon\",\"Watermelon\",\"Watermelon\",\"Watermelon\",\"Watermelon\",\"Watermelon\",\"Watermelon\",\"Watermelon\",\"Watermelon\",\"Watermelon\",\"Watermelon\",\"Watermelon\",\"Watermelon\",\"Watermelon\",\"Watermelon\",\"Watermelon\",\"Watermelon\",\"Watermelon\",\"Watermelon\",\"Watermelon\",\"Watermelon\",\"Watermelon\",\"Watermelon\",\"Watermelon\",\"Watermelon\",\"Watermelon\",\"Watermelon\",\"Watermelon\",\"Watermelon\",\"Muskmelon\",\"Muskmelon\",\"Muskmelon\",\"Muskmelon\",\"Muskmelon\",\"Muskmelon\",\"Muskmelon\",\"Muskmelon\",\"Muskmelon\",\"Muskmelon\",\"Muskmelon\",\"Muskmelon\",\"Muskmelon\",\"Muskmelon\",\"Muskmelon\",\"Muskmelon\",\"Muskmelon\",\"Muskmelon\",\"Muskmelon\",\"Muskmelon\",\"Muskmelon\",\"Muskmelon\",\"Muskmelon\",\"Muskmelon\",\"Muskmelon\",\"Muskmelon\",\"Muskmelon\",\"Muskmelon\",\"Muskmelon\",\"Muskmelon\",\"Muskmelon\",\"Muskmelon\",\"Muskmelon\",\"Muskmelon\",\"Muskmelon\",\"Muskmelon\",\"Muskmelon\",\"Muskmelon\",\"Muskmelon\",\"Muskmelon\",\"Muskmelon\",\"Muskmelon\",\"Muskmelon\",\"Muskmelon\",\"Muskmelon\",\"Muskmelon\",\"Muskmelon\",\"Muskmelon\",\"Muskmelon\",\"Muskmelon\",\"Muskmelon\",\"Muskmelon\",\"Muskmelon\",\"Muskmelon\",\"Muskmelon\",\"Muskmelon\",\"Muskmelon\",\"Muskmelon\",\"Muskmelon\",\"Muskmelon\",\"Muskmelon\",\"Muskmelon\",\"Muskmelon\",\"Muskmelon\",\"Muskmelon\",\"Muskmelon\",\"Muskmelon\",\"Muskmelon\",\"Muskmelon\",\"Muskmelon\",\"Muskmelon\",\"Muskmelon\",\"Muskmelon\",\"Muskmelon\",\"Muskmelon\",\"Muskmelon\",\"Muskmelon\",\"Muskmelon\",\"Muskmelon\",\"Muskmelon\",\"Muskmelon\",\"Muskmelon\",\"Muskmelon\",\"Muskmelon\",\"Muskmelon\",\"Muskmelon\",\"Muskmelon\",\"Muskmelon\",\"Muskmelon\",\"Muskmelon\",\"Muskmelon\",\"Muskmelon\",\"Muskmelon\",\"Muskmelon\",\"Muskmelon\",\"Muskmelon\",\"Muskmelon\",\"Muskmelon\",\"Muskmelon\",\"Muskmelon\",\"Apple\",\"Apple\",\"Apple\",\"Apple\",\"Apple\",\"Apple\",\"Apple\",\"Apple\",\"Apple\",\"Apple\",\"Apple\",\"Apple\",\"Apple\",\"Apple\",\"Apple\",\"Apple\",\"Apple\",\"Apple\",\"Apple\",\"Apple\",\"Apple\",\"Apple\",\"Apple\",\"Apple\",\"Apple\",\"Apple\",\"Apple\",\"Apple\",\"Apple\",\"Apple\",\"Apple\",\"Apple\",\"Apple\",\"Apple\",\"Apple\",\"Apple\",\"Apple\",\"Apple\",\"Apple\",\"Apple\",\"Apple\",\"Apple\",\"Apple\",\"Apple\",\"Apple\",\"Apple\",\"Apple\",\"Apple\",\"Apple\",\"Apple\",\"Apple\",\"Apple\",\"Apple\",\"Apple\",\"Apple\",\"Apple\",\"Apple\",\"Apple\",\"Apple\",\"Apple\",\"Apple\",\"Apple\",\"Apple\",\"Apple\",\"Apple\",\"Apple\",\"Apple\",\"Apple\",\"Apple\",\"Apple\",\"Apple\",\"Apple\",\"Apple\",\"Apple\",\"Apple\",\"Apple\",\"Apple\",\"Apple\",\"Apple\",\"Apple\",\"Apple\",\"Apple\",\"Apple\",\"Apple\",\"Apple\",\"Apple\",\"Apple\",\"Apple\",\"Apple\",\"Apple\",\"Apple\",\"Apple\",\"Apple\",\"Apple\",\"Apple\",\"Apple\",\"Apple\",\"Apple\",\"Apple\",\"Apple\",\"Orange\",\"Orange\",\"Orange\",\"Orange\",\"Orange\",\"Orange\",\"Orange\",\"Orange\",\"Orange\",\"Orange\",\"Orange\",\"Orange\",\"Orange\",\"Orange\",\"Orange\",\"Orange\",\"Orange\",\"Orange\",\"Orange\",\"Orange\",\"Orange\",\"Orange\",\"Orange\",\"Orange\",\"Orange\",\"Orange\",\"Orange\",\"Orange\",\"Orange\",\"Orange\",\"Orange\",\"Orange\",\"Orange\",\"Orange\",\"Orange\",\"Orange\",\"Orange\",\"Orange\",\"Orange\",\"Orange\",\"Orange\",\"Orange\",\"Orange\",\"Orange\",\"Orange\",\"Orange\",\"Orange\",\"Orange\",\"Orange\",\"Orange\",\"Orange\",\"Orange\",\"Orange\",\"Orange\",\"Orange\",\"Orange\",\"Orange\",\"Orange\",\"Orange\",\"Orange\",\"Orange\",\"Orange\",\"Orange\",\"Orange\",\"Orange\",\"Orange\",\"Orange\",\"Orange\",\"Orange\",\"Orange\",\"Orange\",\"Orange\",\"Orange\",\"Orange\",\"Orange\",\"Orange\",\"Orange\",\"Orange\",\"Orange\",\"Orange\",\"Orange\",\"Orange\",\"Orange\",\"Orange\",\"Orange\",\"Orange\",\"Orange\",\"Orange\",\"Orange\",\"Orange\",\"Orange\",\"Orange\",\"Orange\",\"Orange\",\"Orange\",\"Orange\",\"Orange\",\"Orange\",\"Orange\",\"Orange\",\"Papaya\",\"Papaya\",\"Papaya\",\"Papaya\",\"Papaya\",\"Papaya\",\"Papaya\",\"Papaya\",\"Papaya\",\"Papaya\",\"Papaya\",\"Papaya\",\"Papaya\",\"Papaya\",\"Papaya\",\"Papaya\",\"Papaya\",\"Papaya\",\"Papaya\",\"Papaya\",\"Papaya\",\"Papaya\",\"Papaya\",\"Papaya\",\"Papaya\",\"Papaya\",\"Papaya\",\"Papaya\",\"Papaya\",\"Papaya\",\"Papaya\",\"Papaya\",\"Papaya\",\"Papaya\",\"Papaya\",\"Papaya\",\"Papaya\",\"Papaya\",\"Papaya\",\"Papaya\",\"Papaya\",\"Papaya\",\"Papaya\",\"Papaya\",\"Papaya\",\"Papaya\",\"Papaya\",\"Papaya\",\"Papaya\",\"Papaya\",\"Papaya\",\"Papaya\",\"Papaya\",\"Papaya\",\"Papaya\",\"Papaya\",\"Papaya\",\"Papaya\",\"Papaya\",\"Papaya\",\"Papaya\",\"Papaya\",\"Papaya\",\"Papaya\",\"Papaya\",\"Papaya\",\"Papaya\",\"Papaya\",\"Papaya\",\"Papaya\",\"Papaya\",\"Papaya\",\"Papaya\",\"Papaya\",\"Papaya\",\"Papaya\",\"Papaya\",\"Papaya\",\"Papaya\",\"Papaya\",\"Papaya\",\"Papaya\",\"Papaya\",\"Papaya\",\"Papaya\",\"Papaya\",\"Papaya\",\"Papaya\",\"Papaya\",\"Papaya\",\"Papaya\",\"Papaya\",\"Papaya\",\"Papaya\",\"Papaya\",\"Papaya\",\"Papaya\",\"Papaya\",\"Papaya\",\"Papaya\",\"Coconut\",\"Coconut\",\"Coconut\",\"Coconut\",\"Coconut\",\"Coconut\",\"Coconut\",\"Coconut\",\"Coconut\",\"Coconut\",\"Coconut\",\"Coconut\",\"Coconut\",\"Coconut\",\"Coconut\",\"Coconut\",\"Coconut\",\"Coconut\",\"Coconut\",\"Coconut\",\"Coconut\",\"Coconut\",\"Coconut\",\"Coconut\",\"Coconut\",\"Coconut\",\"Coconut\",\"Coconut\",\"Coconut\",\"Coconut\",\"Coconut\",\"Coconut\",\"Coconut\",\"Coconut\",\"Coconut\",\"Coconut\",\"Coconut\",\"Coconut\",\"Coconut\",\"Coconut\",\"Coconut\",\"Coconut\",\"Coconut\",\"Coconut\",\"Coconut\",\"Coconut\",\"Coconut\",\"Coconut\",\"Coconut\",\"Coconut\",\"Coconut\",\"Coconut\",\"Coconut\",\"Coconut\",\"Coconut\",\"Coconut\",\"Coconut\",\"Coconut\",\"Coconut\",\"Coconut\",\"Coconut\",\"Coconut\",\"Coconut\",\"Coconut\",\"Coconut\",\"Coconut\",\"Coconut\",\"Coconut\",\"Coconut\",\"Coconut\",\"Coconut\",\"Coconut\",\"Coconut\",\"Coconut\",\"Coconut\",\"Coconut\",\"Coconut\",\"Coconut\",\"Coconut\",\"Coconut\",\"Coconut\",\"Coconut\",\"Coconut\",\"Coconut\",\"Coconut\",\"Coconut\",\"Coconut\",\"Coconut\",\"Coconut\",\"Coconut\",\"Coconut\",\"Coconut\",\"Coconut\",\"Coconut\",\"Coconut\",\"Coconut\",\"Coconut\",\"Coconut\",\"Coconut\",\"Coconut\",\"Cotton\",\"Cotton\",\"Cotton\",\"Cotton\",\"Cotton\",\"Cotton\",\"Cotton\",\"Cotton\",\"Cotton\",\"Cotton\",\"Cotton\",\"Cotton\",\"Cotton\",\"Cotton\",\"Cotton\",\"Cotton\",\"Cotton\",\"Cotton\",\"Cotton\",\"Cotton\",\"Cotton\",\"Cotton\",\"Cotton\",\"Cotton\",\"Cotton\",\"Cotton\",\"Cotton\",\"Cotton\",\"Cotton\",\"Cotton\",\"Cotton\",\"Cotton\",\"Cotton\",\"Cotton\",\"Cotton\",\"Cotton\",\"Cotton\",\"Cotton\",\"Cotton\",\"Cotton\",\"Cotton\",\"Cotton\",\"Cotton\",\"Cotton\",\"Cotton\",\"Cotton\",\"Cotton\",\"Cotton\",\"Cotton\",\"Cotton\",\"Cotton\",\"Cotton\",\"Cotton\",\"Cotton\",\"Cotton\",\"Cotton\",\"Cotton\",\"Cotton\",\"Cotton\",\"Cotton\",\"Cotton\",\"Cotton\",\"Cotton\",\"Cotton\",\"Cotton\",\"Cotton\",\"Cotton\",\"Cotton\",\"Cotton\",\"Cotton\",\"Cotton\",\"Cotton\",\"Cotton\",\"Cotton\",\"Cotton\",\"Cotton\",\"Cotton\",\"Cotton\",\"Cotton\",\"Cotton\",\"Cotton\",\"Cotton\",\"Cotton\",\"Cotton\",\"Cotton\",\"Cotton\",\"Cotton\",\"Cotton\",\"Cotton\",\"Cotton\",\"Cotton\",\"Cotton\",\"Cotton\",\"Cotton\",\"Cotton\",\"Cotton\",\"Cotton\",\"Cotton\",\"Cotton\",\"Cotton\",\"Jute\",\"Jute\",\"Jute\",\"Jute\",\"Jute\",\"Jute\",\"Jute\",\"Jute\",\"Jute\",\"Jute\",\"Jute\",\"Jute\",\"Jute\",\"Jute\",\"Jute\",\"Jute\",\"Jute\",\"Jute\",\"Jute\",\"Jute\",\"Jute\",\"Jute\",\"Jute\",\"Jute\",\"Jute\",\"Jute\",\"Jute\",\"Jute\",\"Jute\",\"Jute\",\"Jute\",\"Jute\",\"Jute\",\"Jute\",\"Jute\",\"Jute\",\"Jute\",\"Jute\",\"Jute\",\"Jute\",\"Jute\",\"Jute\",\"Jute\",\"Jute\",\"Jute\",\"Jute\",\"Jute\",\"Jute\",\"Jute\",\"Jute\",\"Jute\",\"Jute\",\"Jute\",\"Jute\",\"Jute\",\"Jute\",\"Jute\",\"Jute\",\"Jute\",\"Jute\",\"Jute\",\"Jute\",\"Jute\",\"Jute\",\"Jute\",\"Jute\",\"Jute\",\"Jute\",\"Jute\",\"Jute\",\"Jute\",\"Jute\",\"Jute\",\"Jute\",\"Jute\",\"Jute\",\"Jute\",\"Jute\",\"Jute\",\"Jute\",\"Jute\",\"Jute\",\"Jute\",\"Jute\",\"Jute\",\"Jute\",\"Jute\",\"Jute\",\"Jute\",\"Jute\",\"Jute\",\"Jute\",\"Jute\",\"Jute\",\"Jute\",\"Jute\",\"Jute\",\"Jute\",\"Jute\",\"Jute\",\"Coffee\",\"Coffee\",\"Coffee\",\"Coffee\",\"Coffee\",\"Coffee\",\"Coffee\",\"Coffee\",\"Coffee\",\"Coffee\",\"Coffee\",\"Coffee\",\"Coffee\",\"Coffee\",\"Coffee\",\"Coffee\",\"Coffee\",\"Coffee\",\"Coffee\",\"Coffee\",\"Coffee\",\"Coffee\",\"Coffee\",\"Coffee\",\"Coffee\",\"Coffee\",\"Coffee\",\"Coffee\",\"Coffee\",\"Coffee\",\"Coffee\",\"Coffee\",\"Coffee\",\"Coffee\",\"Coffee\",\"Coffee\",\"Coffee\",\"Coffee\",\"Coffee\",\"Coffee\",\"Coffee\",\"Coffee\",\"Coffee\",\"Coffee\",\"Coffee\",\"Coffee\",\"Coffee\",\"Coffee\",\"Coffee\",\"Coffee\",\"Coffee\",\"Coffee\",\"Coffee\",\"Coffee\",\"Coffee\",\"Coffee\",\"Coffee\",\"Coffee\",\"Coffee\",\"Coffee\",\"Coffee\",\"Coffee\",\"Coffee\",\"Coffee\",\"Coffee\",\"Coffee\",\"Coffee\",\"Coffee\",\"Coffee\",\"Coffee\",\"Coffee\",\"Coffee\",\"Coffee\",\"Coffee\",\"Coffee\",\"Coffee\",\"Coffee\",\"Coffee\",\"Coffee\",\"Coffee\",\"Coffee\",\"Coffee\",\"Coffee\",\"Coffee\",\"Coffee\",\"Coffee\",\"Coffee\",\"Coffee\",\"Coffee\",\"Coffee\",\"Coffee\",\"Coffee\",\"Coffee\",\"Coffee\",\"Coffee\",\"Coffee\",\"Coffee\",\"Coffee\",\"Coffee\",\"Coffee\"],\"x0\":\" \",\"xaxis\":\"x\",\"y\":[42,58,55,35,42,37,55,53,54,58,53,46,58,56,50,48,38,35,38,35,45,40,59,41,47,53,59,50,49,51,57,35,37,53,54,55,57,39,43,44,42,45,60,40,52,35,49,39,43,55,36,60,56,60,52,38,54,36,46,55,40,58,58,36,47,41,54,59,46,56,52,45,42,43,54,36,47,35,36,41,57,45,53,43,58,60,43,50,53,50,53,44,45,40,51,46,47,55,35,37,54,44,43,58,38,41,41,60,44,60,44,49,52,44,54,58,47,41,53,55,57,50,56,45,48,51,39,49,48,54,35,43,57,35,46,44,56,55,35,57,56,44,48,60,51,46,60,58,43,43,36,36,60,38,54,38,44,58,44,35,45,60,51,36,48,53,45,45,35,54,39,48,37,50,39,52,39,49,42,38,52,40,57,52,59,38,60,37,58,60,59,55,51,48,60,57,35,54,58,57,72,72,58,72,67,73,70,70,62,74,66,66,63,62,62,72,56,71,78,70,80,68,78,68,62,67,65,60,77,68,76,79,60,78,79,58,58,55,76,61,60,55,76,68,66,64,60,76,60,68,79,74,55,77,60,67,66,71,69,79,56,72,73,64,73,75,59,69,56,76,74,71,73,70,57,79,71,76,75,80,62,79,57,73,61,78,75,55,65,60,61,67,76,63,65,56,65,56,58,69,60,70,55,64,61,65,57,80,59,59,58,57,80,60,78,77,79,80,55,65,78,65,70,64,71,79,63,80,60,75,77,72,73,77,62,59,59,62,63,79,72,64,66,57,56,77,65,72,60,80,72,67,69,77,62,71,79,59,63,56,63,67,71,74,76,66,69,65,74,67,56,59,61,80,61,74,69,75,68,65,79,78,55,59,68,68,64,69,67,69,73,78,72,67,56,65,63,70,63,60,72,59,73,57,79,75,70,55,58,61,58,56,72,80,72,62,58,68,67,70,63,76,55,75,71,70,72,66,56,76,69,73,61,71,61,73,72,64,74,60,66,59,67,76,73,75,70,59,62,67,66,73,67,55,56,77,73,63,77,64,75,77,80,75,80,77,78,60,74,57,60,77,68,73,59,72,56,70,74,67,74,72,68,57,62,55,77,75,71,64,55,69,67,74,64,71,72,60,71,61,49,59,58,43,54,43,55,35,57,53,49,56,43,38,45,57,35,55,45,58,44,49,51,48,50,56,60,37,43,43,44,43,45,56,57,45,36,57,47,49,51,44,38,57,48,44,51,44,35,60,58,42,39,36,41,41,36,46,39,57,55,51,56,57,36,41,38,37,35,45,58,56,56,51,42,59,45,40,45,52,45,54,51,41,50,40,54,55,59,45,38,58,55,36,52,59,51,47,51,51,55,54,55,56,56,57,59,51,49,39,35,52,42,46,38,60,53,58,35,53,47,53,45,37,60,45,57,57,57,59,41,48,36,36,59,48,50,40,43,57,60,59,60,47,45,39,40,48,59,48,43,46,47,44,58,40,38,48,49,38,58,44,59,48,41,52,48,41,37,35,41,50,35,37,39,45,37,51,56,40,36,37,47,44,59,56,45,39,37,37,54,51,54,45,40,37,44,45,45,48,79,62,61,73,58,55,72,64,64,74,73,67,63,66,56,66,55,58,65,62,71,71,71,63,60,61,68,62,66,63,72,65,78,67,60,76,78,60,75,72,80,76,68,78,64,80,68,67,70,74,67,80,79,75,55,68,68,76,60,72,68,62,65,64,58,75,66,70,57,58,62,75,80,76,76,61,60,63,67,63,68,61,74,79,62,60,65,55,62,59,77,58,63,63,70,73,77,79,77,62,76,61,60,74,71,71,72,59,64,58,77,75,69,80,78,79,62,60,67,78,80,61,66,61,60,66,56,72,77,65,79,63,78,78,67,65,72,57,58,58,65,65,65,69,55,61,79,63,61,70,74,64,58,79,68,79,77,74,68,75,78,79,60,69,67,67,67,70,71,68,66,65,59,59,63,69,75,61,74,74,63,56,74,76,65,67,79,61,70,80,77,67,73,56,70,56,77,59,73,77,24,18,26,18,27,25,21,30,27,11,5,10,7,20,22,15,27,18,15,23,8,27,23,16,29,17,21,6,23,16,18,21,23,17,25,18,19,24,24,17,30,29,24,21,11,25,22,21,26,18,6,21,5,7,13,24,23,20,19,9,27,30,21,30,11,9,27,29,25,14,9,14,21,23,6,5,9,8,11,17,5,28,13,9,27,25,7,10,18,26,16,20,9,30,25,23,14,17,24,28,94,95,92,76,77,94,92,89,88,77,88,87,75,85,95,79,95,79,76,86,94,78,70,71,79,78,73,76,87,83,91,81,74,71,91,71,79,72,73,84,90,70,89,80,91,78,70,86,95,90,72,81,75,81,75,71,94,73,79,86,79,74,75,83,85,80,72,75,85,87,72,88,79,88,74,82,91,85,88,92,92,77,86,88,73,73,74,89,70,87,82,86,85,93,89,94,81,71,75,81,40,24,26,22,21,19,21,17,36,28,19,23,30,27,19,28,38,37,18,16,20,25,17,37,15,37,19,33,27,16,36,29,31,34,16,30,35,18,40,29,38,32,38,32,29,34,19,17,15,19,36,31,36,23,26,33,18,17,34,35,28,24,35,24,37,36,18,38,31,29,20,21,30,38,24,36,18,16,27,17,29,36,27,28,36,35,21,38,18,23,31,34,37,16,24,38,21,18,20,26,130,144,123,125,131,123,140,122,123,134,130,145,122,139,141,138,144,136,122,136,145,132,133,121,125,140,132,126,120,142,135,126,139,141,142,129,134,138,131,122,126,128,132,137,123,136,134,139,127,138,120,142,133,139,134,140,127,120,139,136,139,133,130,135,140,132,121,132,142,121,140,120,133,135,145,136,129,130,129,135,120,125,132,140,145,128,139,122,144,120,141,121,125,138,124,138,143,142,124,134,25,19,30,8,22,26,27,22,22,13,25,15,10,9,17,12,14,21,18,17,14,8,19,16,29,9,21,5,28,29,15,21,14,5,8,22,7,27,10,16,18,7,6,5,16,20,25,7,28,25,25,16,12,23,25,28,21,20,7,6,13,17,6,10,11,25,7,12,22,19,22,30,14,23,16,5,7,18,5,23,30,10,11,21,6,20,7,24,21,25,25,10,22,14,30,12,7,18,23,24,17,27,25,18,26,25,24,30,6,26,30,9,7,21,26,27,5,14,18,14,9,6,12,13,25,25,21,25,24,25,17,25,25,11,26,17,25,8,13,22,13,23,22,23,10,12,20,11,19,26,20,17,7,22,21,12,12,14,9,16,7,6,20,29,5,5,15,11,15,30,12,25,11,5,18,22,18,18,28,18,20,22,25,15,16,5,21,23,29,11,18,21,8,6,25,13,26,21,15,16,128,144,128,120,129,137,139,123,144,124,122,121,126,139,133,143,140,137,121,144,128,128,143,140,144,141,144,143,137,144,126,120,143,141,142,138,125,121,122,123,121,137,135,144,123,133,130,143,143,122,125,139,123,136,131,140,138,127,145,139,126,136,124,138,136,134,143,120,145,141,123,136,136,141,129,138,137,132,139,125,143,144,143,135,130,142,129,135,145,121,131,140,138,140,145,120,132,137,144,140,30,6,13,16,7,27,23,18,24,23,17,12,9,7,18,11,8,17,5,8,13,25,7,23,14,7,29,14,8,18,25,12,16,14,7,12,25,8,5,17,30,23,27,11,21,22,18,10,16,9,11,15,5,22,15,6,16,20,29,28,25,6,29,11,24,21,29,29,23,9,5,12,20,8,8,21,19,18,15,22,25,7,7,30,17,23,20,23,14,11,29,24,8,10,13,30,8,7,17,26,68,46,47,65,68,68,62,65,68,64,51,47,64,57,60,58,55,51,65,57,52,67,64,62,48,46,68,59,51,54,56,68,59,70,61,60,62,62,57,47,50,46,68,62,58,60,66,65,54,64,52,47,48,54,65,52,46,63,49,53,55,62,58,65,50,64,58,58,69,67,67,68,57,50,50,47,60,51,68,69,55,55,62,69,61,57,66,55,61,64,57,65,66,55,70,59,64,67,59,64,30,23,28,21,18,11,5,6,30,7,18,10,8,18,15,19,20,17,11,6,6,6,8,13,9,27,24,6,14,14,6,11,14,6,6,25,14,12,25,21,22,5,11,30,10,7,20,15,17,15,23,19,21,27,29,8,24,29,11,10,29,29,30,12,13,28,24,23,26,28,18,6,30,7,26,6,12,5,19,9,30,30,13,29,30,13,15,12,28,22,10,20,9,16,8,8,27,21,5,26,47,36,47,47,38,50,41,45,47,60,45,59,38,49,40,35,43,46,39,56,36,58,42,41,39,60,46,49,35,36,45,51,60,37,52,48,38,41,53,48,46,41,42,50,37,39,38,38,40,50,40,40,50,36,50,51,57,47,52,40,60,43,44,49,44,59,53,52,36,48,52,37,39,51,36,56,54,56,45,46,49,53,60,56,52,43,44,43,37,48,45,56,40,37,46,38,53,39,58,60,47,37,41,40,41,35,37,43,55,40,53,46,41,55,43,38,49,40,35,45,53,56,55,45,54,56,40,44,47,40,57,36,60,51,39,50,52,52,49,48,47,52,52,51,37,41,55,56,40,56,56,46,48,58,50,41,42,40,57,41,45,40,43,36,58,41,48,58,59,35,41,57,42,59,43,46,37,41,56,53,54,58,39,50,38,48,41,54,46,52,43,55,57,47,43,44,52,39,39,38,21,21,38,24,28,23,31,25,18,32,36,33,15,30,39,34,15,20,29,32,24,21,23,26,33,25,26,18,27,39,27,21,27,24,31,35,27,40,40,21,34,30,21,33,23,15,29,29,35,29,33,17,19,20,27,40,35,31,28,24,26,28,40,38,40,22,40,28,39,28,20,26,29,30,40,37,40,37,18,23,18,31,33,26,35,36,38,33,31,16,40,31,21,38,35,34,15,33,32,18],\"y0\":\" \",\"yaxis\":\"y\",\"type\":\"box\"}],                        {\"template\":{\"data\":{\"histogram2dcontour\":[{\"type\":\"histogram2dcontour\",\"colorbar\":{\"outlinewidth\":0,\"ticks\":\"\"},\"colorscale\":[[0.0,\"#0d0887\"],[0.1111111111111111,\"#46039f\"],[0.2222222222222222,\"#7201a8\"],[0.3333333333333333,\"#9c179e\"],[0.4444444444444444,\"#bd3786\"],[0.5555555555555556,\"#d8576b\"],[0.6666666666666666,\"#ed7953\"],[0.7777777777777778,\"#fb9f3a\"],[0.8888888888888888,\"#fdca26\"],[1.0,\"#f0f921\"]]}],\"choropleth\":[{\"type\":\"choropleth\",\"colorbar\":{\"outlinewidth\":0,\"ticks\":\"\"}}],\"histogram2d\":[{\"type\":\"histogram2d\",\"colorbar\":{\"outlinewidth\":0,\"ticks\":\"\"},\"colorscale\":[[0.0,\"#0d0887\"],[0.1111111111111111,\"#46039f\"],[0.2222222222222222,\"#7201a8\"],[0.3333333333333333,\"#9c179e\"],[0.4444444444444444,\"#bd3786\"],[0.5555555555555556,\"#d8576b\"],[0.6666666666666666,\"#ed7953\"],[0.7777777777777778,\"#fb9f3a\"],[0.8888888888888888,\"#fdca26\"],[1.0,\"#f0f921\"]]}],\"heatmap\":[{\"type\":\"heatmap\",\"colorbar\":{\"outlinewidth\":0,\"ticks\":\"\"},\"colorscale\":[[0.0,\"#0d0887\"],[0.1111111111111111,\"#46039f\"],[0.2222222222222222,\"#7201a8\"],[0.3333333333333333,\"#9c179e\"],[0.4444444444444444,\"#bd3786\"],[0.5555555555555556,\"#d8576b\"],[0.6666666666666666,\"#ed7953\"],[0.7777777777777778,\"#fb9f3a\"],[0.8888888888888888,\"#fdca26\"],[1.0,\"#f0f921\"]]}],\"heatmapgl\":[{\"type\":\"heatmapgl\",\"colorbar\":{\"outlinewidth\":0,\"ticks\":\"\"},\"colorscale\":[[0.0,\"#0d0887\"],[0.1111111111111111,\"#46039f\"],[0.2222222222222222,\"#7201a8\"],[0.3333333333333333,\"#9c179e\"],[0.4444444444444444,\"#bd3786\"],[0.5555555555555556,\"#d8576b\"],[0.6666666666666666,\"#ed7953\"],[0.7777777777777778,\"#fb9f3a\"],[0.8888888888888888,\"#fdca26\"],[1.0,\"#f0f921\"]]}],\"contourcarpet\":[{\"type\":\"contourcarpet\",\"colorbar\":{\"outlinewidth\":0,\"ticks\":\"\"}}],\"contour\":[{\"type\":\"contour\",\"colorbar\":{\"outlinewidth\":0,\"ticks\":\"\"},\"colorscale\":[[0.0,\"#0d0887\"],[0.1111111111111111,\"#46039f\"],[0.2222222222222222,\"#7201a8\"],[0.3333333333333333,\"#9c179e\"],[0.4444444444444444,\"#bd3786\"],[0.5555555555555556,\"#d8576b\"],[0.6666666666666666,\"#ed7953\"],[0.7777777777777778,\"#fb9f3a\"],[0.8888888888888888,\"#fdca26\"],[1.0,\"#f0f921\"]]}],\"surface\":[{\"type\":\"surface\",\"colorbar\":{\"outlinewidth\":0,\"ticks\":\"\"},\"colorscale\":[[0.0,\"#0d0887\"],[0.1111111111111111,\"#46039f\"],[0.2222222222222222,\"#7201a8\"],[0.3333333333333333,\"#9c179e\"],[0.4444444444444444,\"#bd3786\"],[0.5555555555555556,\"#d8576b\"],[0.6666666666666666,\"#ed7953\"],[0.7777777777777778,\"#fb9f3a\"],[0.8888888888888888,\"#fdca26\"],[1.0,\"#f0f921\"]]}],\"mesh3d\":[{\"type\":\"mesh3d\",\"colorbar\":{\"outlinewidth\":0,\"ticks\":\"\"}}],\"scatter\":[{\"fillpattern\":{\"fillmode\":\"overlay\",\"size\":10,\"solidity\":0.2},\"type\":\"scatter\"}],\"parcoords\":[{\"type\":\"parcoords\",\"line\":{\"colorbar\":{\"outlinewidth\":0,\"ticks\":\"\"}}}],\"scatterpolargl\":[{\"type\":\"scatterpolargl\",\"marker\":{\"colorbar\":{\"outlinewidth\":0,\"ticks\":\"\"}}}],\"bar\":[{\"error_x\":{\"color\":\"#2a3f5f\"},\"error_y\":{\"color\":\"#2a3f5f\"},\"marker\":{\"line\":{\"color\":\"#E5ECF6\",\"width\":0.5},\"pattern\":{\"fillmode\":\"overlay\",\"size\":10,\"solidity\":0.2}},\"type\":\"bar\"}],\"scattergeo\":[{\"type\":\"scattergeo\",\"marker\":{\"colorbar\":{\"outlinewidth\":0,\"ticks\":\"\"}}}],\"scatterpolar\":[{\"type\":\"scatterpolar\",\"marker\":{\"colorbar\":{\"outlinewidth\":0,\"ticks\":\"\"}}}],\"histogram\":[{\"marker\":{\"pattern\":{\"fillmode\":\"overlay\",\"size\":10,\"solidity\":0.2}},\"type\":\"histogram\"}],\"scattergl\":[{\"type\":\"scattergl\",\"marker\":{\"colorbar\":{\"outlinewidth\":0,\"ticks\":\"\"}}}],\"scatter3d\":[{\"type\":\"scatter3d\",\"line\":{\"colorbar\":{\"outlinewidth\":0,\"ticks\":\"\"}},\"marker\":{\"colorbar\":{\"outlinewidth\":0,\"ticks\":\"\"}}}],\"scattermapbox\":[{\"type\":\"scattermapbox\",\"marker\":{\"colorbar\":{\"outlinewidth\":0,\"ticks\":\"\"}}}],\"scatterternary\":[{\"type\":\"scatterternary\",\"marker\":{\"colorbar\":{\"outlinewidth\":0,\"ticks\":\"\"}}}],\"scattercarpet\":[{\"type\":\"scattercarpet\",\"marker\":{\"colorbar\":{\"outlinewidth\":0,\"ticks\":\"\"}}}],\"carpet\":[{\"aaxis\":{\"endlinecolor\":\"#2a3f5f\",\"gridcolor\":\"white\",\"linecolor\":\"white\",\"minorgridcolor\":\"white\",\"startlinecolor\":\"#2a3f5f\"},\"baxis\":{\"endlinecolor\":\"#2a3f5f\",\"gridcolor\":\"white\",\"linecolor\":\"white\",\"minorgridcolor\":\"white\",\"startlinecolor\":\"#2a3f5f\"},\"type\":\"carpet\"}],\"table\":[{\"cells\":{\"fill\":{\"color\":\"#EBF0F8\"},\"line\":{\"color\":\"white\"}},\"header\":{\"fill\":{\"color\":\"#C8D4E3\"},\"line\":{\"color\":\"white\"}},\"type\":\"table\"}],\"barpolar\":[{\"marker\":{\"line\":{\"color\":\"#E5ECF6\",\"width\":0.5},\"pattern\":{\"fillmode\":\"overlay\",\"size\":10,\"solidity\":0.2}},\"type\":\"barpolar\"}],\"pie\":[{\"automargin\":true,\"type\":\"pie\"}]},\"layout\":{\"autotypenumbers\":\"strict\",\"colorway\":[\"#636efa\",\"#EF553B\",\"#00cc96\",\"#ab63fa\",\"#FFA15A\",\"#19d3f3\",\"#FF6692\",\"#B6E880\",\"#FF97FF\",\"#FECB52\"],\"font\":{\"color\":\"#2a3f5f\"},\"hovermode\":\"closest\",\"hoverlabel\":{\"align\":\"left\"},\"paper_bgcolor\":\"white\",\"plot_bgcolor\":\"#E5ECF6\",\"polar\":{\"bgcolor\":\"#E5ECF6\",\"angularaxis\":{\"gridcolor\":\"white\",\"linecolor\":\"white\",\"ticks\":\"\"},\"radialaxis\":{\"gridcolor\":\"white\",\"linecolor\":\"white\",\"ticks\":\"\"}},\"ternary\":{\"bgcolor\":\"#E5ECF6\",\"aaxis\":{\"gridcolor\":\"white\",\"linecolor\":\"white\",\"ticks\":\"\"},\"baxis\":{\"gridcolor\":\"white\",\"linecolor\":\"white\",\"ticks\":\"\"},\"caxis\":{\"gridcolor\":\"white\",\"linecolor\":\"white\",\"ticks\":\"\"}},\"coloraxis\":{\"colorbar\":{\"outlinewidth\":0,\"ticks\":\"\"}},\"colorscale\":{\"sequential\":[[0.0,\"#0d0887\"],[0.1111111111111111,\"#46039f\"],[0.2222222222222222,\"#7201a8\"],[0.3333333333333333,\"#9c179e\"],[0.4444444444444444,\"#bd3786\"],[0.5555555555555556,\"#d8576b\"],[0.6666666666666666,\"#ed7953\"],[0.7777777777777778,\"#fb9f3a\"],[0.8888888888888888,\"#fdca26\"],[1.0,\"#f0f921\"]],\"sequentialminus\":[[0.0,\"#0d0887\"],[0.1111111111111111,\"#46039f\"],[0.2222222222222222,\"#7201a8\"],[0.3333333333333333,\"#9c179e\"],[0.4444444444444444,\"#bd3786\"],[0.5555555555555556,\"#d8576b\"],[0.6666666666666666,\"#ed7953\"],[0.7777777777777778,\"#fb9f3a\"],[0.8888888888888888,\"#fdca26\"],[1.0,\"#f0f921\"]],\"diverging\":[[0,\"#8e0152\"],[0.1,\"#c51b7d\"],[0.2,\"#de77ae\"],[0.3,\"#f1b6da\"],[0.4,\"#fde0ef\"],[0.5,\"#f7f7f7\"],[0.6,\"#e6f5d0\"],[0.7,\"#b8e186\"],[0.8,\"#7fbc41\"],[0.9,\"#4d9221\"],[1,\"#276419\"]]},\"xaxis\":{\"gridcolor\":\"white\",\"linecolor\":\"white\",\"ticks\":\"\",\"title\":{\"standoff\":15},\"zerolinecolor\":\"white\",\"automargin\":true,\"zerolinewidth\":2},\"yaxis\":{\"gridcolor\":\"white\",\"linecolor\":\"white\",\"ticks\":\"\",\"title\":{\"standoff\":15},\"zerolinecolor\":\"white\",\"automargin\":true,\"zerolinewidth\":2},\"scene\":{\"xaxis\":{\"backgroundcolor\":\"#E5ECF6\",\"gridcolor\":\"white\",\"linecolor\":\"white\",\"showbackground\":true,\"ticks\":\"\",\"zerolinecolor\":\"white\",\"gridwidth\":2},\"yaxis\":{\"backgroundcolor\":\"#E5ECF6\",\"gridcolor\":\"white\",\"linecolor\":\"white\",\"showbackground\":true,\"ticks\":\"\",\"zerolinecolor\":\"white\",\"gridwidth\":2},\"zaxis\":{\"backgroundcolor\":\"#E5ECF6\",\"gridcolor\":\"white\",\"linecolor\":\"white\",\"showbackground\":true,\"ticks\":\"\",\"zerolinecolor\":\"white\",\"gridwidth\":2}},\"shapedefaults\":{\"line\":{\"color\":\"#2a3f5f\"}},\"annotationdefaults\":{\"arrowcolor\":\"#2a3f5f\",\"arrowhead\":0,\"arrowwidth\":1},\"geo\":{\"bgcolor\":\"white\",\"landcolor\":\"#E5ECF6\",\"subunitcolor\":\"white\",\"showland\":true,\"showlakes\":true,\"lakecolor\":\"white\"},\"title\":{\"x\":0.05},\"mapbox\":{\"style\":\"light\"}}},\"xaxis\":{\"anchor\":\"y\",\"domain\":[0.0,1.0],\"title\":{\"text\":\"Crop\"}},\"yaxis\":{\"anchor\":\"x\",\"domain\":[0.0,1.0],\"title\":{\"text\":\"Phosphorus\"}},\"legend\":{\"tracegroupgap\":0},\"title\":{\"text\":\"Phosphorus Levels by Crop\"},\"boxmode\":\"group\"},                        {\"responsive\": true}                    ).then(function(){\n",
       "                            \n",
       "var gd = document.getElementById('007aa931-ac83-4789-9bea-d009f2eee43d');\n",
       "var x = new MutationObserver(function (mutations, observer) {{\n",
       "        var display = window.getComputedStyle(gd).display;\n",
       "        if (!display || display === 'none') {{\n",
       "            console.log([gd, 'removed!']);\n",
       "            Plotly.purge(gd);\n",
       "            observer.disconnect();\n",
       "        }}\n",
       "}});\n",
       "\n",
       "// Listen for the removal of the full notebook cells\n",
       "var notebookContainer = gd.closest('#notebook-container');\n",
       "if (notebookContainer) {{\n",
       "    x.observe(notebookContainer, {childList: true});\n",
       "}}\n",
       "\n",
       "// Listen for the clearing of the current output cell\n",
       "var outputEl = gd.closest('.output');\n",
       "if (outputEl) {{\n",
       "    x.observe(outputEl, {childList: true});\n",
       "}}\n",
       "\n",
       "                        })                };                });            </script>        </div>"
      ]
     },
     "metadata": {},
     "output_type": "display_data"
    },
    {
     "data": {
      "text/html": [
       "<div>                            <div id=\"dc918769-d2a7-42de-9ff9-45fa3b385285\" class=\"plotly-graph-div\" style=\"height:525px; width:100%;\"></div>            <script type=\"text/javascript\">                require([\"plotly\"], function(Plotly) {                    window.PLOTLYENV=window.PLOTLYENV || {};                                    if (document.getElementById(\"dc918769-d2a7-42de-9ff9-45fa3b385285\")) {                    Plotly.newPlot(                        \"dc918769-d2a7-42de-9ff9-45fa3b385285\",                        [{\"alignmentgroup\":\"True\",\"hovertemplate\":\"Crop=%{x}\\u003cbr\\u003ePotassium=%{y}\\u003cextra\\u003e\\u003c\\u002fextra\\u003e\",\"legendgroup\":\"\",\"marker\":{\"color\":\"#636efa\"},\"name\":\"\",\"notched\":false,\"offsetgroup\":\"\",\"orientation\":\"v\",\"showlegend\":false,\"x\":[\"Rice\",\"Rice\",\"Rice\",\"Rice\",\"Rice\",\"Rice\",\"Rice\",\"Rice\",\"Rice\",\"Rice\",\"Rice\",\"Rice\",\"Rice\",\"Rice\",\"Rice\",\"Rice\",\"Rice\",\"Rice\",\"Rice\",\"Rice\",\"Rice\",\"Rice\",\"Rice\",\"Rice\",\"Rice\",\"Rice\",\"Rice\",\"Rice\",\"Rice\",\"Rice\",\"Rice\",\"Rice\",\"Rice\",\"Rice\",\"Rice\",\"Rice\",\"Rice\",\"Rice\",\"Rice\",\"Rice\",\"Rice\",\"Rice\",\"Rice\",\"Rice\",\"Rice\",\"Rice\",\"Rice\",\"Rice\",\"Rice\",\"Rice\",\"Rice\",\"Rice\",\"Rice\",\"Rice\",\"Rice\",\"Rice\",\"Rice\",\"Rice\",\"Rice\",\"Rice\",\"Rice\",\"Rice\",\"Rice\",\"Rice\",\"Rice\",\"Rice\",\"Rice\",\"Rice\",\"Rice\",\"Rice\",\"Rice\",\"Rice\",\"Rice\",\"Rice\",\"Rice\",\"Rice\",\"Rice\",\"Rice\",\"Rice\",\"Rice\",\"Rice\",\"Rice\",\"Rice\",\"Rice\",\"Rice\",\"Rice\",\"Rice\",\"Rice\",\"Rice\",\"Rice\",\"Rice\",\"Rice\",\"Rice\",\"Rice\",\"Rice\",\"Rice\",\"Rice\",\"Rice\",\"Rice\",\"Rice\",\"Maize\",\"Maize\",\"Maize\",\"Maize\",\"Maize\",\"Maize\",\"Maize\",\"Maize\",\"Maize\",\"Maize\",\"Maize\",\"Maize\",\"Maize\",\"Maize\",\"Maize\",\"Maize\",\"Maize\",\"Maize\",\"Maize\",\"Maize\",\"Maize\",\"Maize\",\"Maize\",\"Maize\",\"Maize\",\"Maize\",\"Maize\",\"Maize\",\"Maize\",\"Maize\",\"Maize\",\"Maize\",\"Maize\",\"Maize\",\"Maize\",\"Maize\",\"Maize\",\"Maize\",\"Maize\",\"Maize\",\"Maize\",\"Maize\",\"Maize\",\"Maize\",\"Maize\",\"Maize\",\"Maize\",\"Maize\",\"Maize\",\"Maize\",\"Maize\",\"Maize\",\"Maize\",\"Maize\",\"Maize\",\"Maize\",\"Maize\",\"Maize\",\"Maize\",\"Maize\",\"Maize\",\"Maize\",\"Maize\",\"Maize\",\"Maize\",\"Maize\",\"Maize\",\"Maize\",\"Maize\",\"Maize\",\"Maize\",\"Maize\",\"Maize\",\"Maize\",\"Maize\",\"Maize\",\"Maize\",\"Maize\",\"Maize\",\"Maize\",\"Maize\",\"Maize\",\"Maize\",\"Maize\",\"Maize\",\"Maize\",\"Maize\",\"Maize\",\"Maize\",\"Maize\",\"Maize\",\"Maize\",\"Maize\",\"Maize\",\"Maize\",\"Maize\",\"Maize\",\"Maize\",\"Maize\",\"Maize\",\"ChickPea\",\"ChickPea\",\"ChickPea\",\"ChickPea\",\"ChickPea\",\"ChickPea\",\"ChickPea\",\"ChickPea\",\"ChickPea\",\"ChickPea\",\"ChickPea\",\"ChickPea\",\"ChickPea\",\"ChickPea\",\"ChickPea\",\"ChickPea\",\"ChickPea\",\"ChickPea\",\"ChickPea\",\"ChickPea\",\"ChickPea\",\"ChickPea\",\"ChickPea\",\"ChickPea\",\"ChickPea\",\"ChickPea\",\"ChickPea\",\"ChickPea\",\"ChickPea\",\"ChickPea\",\"ChickPea\",\"ChickPea\",\"ChickPea\",\"ChickPea\",\"ChickPea\",\"ChickPea\",\"ChickPea\",\"ChickPea\",\"ChickPea\",\"ChickPea\",\"ChickPea\",\"ChickPea\",\"ChickPea\",\"ChickPea\",\"ChickPea\",\"ChickPea\",\"ChickPea\",\"ChickPea\",\"ChickPea\",\"ChickPea\",\"ChickPea\",\"ChickPea\",\"ChickPea\",\"ChickPea\",\"ChickPea\",\"ChickPea\",\"ChickPea\",\"ChickPea\",\"ChickPea\",\"ChickPea\",\"ChickPea\",\"ChickPea\",\"ChickPea\",\"ChickPea\",\"ChickPea\",\"ChickPea\",\"ChickPea\",\"ChickPea\",\"ChickPea\",\"ChickPea\",\"ChickPea\",\"ChickPea\",\"ChickPea\",\"ChickPea\",\"ChickPea\",\"ChickPea\",\"ChickPea\",\"ChickPea\",\"ChickPea\",\"ChickPea\",\"ChickPea\",\"ChickPea\",\"ChickPea\",\"ChickPea\",\"ChickPea\",\"ChickPea\",\"ChickPea\",\"ChickPea\",\"ChickPea\",\"ChickPea\",\"ChickPea\",\"ChickPea\",\"ChickPea\",\"ChickPea\",\"ChickPea\",\"ChickPea\",\"ChickPea\",\"ChickPea\",\"ChickPea\",\"ChickPea\",\"KidneyBeans\",\"KidneyBeans\",\"KidneyBeans\",\"KidneyBeans\",\"KidneyBeans\",\"KidneyBeans\",\"KidneyBeans\",\"KidneyBeans\",\"KidneyBeans\",\"KidneyBeans\",\"KidneyBeans\",\"KidneyBeans\",\"KidneyBeans\",\"KidneyBeans\",\"KidneyBeans\",\"KidneyBeans\",\"KidneyBeans\",\"KidneyBeans\",\"KidneyBeans\",\"KidneyBeans\",\"KidneyBeans\",\"KidneyBeans\",\"KidneyBeans\",\"KidneyBeans\",\"KidneyBeans\",\"KidneyBeans\",\"KidneyBeans\",\"KidneyBeans\",\"KidneyBeans\",\"KidneyBeans\",\"KidneyBeans\",\"KidneyBeans\",\"KidneyBeans\",\"KidneyBeans\",\"KidneyBeans\",\"KidneyBeans\",\"KidneyBeans\",\"KidneyBeans\",\"KidneyBeans\",\"KidneyBeans\",\"KidneyBeans\",\"KidneyBeans\",\"KidneyBeans\",\"KidneyBeans\",\"KidneyBeans\",\"KidneyBeans\",\"KidneyBeans\",\"KidneyBeans\",\"KidneyBeans\",\"KidneyBeans\",\"KidneyBeans\",\"KidneyBeans\",\"KidneyBeans\",\"KidneyBeans\",\"KidneyBeans\",\"KidneyBeans\",\"KidneyBeans\",\"KidneyBeans\",\"KidneyBeans\",\"KidneyBeans\",\"KidneyBeans\",\"KidneyBeans\",\"KidneyBeans\",\"KidneyBeans\",\"KidneyBeans\",\"KidneyBeans\",\"KidneyBeans\",\"KidneyBeans\",\"KidneyBeans\",\"KidneyBeans\",\"KidneyBeans\",\"KidneyBeans\",\"KidneyBeans\",\"KidneyBeans\",\"KidneyBeans\",\"KidneyBeans\",\"KidneyBeans\",\"KidneyBeans\",\"KidneyBeans\",\"KidneyBeans\",\"KidneyBeans\",\"KidneyBeans\",\"KidneyBeans\",\"KidneyBeans\",\"KidneyBeans\",\"KidneyBeans\",\"KidneyBeans\",\"KidneyBeans\",\"KidneyBeans\",\"KidneyBeans\",\"KidneyBeans\",\"KidneyBeans\",\"KidneyBeans\",\"KidneyBeans\",\"KidneyBeans\",\"KidneyBeans\",\"KidneyBeans\",\"KidneyBeans\",\"KidneyBeans\",\"KidneyBeans\",\"PigeonPeas\",\"PigeonPeas\",\"PigeonPeas\",\"PigeonPeas\",\"PigeonPeas\",\"PigeonPeas\",\"PigeonPeas\",\"PigeonPeas\",\"PigeonPeas\",\"PigeonPeas\",\"PigeonPeas\",\"PigeonPeas\",\"PigeonPeas\",\"PigeonPeas\",\"PigeonPeas\",\"PigeonPeas\",\"PigeonPeas\",\"PigeonPeas\",\"PigeonPeas\",\"PigeonPeas\",\"PigeonPeas\",\"PigeonPeas\",\"PigeonPeas\",\"PigeonPeas\",\"PigeonPeas\",\"PigeonPeas\",\"PigeonPeas\",\"PigeonPeas\",\"PigeonPeas\",\"PigeonPeas\",\"PigeonPeas\",\"PigeonPeas\",\"PigeonPeas\",\"PigeonPeas\",\"PigeonPeas\",\"PigeonPeas\",\"PigeonPeas\",\"PigeonPeas\",\"PigeonPeas\",\"PigeonPeas\",\"PigeonPeas\",\"PigeonPeas\",\"PigeonPeas\",\"PigeonPeas\",\"PigeonPeas\",\"PigeonPeas\",\"PigeonPeas\",\"PigeonPeas\",\"PigeonPeas\",\"PigeonPeas\",\"PigeonPeas\",\"PigeonPeas\",\"PigeonPeas\",\"PigeonPeas\",\"PigeonPeas\",\"PigeonPeas\",\"PigeonPeas\",\"PigeonPeas\",\"PigeonPeas\",\"PigeonPeas\",\"PigeonPeas\",\"PigeonPeas\",\"PigeonPeas\",\"PigeonPeas\",\"PigeonPeas\",\"PigeonPeas\",\"PigeonPeas\",\"PigeonPeas\",\"PigeonPeas\",\"PigeonPeas\",\"PigeonPeas\",\"PigeonPeas\",\"PigeonPeas\",\"PigeonPeas\",\"PigeonPeas\",\"PigeonPeas\",\"PigeonPeas\",\"PigeonPeas\",\"PigeonPeas\",\"PigeonPeas\",\"PigeonPeas\",\"PigeonPeas\",\"PigeonPeas\",\"PigeonPeas\",\"PigeonPeas\",\"PigeonPeas\",\"PigeonPeas\",\"PigeonPeas\",\"PigeonPeas\",\"PigeonPeas\",\"PigeonPeas\",\"PigeonPeas\",\"PigeonPeas\",\"PigeonPeas\",\"PigeonPeas\",\"PigeonPeas\",\"PigeonPeas\",\"PigeonPeas\",\"PigeonPeas\",\"PigeonPeas\",\"MothBeans\",\"MothBeans\",\"MothBeans\",\"MothBeans\",\"MothBeans\",\"MothBeans\",\"MothBeans\",\"MothBeans\",\"MothBeans\",\"MothBeans\",\"MothBeans\",\"MothBeans\",\"MothBeans\",\"MothBeans\",\"MothBeans\",\"MothBeans\",\"MothBeans\",\"MothBeans\",\"MothBeans\",\"MothBeans\",\"MothBeans\",\"MothBeans\",\"MothBeans\",\"MothBeans\",\"MothBeans\",\"MothBeans\",\"MothBeans\",\"MothBeans\",\"MothBeans\",\"MothBeans\",\"MothBeans\",\"MothBeans\",\"MothBeans\",\"MothBeans\",\"MothBeans\",\"MothBeans\",\"MothBeans\",\"MothBeans\",\"MothBeans\",\"MothBeans\",\"MothBeans\",\"MothBeans\",\"MothBeans\",\"MothBeans\",\"MothBeans\",\"MothBeans\",\"MothBeans\",\"MothBeans\",\"MothBeans\",\"MothBeans\",\"MothBeans\",\"MothBeans\",\"MothBeans\",\"MothBeans\",\"MothBeans\",\"MothBeans\",\"MothBeans\",\"MothBeans\",\"MothBeans\",\"MothBeans\",\"MothBeans\",\"MothBeans\",\"MothBeans\",\"MothBeans\",\"MothBeans\",\"MothBeans\",\"MothBeans\",\"MothBeans\",\"MothBeans\",\"MothBeans\",\"MothBeans\",\"MothBeans\",\"MothBeans\",\"MothBeans\",\"MothBeans\",\"MothBeans\",\"MothBeans\",\"MothBeans\",\"MothBeans\",\"MothBeans\",\"MothBeans\",\"MothBeans\",\"MothBeans\",\"MothBeans\",\"MothBeans\",\"MothBeans\",\"MothBeans\",\"MothBeans\",\"MothBeans\",\"MothBeans\",\"MothBeans\",\"MothBeans\",\"MothBeans\",\"MothBeans\",\"MothBeans\",\"MothBeans\",\"MothBeans\",\"MothBeans\",\"MothBeans\",\"MothBeans\",\"MungBean\",\"MungBean\",\"MungBean\",\"MungBean\",\"MungBean\",\"MungBean\",\"MungBean\",\"MungBean\",\"MungBean\",\"MungBean\",\"MungBean\",\"MungBean\",\"MungBean\",\"MungBean\",\"MungBean\",\"MungBean\",\"MungBean\",\"MungBean\",\"MungBean\",\"MungBean\",\"MungBean\",\"MungBean\",\"MungBean\",\"MungBean\",\"MungBean\",\"MungBean\",\"MungBean\",\"MungBean\",\"MungBean\",\"MungBean\",\"MungBean\",\"MungBean\",\"MungBean\",\"MungBean\",\"MungBean\",\"MungBean\",\"MungBean\",\"MungBean\",\"MungBean\",\"MungBean\",\"MungBean\",\"MungBean\",\"MungBean\",\"MungBean\",\"MungBean\",\"MungBean\",\"MungBean\",\"MungBean\",\"MungBean\",\"MungBean\",\"MungBean\",\"MungBean\",\"MungBean\",\"MungBean\",\"MungBean\",\"MungBean\",\"MungBean\",\"MungBean\",\"MungBean\",\"MungBean\",\"MungBean\",\"MungBean\",\"MungBean\",\"MungBean\",\"MungBean\",\"MungBean\",\"MungBean\",\"MungBean\",\"MungBean\",\"MungBean\",\"MungBean\",\"MungBean\",\"MungBean\",\"MungBean\",\"MungBean\",\"MungBean\",\"MungBean\",\"MungBean\",\"MungBean\",\"MungBean\",\"MungBean\",\"MungBean\",\"MungBean\",\"MungBean\",\"MungBean\",\"MungBean\",\"MungBean\",\"MungBean\",\"MungBean\",\"MungBean\",\"MungBean\",\"MungBean\",\"MungBean\",\"MungBean\",\"MungBean\",\"MungBean\",\"MungBean\",\"MungBean\",\"MungBean\",\"MungBean\",\"Blackgram\",\"Blackgram\",\"Blackgram\",\"Blackgram\",\"Blackgram\",\"Blackgram\",\"Blackgram\",\"Blackgram\",\"Blackgram\",\"Blackgram\",\"Blackgram\",\"Blackgram\",\"Blackgram\",\"Blackgram\",\"Blackgram\",\"Blackgram\",\"Blackgram\",\"Blackgram\",\"Blackgram\",\"Blackgram\",\"Blackgram\",\"Blackgram\",\"Blackgram\",\"Blackgram\",\"Blackgram\",\"Blackgram\",\"Blackgram\",\"Blackgram\",\"Blackgram\",\"Blackgram\",\"Blackgram\",\"Blackgram\",\"Blackgram\",\"Blackgram\",\"Blackgram\",\"Blackgram\",\"Blackgram\",\"Blackgram\",\"Blackgram\",\"Blackgram\",\"Blackgram\",\"Blackgram\",\"Blackgram\",\"Blackgram\",\"Blackgram\",\"Blackgram\",\"Blackgram\",\"Blackgram\",\"Blackgram\",\"Blackgram\",\"Blackgram\",\"Blackgram\",\"Blackgram\",\"Blackgram\",\"Blackgram\",\"Blackgram\",\"Blackgram\",\"Blackgram\",\"Blackgram\",\"Blackgram\",\"Blackgram\",\"Blackgram\",\"Blackgram\",\"Blackgram\",\"Blackgram\",\"Blackgram\",\"Blackgram\",\"Blackgram\",\"Blackgram\",\"Blackgram\",\"Blackgram\",\"Blackgram\",\"Blackgram\",\"Blackgram\",\"Blackgram\",\"Blackgram\",\"Blackgram\",\"Blackgram\",\"Blackgram\",\"Blackgram\",\"Blackgram\",\"Blackgram\",\"Blackgram\",\"Blackgram\",\"Blackgram\",\"Blackgram\",\"Blackgram\",\"Blackgram\",\"Blackgram\",\"Blackgram\",\"Blackgram\",\"Blackgram\",\"Blackgram\",\"Blackgram\",\"Blackgram\",\"Blackgram\",\"Blackgram\",\"Blackgram\",\"Blackgram\",\"Blackgram\",\"Lentil\",\"Lentil\",\"Lentil\",\"Lentil\",\"Lentil\",\"Lentil\",\"Lentil\",\"Lentil\",\"Lentil\",\"Lentil\",\"Lentil\",\"Lentil\",\"Lentil\",\"Lentil\",\"Lentil\",\"Lentil\",\"Lentil\",\"Lentil\",\"Lentil\",\"Lentil\",\"Lentil\",\"Lentil\",\"Lentil\",\"Lentil\",\"Lentil\",\"Lentil\",\"Lentil\",\"Lentil\",\"Lentil\",\"Lentil\",\"Lentil\",\"Lentil\",\"Lentil\",\"Lentil\",\"Lentil\",\"Lentil\",\"Lentil\",\"Lentil\",\"Lentil\",\"Lentil\",\"Lentil\",\"Lentil\",\"Lentil\",\"Lentil\",\"Lentil\",\"Lentil\",\"Lentil\",\"Lentil\",\"Lentil\",\"Lentil\",\"Lentil\",\"Lentil\",\"Lentil\",\"Lentil\",\"Lentil\",\"Lentil\",\"Lentil\",\"Lentil\",\"Lentil\",\"Lentil\",\"Lentil\",\"Lentil\",\"Lentil\",\"Lentil\",\"Lentil\",\"Lentil\",\"Lentil\",\"Lentil\",\"Lentil\",\"Lentil\",\"Lentil\",\"Lentil\",\"Lentil\",\"Lentil\",\"Lentil\",\"Lentil\",\"Lentil\",\"Lentil\",\"Lentil\",\"Lentil\",\"Lentil\",\"Lentil\",\"Lentil\",\"Lentil\",\"Lentil\",\"Lentil\",\"Lentil\",\"Lentil\",\"Lentil\",\"Lentil\",\"Lentil\",\"Lentil\",\"Lentil\",\"Lentil\",\"Lentil\",\"Lentil\",\"Lentil\",\"Lentil\",\"Lentil\",\"Lentil\",\"Pomegranate\",\"Pomegranate\",\"Pomegranate\",\"Pomegranate\",\"Pomegranate\",\"Pomegranate\",\"Pomegranate\",\"Pomegranate\",\"Pomegranate\",\"Pomegranate\",\"Pomegranate\",\"Pomegranate\",\"Pomegranate\",\"Pomegranate\",\"Pomegranate\",\"Pomegranate\",\"Pomegranate\",\"Pomegranate\",\"Pomegranate\",\"Pomegranate\",\"Pomegranate\",\"Pomegranate\",\"Pomegranate\",\"Pomegranate\",\"Pomegranate\",\"Pomegranate\",\"Pomegranate\",\"Pomegranate\",\"Pomegranate\",\"Pomegranate\",\"Pomegranate\",\"Pomegranate\",\"Pomegranate\",\"Pomegranate\",\"Pomegranate\",\"Pomegranate\",\"Pomegranate\",\"Pomegranate\",\"Pomegranate\",\"Pomegranate\",\"Pomegranate\",\"Pomegranate\",\"Pomegranate\",\"Pomegranate\",\"Pomegranate\",\"Pomegranate\",\"Pomegranate\",\"Pomegranate\",\"Pomegranate\",\"Pomegranate\",\"Pomegranate\",\"Pomegranate\",\"Pomegranate\",\"Pomegranate\",\"Pomegranate\",\"Pomegranate\",\"Pomegranate\",\"Pomegranate\",\"Pomegranate\",\"Pomegranate\",\"Pomegranate\",\"Pomegranate\",\"Pomegranate\",\"Pomegranate\",\"Pomegranate\",\"Pomegranate\",\"Pomegranate\",\"Pomegranate\",\"Pomegranate\",\"Pomegranate\",\"Pomegranate\",\"Pomegranate\",\"Pomegranate\",\"Pomegranate\",\"Pomegranate\",\"Pomegranate\",\"Pomegranate\",\"Pomegranate\",\"Pomegranate\",\"Pomegranate\",\"Pomegranate\",\"Pomegranate\",\"Pomegranate\",\"Pomegranate\",\"Pomegranate\",\"Pomegranate\",\"Pomegranate\",\"Pomegranate\",\"Pomegranate\",\"Pomegranate\",\"Pomegranate\",\"Pomegranate\",\"Pomegranate\",\"Pomegranate\",\"Pomegranate\",\"Pomegranate\",\"Pomegranate\",\"Pomegranate\",\"Pomegranate\",\"Pomegranate\",\"Banana\",\"Banana\",\"Banana\",\"Banana\",\"Banana\",\"Banana\",\"Banana\",\"Banana\",\"Banana\",\"Banana\",\"Banana\",\"Banana\",\"Banana\",\"Banana\",\"Banana\",\"Banana\",\"Banana\",\"Banana\",\"Banana\",\"Banana\",\"Banana\",\"Banana\",\"Banana\",\"Banana\",\"Banana\",\"Banana\",\"Banana\",\"Banana\",\"Banana\",\"Banana\",\"Banana\",\"Banana\",\"Banana\",\"Banana\",\"Banana\",\"Banana\",\"Banana\",\"Banana\",\"Banana\",\"Banana\",\"Banana\",\"Banana\",\"Banana\",\"Banana\",\"Banana\",\"Banana\",\"Banana\",\"Banana\",\"Banana\",\"Banana\",\"Banana\",\"Banana\",\"Banana\",\"Banana\",\"Banana\",\"Banana\",\"Banana\",\"Banana\",\"Banana\",\"Banana\",\"Banana\",\"Banana\",\"Banana\",\"Banana\",\"Banana\",\"Banana\",\"Banana\",\"Banana\",\"Banana\",\"Banana\",\"Banana\",\"Banana\",\"Banana\",\"Banana\",\"Banana\",\"Banana\",\"Banana\",\"Banana\",\"Banana\",\"Banana\",\"Banana\",\"Banana\",\"Banana\",\"Banana\",\"Banana\",\"Banana\",\"Banana\",\"Banana\",\"Banana\",\"Banana\",\"Banana\",\"Banana\",\"Banana\",\"Banana\",\"Banana\",\"Banana\",\"Banana\",\"Banana\",\"Banana\",\"Banana\",\"Mango\",\"Mango\",\"Mango\",\"Mango\",\"Mango\",\"Mango\",\"Mango\",\"Mango\",\"Mango\",\"Mango\",\"Mango\",\"Mango\",\"Mango\",\"Mango\",\"Mango\",\"Mango\",\"Mango\",\"Mango\",\"Mango\",\"Mango\",\"Mango\",\"Mango\",\"Mango\",\"Mango\",\"Mango\",\"Mango\",\"Mango\",\"Mango\",\"Mango\",\"Mango\",\"Mango\",\"Mango\",\"Mango\",\"Mango\",\"Mango\",\"Mango\",\"Mango\",\"Mango\",\"Mango\",\"Mango\",\"Mango\",\"Mango\",\"Mango\",\"Mango\",\"Mango\",\"Mango\",\"Mango\",\"Mango\",\"Mango\",\"Mango\",\"Mango\",\"Mango\",\"Mango\",\"Mango\",\"Mango\",\"Mango\",\"Mango\",\"Mango\",\"Mango\",\"Mango\",\"Mango\",\"Mango\",\"Mango\",\"Mango\",\"Mango\",\"Mango\",\"Mango\",\"Mango\",\"Mango\",\"Mango\",\"Mango\",\"Mango\",\"Mango\",\"Mango\",\"Mango\",\"Mango\",\"Mango\",\"Mango\",\"Mango\",\"Mango\",\"Mango\",\"Mango\",\"Mango\",\"Mango\",\"Mango\",\"Mango\",\"Mango\",\"Mango\",\"Mango\",\"Mango\",\"Mango\",\"Mango\",\"Mango\",\"Mango\",\"Mango\",\"Mango\",\"Mango\",\"Mango\",\"Mango\",\"Mango\",\"Grapes\",\"Grapes\",\"Grapes\",\"Grapes\",\"Grapes\",\"Grapes\",\"Grapes\",\"Grapes\",\"Grapes\",\"Grapes\",\"Grapes\",\"Grapes\",\"Grapes\",\"Grapes\",\"Grapes\",\"Grapes\",\"Grapes\",\"Grapes\",\"Grapes\",\"Grapes\",\"Grapes\",\"Grapes\",\"Grapes\",\"Grapes\",\"Grapes\",\"Grapes\",\"Grapes\",\"Grapes\",\"Grapes\",\"Grapes\",\"Grapes\",\"Grapes\",\"Grapes\",\"Grapes\",\"Grapes\",\"Grapes\",\"Grapes\",\"Grapes\",\"Grapes\",\"Grapes\",\"Grapes\",\"Grapes\",\"Grapes\",\"Grapes\",\"Grapes\",\"Grapes\",\"Grapes\",\"Grapes\",\"Grapes\",\"Grapes\",\"Grapes\",\"Grapes\",\"Grapes\",\"Grapes\",\"Grapes\",\"Grapes\",\"Grapes\",\"Grapes\",\"Grapes\",\"Grapes\",\"Grapes\",\"Grapes\",\"Grapes\",\"Grapes\",\"Grapes\",\"Grapes\",\"Grapes\",\"Grapes\",\"Grapes\",\"Grapes\",\"Grapes\",\"Grapes\",\"Grapes\",\"Grapes\",\"Grapes\",\"Grapes\",\"Grapes\",\"Grapes\",\"Grapes\",\"Grapes\",\"Grapes\",\"Grapes\",\"Grapes\",\"Grapes\",\"Grapes\",\"Grapes\",\"Grapes\",\"Grapes\",\"Grapes\",\"Grapes\",\"Grapes\",\"Grapes\",\"Grapes\",\"Grapes\",\"Grapes\",\"Grapes\",\"Grapes\",\"Grapes\",\"Grapes\",\"Grapes\",\"Watermelon\",\"Watermelon\",\"Watermelon\",\"Watermelon\",\"Watermelon\",\"Watermelon\",\"Watermelon\",\"Watermelon\",\"Watermelon\",\"Watermelon\",\"Watermelon\",\"Watermelon\",\"Watermelon\",\"Watermelon\",\"Watermelon\",\"Watermelon\",\"Watermelon\",\"Watermelon\",\"Watermelon\",\"Watermelon\",\"Watermelon\",\"Watermelon\",\"Watermelon\",\"Watermelon\",\"Watermelon\",\"Watermelon\",\"Watermelon\",\"Watermelon\",\"Watermelon\",\"Watermelon\",\"Watermelon\",\"Watermelon\",\"Watermelon\",\"Watermelon\",\"Watermelon\",\"Watermelon\",\"Watermelon\",\"Watermelon\",\"Watermelon\",\"Watermelon\",\"Watermelon\",\"Watermelon\",\"Watermelon\",\"Watermelon\",\"Watermelon\",\"Watermelon\",\"Watermelon\",\"Watermelon\",\"Watermelon\",\"Watermelon\",\"Watermelon\",\"Watermelon\",\"Watermelon\",\"Watermelon\",\"Watermelon\",\"Watermelon\",\"Watermelon\",\"Watermelon\",\"Watermelon\",\"Watermelon\",\"Watermelon\",\"Watermelon\",\"Watermelon\",\"Watermelon\",\"Watermelon\",\"Watermelon\",\"Watermelon\",\"Watermelon\",\"Watermelon\",\"Watermelon\",\"Watermelon\",\"Watermelon\",\"Watermelon\",\"Watermelon\",\"Watermelon\",\"Watermelon\",\"Watermelon\",\"Watermelon\",\"Watermelon\",\"Watermelon\",\"Watermelon\",\"Watermelon\",\"Watermelon\",\"Watermelon\",\"Watermelon\",\"Watermelon\",\"Watermelon\",\"Watermelon\",\"Watermelon\",\"Watermelon\",\"Watermelon\",\"Watermelon\",\"Watermelon\",\"Watermelon\",\"Watermelon\",\"Watermelon\",\"Watermelon\",\"Watermelon\",\"Watermelon\",\"Watermelon\",\"Muskmelon\",\"Muskmelon\",\"Muskmelon\",\"Muskmelon\",\"Muskmelon\",\"Muskmelon\",\"Muskmelon\",\"Muskmelon\",\"Muskmelon\",\"Muskmelon\",\"Muskmelon\",\"Muskmelon\",\"Muskmelon\",\"Muskmelon\",\"Muskmelon\",\"Muskmelon\",\"Muskmelon\",\"Muskmelon\",\"Muskmelon\",\"Muskmelon\",\"Muskmelon\",\"Muskmelon\",\"Muskmelon\",\"Muskmelon\",\"Muskmelon\",\"Muskmelon\",\"Muskmelon\",\"Muskmelon\",\"Muskmelon\",\"Muskmelon\",\"Muskmelon\",\"Muskmelon\",\"Muskmelon\",\"Muskmelon\",\"Muskmelon\",\"Muskmelon\",\"Muskmelon\",\"Muskmelon\",\"Muskmelon\",\"Muskmelon\",\"Muskmelon\",\"Muskmelon\",\"Muskmelon\",\"Muskmelon\",\"Muskmelon\",\"Muskmelon\",\"Muskmelon\",\"Muskmelon\",\"Muskmelon\",\"Muskmelon\",\"Muskmelon\",\"Muskmelon\",\"Muskmelon\",\"Muskmelon\",\"Muskmelon\",\"Muskmelon\",\"Muskmelon\",\"Muskmelon\",\"Muskmelon\",\"Muskmelon\",\"Muskmelon\",\"Muskmelon\",\"Muskmelon\",\"Muskmelon\",\"Muskmelon\",\"Muskmelon\",\"Muskmelon\",\"Muskmelon\",\"Muskmelon\",\"Muskmelon\",\"Muskmelon\",\"Muskmelon\",\"Muskmelon\",\"Muskmelon\",\"Muskmelon\",\"Muskmelon\",\"Muskmelon\",\"Muskmelon\",\"Muskmelon\",\"Muskmelon\",\"Muskmelon\",\"Muskmelon\",\"Muskmelon\",\"Muskmelon\",\"Muskmelon\",\"Muskmelon\",\"Muskmelon\",\"Muskmelon\",\"Muskmelon\",\"Muskmelon\",\"Muskmelon\",\"Muskmelon\",\"Muskmelon\",\"Muskmelon\",\"Muskmelon\",\"Muskmelon\",\"Muskmelon\",\"Muskmelon\",\"Muskmelon\",\"Muskmelon\",\"Apple\",\"Apple\",\"Apple\",\"Apple\",\"Apple\",\"Apple\",\"Apple\",\"Apple\",\"Apple\",\"Apple\",\"Apple\",\"Apple\",\"Apple\",\"Apple\",\"Apple\",\"Apple\",\"Apple\",\"Apple\",\"Apple\",\"Apple\",\"Apple\",\"Apple\",\"Apple\",\"Apple\",\"Apple\",\"Apple\",\"Apple\",\"Apple\",\"Apple\",\"Apple\",\"Apple\",\"Apple\",\"Apple\",\"Apple\",\"Apple\",\"Apple\",\"Apple\",\"Apple\",\"Apple\",\"Apple\",\"Apple\",\"Apple\",\"Apple\",\"Apple\",\"Apple\",\"Apple\",\"Apple\",\"Apple\",\"Apple\",\"Apple\",\"Apple\",\"Apple\",\"Apple\",\"Apple\",\"Apple\",\"Apple\",\"Apple\",\"Apple\",\"Apple\",\"Apple\",\"Apple\",\"Apple\",\"Apple\",\"Apple\",\"Apple\",\"Apple\",\"Apple\",\"Apple\",\"Apple\",\"Apple\",\"Apple\",\"Apple\",\"Apple\",\"Apple\",\"Apple\",\"Apple\",\"Apple\",\"Apple\",\"Apple\",\"Apple\",\"Apple\",\"Apple\",\"Apple\",\"Apple\",\"Apple\",\"Apple\",\"Apple\",\"Apple\",\"Apple\",\"Apple\",\"Apple\",\"Apple\",\"Apple\",\"Apple\",\"Apple\",\"Apple\",\"Apple\",\"Apple\",\"Apple\",\"Apple\",\"Orange\",\"Orange\",\"Orange\",\"Orange\",\"Orange\",\"Orange\",\"Orange\",\"Orange\",\"Orange\",\"Orange\",\"Orange\",\"Orange\",\"Orange\",\"Orange\",\"Orange\",\"Orange\",\"Orange\",\"Orange\",\"Orange\",\"Orange\",\"Orange\",\"Orange\",\"Orange\",\"Orange\",\"Orange\",\"Orange\",\"Orange\",\"Orange\",\"Orange\",\"Orange\",\"Orange\",\"Orange\",\"Orange\",\"Orange\",\"Orange\",\"Orange\",\"Orange\",\"Orange\",\"Orange\",\"Orange\",\"Orange\",\"Orange\",\"Orange\",\"Orange\",\"Orange\",\"Orange\",\"Orange\",\"Orange\",\"Orange\",\"Orange\",\"Orange\",\"Orange\",\"Orange\",\"Orange\",\"Orange\",\"Orange\",\"Orange\",\"Orange\",\"Orange\",\"Orange\",\"Orange\",\"Orange\",\"Orange\",\"Orange\",\"Orange\",\"Orange\",\"Orange\",\"Orange\",\"Orange\",\"Orange\",\"Orange\",\"Orange\",\"Orange\",\"Orange\",\"Orange\",\"Orange\",\"Orange\",\"Orange\",\"Orange\",\"Orange\",\"Orange\",\"Orange\",\"Orange\",\"Orange\",\"Orange\",\"Orange\",\"Orange\",\"Orange\",\"Orange\",\"Orange\",\"Orange\",\"Orange\",\"Orange\",\"Orange\",\"Orange\",\"Orange\",\"Orange\",\"Orange\",\"Orange\",\"Orange\",\"Papaya\",\"Papaya\",\"Papaya\",\"Papaya\",\"Papaya\",\"Papaya\",\"Papaya\",\"Papaya\",\"Papaya\",\"Papaya\",\"Papaya\",\"Papaya\",\"Papaya\",\"Papaya\",\"Papaya\",\"Papaya\",\"Papaya\",\"Papaya\",\"Papaya\",\"Papaya\",\"Papaya\",\"Papaya\",\"Papaya\",\"Papaya\",\"Papaya\",\"Papaya\",\"Papaya\",\"Papaya\",\"Papaya\",\"Papaya\",\"Papaya\",\"Papaya\",\"Papaya\",\"Papaya\",\"Papaya\",\"Papaya\",\"Papaya\",\"Papaya\",\"Papaya\",\"Papaya\",\"Papaya\",\"Papaya\",\"Papaya\",\"Papaya\",\"Papaya\",\"Papaya\",\"Papaya\",\"Papaya\",\"Papaya\",\"Papaya\",\"Papaya\",\"Papaya\",\"Papaya\",\"Papaya\",\"Papaya\",\"Papaya\",\"Papaya\",\"Papaya\",\"Papaya\",\"Papaya\",\"Papaya\",\"Papaya\",\"Papaya\",\"Papaya\",\"Papaya\",\"Papaya\",\"Papaya\",\"Papaya\",\"Papaya\",\"Papaya\",\"Papaya\",\"Papaya\",\"Papaya\",\"Papaya\",\"Papaya\",\"Papaya\",\"Papaya\",\"Papaya\",\"Papaya\",\"Papaya\",\"Papaya\",\"Papaya\",\"Papaya\",\"Papaya\",\"Papaya\",\"Papaya\",\"Papaya\",\"Papaya\",\"Papaya\",\"Papaya\",\"Papaya\",\"Papaya\",\"Papaya\",\"Papaya\",\"Papaya\",\"Papaya\",\"Papaya\",\"Papaya\",\"Papaya\",\"Papaya\",\"Coconut\",\"Coconut\",\"Coconut\",\"Coconut\",\"Coconut\",\"Coconut\",\"Coconut\",\"Coconut\",\"Coconut\",\"Coconut\",\"Coconut\",\"Coconut\",\"Coconut\",\"Coconut\",\"Coconut\",\"Coconut\",\"Coconut\",\"Coconut\",\"Coconut\",\"Coconut\",\"Coconut\",\"Coconut\",\"Coconut\",\"Coconut\",\"Coconut\",\"Coconut\",\"Coconut\",\"Coconut\",\"Coconut\",\"Coconut\",\"Coconut\",\"Coconut\",\"Coconut\",\"Coconut\",\"Coconut\",\"Coconut\",\"Coconut\",\"Coconut\",\"Coconut\",\"Coconut\",\"Coconut\",\"Coconut\",\"Coconut\",\"Coconut\",\"Coconut\",\"Coconut\",\"Coconut\",\"Coconut\",\"Coconut\",\"Coconut\",\"Coconut\",\"Coconut\",\"Coconut\",\"Coconut\",\"Coconut\",\"Coconut\",\"Coconut\",\"Coconut\",\"Coconut\",\"Coconut\",\"Coconut\",\"Coconut\",\"Coconut\",\"Coconut\",\"Coconut\",\"Coconut\",\"Coconut\",\"Coconut\",\"Coconut\",\"Coconut\",\"Coconut\",\"Coconut\",\"Coconut\",\"Coconut\",\"Coconut\",\"Coconut\",\"Coconut\",\"Coconut\",\"Coconut\",\"Coconut\",\"Coconut\",\"Coconut\",\"Coconut\",\"Coconut\",\"Coconut\",\"Coconut\",\"Coconut\",\"Coconut\",\"Coconut\",\"Coconut\",\"Coconut\",\"Coconut\",\"Coconut\",\"Coconut\",\"Coconut\",\"Coconut\",\"Coconut\",\"Coconut\",\"Coconut\",\"Coconut\",\"Cotton\",\"Cotton\",\"Cotton\",\"Cotton\",\"Cotton\",\"Cotton\",\"Cotton\",\"Cotton\",\"Cotton\",\"Cotton\",\"Cotton\",\"Cotton\",\"Cotton\",\"Cotton\",\"Cotton\",\"Cotton\",\"Cotton\",\"Cotton\",\"Cotton\",\"Cotton\",\"Cotton\",\"Cotton\",\"Cotton\",\"Cotton\",\"Cotton\",\"Cotton\",\"Cotton\",\"Cotton\",\"Cotton\",\"Cotton\",\"Cotton\",\"Cotton\",\"Cotton\",\"Cotton\",\"Cotton\",\"Cotton\",\"Cotton\",\"Cotton\",\"Cotton\",\"Cotton\",\"Cotton\",\"Cotton\",\"Cotton\",\"Cotton\",\"Cotton\",\"Cotton\",\"Cotton\",\"Cotton\",\"Cotton\",\"Cotton\",\"Cotton\",\"Cotton\",\"Cotton\",\"Cotton\",\"Cotton\",\"Cotton\",\"Cotton\",\"Cotton\",\"Cotton\",\"Cotton\",\"Cotton\",\"Cotton\",\"Cotton\",\"Cotton\",\"Cotton\",\"Cotton\",\"Cotton\",\"Cotton\",\"Cotton\",\"Cotton\",\"Cotton\",\"Cotton\",\"Cotton\",\"Cotton\",\"Cotton\",\"Cotton\",\"Cotton\",\"Cotton\",\"Cotton\",\"Cotton\",\"Cotton\",\"Cotton\",\"Cotton\",\"Cotton\",\"Cotton\",\"Cotton\",\"Cotton\",\"Cotton\",\"Cotton\",\"Cotton\",\"Cotton\",\"Cotton\",\"Cotton\",\"Cotton\",\"Cotton\",\"Cotton\",\"Cotton\",\"Cotton\",\"Cotton\",\"Cotton\",\"Jute\",\"Jute\",\"Jute\",\"Jute\",\"Jute\",\"Jute\",\"Jute\",\"Jute\",\"Jute\",\"Jute\",\"Jute\",\"Jute\",\"Jute\",\"Jute\",\"Jute\",\"Jute\",\"Jute\",\"Jute\",\"Jute\",\"Jute\",\"Jute\",\"Jute\",\"Jute\",\"Jute\",\"Jute\",\"Jute\",\"Jute\",\"Jute\",\"Jute\",\"Jute\",\"Jute\",\"Jute\",\"Jute\",\"Jute\",\"Jute\",\"Jute\",\"Jute\",\"Jute\",\"Jute\",\"Jute\",\"Jute\",\"Jute\",\"Jute\",\"Jute\",\"Jute\",\"Jute\",\"Jute\",\"Jute\",\"Jute\",\"Jute\",\"Jute\",\"Jute\",\"Jute\",\"Jute\",\"Jute\",\"Jute\",\"Jute\",\"Jute\",\"Jute\",\"Jute\",\"Jute\",\"Jute\",\"Jute\",\"Jute\",\"Jute\",\"Jute\",\"Jute\",\"Jute\",\"Jute\",\"Jute\",\"Jute\",\"Jute\",\"Jute\",\"Jute\",\"Jute\",\"Jute\",\"Jute\",\"Jute\",\"Jute\",\"Jute\",\"Jute\",\"Jute\",\"Jute\",\"Jute\",\"Jute\",\"Jute\",\"Jute\",\"Jute\",\"Jute\",\"Jute\",\"Jute\",\"Jute\",\"Jute\",\"Jute\",\"Jute\",\"Jute\",\"Jute\",\"Jute\",\"Jute\",\"Jute\",\"Coffee\",\"Coffee\",\"Coffee\",\"Coffee\",\"Coffee\",\"Coffee\",\"Coffee\",\"Coffee\",\"Coffee\",\"Coffee\",\"Coffee\",\"Coffee\",\"Coffee\",\"Coffee\",\"Coffee\",\"Coffee\",\"Coffee\",\"Coffee\",\"Coffee\",\"Coffee\",\"Coffee\",\"Coffee\",\"Coffee\",\"Coffee\",\"Coffee\",\"Coffee\",\"Coffee\",\"Coffee\",\"Coffee\",\"Coffee\",\"Coffee\",\"Coffee\",\"Coffee\",\"Coffee\",\"Coffee\",\"Coffee\",\"Coffee\",\"Coffee\",\"Coffee\",\"Coffee\",\"Coffee\",\"Coffee\",\"Coffee\",\"Coffee\",\"Coffee\",\"Coffee\",\"Coffee\",\"Coffee\",\"Coffee\",\"Coffee\",\"Coffee\",\"Coffee\",\"Coffee\",\"Coffee\",\"Coffee\",\"Coffee\",\"Coffee\",\"Coffee\",\"Coffee\",\"Coffee\",\"Coffee\",\"Coffee\",\"Coffee\",\"Coffee\",\"Coffee\",\"Coffee\",\"Coffee\",\"Coffee\",\"Coffee\",\"Coffee\",\"Coffee\",\"Coffee\",\"Coffee\",\"Coffee\",\"Coffee\",\"Coffee\",\"Coffee\",\"Coffee\",\"Coffee\",\"Coffee\",\"Coffee\",\"Coffee\",\"Coffee\",\"Coffee\",\"Coffee\",\"Coffee\",\"Coffee\",\"Coffee\",\"Coffee\",\"Coffee\",\"Coffee\",\"Coffee\",\"Coffee\",\"Coffee\",\"Coffee\",\"Coffee\",\"Coffee\",\"Coffee\",\"Coffee\",\"Coffee\"],\"x0\":\" \",\"xaxis\":\"x\",\"y\":[43,41,44,40,42,42,38,40,38,38,40,42,44,36,37,39,41,39,36,40,36,43,41,43,37,41,43,41,44,35,41,40,39,38,44,42,35,36,44,41,36,43,36,40,45,38,42,38,39,45,43,39,42,43,36,39,38,45,40,35,38,45,38,42,42,36,37,35,41,37,41,38,37,42,36,45,44,38,37,38,43,35,43,39,39,38,38,44,42,40,38,38,35,38,36,42,37,45,44,40,16,17,16,21,20,16,17,19,17,25,19,21,16,16,21,22,17,17,19,19,21,15,22,21,16,16,18,15,22,20,25,19,25,23,22,21,18,21,18,18,17,23,17,17,23,22,15,18,23,17,20,23,23,17,17,22,21,19,20,16,20,25,24,24,18,18,23,21,24,22,18,20,16,19,24,17,23,20,21,21,25,19,24,18,17,15,22,22,15,23,17,15,18,25,22,24,22,19,23,19,77,84,85,85,77,81,84,84,75,81,79,79,81,85,77,84,76,84,76,77,83,77,76,83,83,78,80,84,85,81,82,85,83,76,75,81,77,78,77,77,76,79,75,81,81,78,79,83,84,78,79,85,78,75,78,78,85,76,80,77,85,75,85,82,79,75,78,82,85,80,83,79,79,79,75,82,85,82,84,77,80,78,83,77,78,79,81,82,76,85,78,77,76,76,82,78,78,83,75,82,25,16,22,16,20,22,21,18,17,22,24,19,17,22,23,25,17,15,23,20,16,25,19,22,17,20,17,22,22,21,23,18,20,17,23,22,19,22,20,23,17,15,23,18,22,24,15,21,23,19,20,24,23,25,19,17,25,18,17,20,24,22,24,15,24,17,15,16,15,25,25,15,21,20,19,21,22,18,20,16,15,22,22,15,23,19,17,19,22,20,22,20,23,15,18,18,16,25,19,24,24,23,23,24,18,25,20,19,20,21,24,17,17,20,17,19,16,16,24,20,19,25,19,21,24,21,21,21,17,19,19,21,18,23,21,18,22,16,19,15,15,18,18,17,19,25,20,22,23,25,23,20,18,18,24,17,20,23,22,20,24,23,25,24,21,18,25,21,16,23,19,19,20,21,24,15,23,21,15,18,20,24,20,19,16,23,21,20,24,22,16,19,19,17,18,17,22,22,18,24,18,23,25,18,16,22,15,20,24,24,17,25,23,22,21,20,23,25,22,25,17,22,19,15,19,20,18,21,24,24,24,22,15,23,16,19,22,20,20,16,24,21,20,20,18,20,18,24,18,23,21,22,21,22,16,15,22,15,20,25,24,17,17,17,16,19,18,24,20,20,19,23,17,25,20,20,19,17,23,23,16,24,25,21,22,23,15,22,25,18,19,17,18,23,15,22,16,17,17,21,20,20,20,16,17,24,23,25,18,20,22,17,23,16,21,25,22,15,24,17,20,16,23,21,15,21,25,17,22,25,18,24,25,22,22,21,21,15,22,15,23,15,25,15,22,15,24,15,25,24,21,24,19,18,20,21,18,20,25,15,15,16,23,22,17,19,17,20,25,20,20,23,21,15,22,21,20,17,20,22,21,17,18,17,19,21,18,17,15,19,17,15,20,16,21,22,19,17,23,21,15,21,22,25,18,16,21,20,21,17,24,25,19,22,18,15,19,23,25,18,15,24,16,18,25,21,22,15,17,22,19,21,21,17,21,17,19,17,15,15,19,18,19,21,25,19,23,16,15,15,16,22,19,21,20,17,20,22,16,17,19,15,23,15,16,25,19,16,19,25,17,22,20,16,15,20,15,15,21,16,17,15,18,17,24,17,20,25,24,22,21,17,17,18,15,16,22,23,21,25,15,22,20,17,16,18,18,21,20,17,20,22,23,24,15,17,22,24,22,18,16,24,20,21,21,22,18,15,20,24,22,16,23,18,25,23,15,21,15,25,19,19,19,19,16,17,15,17,15,16,25,23,23,22,18,20,22,17,24,17,22,19,18,16,21,23,20,21,19,16,22,16,22,19,17,21,17,18,17,22,24,17,15,20,16,21,16,22,19,19,20,22,25,18,15,22,17,19,15,15,38,37,36,39,38,38,38,40,41,38,36,41,37,41,40,42,41,42,38,44,40,45,44,39,40,42,44,40,44,36,43,42,42,40,36,42,42,41,40,39,38,44,43,35,36,41,43,38,38,37,41,45,44,43,37,41,35,39,43,45,36,44,42,37,44,40,44,42,40,37,36,37,35,38,41,36,44,43,45,45,42,38,42,40,41,36,45,45,43,39,36,38,41,35,35,45,41,45,39,37,46,50,53,54,49,53,55,53,55,52,52,54,50,53,49,55,47,45,45,48,53,50,48,47,51,45,48,47,48,47,47,52,45,48,51,47,49,55,53,52,47,48,53,52,53,46,55,52,50,48,45,55,50,50,45,55,47,54,45,53,53,50,55,46,51,54,51,45,49,52,46,54,50,55,45,48,55,55,51,45,47,46,55,52,46,52,52,48,46,48,45,51,45,46,51,47,52,54,55,53,27,31,27,25,32,35,34,31,33,30,27,27,34,30,31,33,32,30,30,35,25,33,31,28,30,30,31,29,28,25,31,34,26,28,31,29,31,26,26,34,33,32,31,33,26,35,32,26,27,25,26,32,27,30,26,35,30,26,32,28,26,32,34,34,25,27,31,32,34,32,26,32,27,25,34,29,35,35,34,30,29,31,26,35,26,31,30,31,31,28,27,26,33,27,25,26,30,33,30,31,195,204,205,196,196,198,197,195,203,204,197,205,201,203,204,195,202,205,197,204,201,197,198,201,199,205,203,197,200,197,203,203,198,202,196,201,199,204,198,204,201,204,197,195,200,197,200,201,196,203,204,203,195,199,202,195,202,195,201,195,203,201,196,205,195,196,199,202,203,199,205,196,202,199,199,201,195,201,203,203,205,204,200,203,202,200,199,196,197,197,198,203,204,197,204,200,201,202,195,204,51,55,50,50,52,55,45,53,45,54,53,47,47,50,46,51,52,55,50,51,50,52,49,55,52,45,50,54,54,51,45,48,45,47,51,46,55,48,53,46,52,53,53,52,49,48,47,51,54,52,50,45,46,49,51,46,51,45,52,55,54,55,53,49,46,52,47,46,52,46,50,50,52,47,45,47,45,50,55,51,50,53,51,55,45,55,48,55,54,51,54,53,54,50,49,47,45,50,55,47,55,48,52,52,45,49,53,51,52,52,48,52,45,55,45,55,55,51,48,48,53,53,46,47,50,53,52,55,54,50,48,54,51,54,52,52,46,46,46,47,52,55,47,45,49,52,51,53,55,49,48,47,45,48,47,48,47,49,47,46,45,45,50,49,47,52,54,47,48,52,52,50,45,55,46,54,52,45,48,53,54,47,54,49,51,50,47,54,55,47,51,52,52,46,50,55,47,52,52,54,196,197,205,201,201,204,205,205,196,199,197,196,204,199,200,199,198,199,203,195,205,198,196,198,204,203,197,198,200,198,196,203,197,201,202,195,204,196,202,202,201,196,198,205,205,199,198,200,204,202,196,202,198,200,199,197,201,204,203,205,195,202,200,200,196,205,197,200,205,197,204,195,204,195,201,197,200,204,197,203,204,196,197,203,196,203,205,203,205,201,203,195,198,197,195,197,198,196,196,197,12,13,6,9,9,10,15,14,14,6,15,8,12,10,6,8,7,5,8,9,6,14,10,5,8,15,12,5,15,14,14,15,6,8,8,7,6,11,5,6,10,15,9,13,8,6,13,10,8,11,5,9,11,9,7,7,14,10,8,10,12,8,13,11,15,9,13,13,12,15,14,8,10,5,12,11,14,12,6,5,9,9,9,11,10,8,12,11,11,10,10,13,10,14,9,5,12,7,15,9,50,45,55,53,45,45,50,47,54,47,47,53,54,48,54,49,53,52,47,51,53,45,52,55,45,52,52,46,51,46,49,51,47,52,49,55,52,51,53,48,48,53,55,52,51,47,47,48,46,52,47,46,48,50,49,49,52,50,47,48,51,49,47,52,52,47,50,49,47,52,52,49,47,52,53,45,47,53,45,52,52,51,47,53,45,54,49,55,52,55,55,45,52,47,54,55,47,49,55,53,29,28,33,35,35,32,31,27,29,35,26,33,32,30,34,33,26,32,29,26,30,32,26,33,28,26,33,25,30,35,29,31,30,33,33,35,33,30,31,35,29,29,32,35,30,29,35,32,29,34,25,29,35,34,29,28,27,32,31,32,27,35,27,30,29,32,29,30,26,26,27,35,31,34,31,25,26,32,31,32,34,30,33,26,30,25,33,35,30,29,33,31,35,27,30,33,32,26,34,29,24,20,18,23,23,19,20,22,16,22,25,18,15,21,25,18,16,18,24,15,24,18,24,22,21,23,19,22,15,19,23,22,17,20,16,16,25,18,19,16,17,22,17,25,18,25,19,24,17,15,17,20,16,21,19,20,19,20,19,23,17,18,21,25,15,19,24,18,18,17,19,25,22,15,24,18,15,15,15,25,24,19,17,17,19,16,23,25,21,16,16,20,17,18,20,20,21,18,15,15,38,39,45,39,40,36,43,40,44,40,44,45,38,40,38,35,38,39,44,37,38,36,38,42,45,39,45,45,40,45,35,38,38,40,45,43,41,42,37,45,36,39,45,44,41,35,36,35,42,40,44,42,36,41,40,40,43,43,43,44,43,43,35,44,35,37,36,35,41,35,35,38,43,35,42,44,42,36,37,38,39,37,43,44,36,38,36,35,41,43,43,43,41,35,38,43,39,37,43,43,26,26,35,31,34,25,27,34,32,34,28,25,27,31,29,30,28,26,28,26,28,28,28,30,31,26,27,27,31,35,27,34,31,33,35,35,29,33,30,33,25,25,27,34,28,29,30,27,32,35,25,28,33,34,28,35,25,30,30,26,27,35,35,29,30,26,32,33,29,26,26,30,31,28,33,35,33,32,35,25,31,26,33,27,28,25,29,33,31,30,30,34,35,34,26,32,27,30,34,30],\"y0\":\" \",\"yaxis\":\"y\",\"type\":\"box\"}],                        {\"template\":{\"data\":{\"histogram2dcontour\":[{\"type\":\"histogram2dcontour\",\"colorbar\":{\"outlinewidth\":0,\"ticks\":\"\"},\"colorscale\":[[0.0,\"#0d0887\"],[0.1111111111111111,\"#46039f\"],[0.2222222222222222,\"#7201a8\"],[0.3333333333333333,\"#9c179e\"],[0.4444444444444444,\"#bd3786\"],[0.5555555555555556,\"#d8576b\"],[0.6666666666666666,\"#ed7953\"],[0.7777777777777778,\"#fb9f3a\"],[0.8888888888888888,\"#fdca26\"],[1.0,\"#f0f921\"]]}],\"choropleth\":[{\"type\":\"choropleth\",\"colorbar\":{\"outlinewidth\":0,\"ticks\":\"\"}}],\"histogram2d\":[{\"type\":\"histogram2d\",\"colorbar\":{\"outlinewidth\":0,\"ticks\":\"\"},\"colorscale\":[[0.0,\"#0d0887\"],[0.1111111111111111,\"#46039f\"],[0.2222222222222222,\"#7201a8\"],[0.3333333333333333,\"#9c179e\"],[0.4444444444444444,\"#bd3786\"],[0.5555555555555556,\"#d8576b\"],[0.6666666666666666,\"#ed7953\"],[0.7777777777777778,\"#fb9f3a\"],[0.8888888888888888,\"#fdca26\"],[1.0,\"#f0f921\"]]}],\"heatmap\":[{\"type\":\"heatmap\",\"colorbar\":{\"outlinewidth\":0,\"ticks\":\"\"},\"colorscale\":[[0.0,\"#0d0887\"],[0.1111111111111111,\"#46039f\"],[0.2222222222222222,\"#7201a8\"],[0.3333333333333333,\"#9c179e\"],[0.4444444444444444,\"#bd3786\"],[0.5555555555555556,\"#d8576b\"],[0.6666666666666666,\"#ed7953\"],[0.7777777777777778,\"#fb9f3a\"],[0.8888888888888888,\"#fdca26\"],[1.0,\"#f0f921\"]]}],\"heatmapgl\":[{\"type\":\"heatmapgl\",\"colorbar\":{\"outlinewidth\":0,\"ticks\":\"\"},\"colorscale\":[[0.0,\"#0d0887\"],[0.1111111111111111,\"#46039f\"],[0.2222222222222222,\"#7201a8\"],[0.3333333333333333,\"#9c179e\"],[0.4444444444444444,\"#bd3786\"],[0.5555555555555556,\"#d8576b\"],[0.6666666666666666,\"#ed7953\"],[0.7777777777777778,\"#fb9f3a\"],[0.8888888888888888,\"#fdca26\"],[1.0,\"#f0f921\"]]}],\"contourcarpet\":[{\"type\":\"contourcarpet\",\"colorbar\":{\"outlinewidth\":0,\"ticks\":\"\"}}],\"contour\":[{\"type\":\"contour\",\"colorbar\":{\"outlinewidth\":0,\"ticks\":\"\"},\"colorscale\":[[0.0,\"#0d0887\"],[0.1111111111111111,\"#46039f\"],[0.2222222222222222,\"#7201a8\"],[0.3333333333333333,\"#9c179e\"],[0.4444444444444444,\"#bd3786\"],[0.5555555555555556,\"#d8576b\"],[0.6666666666666666,\"#ed7953\"],[0.7777777777777778,\"#fb9f3a\"],[0.8888888888888888,\"#fdca26\"],[1.0,\"#f0f921\"]]}],\"surface\":[{\"type\":\"surface\",\"colorbar\":{\"outlinewidth\":0,\"ticks\":\"\"},\"colorscale\":[[0.0,\"#0d0887\"],[0.1111111111111111,\"#46039f\"],[0.2222222222222222,\"#7201a8\"],[0.3333333333333333,\"#9c179e\"],[0.4444444444444444,\"#bd3786\"],[0.5555555555555556,\"#d8576b\"],[0.6666666666666666,\"#ed7953\"],[0.7777777777777778,\"#fb9f3a\"],[0.8888888888888888,\"#fdca26\"],[1.0,\"#f0f921\"]]}],\"mesh3d\":[{\"type\":\"mesh3d\",\"colorbar\":{\"outlinewidth\":0,\"ticks\":\"\"}}],\"scatter\":[{\"fillpattern\":{\"fillmode\":\"overlay\",\"size\":10,\"solidity\":0.2},\"type\":\"scatter\"}],\"parcoords\":[{\"type\":\"parcoords\",\"line\":{\"colorbar\":{\"outlinewidth\":0,\"ticks\":\"\"}}}],\"scatterpolargl\":[{\"type\":\"scatterpolargl\",\"marker\":{\"colorbar\":{\"outlinewidth\":0,\"ticks\":\"\"}}}],\"bar\":[{\"error_x\":{\"color\":\"#2a3f5f\"},\"error_y\":{\"color\":\"#2a3f5f\"},\"marker\":{\"line\":{\"color\":\"#E5ECF6\",\"width\":0.5},\"pattern\":{\"fillmode\":\"overlay\",\"size\":10,\"solidity\":0.2}},\"type\":\"bar\"}],\"scattergeo\":[{\"type\":\"scattergeo\",\"marker\":{\"colorbar\":{\"outlinewidth\":0,\"ticks\":\"\"}}}],\"scatterpolar\":[{\"type\":\"scatterpolar\",\"marker\":{\"colorbar\":{\"outlinewidth\":0,\"ticks\":\"\"}}}],\"histogram\":[{\"marker\":{\"pattern\":{\"fillmode\":\"overlay\",\"size\":10,\"solidity\":0.2}},\"type\":\"histogram\"}],\"scattergl\":[{\"type\":\"scattergl\",\"marker\":{\"colorbar\":{\"outlinewidth\":0,\"ticks\":\"\"}}}],\"scatter3d\":[{\"type\":\"scatter3d\",\"line\":{\"colorbar\":{\"outlinewidth\":0,\"ticks\":\"\"}},\"marker\":{\"colorbar\":{\"outlinewidth\":0,\"ticks\":\"\"}}}],\"scattermapbox\":[{\"type\":\"scattermapbox\",\"marker\":{\"colorbar\":{\"outlinewidth\":0,\"ticks\":\"\"}}}],\"scatterternary\":[{\"type\":\"scatterternary\",\"marker\":{\"colorbar\":{\"outlinewidth\":0,\"ticks\":\"\"}}}],\"scattercarpet\":[{\"type\":\"scattercarpet\",\"marker\":{\"colorbar\":{\"outlinewidth\":0,\"ticks\":\"\"}}}],\"carpet\":[{\"aaxis\":{\"endlinecolor\":\"#2a3f5f\",\"gridcolor\":\"white\",\"linecolor\":\"white\",\"minorgridcolor\":\"white\",\"startlinecolor\":\"#2a3f5f\"},\"baxis\":{\"endlinecolor\":\"#2a3f5f\",\"gridcolor\":\"white\",\"linecolor\":\"white\",\"minorgridcolor\":\"white\",\"startlinecolor\":\"#2a3f5f\"},\"type\":\"carpet\"}],\"table\":[{\"cells\":{\"fill\":{\"color\":\"#EBF0F8\"},\"line\":{\"color\":\"white\"}},\"header\":{\"fill\":{\"color\":\"#C8D4E3\"},\"line\":{\"color\":\"white\"}},\"type\":\"table\"}],\"barpolar\":[{\"marker\":{\"line\":{\"color\":\"#E5ECF6\",\"width\":0.5},\"pattern\":{\"fillmode\":\"overlay\",\"size\":10,\"solidity\":0.2}},\"type\":\"barpolar\"}],\"pie\":[{\"automargin\":true,\"type\":\"pie\"}]},\"layout\":{\"autotypenumbers\":\"strict\",\"colorway\":[\"#636efa\",\"#EF553B\",\"#00cc96\",\"#ab63fa\",\"#FFA15A\",\"#19d3f3\",\"#FF6692\",\"#B6E880\",\"#FF97FF\",\"#FECB52\"],\"font\":{\"color\":\"#2a3f5f\"},\"hovermode\":\"closest\",\"hoverlabel\":{\"align\":\"left\"},\"paper_bgcolor\":\"white\",\"plot_bgcolor\":\"#E5ECF6\",\"polar\":{\"bgcolor\":\"#E5ECF6\",\"angularaxis\":{\"gridcolor\":\"white\",\"linecolor\":\"white\",\"ticks\":\"\"},\"radialaxis\":{\"gridcolor\":\"white\",\"linecolor\":\"white\",\"ticks\":\"\"}},\"ternary\":{\"bgcolor\":\"#E5ECF6\",\"aaxis\":{\"gridcolor\":\"white\",\"linecolor\":\"white\",\"ticks\":\"\"},\"baxis\":{\"gridcolor\":\"white\",\"linecolor\":\"white\",\"ticks\":\"\"},\"caxis\":{\"gridcolor\":\"white\",\"linecolor\":\"white\",\"ticks\":\"\"}},\"coloraxis\":{\"colorbar\":{\"outlinewidth\":0,\"ticks\":\"\"}},\"colorscale\":{\"sequential\":[[0.0,\"#0d0887\"],[0.1111111111111111,\"#46039f\"],[0.2222222222222222,\"#7201a8\"],[0.3333333333333333,\"#9c179e\"],[0.4444444444444444,\"#bd3786\"],[0.5555555555555556,\"#d8576b\"],[0.6666666666666666,\"#ed7953\"],[0.7777777777777778,\"#fb9f3a\"],[0.8888888888888888,\"#fdca26\"],[1.0,\"#f0f921\"]],\"sequentialminus\":[[0.0,\"#0d0887\"],[0.1111111111111111,\"#46039f\"],[0.2222222222222222,\"#7201a8\"],[0.3333333333333333,\"#9c179e\"],[0.4444444444444444,\"#bd3786\"],[0.5555555555555556,\"#d8576b\"],[0.6666666666666666,\"#ed7953\"],[0.7777777777777778,\"#fb9f3a\"],[0.8888888888888888,\"#fdca26\"],[1.0,\"#f0f921\"]],\"diverging\":[[0,\"#8e0152\"],[0.1,\"#c51b7d\"],[0.2,\"#de77ae\"],[0.3,\"#f1b6da\"],[0.4,\"#fde0ef\"],[0.5,\"#f7f7f7\"],[0.6,\"#e6f5d0\"],[0.7,\"#b8e186\"],[0.8,\"#7fbc41\"],[0.9,\"#4d9221\"],[1,\"#276419\"]]},\"xaxis\":{\"gridcolor\":\"white\",\"linecolor\":\"white\",\"ticks\":\"\",\"title\":{\"standoff\":15},\"zerolinecolor\":\"white\",\"automargin\":true,\"zerolinewidth\":2},\"yaxis\":{\"gridcolor\":\"white\",\"linecolor\":\"white\",\"ticks\":\"\",\"title\":{\"standoff\":15},\"zerolinecolor\":\"white\",\"automargin\":true,\"zerolinewidth\":2},\"scene\":{\"xaxis\":{\"backgroundcolor\":\"#E5ECF6\",\"gridcolor\":\"white\",\"linecolor\":\"white\",\"showbackground\":true,\"ticks\":\"\",\"zerolinecolor\":\"white\",\"gridwidth\":2},\"yaxis\":{\"backgroundcolor\":\"#E5ECF6\",\"gridcolor\":\"white\",\"linecolor\":\"white\",\"showbackground\":true,\"ticks\":\"\",\"zerolinecolor\":\"white\",\"gridwidth\":2},\"zaxis\":{\"backgroundcolor\":\"#E5ECF6\",\"gridcolor\":\"white\",\"linecolor\":\"white\",\"showbackground\":true,\"ticks\":\"\",\"zerolinecolor\":\"white\",\"gridwidth\":2}},\"shapedefaults\":{\"line\":{\"color\":\"#2a3f5f\"}},\"annotationdefaults\":{\"arrowcolor\":\"#2a3f5f\",\"arrowhead\":0,\"arrowwidth\":1},\"geo\":{\"bgcolor\":\"white\",\"landcolor\":\"#E5ECF6\",\"subunitcolor\":\"white\",\"showland\":true,\"showlakes\":true,\"lakecolor\":\"white\"},\"title\":{\"x\":0.05},\"mapbox\":{\"style\":\"light\"}}},\"xaxis\":{\"anchor\":\"y\",\"domain\":[0.0,1.0],\"title\":{\"text\":\"Crop\"}},\"yaxis\":{\"anchor\":\"x\",\"domain\":[0.0,1.0],\"title\":{\"text\":\"Potassium\"}},\"legend\":{\"tracegroupgap\":0},\"title\":{\"text\":\"Potassium Levels by Crop\"},\"boxmode\":\"group\"},                        {\"responsive\": true}                    ).then(function(){\n",
       "                            \n",
       "var gd = document.getElementById('dc918769-d2a7-42de-9ff9-45fa3b385285');\n",
       "var x = new MutationObserver(function (mutations, observer) {{\n",
       "        var display = window.getComputedStyle(gd).display;\n",
       "        if (!display || display === 'none') {{\n",
       "            console.log([gd, 'removed!']);\n",
       "            Plotly.purge(gd);\n",
       "            observer.disconnect();\n",
       "        }}\n",
       "}});\n",
       "\n",
       "// Listen for the removal of the full notebook cells\n",
       "var notebookContainer = gd.closest('#notebook-container');\n",
       "if (notebookContainer) {{\n",
       "    x.observe(notebookContainer, {childList: true});\n",
       "}}\n",
       "\n",
       "// Listen for the clearing of the current output cell\n",
       "var outputEl = gd.closest('.output');\n",
       "if (outputEl) {{\n",
       "    x.observe(outputEl, {childList: true});\n",
       "}}\n",
       "\n",
       "                        })                };                });            </script>        </div>"
      ]
     },
     "metadata": {},
     "output_type": "display_data"
    }
   ],
   "source": [
    "# Box plot for Nitrogen by Crop\n",
    "box1_fig = px.box(df, x='Crop', y='Nitrogen', title='Nitrogen Levels by Crop')\n",
    "box1_fig.show()\n",
    "\n",
    "# Box plot for Phosphorus by Crop\n",
    "box2_fig = px.box(df, x='Crop', y='Phosphorus', title='Phosphorus Levels by Crop')\n",
    "box2_fig.show()\n",
    "\n",
    "# Box plot for Potassium by Crop\n",
    "box3_fig = px.box(df, x='Crop', y='Potassium', title='Potassium Levels by Crop')\n",
    "box3_fig.show()\n"
   ]
  },
  {
   "cell_type": "code",
   "execution_count": 18,
   "id": "321d4d9a",
   "metadata": {
    "execution": {
     "iopub.execute_input": "2024-10-14T15:08:30.575087Z",
     "iopub.status.busy": "2024-10-14T15:08:30.573775Z",
     "iopub.status.idle": "2024-10-14T15:08:31.037327Z",
     "shell.execute_reply": "2024-10-14T15:08:31.036210Z"
    },
    "papermill": {
     "duration": 0.490423,
     "end_time": "2024-10-14T15:08:31.040169",
     "exception": false,
     "start_time": "2024-10-14T15:08:30.549746",
     "status": "completed"
    },
    "tags": []
   },
   "outputs": [],
   "source": [
    "import dash\n",
    "from dash import dcc, html\n",
    "from dash.dependencies import Input, Output\n",
    "\n",
    "app = dash.Dash(__name__)\n",
    "\n",
    "# Define layout\n",
    "app.layout = html.Div(children=[\n",
    "    html.H1(children='Kaggle Dash App Example'),\n",
    "    html.Div(children='''Crop Distribution Pie Chart.'''),\n",
    "    \n",
    "    dcc.Graph(\n",
    "        id='example-pie-chart',\n",
    "        figure=pie_fig\n",
    "    ),\n",
    "    dcc.Graph(\n",
    "        id='crop-bar-chart',\n",
    "        figure=scatter_fig\n",
    "    ),\n",
    "    dcc.Graph(\n",
    "        id='crop-bar-chart',\n",
    "        figure=box1_fig\n",
    "    ),\n",
    "    dcc.Graph(\n",
    "        id='crop-bar-chart',\n",
    "        figure=box2_fig\n",
    "    ),\n",
    "    dcc.Graph(\n",
    "        id='crop-bar-chart',\n",
    "        figure=box3_fig\n",
    "    )\n",
    "])"
   ]
  },
  {
   "cell_type": "code",
   "execution_count": 19,
   "id": "d4665010",
   "metadata": {
    "execution": {
     "iopub.execute_input": "2024-10-14T15:08:31.077500Z",
     "iopub.status.busy": "2024-10-14T15:08:31.076877Z",
     "iopub.status.idle": "2024-10-14T15:08:31.672970Z",
     "shell.execute_reply": "2024-10-14T15:08:31.671578Z"
    },
    "papermill": {
     "duration": 0.618077,
     "end_time": "2024-10-14T15:08:31.675975",
     "exception": false,
     "start_time": "2024-10-14T15:08:31.057898",
     "status": "completed"
    },
    "tags": []
   },
   "outputs": [
    {
     "name": "stdout",
     "output_type": "stream",
     "text": [
      "App is running at: NgrokTunnel: \"https://93d9-34-169-137-192.ngrok-free.app\" -> \"http://localhost:8050\"\n"
     ]
    },
    {
     "data": {
      "text/html": [
       "\n",
       "        <iframe\n",
       "            width=\"100%\"\n",
       "            height=\"600px\"\n",
       "            src=\"http://localhost:8050\"\n",
       "            frameborder=\"0\"\n",
       "            allowfullscreen\n",
       "            \n",
       "        ></iframe>\n",
       "        "
      ],
      "text/plain": [
       "<IPython.lib.display.IFrame at 0x7ba15b3bbd60>"
      ]
     },
     "metadata": {},
     "output_type": "display_data"
    }
   ],
   "source": [
    "# Run the app inline (specific to Kaggle/Jupyter environment)\n",
    "from flask import Flask\n",
    "import os\n",
    "from threading import Thread\n",
    "from pyngrok import ngrok\n",
    "\n",
    "public_url = ngrok.connect(8050)\n",
    "print(f\"App is running at: {public_url}\")\n",
    "\n",
    "def run_app():\n",
    "    app.run_server(host='0.0.0.0', port=8050, debug=False)\n",
    "\n",
    "# Start the Dash app in a thread to avoid blocking\n",
    "thread = Thread(target=run_app)\n",
    "thread.start()\n",
    "\n",
    "# Create a proxy to access the app via Kaggle output\n",
    "from IPython.display import IFrame\n",
    "display(IFrame(src='http://localhost:8050', width='100%', height='600px'))"
   ]
  },
  {
   "cell_type": "markdown",
   "id": "4e421a68",
   "metadata": {
    "papermill": {
     "duration": 0.021858,
     "end_time": "2024-10-14T15:08:31.716700",
     "exception": false,
     "start_time": "2024-10-14T15:08:31.694842",
     "status": "completed"
    },
    "tags": []
   },
   "source": [
    "## Modeling to predict crop yield based on the quantity of nitrogen, phosphorus, potassium, temperature, humidity, and pH value."
   ]
  },
  {
   "cell_type": "code",
   "execution_count": 20,
   "id": "be7a2053",
   "metadata": {
    "execution": {
     "iopub.execute_input": "2024-10-14T15:08:31.757855Z",
     "iopub.status.busy": "2024-10-14T15:08:31.757365Z",
     "iopub.status.idle": "2024-10-14T15:08:34.129253Z",
     "shell.execute_reply": "2024-10-14T15:08:34.127930Z"
    },
    "papermill": {
     "duration": 2.394958,
     "end_time": "2024-10-14T15:08:34.132134",
     "exception": false,
     "start_time": "2024-10-14T15:08:31.737176",
     "status": "completed"
    },
    "tags": []
   },
   "outputs": [
    {
     "name": "stdout",
     "output_type": "stream",
     "text": [
      "Accuracy: 0.97\n"
     ]
    }
   ],
   "source": [
    "from sklearn.model_selection import train_test_split\n",
    "from sklearn.ensemble import RandomForestClassifier\n",
    "from sklearn.metrics import accuracy_score, classification_report\n",
    "\n",
    "X = df[['Nitrogen', 'Phosphorus', 'Potassium', 'Temperature', 'Humidity', 'pH_Value']]\n",
    "y = df['Crop']\n",
    "\n",
    "X_train, X_test, y_train, y_test = train_test_split(X, y, test_size=0.2, random_state=42)\n",
    "\n",
    "# Train a Random Forest classifier\n",
    "model = RandomForestClassifier(random_state=42)\n",
    "model.fit(X_train, y_train)\n",
    "\n",
    "y_pred = model.predict(X_test)\n",
    "accuracy = accuracy_score(y_test, y_pred)\n",
    "print(f\"Accuracy: {accuracy:.2f}\")\n",
    "\n",
    "#print(classification_report(y_test, y_pred))\n"
   ]
  },
  {
   "cell_type": "markdown",
   "id": "04208679",
   "metadata": {
    "papermill": {
     "duration": 0.017752,
     "end_time": "2024-10-14T15:08:34.168192",
     "exception": false,
     "start_time": "2024-10-14T15:08:34.150440",
     "status": "completed"
    },
    "tags": []
   },
   "source": [
    "#### Plot the classification report"
   ]
  },
  {
   "cell_type": "code",
   "execution_count": 21,
   "id": "99556d0f",
   "metadata": {
    "execution": {
     "iopub.execute_input": "2024-10-14T15:08:34.207167Z",
     "iopub.status.busy": "2024-10-14T15:08:34.206607Z",
     "iopub.status.idle": "2024-10-14T15:08:35.365391Z",
     "shell.execute_reply": "2024-10-14T15:08:35.364093Z"
    },
    "papermill": {
     "duration": 1.181525,
     "end_time": "2024-10-14T15:08:35.368743",
     "exception": false,
     "start_time": "2024-10-14T15:08:34.187218",
     "status": "completed"
    },
    "tags": []
   },
   "outputs": [
    {
     "data": {
      "image/png": "[encoded data removed]",
      "text/plain": [
       "<Figure size 800x600 with 2 Axes>"
      ]
     },
     "metadata": {},
     "output_type": "display_data"
    }
   ],
   "source": [
    "import seaborn as sns\n",
    "report = classification_report(y_test, y_pred, output_dict=True)\n",
    "\n",
    "df_report = pd.DataFrame(report).transpose()          # Convert to DataFrame\n",
    "\n",
    "# Plot the classification report as a heatmap\n",
    "plt.figure(figsize=(8, 6))\n",
    "sns.heatmap(df_report.iloc[:-1, :].astype(float), annot=True, cmap='Blues', fmt=\".2f\", vmin=0, vmax=1)\n",
    "plt.title('Classification Report Heatmap')\n",
    "plt.show()"
   ]
  },
  {
   "cell_type": "markdown",
   "id": "771bb2df",
   "metadata": {
    "papermill": {
     "duration": 0.019313,
     "end_time": "2024-10-14T15:08:35.407877",
     "exception": false,
     "start_time": "2024-10-14T15:08:35.388564",
     "status": "completed"
    },
    "tags": []
   },
   "source": [
    "## Crop Recommondation Based on Other Features"
   ]
  },
  {
   "cell_type": "code",
   "execution_count": 22,
   "id": "19d04944",
   "metadata": {
    "execution": {
     "iopub.execute_input": "2024-10-14T15:08:35.449612Z",
     "iopub.status.busy": "2024-10-14T15:08:35.449206Z",
     "iopub.status.idle": "2024-10-14T15:08:35.636980Z",
     "shell.execute_reply": "2024-10-14T15:08:35.635820Z"
    },
    "papermill": {
     "duration": 0.222171,
     "end_time": "2024-10-14T15:08:35.650264",
     "exception": false,
     "start_time": "2024-10-14T15:08:35.428093",
     "status": "completed"
    },
    "tags": []
   },
   "outputs": [
    {
     "data": {
      "application/vnd.jupyter.widget-view+json": {
       "model_id": "d8ee33587d1b4f0a945af2870bddda25",
       "version_major": 2,
       "version_minor": 0
      },
      "text/plain": [
       "FloatSlider(value=0.0, description='Nitrogen (ppm)', step=1.0)"
      ]
     },
     "metadata": {},
     "output_type": "display_data"
    },
    {
     "data": {
      "application/vnd.jupyter.widget-view+json": {
       "model_id": "55a153d85a724f858fb3fb7ce9ab690f",
       "version_major": 2,
       "version_minor": 0
      },
      "text/plain": [
       "FloatSlider(value=0.0, description='Phosphorus (ppm)', step=1.0)"
      ]
     },
     "metadata": {},
     "output_type": "display_data"
    },
    {
     "data": {
      "application/vnd.jupyter.widget-view+json": {
       "model_id": "5e2616b804724947bcac6a5ad2b1cbb5",
       "version_major": 2,
       "version_minor": 0
      },
      "text/plain": [
       "FloatSlider(value=0.0, description='Potassium (ppm)', step=1.0)"
      ]
     },
     "metadata": {},
     "output_type": "display_data"
    },
    {
     "data": {
      "application/vnd.jupyter.widget-view+json": {
       "model_id": "f3400448c555409aa7127bf03489ebcf",
       "version_major": 2,
       "version_minor": 0
      },
      "text/plain": [
       "FloatSlider(value=0.0, description='Temperature (°C)', max=50.0, min=-10.0, step=0.5)"
      ]
     },
     "metadata": {},
     "output_type": "display_data"
    },
    {
     "data": {
      "application/vnd.jupyter.widget-view+json": {
       "model_id": "07a8b92210484bceb17f3a23a33090f9",
       "version_major": 2,
       "version_minor": 0
      },
      "text/plain": [
       "FloatSlider(value=0.0, description='Humidity (%)', step=1.0)"
      ]
     },
     "metadata": {},
     "output_type": "display_data"
    },
    {
     "data": {
      "application/vnd.jupyter.widget-view+json": {
       "model_id": "16c3bb9ea4114404b3b33a9ca9098c29",
       "version_major": 2,
       "version_minor": 0
      },
      "text/plain": [
       "FloatSlider(value=0.0, description='pH Value', max=14.0)"
      ]
     },
     "metadata": {},
     "output_type": "display_data"
    },
    {
     "data": {
      "application/vnd.jupyter.widget-view+json": {
       "model_id": "ffbcbed741c344ee8e4defb421a9ee24",
       "version_major": 2,
       "version_minor": 0
      },
      "text/plain": [
       "Button(description='Predict Crop', style=ButtonStyle())"
      ]
     },
     "metadata": {},
     "output_type": "display_data"
    },
    {
     "data": {
      "application/vnd.jupyter.widget-view+json": {
       "model_id": "e02b8ff6a31d4491a0f1f4b0d2c17857",
       "version_major": 2,
       "version_minor": 0
      },
      "text/plain": [
       "Output()"
      ]
     },
     "metadata": {},
     "output_type": "display_data"
    }
   ],
   "source": [
    "import ipywidgets as widgets\n",
    "from IPython.display import display\n",
    "\n",
    "def recommend_crop(nitrogen, phosphorus, potassium, temperature, humidity, ph_value):\n",
    "    input_data = [[nitrogen, phosphorus, potassium, temperature, humidity, ph_value]]\n",
    "    predicted_crop = model.predict(input_data)[0]\n",
    "    return predicted_crop\n",
    "\n",
    "# Create interactive widgets\n",
    "nitrogen_slider = widgets.FloatSlider(min=0, max=100, step=1, description=\"Nitrogen (ppm)\")\n",
    "phosphorus_slider = widgets.FloatSlider(min=0, max=100, step=1, description=\"Phosphorus (ppm)\")\n",
    "potassium_slider = widgets.FloatSlider(min=0, max=100, step=1, description=\"Potassium (ppm)\")\n",
    "temperature_slider = widgets.FloatSlider(min=-10, max=50, step=0.5, description=\"Temperature (°C)\")\n",
    "humidity_slider = widgets.FloatSlider(min=0, max=100, step=1, description=\"Humidity (%)\")\n",
    "ph_value_slider = widgets.FloatSlider(min=0, max=14, step=0.1, description=\"pH Value\")\n",
    "\n",
    "# Output widget \n",
    "output = widgets.Output()\n",
    "\n",
    "# Function to handle the button click event\n",
    "def on_button_click(b):\n",
    "    nitrogen = nitrogen_slider.value\n",
    "    phosphorus = phosphorus_slider.value\n",
    "    potassium = potassium_slider.value\n",
    "    temperature = temperature_slider.value\n",
    "    humidity = humidity_slider.value\n",
    "    ph_value = ph_value_slider.value\n",
    "\n",
    "    recommended_crop = recommend_crop(nitrogen, phosphorus, potassium, temperature, humidity, ph_value)\n",
    "    \n",
    "    with output:\n",
    "        output.clear_output()  # Clear previous output before showing new one\n",
    "        print(f\"Based on the given features, the recommended crop is: {recommended_crop}\")\n",
    "\n",
    "predict_button = widgets.Button(description=\"Predict Crop\")\n",
    "predict_button.on_click(on_button_click)\n",
    "\n",
    "# Display sliders, button, and output widget\n",
    "display(nitrogen_slider, phosphorus_slider, potassium_slider, temperature_slider, humidity_slider, ph_value_slider, predict_button, output)\n"
   ]
  }
 ],
 "metadata": {
  "kaggle": {
   "accelerator": "none",
   "dataSources": [
    {
     "datasetId": 4933767,
     "sourceId": 8305330,
     "sourceType": "datasetVersion"
    }
   ],
   "dockerImageVersionId": 30746,
   "isGpuEnabled": false,
   "isInternetEnabled": true,
   "language": "python",
   "sourceType": "notebook"
  },
  "kernelspec": {
   "display_name": "Python 3",
   "language": "python",
   "name": "python3"
  },
  "language_info": {
   "codemirror_mode": {
    "name": "ipython",
    "version": 3
   },
   "file_extension": ".py",
   "mimetype": "text/x-python",
   "name": "python",
   "nbconvert_exporter": "python",
   "pygments_lexer": "ipython3",
   "version": "3.10.13"
  },
  "papermill": {
   "default_parameters": {},
   "duration": 51.765937,
   "end_time": "2024-10-14T15:08:36.595367",
   "environment_variables": {},
   "exception": null,
   "input_path": "__notebook__.ipynb",
   "output_path": "__notebook__.ipynb",
   "parameters": {},
   "start_time": "2024-10-14T15:07:44.829430",
   "version": "2.5.0"
  },
  "widgets": {
   "application/vnd.jupyter.widget-state+json": {
    "state": {
     "04c62d19c64e4c9d8f365a285be2e37a": {
      "model_module": "@jupyter-widgets/base",
      "model_module_version": "1.2.0",
      "model_name": "LayoutModel",
      "state": {
       "_model_module": "@jupyter-widgets/base",
       "_model_module_version": "1.2.0",
       "_model_name": "LayoutModel",
       "_view_count": null,
       "_view_module": "@jupyter-widgets/base",
       "_view_module_version": "1.2.0",
       "_view_name": "LayoutView",
       "align_content": null,
       "align_items": null,
       "align_self": null,
       "border": null,
       "bottom": null,
       "display": null,
       "flex": null,
       "flex_flow": null,
       "grid_area": null,
       "grid_auto_columns": null,
       "grid_auto_flow": null,
       "grid_auto_rows": null,
       "grid_column": null,
       "grid_gap": null,
       "grid_row": null,
       "grid_template_areas": null,
       "grid_template_columns": null,
       "grid_template_rows": null,
       "height": null,
       "justify_content": null,
       "justify_items": null,
       "left": null,
       "margin": null,
       "max_height": null,
       "max_width": null,
       "min_height": null,
       "min_width": null,
       "object_fit": null,
       "object_position": null,
       "order": null,
       "overflow": null,
       "overflow_x": null,
       "overflow_y": null,
       "padding": null,
       "right": null,
       "top": null,
       "visibility": null,
       "width": null
      }
     },
     "0515f08ca238436d9e74077814a1a8ff": {
      "model_module": "@jupyter-widgets/base",
      "model_module_version": "1.2.0",
      "model_name": "LayoutModel",
      "state": {
       "_model_module": "@jupyter-widgets/base",
       "_model_module_version": "1.2.0",
       "_model_name": "LayoutModel",
       "_view_count": null,
       "_view_module": "@jupyter-widgets/base",
       "_view_module_version": "1.2.0",
       "_view_name": "LayoutView",
       "align_content": null,
       "align_items": null,
       "align_self": null,
       "border": null,
       "bottom": null,
       "display": null,
       "flex": null,
       "flex_flow": null,
       "grid_area": null,
       "grid_auto_columns": null,
       "grid_auto_flow": null,
       "grid_auto_rows": null,
       "grid_column": null,
       "grid_gap": null,
       "grid_row": null,
       "grid_template_areas": null,
       "grid_template_columns": null,
       "grid_template_rows": null,
       "height": null,
       "justify_content": null,
       "justify_items": null,
       "left": null,
       "margin": null,
       "max_height": null,
       "max_width": null,
       "min_height": null,
       "min_width": null,
       "object_fit": null,
       "object_position": null,
       "order": null,
       "overflow": null,
       "overflow_x": null,
       "overflow_y": null,
       "padding": null,
       "right": null,
       "top": null,
       "visibility": null,
       "width": null
      }
     },
     "07a8b92210484bceb17f3a23a33090f9": {
      "model_module": "@jupyter-widgets/controls",
      "model_module_version": "1.5.0",
      "model_name": "FloatSliderModel",
      "state": {
       "_dom_classes": [],
       "_model_module": "@jupyter-widgets/controls",
       "_model_module_version": "1.5.0",
       "_model_name": "FloatSliderModel",
       "_view_count": null,
       "_view_module": "@jupyter-widgets/controls",
       "_view_module_version": "1.5.0",
       "_view_name": "FloatSliderView",
       "continuous_update": true,
       "description": "Humidity (%)",
       "description_tooltip": null,
       "disabled": false,
       "layout": "IPY_MODEL_efb43ff301054cde99308b84850eea02",
       "max": 100.0,
       "min": 0.0,
       "orientation": "horizontal",
       "readout": true,
       "readout_format": ".2f",
       "step": 1.0,
       "style": "IPY_MODEL_c26bd3c91ac74a97b62c5130422172a0",
       "value": 0.0
      }
     },
     "143316106d22474c8004390a48a9f0b9": {
      "model_module": "@jupyter-widgets/base",
      "model_module_version": "1.2.0",
      "model_name": "LayoutModel",
      "state": {
       "_model_module": "@jupyter-widgets/base",
       "_model_module_version": "1.2.0",
       "_model_name": "LayoutModel",
       "_view_count": null,
       "_view_module": "@jupyter-widgets/base",
       "_view_module_version": "1.2.0",
       "_view_name": "LayoutView",
       "align_content": null,
       "align_items": null,
       "align_self": null,
       "border": null,
       "bottom": null,
       "display": null,
       "flex": null,
       "flex_flow": null,
       "grid_area": null,
       "grid_auto_columns": null,
       "grid_auto_flow": null,
       "grid_auto_rows": null,
       "grid_column": null,
       "grid_gap": null,
       "grid_row": null,
       "grid_template_areas": null,
       "grid_template_columns": null,
       "grid_template_rows": null,
       "height": null,
       "justify_content": null,
       "justify_items": null,
       "left": null,
       "margin": null,
       "max_height": null,
       "max_width": null,
       "min_height": null,
       "min_width": null,
       "object_fit": null,
       "object_position": null,
       "order": null,
       "overflow": null,
       "overflow_x": null,
       "overflow_y": null,
       "padding": null,
       "right": null,
       "top": null,
       "visibility": null,
       "width": null
      }
     },
     "16c3bb9ea4114404b3b33a9ca9098c29": {
      "model_module": "@jupyter-widgets/controls",
      "model_module_version": "1.5.0",
      "model_name": "FloatSliderModel",
      "state": {
       "_dom_classes": [],
       "_model_module": "@jupyter-widgets/controls",
       "_model_module_version": "1.5.0",
       "_model_name": "FloatSliderModel",
       "_view_count": null,
       "_view_module": "@jupyter-widgets/controls",
       "_view_module_version": "1.5.0",
       "_view_name": "FloatSliderView",
       "continuous_update": true,
       "description": "pH Value",
       "description_tooltip": null,
       "disabled": false,
       "layout": "IPY_MODEL_143316106d22474c8004390a48a9f0b9",
       "max": 14.0,
       "min": 0.0,
       "orientation": "horizontal",
       "readout": true,
       "readout_format": ".2f",
       "step": 0.1,
       "style": "IPY_MODEL_72f7d47703e0464fa862485342dd3ba1",
       "value": 0.0
      }
     },
     "29765169ac72446aa664fcfd9630fc72": {
      "model_module": "@jupyter-widgets/controls",
      "model_module_version": "1.5.0",
      "model_name": "SliderStyleModel",
      "state": {
       "_model_module": "@jupyter-widgets/controls",
       "_model_module_version": "1.5.0",
       "_model_name": "SliderStyleModel",
       "_view_count": null,
       "_view_module": "@jupyter-widgets/base",
       "_view_module_version": "1.2.0",
       "_view_name": "StyleView",
       "description_width": "",
       "handle_color": null
      }
     },
     "3943055c32484f1c84ad2bb8ffeda7a2": {
      "model_module": "@jupyter-widgets/base",
      "model_module_version": "1.2.0",
      "model_name": "LayoutModel",
      "state": {
       "_model_module": "@jupyter-widgets/base",
       "_model_module_version": "1.2.0",
       "_model_name": "LayoutModel",
       "_view_count": null,
       "_view_module": "@jupyter-widgets/base",
       "_view_module_version": "1.2.0",
       "_view_name": "LayoutView",
       "align_content": null,
       "align_items": null,
       "align_self": null,
       "border": null,
       "bottom": null,
       "display": null,
       "flex": null,
       "flex_flow": null,
       "grid_area": null,
       "grid_auto_columns": null,
       "grid_auto_flow": null,
       "grid_auto_rows": null,
       "grid_column": null,
       "grid_gap": null,
       "grid_row": null,
       "grid_template_areas": null,
       "grid_template_columns": null,
       "grid_template_rows": null,
       "height": null,
       "justify_content": null,
       "justify_items": null,
       "left": null,
       "margin": null,
       "max_height": null,
       "max_width": null,
       "min_height": null,
       "min_width": null,
       "object_fit": null,
       "object_position": null,
       "order": null,
       "overflow": null,
       "overflow_x": null,
       "overflow_y": null,
       "padding": null,
       "right": null,
       "top": null,
       "visibility": null,
       "width": null
      }
     },
     "55a153d85a724f858fb3fb7ce9ab690f": {
      "model_module": "@jupyter-widgets/controls",
      "model_module_version": "1.5.0",
      "model_name": "FloatSliderModel",
      "state": {
       "_dom_classes": [],
       "_model_module": "@jupyter-widgets/controls",
       "_model_module_version": "1.5.0",
       "_model_name": "FloatSliderModel",
       "_view_count": null,
       "_view_module": "@jupyter-widgets/controls",
       "_view_module_version": "1.5.0",
       "_view_name": "FloatSliderView",
       "continuous_update": true,
       "description": "Phosphorus (ppm)",
       "description_tooltip": null,
       "disabled": false,
       "layout": "IPY_MODEL_c83212b6a22a41af927fdd0128b8c81a",
       "max": 100.0,
       "min": 0.0,
       "orientation": "horizontal",
       "readout": true,
       "readout_format": ".2f",
       "step": 1.0,
       "style": "IPY_MODEL_e30e95d13c004a5aa8369ec328edff72",
       "value": 0.0
      }
     },
     "5e2616b804724947bcac6a5ad2b1cbb5": {
      "model_module": "@jupyter-widgets/controls",
      "model_module_version": "1.5.0",
      "model_name": "FloatSliderModel",
      "state": {
       "_dom_classes": [],
       "_model_module": "@jupyter-widgets/controls",
       "_model_module_version": "1.5.0",
       "_model_name": "FloatSliderModel",
       "_view_count": null,
       "_view_module": "@jupyter-widgets/controls",
       "_view_module_version": "1.5.0",
       "_view_name": "FloatSliderView",
       "continuous_update": true,
       "description": "Potassium (ppm)",
       "description_tooltip": null,
       "disabled": false,
       "layout": "IPY_MODEL_e8e189953bb04a988201876aec8aa218",
       "max": 100.0,
       "min": 0.0,
       "orientation": "horizontal",
       "readout": true,
       "readout_format": ".2f",
       "step": 1.0,
       "style": "IPY_MODEL_29765169ac72446aa664fcfd9630fc72",
       "value": 0.0
      }
     },
     "72f7d47703e0464fa862485342dd3ba1": {
      "model_module": "@jupyter-widgets/controls",
      "model_module_version": "1.5.0",
      "model_name": "SliderStyleModel",
      "state": {
       "_model_module": "@jupyter-widgets/controls",
       "_model_module_version": "1.5.0",
       "_model_name": "SliderStyleModel",
       "_view_count": null,
       "_view_module": "@jupyter-widgets/base",
       "_view_module_version": "1.2.0",
       "_view_name": "StyleView",
       "description_width": "",
       "handle_color": null
      }
     },
     "89baff9842a54b75b6bf68adca408a2f": {
      "model_module": "@jupyter-widgets/base",
      "model_module_version": "1.2.0",
      "model_name": "LayoutModel",
      "state": {
       "_model_module": "@jupyter-widgets/base",
       "_model_module_version": "1.2.0",
       "_model_name": "LayoutModel",
       "_view_count": null,
       "_view_module": "@jupyter-widgets/base",
       "_view_module_version": "1.2.0",
       "_view_name": "LayoutView",
       "align_content": null,
       "align_items": null,
       "align_self": null,
       "border": null,
       "bottom": null,
       "display": null,
       "flex": null,
       "flex_flow": null,
       "grid_area": null,
       "grid_auto_columns": null,
       "grid_auto_flow": null,
       "grid_auto_rows": null,
       "grid_column": null,
       "grid_gap": null,
       "grid_row": null,
       "grid_template_areas": null,
       "grid_template_columns": null,
       "grid_template_rows": null,
       "height": null,
       "justify_content": null,
       "justify_items": null,
       "left": null,
       "margin": null,
       "max_height": null,
       "max_width": null,
       "min_height": null,
       "min_width": null,
       "object_fit": null,
       "object_position": null,
       "order": null,
       "overflow": null,
       "overflow_x": null,
       "overflow_y": null,
       "padding": null,
       "right": null,
       "top": null,
       "visibility": null,
       "width": null
      }
     },
     "8f2a71dae2ba4c29998f3229df235d79": {
      "model_module": "@jupyter-widgets/controls",
      "model_module_version": "1.5.0",
      "model_name": "SliderStyleModel",
      "state": {
       "_model_module": "@jupyter-widgets/controls",
       "_model_module_version": "1.5.0",
       "_model_name": "SliderStyleModel",
       "_view_count": null,
       "_view_module": "@jupyter-widgets/base",
       "_view_module_version": "1.2.0",
       "_view_name": "StyleView",
       "description_width": "",
       "handle_color": null
      }
     },
     "b533681081cc4471b02ae1f588ef7c07": {
      "model_module": "@jupyter-widgets/controls",
      "model_module_version": "1.5.0",
      "model_name": "SliderStyleModel",
      "state": {
       "_model_module": "@jupyter-widgets/controls",
       "_model_module_version": "1.5.0",
       "_model_name": "SliderStyleModel",
       "_view_count": null,
       "_view_module": "@jupyter-widgets/base",
       "_view_module_version": "1.2.0",
       "_view_name": "StyleView",
       "description_width": "",
       "handle_color": null
      }
     },
     "bc213c4addc84cee9ffd0b34984c3c5f": {
      "model_module": "@jupyter-widgets/controls",
      "model_module_version": "1.5.0",
      "model_name": "ButtonStyleModel",
      "state": {
       "_model_module": "@jupyter-widgets/controls",
       "_model_module_version": "1.5.0",
       "_model_name": "ButtonStyleModel",
       "_view_count": null,
       "_view_module": "@jupyter-widgets/base",
       "_view_module_version": "1.2.0",
       "_view_name": "StyleView",
       "button_color": null,
       "font_weight": ""
      }
     },
     "c26bd3c91ac74a97b62c5130422172a0": {
      "model_module": "@jupyter-widgets/controls",
      "model_module_version": "1.5.0",
      "model_name": "SliderStyleModel",
      "state": {
       "_model_module": "@jupyter-widgets/controls",
       "_model_module_version": "1.5.0",
       "_model_name": "SliderStyleModel",
       "_view_count": null,
       "_view_module": "@jupyter-widgets/base",
       "_view_module_version": "1.2.0",
       "_view_name": "StyleView",
       "description_width": "",
       "handle_color": null
      }
     },
     "c83212b6a22a41af927fdd0128b8c81a": {
      "model_module": "@jupyter-widgets/base",
      "model_module_version": "1.2.0",
      "model_name": "LayoutModel",
      "state": {
       "_model_module": "@jupyter-widgets/base",
       "_model_module_version": "1.2.0",
       "_model_name": "LayoutModel",
       "_view_count": null,
       "_view_module": "@jupyter-widgets/base",
       "_view_module_version": "1.2.0",
       "_view_name": "LayoutView",
       "align_content": null,
       "align_items": null,
       "align_self": null,
       "border": null,
       "bottom": null,
       "display": null,
       "flex": null,
       "flex_flow": null,
       "grid_area": null,
       "grid_auto_columns": null,
       "grid_auto_flow": null,
       "grid_auto_rows": null,
       "grid_column": null,
       "grid_gap": null,
       "grid_row": null,
       "grid_template_areas": null,
       "grid_template_columns": null,
       "grid_template_rows": null,
       "height": null,
       "justify_content": null,
       "justify_items": null,
       "left": null,
       "margin": null,
       "max_height": null,
       "max_width": null,
       "min_height": null,
       "min_width": null,
       "object_fit": null,
       "object_position": null,
       "order": null,
       "overflow": null,
       "overflow_x": null,
       "overflow_y": null,
       "padding": null,
       "right": null,
       "top": null,
       "visibility": null,
       "width": null
      }
     },
     "d8ee33587d1b4f0a945af2870bddda25": {
      "model_module": "@jupyter-widgets/controls",
      "model_module_version": "1.5.0",
      "model_name": "FloatSliderModel",
      "state": {
       "_dom_classes": [],
       "_model_module": "@jupyter-widgets/controls",
       "_model_module_version": "1.5.0",
       "_model_name": "FloatSliderModel",
       "_view_count": null,
       "_view_module": "@jupyter-widgets/controls",
       "_view_module_version": "1.5.0",
       "_view_name": "FloatSliderView",
       "continuous_update": true,
       "description": "Nitrogen (ppm)",
       "description_tooltip": null,
       "disabled": false,
       "layout": "IPY_MODEL_89baff9842a54b75b6bf68adca408a2f",
       "max": 100.0,
       "min": 0.0,
       "orientation": "horizontal",
       "readout": true,
       "readout_format": ".2f",
       "step": 1.0,
       "style": "IPY_MODEL_b533681081cc4471b02ae1f588ef7c07",
       "value": 0.0
      }
     },
     "e02b8ff6a31d4491a0f1f4b0d2c17857": {
      "model_module": "@jupyter-widgets/output",
      "model_module_version": "1.0.0",
      "model_name": "OutputModel",
      "state": {
       "_dom_classes": [],
       "_model_module": "@jupyter-widgets/output",
       "_model_module_version": "1.0.0",
       "_model_name": "OutputModel",
       "_view_count": null,
       "_view_module": "@jupyter-widgets/output",
       "_view_module_version": "1.0.0",
       "_view_name": "OutputView",
       "layout": "IPY_MODEL_0515f08ca238436d9e74077814a1a8ff",
       "msg_id": "",
       "outputs": []
      }
     },
     "e30e95d13c004a5aa8369ec328edff72": {
      "model_module": "@jupyter-widgets/controls",
      "model_module_version": "1.5.0",
      "model_name": "SliderStyleModel",
      "state": {
       "_model_module": "@jupyter-widgets/controls",
       "_model_module_version": "1.5.0",
       "_model_name": "SliderStyleModel",
       "_view_count": null,
       "_view_module": "@jupyter-widgets/base",
       "_view_module_version": "1.2.0",
       "_view_name": "StyleView",
       "description_width": "",
       "handle_color": null
      }
     },
     "e8e189953bb04a988201876aec8aa218": {
      "model_module": "@jupyter-widgets/base",
      "model_module_version": "1.2.0",
      "model_name": "LayoutModel",
      "state": {
       "_model_module": "@jupyter-widgets/base",
       "_model_module_version": "1.2.0",
       "_model_name": "LayoutModel",
       "_view_count": null,
       "_view_module": "@jupyter-widgets/base",
       "_view_module_version": "1.2.0",
       "_view_name": "LayoutView",
       "align_content": null,
       "align_items": null,
       "align_self": null,
       "border": null,
       "bottom": null,
       "display": null,
       "flex": null,
       "flex_flow": null,
       "grid_area": null,
       "grid_auto_columns": null,
       "grid_auto_flow": null,
       "grid_auto_rows": null,
       "grid_column": null,
       "grid_gap": null,
       "grid_row": null,
       "grid_template_areas": null,
       "grid_template_columns": null,
       "grid_template_rows": null,
       "height": null,
       "justify_content": null,
       "justify_items": null,
       "left": null,
       "margin": null,
       "max_height": null,
       "max_width": null,
       "min_height": null,
       "min_width": null,
       "object_fit": null,
       "object_position": null,
       "order": null,
       "overflow": null,
       "overflow_x": null,
       "overflow_y": null,
       "padding": null,
       "right": null,
       "top": null,
       "visibility": null,
       "width": null
      }
     },
     "efb43ff301054cde99308b84850eea02": {
      "model_module": "@jupyter-widgets/base",
      "model_module_version": "1.2.0",
      "model_name": "LayoutModel",
      "state": {
       "_model_module": "@jupyter-widgets/base",
       "_model_module_version": "1.2.0",
       "_model_name": "LayoutModel",
       "_view_count": null,
       "_view_module": "@jupyter-widgets/base",
       "_view_module_version": "1.2.0",
       "_view_name": "LayoutView",
       "align_content": null,
       "align_items": null,
       "align_self": null,
       "border": null,
       "bottom": null,
       "display": null,
       "flex": null,
       "flex_flow": null,
       "grid_area": null,
       "grid_auto_columns": null,
       "grid_auto_flow": null,
       "grid_auto_rows": null,
       "grid_column": null,
       "grid_gap": null,
       "grid_row": null,
       "grid_template_areas": null,
       "grid_template_columns": null,
       "grid_template_rows": null,
       "height": null,
       "justify_content": null,
       "justify_items": null,
       "left": null,
       "margin": null,
       "max_height": null,
       "max_width": null,
       "min_height": null,
       "min_width": null,
       "object_fit": null,
       "object_position": null,
       "order": null,
       "overflow": null,
       "overflow_x": null,
       "overflow_y": null,
       "padding": null,
       "right": null,
       "top": null,
       "visibility": null,
       "width": null
      }
     },
     "f3400448c555409aa7127bf03489ebcf": {
      "model_module": "@jupyter-widgets/controls",
      "model_module_version": "1.5.0",
      "model_name": "FloatSliderModel",
      "state": {
       "_dom_classes": [],
       "_model_module": "@jupyter-widgets/controls",
       "_model_module_version": "1.5.0",
       "_model_name": "FloatSliderModel",
       "_view_count": null,
       "_view_module": "@jupyter-widgets/controls",
       "_view_module_version": "1.5.0",
       "_view_name": "FloatSliderView",
       "continuous_update": true,
       "description": "Temperature (°C)",
       "description_tooltip": null,
       "disabled": false,
       "layout": "IPY_MODEL_04c62d19c64e4c9d8f365a285be2e37a",
       "max": 50.0,
       "min": -10.0,
       "orientation": "horizontal",
       "readout": true,
       "readout_format": ".2f",
       "step": 0.5,
       "style": "IPY_MODEL_8f2a71dae2ba4c29998f3229df235d79",
       "value": 0.0
      }
     },
     "ffbcbed741c344ee8e4defb421a9ee24": {
      "model_module": "@jupyter-widgets/controls",
      "model_module_version": "1.5.0",
      "model_name": "ButtonModel",
      "state": {
       "_dom_classes": [],
       "_model_module": "@jupyter-widgets/controls",
       "_model_module_version": "1.5.0",
       "_model_name": "ButtonModel",
       "_view_count": null,
       "_view_module": "@jupyter-widgets/controls",
       "_view_module_version": "1.5.0",
       "_view_name": "ButtonView",
       "button_style": "",
       "description": "Predict Crop",
       "disabled": false,
       "icon": "",
       "layout": "IPY_MODEL_3943055c32484f1c84ad2bb8ffeda7a2",
       "style": "IPY_MODEL_bc213c4addc84cee9ffd0b34984c3c5f",
       "tooltip": ""
      }
     }
    },
    "version_major": 2,
    "version_minor": 0
   }
  }
 },
 "nbformat": 4,
 "nbformat_minor": 5
}
